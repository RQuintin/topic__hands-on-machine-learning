{
 "cells": [
  {
   "cell_type": "markdown",
   "metadata": {},
   "source": [
    "## Chapter 4 -  Training Models"
   ]
  },
  {
   "cell_type": "markdown",
   "metadata": {},
   "source": [
    "### Potential Problems\n",
    "\n",
    "Linear regression follows the 7 classical assumptions. When we fit a linear regression model to a dataset, some problem might arise, and they can be attributed to violations of the classical assumptions:\n",
    "\n",
    "1. Non-linearity of the response-predictor relationships (violates \"The regression model is linear, correctly specified and has an additive error term\")\n",
    "2. Correlation of error terms (violates \"Observations of the error term are not correlated with each other (no serial correlation)\")\n",
    "3. Non-constant variance of error terms (violates \"The error term has a constant variance (no heteroskedasticity)\")\n",
    "4. Outliers\n",
    "5. Collinearity (violates \"No explanatory variable is a perfect linear function of any other ex- planatory variable(s) (no perfect multicollinearity)\")\n",
    "6. All explanatory variables are uncorrelated with each other (no serial correlation)\n",
    "7. The error term is normally distributed (this assumption is optional but usually invoked)\n",
    "8. The error term has a zero population mean"
   ]
  }
 ],
 "metadata": {
  "kernelspec": {
   "display_name": "Python 3",
   "language": "python",
   "name": "python3"
  },
  "language_info": {
   "codemirror_mode": {
    "name": "ipython",
    "version": 3
   },
   "file_extension": ".py",
   "mimetype": "text/x-python",
   "name": "python",
   "nbconvert_exporter": "python",
   "pygments_lexer": "ipython3",
   "version": "3.7.2"
  }
 },
 "nbformat": 4,
 "nbformat_minor": 4
}
