{
 "cells": [
  {
   "cell_type": "markdown",
   "metadata": {},
   "source": [
    "## Chapter 4 -  Training Models\n",
    "\n",
    "### Logistic Regression"
   ]
  },
  {
   "cell_type": "markdown",
   "metadata": {},
   "source": [
    "Logistic regression / Logit regression is commonly used to estimate the probability that an instance belongs to a particular class. If the estimated probability is greater than 50%, then the model predicts that the instance belongs to that class. Otherwise it belongs to the complement class. This makes logistic regression a binary classifier."
   ]
  },
  {
   "cell_type": "markdown",
   "metadata": {},
   "source": [
    "The central problem is to model the relationship with a probability of an event occuring: $p(\\mathbf x) = \\Pr (y=1|\\mathbf x)$ from the predictors $\\mathbf x$. If we use the linear model \n",
    "\n",
    "$$p(\\mathbf x) = \\beta_0 + \\beta_1 x_1$$ \n",
    "\n",
    "then we could get values of the probability, $\\Pr(\\cdot)$ that is outside $[0,1]$. \n",
    "\n",
    "Hence, we transform the linear model to the logistic model:\n",
    "\n",
    "$$p(\\mathbf x) = \\frac{\\exp(\\beta_0 + \\beta_1 x_1)}{1+\\exp(\\beta_0 + \\beta_1 x_1)} = \\frac{1}{1+\\exp[-(\\beta_0 + \\beta_1 x_1)]}$$\n",
    "\n",
    "from there, after the evaluation of the RHS, we obtain the result:\n",
    "\n",
    "$$y = \\begin{cases}1 \\text{ if } \\hat{p}(\\mathbf x)\\geq0.5\\\\0 \\text{ if } \\hat{p}(\\mathbf x)<0.5\\end{cases}$$\n",
    "\n",
    "Note that $0.5$ is an arbitrary threshold. It can be shifted up and down in the range $(0,1)$."
   ]
  },
  {
   "cell_type": "markdown",
   "metadata": {},
   "source": [
    "After manipulation of the logit model, we find:\n",
    "$$\\frac{p(\\mathbf x)}{1-p(\\mathbf x)} = \\exp(\\beta_0 + \\beta_1 x_1)$$\n",
    "\n",
    "where the LHS is the <b>odds</b> and can take on any value between $0$ and $\\infty$. If the odds are close to zero then there is a low probability of $y=1$. If the odds are very large then there $\\Pr(y=1)$ is high. \n",
    "\n",
    "By taking log on both sides, we obtain\n",
    "\n",
    "$$\\log \\frac{p(\\mathbf x)}{1-p(\\mathbf x)} = \\beta_0 + \\beta_1 x_1$$\n",
    "\n",
    "and so we say the logistic regression model has a <b>logit</b> or <b>log-odds</b> that is linear in $\\mathbf x$.\n",
    "\n",
    "In a logistic regression model, increasing $x_1$ by 1 unit changes the log odds by $\\beta_1$. However, because the relationship between $p$ and $\\mathbf x$ is not linear, a one unit increase in $x_1$ does not correspond to a $\\beta_1$ change in $p$. The amount that $p$ changes due to a one unit change in $x_1$ will depend on the current value of $\\mathbf x$. "
   ]
  },
  {
   "cell_type": "markdown",
   "metadata": {},
   "source": [
    "#### Estimation using Maximum Likelihood\n",
    "\n",
    "In order to obtain the estimates $\\hat{\\beta_0}$ and $\\hat{\\beta_1}$, we use maximum likelihood estimation. The intuition is to fit a model - seeking coefficient estimates such that the predicted probability of each observation in the training set, for each type of event, is the highest. We first obtain the likelihood function of the observed data:\n",
    "\n",
    "$$L(\\beta) = L(\\beta_0, \\beta_1) = \\prod_{i=1}^n p(\\mathbf x_i)^{y_i} \\cdot(1-p(\\mathbf x_i))^{1-y_i}$$\n",
    "\n",
    "Observe that for each sample, the term in the product reduces to $p(\\mathbf x_i)$ if $y_i=1$ and $1-p(\\mathbf x_i)$ if $y_i=0$. From the likelihood function, we obtain the cost function in this problem - the log-likelihood function:\n",
    "\n",
    "$$\\begin{align}J(\\Theta) = l(\\beta) = l(\\beta_0, \\beta_1) \n",
    "&= \\sum_{i=1}^n y_i \\log p(\\mathbf x_i) + (1-y_i) \\log (1-p(\\mathbf x_i)) \\\\\n",
    "&= \\sum_{i=1}^n y_i \\log p(\\mathbf x_i) + \\log (1-p(x_i)) - y_i \\log(1-p(\\mathbf x_i))  \\\\\n",
    "&= \\sum_{i=1}^n \\log (1-p(\\mathbf x_i)) + \\sum_{i=1}^m y_i \\log \\frac{p(\\mathbf x_i)}{1 - p(\\mathbf x_i)}\\\\\n",
    "&= \\sum_{i=1}^n -\\log (1+e^{\\beta_0 + \\beta_1x_i}) + \\sum_{i=1}^m y_i ({\\beta_0 + \\beta_1x_i})\\end{align}$$"
   ]
  },
  {
   "cell_type": "markdown",
   "metadata": {},
   "source": [
    "There is no closed-form solution to the log likelihood for logistic regression so we perform gradient descent for each of the parameters to estimate."
   ]
  },
  {
   "cell_type": "code",
   "execution_count": 1,
   "metadata": {
    "ExecuteTime": {
     "end_time": "2020-05-19T03:59:44.649747Z",
     "start_time": "2020-05-19T03:59:43.519733Z"
    }
   },
   "outputs": [],
   "source": [
    "import pandas as pd\n",
    "import numpy as np\n",
    "import matplotlib.pyplot as plt\n",
    "\n",
    "from sklearn import datasets\n",
    "from sklearn.linear_model import LogisticRegression\n",
    "import statsmodels.api as sm"
   ]
  },
  {
   "cell_type": "code",
   "execution_count": 2,
   "metadata": {
    "ExecuteTime": {
     "end_time": "2020-05-19T03:59:44.683784Z",
     "start_time": "2020-05-19T03:59:44.652001Z"
    }
   },
   "outputs": [],
   "source": [
    "df = pd.read_csv('Default.csv', index_col=0)\n",
    "df['y'] = df['default'].apply(lambda x: 1 if x == 'Yes' else 0)\n",
    "df['is_student'] = df['student'].apply(lambda x: 1 if x == 'Yes' else 0)\n",
    "df['income_000'] = df['income'].apply(lambda x: x/1000)"
   ]
  },
  {
   "cell_type": "code",
   "execution_count": 3,
   "metadata": {
    "ExecuteTime": {
     "end_time": "2020-05-19T03:59:44.698222Z",
     "start_time": "2020-05-19T03:59:44.686912Z"
    }
   },
   "outputs": [],
   "source": [
    "X1 = df[['balance']].copy()\n",
    "train_df1 = df[['balance', 'y']].copy()\n",
    "X2 = df[['balance', 'income_000', 'is_student']].copy()\n",
    "\n",
    "y = df['y'].copy()"
   ]
  },
  {
   "cell_type": "code",
   "execution_count": 4,
   "metadata": {
    "ExecuteTime": {
     "end_time": "2020-05-19T03:59:44.738306Z",
     "start_time": "2020-05-19T03:59:44.700997Z"
    }
   },
   "outputs": [
    {
     "name": "stdout",
     "output_type": "stream",
     "text": [
      "[-10.65132824] [[0.00549892]]\n"
     ]
    }
   ],
   "source": [
    "# Logistic Regression using sklearn\n",
    "reg = LogisticRegression()\n",
    "reg.fit(X1, y)\n",
    "print(reg.intercept_, reg.coef_)"
   ]
  },
  {
   "cell_type": "code",
   "execution_count": 5,
   "metadata": {
    "ExecuteTime": {
     "end_time": "2020-05-19T03:59:44.767604Z",
     "start_time": "2020-05-19T03:59:44.741639Z"
    }
   },
   "outputs": [
    {
     "name": "stdout",
     "output_type": "stream",
     "text": [
      "Optimization terminated successfully.\n",
      "         Current function value: 0.079823\n",
      "         Iterations 10\n",
      "['-10.651331', '0.005499']\n"
     ]
    }
   ],
   "source": [
    "# Logistic Regression using statsmodels\n",
    "reg2 = sm.Logit(y, sm.add_constant(X1))\n",
    "results2 = reg2.fit()\n",
    "Theta_hat2 = list(results2.params)\n",
    "print([\"{:.6f}\".format(t) for t in Theta_hat2])"
   ]
  },
  {
   "cell_type": "code",
   "execution_count": 6,
   "metadata": {
    "ExecuteTime": {
     "end_time": "2020-05-19T03:59:44.816524Z",
     "start_time": "2020-05-19T03:59:44.770237Z"
    }
   },
   "outputs": [
    {
     "name": "stdout",
     "output_type": "stream",
     "text": [
      "==============================================================================\n",
      "                 coef    std err          z      P>|z|      [0.025      0.975]\n",
      "------------------------------------------------------------------------------\n",
      "const        -10.6513      0.361    -29.491      0.000     -11.359      -9.943\n",
      "balance        0.0055      0.000     24.952      0.000       0.005       0.006\n",
      "==============================================================================\n"
     ]
    }
   ],
   "source": [
    "print(results2.summary().tables[1])"
   ]
  },
  {
   "cell_type": "markdown",
   "metadata": {},
   "source": [
    "In this example, we see that $\\hat{\\beta_1}=0.0055$. This indicates that a one-unit increase in `balance` results in a 0.0055 unit increase in the log odds. An increase in balance is an associated with an increase in the probability of default."
   ]
  },
  {
   "cell_type": "markdown",
   "metadata": {},
   "source": [
    "Hypothesis testing can also be applied to logistic regression. The $z$-statistic is similar in concept to the $t$-statistic in linear regression. A large value of the $z$-statistic (and correspondingly a small $p$-value) indicates evidence in the null hypothesis, where $\\beta_1$ is insignificant and near zero. Since the $p$-value for `balance` is small, we reject the null in favour of the alternate hypothesis. There is indeed an association between `balance` and `default`."
   ]
  },
  {
   "cell_type": "code",
   "execution_count": 7,
   "metadata": {
    "ExecuteTime": {
     "end_time": "2020-05-19T03:59:44.834288Z",
     "start_time": "2020-05-19T03:59:44.819002Z"
    }
   },
   "outputs": [
    {
     "data": {
      "text/plain": [
       "array([0.00575215, 0.58576937])"
      ]
     },
     "execution_count": 7,
     "metadata": {},
     "output_type": "execute_result"
    }
   ],
   "source": [
    "# Prediction\n",
    "results2.predict([[1,1000], [1,2000]])"
   ]
  },
  {
   "cell_type": "markdown",
   "metadata": {},
   "source": [
    "For prediction, the probability of someone defaulting with a balance of \\\\$1000 is $0.00576$ which is below 1\\%. This increases drastically to $59\\%$ when the balance increases to \\\\$2000."
   ]
  },
  {
   "cell_type": "code",
   "execution_count": 8,
   "metadata": {
    "ExecuteTime": {
     "end_time": "2020-05-19T03:59:45.358482Z",
     "start_time": "2020-05-19T03:59:44.839935Z"
    },
    "scrolled": false
   },
   "outputs": [
    {
     "data": {
      "image/png": "[encoded data removed]",
      "text/plain": [
       "<Figure size 720x360 with 1 Axes>"
      ]
     },
     "metadata": {
      "needs_background": "light"
     },
     "output_type": "display_data"
    }
   ],
   "source": [
    "# Plotting for different alpha values\n",
    "lin_X = np.linspace(X1['balance'].min(),X1['balance'].max(),1000).reshape(-1,1)\n",
    "y_prob = results2.predict(sm.add_constant(lin_X))\n",
    "y_prob1 = 1-y_prob\n",
    "pred_df = pd.DataFrame({'X' : lin_X.flatten(), 'y0' : y_prob, 'y1' : y_prob1})\n",
    "# display(pred_df.head())\n",
    "fig, ax = plt.subplots(figsize=(10, 5))\n",
    "train_df1[train_df1.y==0].plot(kind='scatter', x='balance', y='y', ax=ax, color='red')\n",
    "train_df1[train_df1.y==1].plot(kind='scatter', x='balance', y='y', ax=ax, color='green', marker='X')\n",
    "pred_df.plot(kind='line', x='X', y='y0', ax=ax, color='maroon')\n",
    "pred_df.plot(kind='line', x='X', y='y1', ax=ax, color='green', style='--')\n",
    "plt.show()"
   ]
  },
  {
   "cell_type": "code",
   "execution_count": 9,
   "metadata": {
    "ExecuteTime": {
     "end_time": "2020-05-19T03:59:45.419988Z",
     "start_time": "2020-05-19T03:59:45.361197Z"
    }
   },
   "outputs": [
    {
     "name": "stdout",
     "output_type": "stream",
     "text": [
      "Optimization terminated successfully.\n",
      "         Current function value: 0.145434\n",
      "         Iterations 7\n",
      "               Coef.  Std.Err.          z     P>|z|    [0.025    0.975]\n",
      "const      -3.504128  0.070713 -49.554094  0.000000 -3.642723 -3.365532\n",
      "is_student  0.404887  0.115019   3.520177  0.000431  0.179454  0.630320\n"
     ]
    }
   ],
   "source": [
    "# Using dummy variables for prediction\n",
    "X3 = sm.add_constant(df[['is_student']].copy())\n",
    "reg3 = sm.Logit(y, X3)\n",
    "results3 = reg3.fit()\n",
    "print(results3.summary2().tables[1])"
   ]
  },
  {
   "cell_type": "markdown",
   "metadata": {},
   "source": [
    "We can use dummy variables to assess for the `is_student` variable. Also note that for this variable `is_student`, the associated $p$-value is also small, indicating it is significant."
   ]
  },
  {
   "cell_type": "code",
   "execution_count": 10,
   "metadata": {
    "ExecuteTime": {
     "end_time": "2020-05-19T03:59:45.436268Z",
     "start_time": "2020-05-19T03:59:45.422575Z"
    }
   },
   "outputs": [
    {
     "data": {
      "text/plain": [
       "array([0.04313859, 0.02919501])"
      ]
     },
     "execution_count": 10,
     "metadata": {},
     "output_type": "execute_result"
    }
   ],
   "source": [
    "results3.predict([[1,1], [1,0]])\n",
    "# We can see that students have a higher probability of default compared to non-students."
   ]
  },
  {
   "cell_type": "markdown",
   "metadata": {},
   "source": [
    "### Multivariate Logistic Regression\n",
    "\n",
    "Multivariate logistic regression extends the above to have more than 1 predictor:\n",
    "\n",
    "$$p(\\mathbf x) = \\frac{\\exp(\\Theta^T\\mathbf x)}{1+\\exp(\\Theta^T\\mathbf x)} = \\frac{1}{1+\\exp[-(\\Theta^T\\mathbf x)]}$$\n",
    "\n",
    "where $\\Theta = \\begin{pmatrix}\\beta_0, \\beta_1, \\cdots, \\beta_p\\end{pmatrix}^T$ and $\\mathbf x = \\begin{pmatrix}1, x_{1}, \\cdots, x_{p}\\end{pmatrix}^T$\n",
    "\n",
    "Similarly, the cost function of multivariate logistic regression is:\n",
    "\n",
    "$$\\begin{align}J(\\Theta) = l(\\Theta)\n",
    "&= \\sum_{i=1}^n -\\log (1+e^{\\Theta^T\\mathbf x}) + \\sum_{i=1}^m y_i (\\Theta^T\\mathbf x)\\end{align}$$"
   ]
  },
  {
   "cell_type": "code",
   "execution_count": 11,
   "metadata": {
    "ExecuteTime": {
     "end_time": "2020-05-19T03:59:45.467017Z",
     "start_time": "2020-05-19T03:59:45.439002Z"
    }
   },
   "outputs": [
    {
     "name": "stdout",
     "output_type": "stream",
     "text": [
      "Optimization terminated successfully.\n",
      "         Current function value: 0.078577\n",
      "         Iterations 10\n",
      "['-10.869045', '0.005737', '0.003033', '-0.646776']\n"
     ]
    }
   ],
   "source": [
    "# Multivar Logistic Regression using statsmodels\n",
    "multivarreg = sm.Logit(y, sm.add_constant(X2))\n",
    "results22 = multivarreg.fit()\n",
    "Theta_hat21 = list(results22.params)\n",
    "print([\"{:.6f}\".format(t) for t in Theta_hat21])"
   ]
  },
  {
   "cell_type": "code",
   "execution_count": 12,
   "metadata": {
    "ExecuteTime": {
     "end_time": "2020-05-19T03:59:45.518758Z",
     "start_time": "2020-05-19T03:59:45.469534Z"
    }
   },
   "outputs": [
    {
     "name": "stdout",
     "output_type": "stream",
     "text": [
      "==============================================================================\n",
      "                 coef    std err          z      P>|z|      [0.025      0.975]\n",
      "------------------------------------------------------------------------------\n",
      "const        -10.8690      0.492    -22.079      0.000     -11.834      -9.904\n",
      "balance        0.0057      0.000     24.737      0.000       0.005       0.006\n",
      "income_000     0.0030      0.008      0.370      0.712      -0.013       0.019\n",
      "is_student    -0.6468      0.236     -2.738      0.006      -1.110      -0.184\n",
      "==============================================================================\n"
     ]
    }
   ],
   "source": [
    "print(results22.summary().tables[1])"
   ]
  },
  {
   "cell_type": "markdown",
   "metadata": {},
   "source": [
    "In this model, we see that the $p$-value associated with `income` is very large. The coefficient for the dummy variable `is_student` is also negative, indicating students are <i>less likely</i> to default. \n",
    "\n",
    "It is likely that the variables `is_student` and `balance` are correlated. "
   ]
  },
  {
   "cell_type": "markdown",
   "metadata": {},
   "source": [
    "Note that logistic regression assume that the model and the output are linearly correlated."
   ]
  },
  {
   "cell_type": "markdown",
   "metadata": {},
   "source": [
    "### Softmax Regression"
   ]
  },
  {
   "cell_type": "markdown",
   "metadata": {
    "ExecuteTime": {
     "end_time": "2020-04-16T04:08:37.654227Z",
     "start_time": "2020-04-16T04:08:37.649491Z"
    }
   },
   "source": [
    "Logistic regression can be generalised to the softmax regression. Generalising the function, given that there are now $K$ different classes, the probability that the instance is in class $k$ is:\n",
    "\n",
    "$$\n",
    "\\hat{p_k(\\mathbf x)} = \\frac{e^{\\Theta^T_k \\mathbf x_i}}{\\sum_{j \\in K} \\exp{\\Theta^T_j \\mathbf x_i}} \n",
    "$$\n",
    "\n",
    "For the cost function, use the cross entropy cost function:\n",
    "\n",
    "$$J(\\Theta) = \\sum_{i=1}^n\\sum_{k=1}^K y_k^{(i)}\\log \\begin{pmatrix}\\hat{p_k}^{(i)}\\end{pmatrix}$$\n",
    "\n",
    "and the gradient is:\n",
    "\n",
    "$$\\nabla_{\\theta_k} J(\\Theta) = \\frac1m \\sum_{i=1}^m \\begin{pmatrix}\\hat{p_k}^{(i)}-\\hat{y_k}^{(i)}\\end{pmatrix}\\mathbf x_i$$\n",
    "\n",
    "Similarly, compute the gradient vector for each class and use Gradient Descent to find the parameter matrix $\\Theta$ that minimises the cost function."
   ]
  },
  {
   "cell_type": "code",
   "execution_count": 13,
   "metadata": {
    "ExecuteTime": {
     "end_time": "2020-05-19T03:59:45.556153Z",
     "start_time": "2020-05-19T03:59:45.521234Z"
    }
   },
   "outputs": [
    {
     "data": {
      "text/html": [
       "<div>\n",
       "<style scoped>\n",
       "    .dataframe tbody tr th:only-of-type {\n",
       "        vertical-align: middle;\n",
       "    }\n",
       "\n",
       "    .dataframe tbody tr th {\n",
       "        vertical-align: top;\n",
       "    }\n",
       "\n",
       "    .dataframe thead th {\n",
       "        text-align: right;\n",
       "    }\n",
       "</style>\n",
       "<table border=\"1\" class=\"dataframe\">\n",
       "  <thead>\n",
       "    <tr style=\"text-align: right;\">\n",
       "      <th></th>\n",
       "      <th>sepal length (cm)</th>\n",
       "      <th>sepal width (cm)</th>\n",
       "      <th>petal length (cm)</th>\n",
       "      <th>petal width (cm)</th>\n",
       "    </tr>\n",
       "  </thead>\n",
       "  <tbody>\n",
       "    <tr>\n",
       "      <th>0</th>\n",
       "      <td>5.1</td>\n",
       "      <td>3.5</td>\n",
       "      <td>1.4</td>\n",
       "      <td>0.2</td>\n",
       "    </tr>\n",
       "    <tr>\n",
       "      <th>1</th>\n",
       "      <td>4.9</td>\n",
       "      <td>3.0</td>\n",
       "      <td>1.4</td>\n",
       "      <td>0.2</td>\n",
       "    </tr>\n",
       "    <tr>\n",
       "      <th>2</th>\n",
       "      <td>4.7</td>\n",
       "      <td>3.2</td>\n",
       "      <td>1.3</td>\n",
       "      <td>0.2</td>\n",
       "    </tr>\n",
       "    <tr>\n",
       "      <th>3</th>\n",
       "      <td>4.6</td>\n",
       "      <td>3.1</td>\n",
       "      <td>1.5</td>\n",
       "      <td>0.2</td>\n",
       "    </tr>\n",
       "    <tr>\n",
       "      <th>4</th>\n",
       "      <td>5.0</td>\n",
       "      <td>3.6</td>\n",
       "      <td>1.4</td>\n",
       "      <td>0.2</td>\n",
       "    </tr>\n",
       "  </tbody>\n",
       "</table>\n",
       "</div>"
      ],
      "text/plain": [
       "   sepal length (cm)  sepal width (cm)  petal length (cm)  petal width (cm)\n",
       "0                5.1               3.5                1.4               0.2\n",
       "1                4.9               3.0                1.4               0.2\n",
       "2                4.7               3.2                1.3               0.2\n",
       "3                4.6               3.1                1.5               0.2\n",
       "4                5.0               3.6                1.4               0.2"
      ]
     },
     "metadata": {},
     "output_type": "display_data"
    },
    {
     "data": {
      "text/plain": [
       "0    0\n",
       "1    0\n",
       "2    0\n",
       "3    0\n",
       "4    0\n",
       "dtype: int64"
      ]
     },
     "metadata": {},
     "output_type": "display_data"
    }
   ],
   "source": [
    "# Ingest\n",
    "iris = datasets.load_iris()\n",
    "Xiris = pd.DataFrame(iris['data'], columns=iris['feature_names'])\n",
    "display(Xiris.head())\n",
    "yiris = pd.Series([1 if t else 0 for t in list(iris['target']==2) ])\n",
    "display(yiris.head())\n",
    "feat2 = Xiris.iloc[:,2:4]\n",
    "y2iris = iris['target']"
   ]
  },
  {
   "cell_type": "code",
   "execution_count": 14,
   "metadata": {
    "ExecuteTime": {
     "end_time": "2020-05-19T03:59:45.597729Z",
     "start_time": "2020-05-19T03:59:45.559711Z"
    }
   },
   "outputs": [
    {
     "data": {
      "text/plain": [
       "LogisticRegression(C=10, class_weight=None, dual=False, fit_intercept=True,\n",
       "                   intercept_scaling=1, l1_ratio=None, max_iter=100,\n",
       "                   multi_class='multinomial', n_jobs=None, penalty='l2',\n",
       "                   random_state=None, solver='lbfgs', tol=0.0001, verbose=0,\n",
       "                   warm_start=False)"
      ]
     },
     "execution_count": 14,
     "metadata": {},
     "output_type": "execute_result"
    }
   ],
   "source": [
    "# Train\n",
    "softmax_reg = LogisticRegression(multi_class='multinomial', solver='lbfgs', C=10)\n",
    "softmax_reg.fit(feat2, y2iris)"
   ]
  },
  {
   "cell_type": "code",
   "execution_count": 30,
   "metadata": {
    "ExecuteTime": {
     "end_time": "2020-05-19T04:02:24.924785Z",
     "start_time": "2020-05-19T04:02:24.863714Z"
    }
   },
   "outputs": [
    {
     "name": "stdout",
     "output_type": "stream",
     "text": [
      "Warning: Maximum number of iterations has been exceeded.\n",
      "         Current function value: 0.068545\n",
      "         Iterations: 90\n",
      "                          MNLogit Regression Results                          \n",
      "==============================================================================\n",
      "Dep. Variable:                      y   No. Observations:                  150\n",
      "Model:                        MNLogit   Df Residuals:                      144\n",
      "Method:                           MLE   Df Model:                            4\n",
      "Date:                Tue, 19 May 2020   Pseudo R-squ.:                  0.9376\n",
      "Time:                        12:02:24   Log-Likelihood:                -10.282\n",
      "converged:                      False   LL-Null:                       -164.79\n",
      "Covariance Type:            nonrobust   LLR p-value:                 1.227e-65\n",
      "=====================================================================================\n",
      "              y=1       coef    std err          z      P>|z|      [0.025      0.975]\n",
      "-------------------------------------------------------------------------------------\n",
      "const               -74.7912   3.63e+04     -0.002      0.998   -7.12e+04    7.11e+04\n",
      "petal length (cm)    28.0872   1.53e+04      0.002      0.999   -2.99e+04       3e+04\n",
      "petal width (cm)     22.4123   2.17e+04      0.001      0.999   -4.25e+04    4.26e+04\n",
      "-------------------------------------------------------------------------------------\n",
      "              y=2       coef    std err          z      P>|z|      [0.025      0.975]\n",
      "-------------------------------------------------------------------------------------\n",
      "const              -120.0636   3.63e+04     -0.003      0.997   -7.12e+04     7.1e+04\n",
      "petal length (cm)    33.8417   1.53e+04      0.002      0.998   -2.99e+04       3e+04\n",
      "petal width (cm)     32.8590   2.17e+04      0.002      0.999   -4.25e+04    4.26e+04\n",
      "=====================================================================================\n"
     ]
    },
    {
     "name": "stderr",
     "output_type": "stream",
     "text": [
      "/Users/bryanlim/.pyenv/versions/3.7.2/envs/botanic/lib/python3.7/site-packages/statsmodels/base/model.py:568: ConvergenceWarning: Maximum Likelihood optimization failed to converge. Check mle_retvals\n",
      "  \"Check mle_retvals\", ConvergenceWarning)\n"
     ]
    }
   ],
   "source": [
    "# Train using statsmodels\n",
    "mnlogit = sm.MNLogit(y2iris, sm.add_constant(feat2))\n",
    "results3 = mnlogit.fit(maxiter=90)\n",
    "print(results3.summary())"
   ]
  },
  {
   "cell_type": "code",
   "execution_count": 15,
   "metadata": {
    "ExecuteTime": {
     "end_time": "2020-05-19T03:59:45.617166Z",
     "start_time": "2020-05-19T03:59:45.604437Z"
    },
    "scrolled": true
   },
   "outputs": [
    {
     "name": "stdout",
     "output_type": "stream",
     "text": [
      "[2]\n",
      "[[6.38014896e-07 5.74929995e-02 9.42506362e-01]]\n"
     ]
    }
   ],
   "source": [
    "# Predict\n",
    "print(softmax_reg.predict([[5,2]]))\n",
    "print(softmax_reg.predict_proba([[5,2]]))"
   ]
  },
  {
   "cell_type": "code",
   "execution_count": 33,
   "metadata": {
    "ExecuteTime": {
     "end_time": "2020-05-19T04:03:19.803772Z",
     "start_time": "2020-05-19T04:03:19.794786Z"
    }
   },
   "outputs": [
    {
     "data": {
      "text/plain": [
       "array([[1.28938767e-50, 1.22039372e-02, 9.87796063e-01]])"
      ]
     },
     "execution_count": 33,
     "metadata": {},
     "output_type": "execute_result"
    }
   ],
   "source": [
    "results3.predict([[1,5,2]])"
   ]
  }
 ],
 "metadata": {
  "kernelspec": {
   "display_name": "Python 3",
   "language": "python",
   "name": "python3"
  },
  "language_info": {
   "codemirror_mode": {
    "name": "ipython",
    "version": 3
   },
   "file_extension": ".py",
   "mimetype": "text/x-python",
   "name": "python",
   "nbconvert_exporter": "python",
   "pygments_lexer": "ipython3",
   "version": "3.7.2"
  }
 },
 "nbformat": 4,
 "nbformat_minor": 4
}
