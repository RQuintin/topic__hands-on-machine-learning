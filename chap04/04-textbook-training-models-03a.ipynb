{
 "cells": [
  {
   "cell_type": "markdown",
   "metadata": {},
   "source": [
    "## Chapter 4 -  Training Models\n",
    "\n",
    "### Regularised Linear Models"
   ]
  },
  {
   "cell_type": "markdown",
   "metadata": {},
   "source": [
    "A good way to reduce overfitting is to regularise the model (to constrain it). The fewer degrees of freedom the model has, the harder it will be to overfit the data. As seen earlier, one way to regularise a model is to reduce the number of polynomial degrees.\n",
    "\n",
    "There are other ways to regularise the model. We can fit a model containing all $p$ predictors using a technique to constraing or regularise the estimates, or shrink the coefficient estimates towards zero. This can significantly reduce the variance. Three ways to do so are Ridge regression, Lasso regression and Elastic Net."
   ]
  },
  {
   "cell_type": "code",
   "execution_count": 1,
   "metadata": {
    "ExecuteTime": {
     "end_time": "2020-05-18T04:18:11.827591Z",
     "start_time": "2020-05-18T04:18:09.749862Z"
    }
   },
   "outputs": [],
   "source": [
    "import pandas as pd\n",
    "import numpy as np\n",
    "import matplotlib.pyplot as plt\n",
    "\n",
    "from sklearn.preprocessing import PolynomialFeatures\n",
    "from sklearn.linear_model import LinearRegression, Ridge, Lasso, ElasticNet\n",
    "from sklearn.metrics import mean_squared_error\n",
    "from sklearn.model_selection import train_test_split"
   ]
  },
  {
   "cell_type": "markdown",
   "metadata": {},
   "source": [
    "#### Least Squares Recap\n",
    "\n",
    "Recall that for least squares, to obtain the parameter estimates, we minimise the cost function, which is the MSE or RSS:\n",
    "\n",
    "$$\\begin{align}J(\\Theta) = \\text{RSS} (\\mathbf X) &= \\sum_{i=1}^n \\begin{pmatrix} y_i -  \\hat{y_i} \\end{pmatrix}^2\n",
    "\\\\&= \\sum_{i=1}^n \\begin{pmatrix} y_i - \\beta_0 - \\sum_{j=1}^p \\beta_j x_{ij}\\end{pmatrix}^2\\end{align}$$\n",
    "\n",
    "Letting $\\Theta = \\begin{pmatrix}\\beta_0, \\beta_1, \\cdots, \\beta_p\\end{pmatrix}^T$ and $\\mathbf x_i = \\begin{pmatrix}1, x_{i1}, \\cdots, x_{ip}\\end{pmatrix}^T$, then $\\text{RSS} = \\sum_{i=1}^n \\begin{pmatrix} y_i - \\Theta\\mathbf x_i\\end{pmatrix}^2$"
   ]
  },
  {
   "cell_type": "markdown",
   "metadata": {},
   "source": [
    "#### Ridge Regression\n",
    "\n",
    "Ridge regression modifies the cost function by adding a penalty term: \n",
    "\n",
    "$$\\lambda \\sum_{j=1}^p \\beta^2_j$$\n",
    "\n",
    "and the RSS now becomes:\n",
    "\n",
    "$$\\begin{align}J(\\Theta) \n",
    "&= \\sum_{i=1}^n\\begin{pmatrix} y_i - \\hat{y_i} \\end{pmatrix}^2 + \\lambda \\sum_{j=1}^p \\beta^2_j\\\\\n",
    "&= \\sum_{i=1}^n \\begin{pmatrix} y_i - \\beta_0 - \\sum_{j=1}^p \\beta_j x_{ij}\\end{pmatrix}^2 + \\lambda \\sum_{j=1}^p\\beta^2_j\\\\\n",
    "&= \\sum_{i=1}^n \\begin{pmatrix} y_i - \\Theta\\mathbf x_i\\end{pmatrix}^2 + \\lambda \\sum_{j=1}^p\\beta^2_j\\\\\n",
    "&= \\text{RSS} + \\lambda \\sum_{j=1}^p\\beta^2_j\\end{align}$$"
   ]
  },
  {
   "cell_type": "markdown",
   "metadata": {},
   "source": [
    "The hyperparameter $\\lambda$ controls how much to regularise the model. The penalty term $\\lambda \\sum_{j=1}^p \\beta_j^2$ is called the <u>shrinkage penalty</u>. This shrinkage penalty has an effect of shrinking the coefficients towards zero. \n",
    "\n",
    "The tuning parameter $\\lambda$ controls the relative impact of the terms from the RSS and the shrinkage penalty on the coefficient estimate. \n",
    "- When $\\lambda=0$, $\\lambda \\sum_{j=1}^p \\beta_j^2=0$. There is no shrinkage effect and the estimates for $\\hat{\\Theta}$ are optimised at the lowest RSS. This means ridge regression is the same as linear regression.\n",
    "- As $\\lambda$ grows, the shrinkage penalty kicks in. The values of $\\beta_j$ starts to shrink. When $\\lambda \\rightarrow \\infty$, the impact of the shrinkage penalty becomes very large, causing the ridge regression coefficient estimates to shrink zero. Consequently, different values of $\\lambda$ will produce different $\\hat{\\Theta}$ estimates and the ideal $\\lambda$ can be found using cross-validation. Note that the bias term $\\beta_0$ is not regularized. \n",
    "\n",
    "Before applying ridge regression, it is ideal to standardize the predictors before performing any model fitting."
   ]
  },
  {
   "cell_type": "code",
   "execution_count": 2,
   "metadata": {
    "ExecuteTime": {
     "end_time": "2020-05-18T04:18:11.845301Z",
     "start_time": "2020-05-18T04:18:11.831131Z"
    },
    "scrolled": true
   },
   "outputs": [],
   "source": [
    "# Generate y = 4X with noise\n",
    "m = 100\n",
    "X = np.random.normal(30,10,m).flatten()\n",
    "X_b = np.c_[np.ones((m,1)), X]\n",
    "y = 4*X + np.random.normal(0,25,m).flatten()\n",
    "df_Xy = pd.DataFrame({'X' : X, 'y' : y})"
   ]
  },
  {
   "cell_type": "code",
   "execution_count": 3,
   "metadata": {
    "ExecuteTime": {
     "end_time": "2020-05-18T04:18:12.158186Z",
     "start_time": "2020-05-18T04:18:11.848893Z"
    }
   },
   "outputs": [
    {
     "data": {
      "image/png": "[encoded data removed]",
      "text/plain": [
       "<Figure size 720x288 with 1 Axes>"
      ]
     },
     "metadata": {
      "needs_background": "light"
     },
     "output_type": "display_data"
    }
   ],
   "source": [
    "fig, ax = plt.subplots(figsize=(10,4))\n",
    "df_Xy.plot(kind='scatter', x='X', y='y', ax=ax)\n",
    "ax.set_xlim(0,60)\n",
    "ax.set_ylim(0,300)\n",
    "plt.show()"
   ]
  },
  {
   "cell_type": "code",
   "execution_count": 4,
   "metadata": {
    "ExecuteTime": {
     "end_time": "2020-05-18T04:18:12.181132Z",
     "start_time": "2020-05-18T04:18:12.163245Z"
    }
   },
   "outputs": [
    {
     "name": "stdout",
     "output_type": "stream",
     "text": [
      "126.72999947464523\n"
     ]
    }
   ],
   "source": [
    "# Test the model using new X_test\n",
    "lin_X = np.linspace(X.min(), X.max(),m)\n",
    "print(y.mean())"
   ]
  },
  {
   "cell_type": "code",
   "execution_count": 5,
   "metadata": {
    "ExecuteTime": {
     "end_time": "2020-05-18T04:18:12.210981Z",
     "start_time": "2020-05-18T04:18:12.193187Z"
    }
   },
   "outputs": [
    {
     "name": "stdout",
     "output_type": "stream",
     "text": [
      "7.618618837359307 [0.         3.83369237]\n"
     ]
    }
   ],
   "source": [
    "# Linear Regression\n",
    "reg1 = LinearRegression()\n",
    "reg1.fit(X_b, y) # Train\n",
    "print(reg1.intercept_, reg1.coef_)"
   ]
  },
  {
   "cell_type": "code",
   "execution_count": 6,
   "metadata": {
    "ExecuteTime": {
     "end_time": "2020-05-18T04:18:12.235352Z",
     "start_time": "2020-05-18T04:18:12.214775Z"
    }
   },
   "outputs": [
    {
     "name": "stdout",
     "output_type": "stream",
     "text": [
      "73.56739841053806 [0.         1.71107964]\n"
     ]
    }
   ],
   "source": [
    "# Ridge with different alpha values\n",
    "reg2 = Ridge(alpha=10000, solver='cholesky')\n",
    "reg2.fit(X_b, y)\n",
    "print(reg2.intercept_, reg2.coef_)"
   ]
  },
  {
   "cell_type": "code",
   "execution_count": 7,
   "metadata": {
    "ExecuteTime": {
     "end_time": "2020-05-18T04:18:12.258063Z",
     "start_time": "2020-05-18T04:18:12.243143Z"
    }
   },
   "outputs": [
    {
     "name": "stdout",
     "output_type": "stream",
     "text": [
      "117.84447742977554 [0.         0.28598743]\n"
     ]
    }
   ],
   "source": [
    "# Ridge with different alpha values\n",
    "reg3 = Ridge(alpha=100000, solver='cholesky')\n",
    "reg3.fit(X_b, y)\n",
    "print(reg3.intercept_, reg3.coef_)"
   ]
  },
  {
   "cell_type": "code",
   "execution_count": 8,
   "metadata": {
    "ExecuteTime": {
     "end_time": "2020-05-18T04:18:12.276130Z",
     "start_time": "2020-05-18T04:18:12.265590Z"
    }
   },
   "outputs": [],
   "source": [
    "lin_X_1 = np.c_[np.ones((m,1)), lin_X]\n",
    "pred1 = reg1.predict(lin_X_1)\n",
    "df_results1 = pd.DataFrame({'X' : lin_X, 'y' : pred1})\n",
    "# print(df_results1.head()) # Test"
   ]
  },
  {
   "cell_type": "code",
   "execution_count": 9,
   "metadata": {
    "ExecuteTime": {
     "end_time": "2020-05-18T04:18:12.298930Z",
     "start_time": "2020-05-18T04:18:12.280097Z"
    }
   },
   "outputs": [],
   "source": [
    "lin_X_2 = np.c_[np.ones((m,1)), lin_X]\n",
    "pred2 = reg2.predict(lin_X_2)\n",
    "df_results2 = pd.DataFrame({'X' : lin_X, 'y' : pred2})\n",
    "# print(df_results2.head()) # Test"
   ]
  },
  {
   "cell_type": "code",
   "execution_count": 10,
   "metadata": {
    "ExecuteTime": {
     "end_time": "2020-05-18T04:18:12.318774Z",
     "start_time": "2020-05-18T04:18:12.306563Z"
    }
   },
   "outputs": [],
   "source": [
    "lin_X_3 = np.c_[np.ones((m,1)), lin_X]\n",
    "pred3 = reg3.predict(lin_X_3)\n",
    "df_results3 = pd.DataFrame({'X' : lin_X, 'y' : pred3})\n",
    "# print(df_results3.head()) # Test"
   ]
  },
  {
   "cell_type": "code",
   "execution_count": 11,
   "metadata": {
    "ExecuteTime": {
     "end_time": "2020-05-18T04:18:12.828098Z",
     "start_time": "2020-05-18T04:18:12.323143Z"
    }
   },
   "outputs": [
    {
     "data": {
      "image/png": "[encoded data removed]",
      "text/plain": [
       "<Figure size 864x432 with 1 Axes>"
      ]
     },
     "metadata": {
      "needs_background": "light"
     },
     "output_type": "display_data"
    }
   ],
   "source": [
    "# Plotting for different alpha values. Observe how as alpha increases, the coefficient shrinks.\n",
    "fig, ax = plt.subplots(figsize=(12,6))\n",
    "df_Xy.plot(kind='scatter', x='X', y='y', ax=ax, color='SKYBLUE')\n",
    "\n",
    "df_results1.plot(kind='line', x='X', y='y', ax=ax, color='DARKKHAKI')\n",
    "df_results2.plot(kind='line', x='X', y='y', ax=ax, color='DARKORANGE', style='--')\n",
    "df_results3.plot(kind='line', x='X', y='y', ax=ax, color='ORCHID', style='--')\n",
    "ax.legend(['linreg, alpha=0','alpha=10000', 'alpha=100000', 'sample'])\n",
    "ax.set_xlim(0,60)\n",
    "ax.set_ylim(0,300)\n",
    "plt.show()"
   ]
  },
  {
   "cell_type": "markdown",
   "metadata": {},
   "source": [
    "Ridge regression's advantage over least-squares is due to the bias-variance trade-off. As $\\lambda$ increases, the flexibility of the ridge regression decreases, leading to a decrease in variance but increase in bias. "
   ]
  },
  {
   "cell_type": "markdown",
   "metadata": {},
   "source": [
    "#### Lasso Regression\n",
    "\n",
    "Ridge regression still includes all $p$ predictors in the model. The penalty $\\lambda \\sum \\beta_j^2$ will shrink all coefficients towards zero but not set any of them exactly to zero. This can create a challenge in model interpretability. \n",
    "\n",
    "We introduce the lasso regression method as a way to overcome this disadvantage. Least Absolute Shrinkage and Selection Operator Regression (Lasso Regression) is another regularized form of Linear Regression. Like Ridge regression, it adds a penalty term, now $\\lambda\\sum_{j=1}^p |\\beta_j|$ to the cost function:\n",
    "\n",
    "$$\\begin{align}J(\\Theta) \n",
    "&= \\sum_{i=1}^n\\begin{pmatrix} y_i - \\hat{y_i} \\end{pmatrix}^2 + \\lambda \\sum_{j=1}^p |\\beta_j|\\\\\n",
    "&= \\sum_{i=1}^n \\begin{pmatrix} y_i - \\beta_0 - \\sum_{j=1}^p \\beta_j x_{ij}\\end{pmatrix}^2 + \\lambda \\sum_{j=1}^p|\\beta_j|\\\\\n",
    "&= \\sum_{i=1}^n \\begin{pmatrix} y_i - \\Theta\\mathbf x_i\\end{pmatrix}^2 + \\lambda \\sum_{j=1}^p|\\beta_j|\\\\\n",
    "&= \\text{RSS} + \\lambda \\sum_{j=1}^p|\\beta_j|\\end{align}$$\n",
    "\n",
    "Consider that ridge regression involves the $\\beta_j^2$ term while lasso regression involves the $|\\beta_j|$ term. We say that the ridge uses the $l_2$ penalty while the lasso uses the $l_1$ penalty. Recall that the norm is the sum of all vectors in a space. So the $l_1$ norm is simply $\\sum_j |\\beta_j|$ while the $l_2$ norm is $\\sum_j \\beta^2_j$\n",
    "\n",
    "Similar to ridge regression, lasso shrinks the coefficient estimates towards zero. However, the $l_1$ penalty forces some of the coefficient estimates to be exactly equal to zero when $\\lambda$ is sufficiently large. So the lasso also performs variable selection. Hence, models from the lasso are generally much easier to interpret than those produced by ridge regression. The lasso yields sparse models, which are models that involve only a subset of the variables.\n",
    "\n",
    "To select good values for $\\lambda$ for both ridge and lasso regression, we use cross-validation."
   ]
  },
  {
   "cell_type": "code",
   "execution_count": 12,
   "metadata": {
    "ExecuteTime": {
     "end_time": "2020-05-18T04:18:12.851633Z",
     "start_time": "2020-05-18T04:18:12.835751Z"
    }
   },
   "outputs": [
    {
     "data": {
      "text/plain": [
       "Lasso(alpha=0.1, copy_X=True, fit_intercept=True, max_iter=1000,\n",
       "      normalize=False, positive=False, precompute=False, random_state=None,\n",
       "      selection='cyclic', tol=0.0001, warm_start=False)"
      ]
     },
     "execution_count": 12,
     "metadata": {},
     "output_type": "execute_result"
    }
   ],
   "source": [
    "regb1 = Lasso(alpha=0.1)\n",
    "regb1.fit(X_b, y)"
   ]
  },
  {
   "cell_type": "code",
   "execution_count": 13,
   "metadata": {
    "ExecuteTime": {
     "end_time": "2020-05-18T04:18:12.873683Z",
     "start_time": "2020-05-18T04:18:12.858784Z"
    }
   },
   "outputs": [
    {
     "data": {
      "text/plain": [
       "Lasso(alpha=100, copy_X=True, fit_intercept=True, max_iter=1000,\n",
       "      normalize=False, positive=False, precompute=False, random_state=None,\n",
       "      selection='cyclic', tol=0.0001, warm_start=False)"
      ]
     },
     "execution_count": 13,
     "metadata": {},
     "output_type": "execute_result"
    }
   ],
   "source": [
    "regb2 = Lasso(alpha=100)\n",
    "regb2.fit(X_b, y)"
   ]
  },
  {
   "cell_type": "code",
   "execution_count": 14,
   "metadata": {
    "ExecuteTime": {
     "end_time": "2020-05-18T04:18:12.895800Z",
     "start_time": "2020-05-18T04:18:12.879773Z"
    }
   },
   "outputs": [],
   "source": [
    "lin_X_b1 = np.c_[np.ones((m,1)), lin_X]\n",
    "predb1 = regb1.predict(lin_X_b1)\n",
    "df_resultsb1 = pd.DataFrame({'X' : lin_X, 'y' : predb1})\n",
    "\n",
    "predb2 = regb2.predict(lin_X_b1)\n",
    "df_resultsb2 = pd.DataFrame({'X' : lin_X, 'y' : predb2})"
   ]
  },
  {
   "cell_type": "code",
   "execution_count": 15,
   "metadata": {
    "ExecuteTime": {
     "end_time": "2020-05-18T04:18:13.362147Z",
     "start_time": "2020-05-18T04:18:12.898916Z"
    },
    "scrolled": false
   },
   "outputs": [
    {
     "data": {
      "image/png": "[encoded data removed]",
      "text/plain": [
       "<Figure size 864x432 with 1 Axes>"
      ]
     },
     "metadata": {
      "needs_background": "light"
     },
     "output_type": "display_data"
    }
   ],
   "source": [
    "# Plotting for different alpha values. Observe how as alpha increases, the coefficient shrinks.\n",
    "fig, ax = plt.subplots(figsize=(12,6))\n",
    "df_Xy.plot(kind='scatter', x='X', y='y', ax=ax, color='SKYBLUE')\n",
    "\n",
    "df_results1.plot(kind='line', x='X', y='y', ax=ax, color='DARKKHAKI')\n",
    "df_resultsb2.plot(kind='line', x='X', y='y', ax=ax, color='DARKORANGE', style='--')\n",
    "ax.legend(['linreg, alpha=0','alpha=100', 'sample'])\n",
    "ax.set_xlim(0,60)\n",
    "ax.set_ylim(0,300)\n",
    "plt.show()"
   ]
  },
  {
   "cell_type": "markdown",
   "metadata": {},
   "source": [
    "#### Elastic Net\n",
    "\n",
    "Elastic Net is a middle ground between Ridge Regression and Lasso Regression. The regularisation term is a mix of the both ridge and lasso regularisation term and you can control the mix ratio $r$. When $r=0$ Elastic net is equivalent to Ridge regression while when $r=1$ then Elastic net is equivalent to Lasso regression:\n",
    "\n",
    "The cost function , $J(\\Theta)$ in terms of RSS is:\n",
    "\n",
    "$$\\begin{align}J(\\Theta) &= \\text{RSS} + r\\lambda \\sum_{j=1}^p\\beta^2_j + (1-r)\\lambda \\sum_{j=1}^p|\\beta_j|\\\\&= \\sum_{i=1}^n \\begin{pmatrix} y_i - \\beta_0 - \\sum_{j=1}^p \\beta_j x_{ij}\\end{pmatrix}^2 + r\\lambda \\sum_{j=1}^p\\beta^2_j + (1-r)\\lambda \\sum_{j=1}^p|\\beta_j|\\end{align}$$"
   ]
  },
  {
   "cell_type": "code",
   "execution_count": 16,
   "metadata": {
    "ExecuteTime": {
     "end_time": "2020-05-18T04:18:13.380657Z",
     "start_time": "2020-05-18T04:18:13.365741Z"
    }
   },
   "outputs": [
    {
     "data": {
      "text/plain": [
       "ElasticNet(alpha=0.1, copy_X=True, fit_intercept=True, l1_ratio=0.5,\n",
       "           max_iter=1000, normalize=False, positive=False, precompute=False,\n",
       "           random_state=None, selection='cyclic', tol=0.0001, warm_start=False)"
      ]
     },
     "execution_count": 16,
     "metadata": {},
     "output_type": "execute_result"
    }
   ],
   "source": [
    "regc1 = ElasticNet(alpha=0.1, l1_ratio=0.5)\n",
    "regc1.fit(X_b, y)"
   ]
  }
 ],
 "metadata": {
  "kernelspec": {
   "display_name": "Python 3",
   "language": "python",
   "name": "python3"
  },
  "language_info": {
   "codemirror_mode": {
    "name": "ipython",
    "version": 3
   },
   "file_extension": ".py",
   "mimetype": "text/x-python",
   "name": "python",
   "nbconvert_exporter": "python",
   "pygments_lexer": "ipython3",
   "version": "3.7.2"
  }
 },
 "nbformat": 4,
 "nbformat_minor": 4
}
