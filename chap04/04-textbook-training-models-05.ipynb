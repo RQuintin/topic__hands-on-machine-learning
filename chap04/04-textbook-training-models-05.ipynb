{
 "cells": [
  {
   "cell_type": "markdown",
   "metadata": {},
   "source": [
    "## Chapter 3 -  Classification"
   ]
  },
  {
   "cell_type": "code",
   "execution_count": 1,
   "metadata": {
    "ExecuteTime": {
     "end_time": "2020-05-05T16:17:10.985898Z",
     "start_time": "2020-05-05T16:17:09.671752Z"
    }
   },
   "outputs": [],
   "source": [
    "import pickle\n",
    "\n",
    "import pandas as pd\n",
    "import numpy as np\n",
    "import numpy.random as rnd\n",
    "import matplotlib\n",
    "import matplotlib.pyplot as plt\n",
    "\n",
    "from sklearn.neighbors import KNeighborsClassifier\n",
    "from sklearn.model_selection import train_test_split\n",
    "from sklearn.datasets import fetch_20newsgroups\n",
    "from sklearn.feature_extraction.text import TfidfVectorizer\n",
    "from sklearn.naive_bayes import MultinomialNB\n",
    "\n",
    "def load(fname):\n",
    "    import pickle\n",
    "    mnist = None\n",
    "    try:\n",
    "        with open(fname, 'rb') as f:\n",
    "            mnist = pickle.load(f)\n",
    "            return mnist\n",
    "    except FileNotFoundError:\n",
    "        from sklearn.datasets import fetch_openml\n",
    "        mnist = fetch_openml('mnist_784', version=1, cache=True)\n",
    "        with open(fname, 'wb') as f:\n",
    "            mnist = pickle.dump(mnist, f)\n",
    "        return mnist"
   ]
  },
  {
   "cell_type": "markdown",
   "metadata": {},
   "source": [
    "### Classifying with k-Nearest Neighbours (kNN)"
   ]
  },
  {
   "cell_type": "code",
   "execution_count": 2,
   "metadata": {
    "ExecuteTime": {
     "end_time": "2020-05-05T16:17:12.856836Z",
     "start_time": "2020-05-05T16:17:10.988302Z"
    }
   },
   "outputs": [],
   "source": [
    "mnist_data = load('mnist.data.pkl')\n",
    "X, y = mnist_data['data'], mnist_data['target']\n",
    "X_train, X_test, y_train, y_test = train_test_split(X, y, test_size=0.15, random_state=0)\n",
    "y_train, y_test = y_train.astype(int), y_test.astype(int)"
   ]
  },
  {
   "cell_type": "markdown",
   "metadata": {},
   "source": [
    "In this case, predict the correct cleaned image from the noisy image."
   ]
  },
  {
   "cell_type": "code",
   "execution_count": 3,
   "metadata": {
    "ExecuteTime": {
     "end_time": "2020-05-05T16:17:36.954941Z",
     "start_time": "2020-05-05T16:17:12.859203Z"
    }
   },
   "outputs": [
    {
     "data": {
      "text/plain": [
       "KNeighborsClassifier(algorithm='auto', leaf_size=30, metric='minkowski',\n",
       "                     metric_params=None, n_jobs=None, n_neighbors=5, p=2,\n",
       "                     weights='uniform')"
      ]
     },
     "execution_count": 3,
     "metadata": {},
     "output_type": "execute_result"
    }
   ],
   "source": [
    "# Train a kNN classifier\n",
    "knn_clf = KNeighborsClassifier()\n",
    "knn_clf.fit(X_train, y_train)"
   ]
  },
  {
   "cell_type": "code",
   "execution_count": 9,
   "metadata": {
    "ExecuteTime": {
     "end_time": "2020-05-05T16:19:49.435876Z",
     "start_time": "2020-05-05T16:19:46.022925Z"
    }
   },
   "outputs": [
    {
     "name": "stdout",
     "output_type": "stream",
     "text": [
      "[0 4 1 2 7 9 7 1 1 7 1 3 4 2 6 4 6 7 3 3 7 0 5 7 6]\n",
      "[0 4 1 2 7 9 7 1 1 7 1 3 4 2 6 4 6 7 3 3 7 0 5 7 6]\n"
     ]
    }
   ],
   "source": [
    "# Predict\n",
    "y_predict = knn_clf.predict(X_test[:50])\n",
    "print(y_test[:25])\n",
    "print(y_predict[:25])"
   ]
  },
  {
   "cell_type": "markdown",
   "metadata": {},
   "source": [
    "### Classifying with Probability Theory: Naïve Bayes"
   ]
  },
  {
   "cell_type": "code",
   "execution_count": 5,
   "metadata": {
    "ExecuteTime": {
     "end_time": "2020-05-05T16:17:40.282475Z",
     "start_time": "2020-05-05T16:17:40.005438Z"
    }
   },
   "outputs": [],
   "source": [
    "# Ingest\n",
    "ng = fetch_20newsgroups()\n",
    "Xng, yng = ng['data'], ng['target']\n",
    "X_train_ng, X_test_ng, y_train_ng, y_test_ng = train_test_split(Xng, yng, test_size=0.20, random_state=0)"
   ]
  },
  {
   "cell_type": "code",
   "execution_count": 6,
   "metadata": {
    "ExecuteTime": {
     "end_time": "2020-05-05T16:17:43.174880Z",
     "start_time": "2020-05-05T16:17:40.284336Z"
    }
   },
   "outputs": [
    {
     "data": {
      "text/plain": [
       "MultinomialNB(alpha=1.0, class_prior=None, fit_prior=True)"
      ]
     },
     "execution_count": 6,
     "metadata": {},
     "output_type": "execute_result"
    }
   ],
   "source": [
    "# Transform to vector, and train\n",
    "vec = TfidfVectorizer()\n",
    "Xng_matrix = vec.fit_transform(X_train_ng)\n",
    "\n",
    "nb_clf = MultinomialNB()\n",
    "nb_clf.fit(Xng_matrix, y_train_ng)"
   ]
  },
  {
   "cell_type": "code",
   "execution_count": 7,
   "metadata": {
    "ExecuteTime": {
     "end_time": "2020-05-05T16:17:43.925922Z",
     "start_time": "2020-05-05T16:17:43.177464Z"
    }
   },
   "outputs": [],
   "source": [
    "# Transform to vector, and predict\n",
    "Xng_test_matrix = vec.transform(X_test_ng)\n",
    "y_predict_ng = nb_clf.predict(Xng_test_matrix)"
   ]
  },
  {
   "cell_type": "code",
   "execution_count": 8,
   "metadata": {
    "ExecuteTime": {
     "end_time": "2020-05-05T16:17:43.933508Z",
     "start_time": "2020-05-05T16:17:43.928820Z"
    }
   },
   "outputs": [
    {
     "name": "stdout",
     "output_type": "stream",
     "text": [
      "[ 1 12 13 14  9  9 11  8 14 11 10  9  4  9  0  9 13 14  7  5]\n",
      "[ 1  1 13 14  9  9 11  8 14 11  9  9  4  9  0  9 13 14 17  5]\n"
     ]
    }
   ],
   "source": [
    "# for testing\n",
    "print(y_test_ng[:20])\n",
    "print(y_predict_ng[:20])"
   ]
  }
 ],
 "metadata": {
  "kernelspec": {
   "display_name": "Python 3",
   "language": "python",
   "name": "python3"
  },
  "language_info": {
   "codemirror_mode": {
    "name": "ipython",
    "version": 3
   },
   "file_extension": ".py",
   "mimetype": "text/x-python",
   "name": "python",
   "nbconvert_exporter": "python",
   "pygments_lexer": "ipython3",
   "version": "3.7.2"
  }
 },
 "nbformat": 4,
 "nbformat_minor": 4
}
