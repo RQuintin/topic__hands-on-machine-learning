{
 "cells": [
  {
   "cell_type": "markdown",
   "metadata": {},
   "source": [
    "## Chapter 4 -  Training Models\n",
    "\n",
    "### Regularised Linear Models"
   ]
  },
  {
   "cell_type": "markdown",
   "metadata": {},
   "source": [
    "A good wary to reduce overfitting is to regularise the model (to constrain it). The fewer degrees of freedom the model has, the harder it will be to overfit the data. As seen earlier, one way to regularise a model is to reduce the number of polynomial degrees.\n",
    "\n",
    "There are other ways to regularise the model, in particular constraining the weights of the model. Three ways to do so are Ridge regression, Lasso regression and Elastic Net."
   ]
  },
  {
   "cell_type": "code",
   "execution_count": 1,
   "metadata": {
    "ExecuteTime": {
     "end_time": "2020-04-15T08:02:06.814632Z",
     "start_time": "2020-04-15T08:02:05.878991Z"
    }
   },
   "outputs": [],
   "source": [
    "import pandas as pd\n",
    "import numpy as np\n",
    "import matplotlib.pyplot as plt\n",
    "\n",
    "from sklearn.preprocessing import PolynomialFeatures\n",
    "from sklearn.linear_model import LinearRegression, Ridge, SGDRegressor\n",
    "from sklearn.metrics import mean_squared_error\n",
    "from sklearn.model_selection import train_test_split"
   ]
  },
  {
   "cell_type": "markdown",
   "metadata": {},
   "source": [
    "#### Ridge Regression\n",
    "\n",
    "In Ridge Regression, a regularisation term equal to $\\alpha \\sum_{t=1}^n \\theta_t^2$ is added to the cost function. The forces the learning algorithm to not only fit the data but keep the model weights as small as possible. \n",
    "\n",
    "The regularisation term should only be added during training. After training, the model's performance is evaluated using the unregularised performance measure. Recall that the cost function is the MSE:\n",
    "\n",
    "$$\\text{MSE} (\\Theta) = \\frac 1 m \\sum_{i=1}^m \\begin{bmatrix} \\Theta^T \\mathbf x^{(i)} - y^{(i)}\\end{bmatrix}^2$$\n",
    "\n",
    "The cost function , $J(\\Theta)$ with the regularisation term is:\n",
    "\n",
    "$$\\begin{align}J(\\Theta) &= \\text{MSE} (\\Theta) + \\frac{\\alpha}{2} \\sum_{t=1}^n \\theta_t^2 \\\\&= \\frac 1 m \\sum_{i=1}^m \\begin{bmatrix} \\Theta^T \\mathbf x^{(i)} - y^{(i)}\\end{bmatrix}^2  + \\frac{\\alpha}{2} \\sum_{t=1}^n \\theta_t^2\\end{align}$$"
   ]
  },
  {
   "cell_type": "markdown",
   "metadata": {},
   "source": [
    "The hyperparameter $\\alpha$ controls how much to regularise the model. If $\\alpha=0$ then Ridge regression is just Linear regression. If $\\alpha$ is large, then all weights end up very close to $0$ and the result is a flat line going through the data's mean.\n",
    "\n",
    "Note that the bias term $\\theta_0$ is not regularized. If we define $\\mathbf w$ as the feature weights then the regularisation term is simply $\\frac12(||\\mathbf w||_2)^2$ where $||\\mathbf w||$ is the $l_2$ norm of the weight vector."
   ]
  },
  {
   "cell_type": "code",
   "execution_count": 2,
   "metadata": {
    "ExecuteTime": {
     "end_time": "2020-04-15T08:02:07.015247Z",
     "start_time": "2020-04-15T08:02:06.816994Z"
    },
    "scrolled": true
   },
   "outputs": [
    {
     "data": {
      "image/png": "[encoded data removed]",
      "text/plain": [
       "<Figure size 576x288 with 1 Axes>"
      ]
     },
     "metadata": {
      "needs_background": "light"
     },
     "output_type": "display_data"
    }
   ],
   "source": [
    "# Generate y = X^2 - 6X + 5 with noise N(0,1)\n",
    "m = 100\n",
    "X = np.random.normal(0,10,m).flatten()\n",
    "X_b = np.c_[np.ones((m,1)), X]\n",
    "y = 4*X + np.random.normal(0,25,m).flatten()\n",
    "df_Xy = pd.DataFrame({'X' : X, 'y' : y})\n",
    "df_Xy.plot(kind='scatter', x='X', y='y', figsize=(8,4))\n",
    "plt.show()"
   ]
  },
  {
   "cell_type": "code",
   "execution_count": 3,
   "metadata": {
    "ExecuteTime": {
     "end_time": "2020-04-15T08:02:07.022995Z",
     "start_time": "2020-04-15T08:02:07.018443Z"
    }
   },
   "outputs": [],
   "source": [
    "# Test the model using new X_test\n",
    "lin_X = np.linspace(X.min(), X.max(),m)"
   ]
  },
  {
   "cell_type": "code",
   "execution_count": 4,
   "metadata": {
    "ExecuteTime": {
     "end_time": "2020-04-15T08:02:07.034910Z",
     "start_time": "2020-04-15T08:02:07.026694Z"
    }
   },
   "outputs": [
    {
     "name": "stdout",
     "output_type": "stream",
     "text": [
      "-2.4534338757104934 [0.         4.01902892]\n"
     ]
    }
   ],
   "source": [
    "# Linear Regression\n",
    "reg1 = LinearRegression()\n",
    "reg1.fit(X_b, y) # Train\n",
    "print(reg1.intercept_, reg1.coef_)"
   ]
  },
  {
   "cell_type": "code",
   "execution_count": 5,
   "metadata": {
    "ExecuteTime": {
     "end_time": "2020-04-15T08:02:07.047003Z",
     "start_time": "2020-04-15T08:02:07.038113Z"
    }
   },
   "outputs": [
    {
     "name": "stdout",
     "output_type": "stream",
     "text": [
      "           X           y\n",
      "0 -28.075836 -115.291030\n",
      "1 -27.449902 -112.775385\n",
      "2 -26.823969 -110.259740\n",
      "3 -26.198035 -107.744095\n",
      "4 -25.572102 -105.228450\n"
     ]
    }
   ],
   "source": [
    "lin_X_1 = np.c_[np.ones((m,1)), lin_X]\n",
    "pred1 = reg1.predict(lin_X_1)\n",
    "df_results1 = pd.DataFrame({'X' : lin_X, 'y' : pred1})\n",
    "print(df_results1.head()) # Test"
   ]
  },
  {
   "cell_type": "code",
   "execution_count": 6,
   "metadata": {
    "ExecuteTime": {
     "end_time": "2020-04-15T08:02:07.059829Z",
     "start_time": "2020-04-15T08:02:07.049453Z"
    }
   },
   "outputs": [
    {
     "name": "stdout",
     "output_type": "stream",
     "text": [
      "-2.4222155320282854 [0.         1.95835595]\n"
     ]
    }
   ],
   "source": [
    "# Ridge\n",
    "reg2 = Ridge(alpha=10000, solver='cholesky')\n",
    "reg2.fit(X_b, y)\n",
    "print(reg2.intercept_, reg2.coef_)"
   ]
  },
  {
   "cell_type": "code",
   "execution_count": 7,
   "metadata": {
    "ExecuteTime": {
     "end_time": "2020-04-15T08:02:07.087451Z",
     "start_time": "2020-04-15T08:02:07.065408Z"
    }
   },
   "outputs": [
    {
     "name": "stdout",
     "output_type": "stream",
     "text": [
      "           X          y\n",
      "0 -28.075836 -57.404696\n",
      "1 -27.449902 -56.178895\n",
      "2 -26.823969 -54.953094\n",
      "3 -26.198035 -53.727294\n",
      "4 -25.572102 -52.501493\n"
     ]
    }
   ],
   "source": [
    "lin_X_2 = np.c_[np.ones((m,1)), lin_X]\n",
    "pred2 = reg2.predict(lin_X_2)\n",
    "df_results2 = pd.DataFrame({'X' : lin_X, 'y' : pred2})\n",
    "print(df_results2.head()) # Test"
   ]
  },
  {
   "cell_type": "code",
   "execution_count": 8,
   "metadata": {
    "ExecuteTime": {
     "end_time": "2020-04-15T08:02:07.107867Z",
     "start_time": "2020-04-15T08:02:07.092034Z"
    }
   },
   "outputs": [
    {
     "name": "stdout",
     "output_type": "stream",
     "text": [
      "-2.397831416148858 [0.         0.34879944]\n",
      "           X          y\n",
      "0 -28.075836 -12.190667\n",
      "1 -27.449902 -11.972342\n",
      "2 -26.823969 -11.754017\n",
      "3 -26.198035 -11.535691\n",
      "4 -25.572102 -11.317366\n"
     ]
    }
   ],
   "source": [
    "# Ridge\n",
    "reg3 = Ridge(alpha=100000, solver='cholesky')\n",
    "reg3.fit(X_b, y)\n",
    "print(reg3.intercept_, reg3.coef_)\n",
    "\n",
    "lin_X_3 = np.c_[np.ones((m,1)), lin_X]\n",
    "pred3 = reg3.predict(lin_X_3)\n",
    "df_results3 = pd.DataFrame({'X' : lin_X, 'y' : pred3})\n",
    "print(df_results3.head()) # Test"
   ]
  },
  {
   "cell_type": "code",
   "execution_count": 9,
   "metadata": {
    "ExecuteTime": {
     "end_time": "2020-04-15T08:02:07.447401Z",
     "start_time": "2020-04-15T08:02:07.110865Z"
    }
   },
   "outputs": [
    {
     "data": {
      "image/png": "[encoded data removed]",
      "text/plain": [
       "<Figure size 720x504 with 1 Axes>"
      ]
     },
     "metadata": {
      "needs_background": "light"
     },
     "output_type": "display_data"
    }
   ],
   "source": [
    "# Plotting for different alpha values\n",
    "fig, ax = plt.subplots(figsize=(10,7))\n",
    "df_Xy.plot(kind='scatter', x='X', y='y', ax=ax, color='blue')\n",
    "\n",
    "df_results1.plot(kind='line', x='X', y='y', ax=ax, color='red')\n",
    "df_results2.plot(kind='line', x='X', y='y', ax=ax, color='green', style='--')\n",
    "df_results3.plot(kind='line', x='X', y='y', ax=ax, color='orange', style='-')\n",
    "ax.legend(['alpha=0','alpha=10000', 'alpha=100000', 'sample'])\n",
    "plt.show()"
   ]
  },
  {
   "cell_type": "markdown",
   "metadata": {},
   "source": [
    "#### Lasso Regression\n",
    "\n",
    "Least Absolute Shrinkage and Selection Operator Regression (Lasso Regression) is another regularized form of Linear Regression. Like Ridge regression, it adds a regularization term to the cost function, but uses the $l_1$ norm of the weight vector instaed of  of the $l_2$ norm. Again, from:\n",
    "$$\\text{MSE} (\\Theta) = \\frac 1 m \\sum_{i=1}^m \\begin{bmatrix} \\Theta^T \\mathbf x^{(i)} - y^{(i)}\\end{bmatrix}^2$$\n",
    "\n",
    "The cost function , $J(\\Theta)$ with the regularisation term is:\n",
    "\n",
    "$$\\begin{align}J(\\Theta) &= \\text{MSE} (\\Theta) + \\alpha \\sum_{t=1}^n |\\theta_t| \\\\&= \\frac 1 m \\sum_{i=1}^m \\begin{bmatrix} \\Theta^T \\mathbf x^{(i)} - y^{(i)}\\end{bmatrix}^2  + \\alpha \\sum_{t=1}^n |\\theta_t|\\end{align}$$"
   ]
  }
 ],
 "metadata": {
  "kernelspec": {
   "display_name": "Python 3",
   "language": "python",
   "name": "python3"
  },
  "language_info": {
   "codemirror_mode": {
    "name": "ipython",
    "version": 3
   },
   "file_extension": ".py",
   "mimetype": "text/x-python",
   "name": "python",
   "nbconvert_exporter": "python",
   "pygments_lexer": "ipython3",
   "version": "3.7.2"
  }
 },
 "nbformat": 4,
 "nbformat_minor": 4
}
