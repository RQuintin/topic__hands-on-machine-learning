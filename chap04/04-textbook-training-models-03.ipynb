{
 "cells": [
  {
   "cell_type": "markdown",
   "metadata": {},
   "source": [
    "## Chapter 4 -  Training Models\n",
    "\n",
    "### Regularised Linear Models"
   ]
  },
  {
   "cell_type": "markdown",
   "metadata": {},
   "source": [
    "A good wary to reduce overfitting is to regularise the model (to constrain it). The fewer degrees of freedom the model has, the harder it will be to overfit the data. As seen earlier, one way to regularise a model is to reduce the number of polynomial degrees.\n",
    "\n",
    "There are other ways to regularise the model, in particular constraining the weights of the model. Three ways to do so are Ridge regression, Lasso regression and Elastic Net."
   ]
  },
  {
   "cell_type": "code",
   "execution_count": 36,
   "metadata": {
    "ExecuteTime": {
     "end_time": "2020-04-16T03:40:39.398960Z",
     "start_time": "2020-04-16T03:40:39.394428Z"
    }
   },
   "outputs": [],
   "source": [
    "import pandas as pd\n",
    "import numpy as np\n",
    "import matplotlib.pyplot as plt\n",
    "\n",
    "from sklearn.preprocessing import PolynomialFeatures\n",
    "from sklearn.linear_model import LinearRegression, Ridge, Lasso, ElasticNet\n",
    "from sklearn.metrics import mean_squared_error\n",
    "from sklearn.model_selection import train_test_split"
   ]
  },
  {
   "cell_type": "markdown",
   "metadata": {},
   "source": [
    "#### Ridge Regression\n",
    "\n",
    "In Ridge Regression, a regularisation term equal to $\\alpha \\sum_{t=1}^n \\theta_t^2$ is added to the cost function. Recall that the cost function is the MSE:\n",
    "\n",
    "$$\\text{MSE} (\\Theta) = \\frac 1 m \\sum_{i=1}^m \\begin{bmatrix} \\Theta^T \\mathbf x^{(i)} - y^{(i)}\\end{bmatrix}^2$$\n",
    "\n",
    "(ISTL 6.2.1) We use the RSS, where $\\frac 1m \\text{RSS} = \\text{MSE}$. So \n",
    "\n",
    "$$\\text{RSS} (\\Theta) = \\sum_{i=1}^m \\begin{pmatrix} \\Theta^T \\mathbf x^{(i)} - y^{(i)}\\end{pmatrix}^2$$\n",
    "\n",
    "The cost function , $J(\\Theta)$ with the regularisation term, in terms of RSS is:\n",
    "\n",
    "$$\\begin{align}J(\\Theta) &= \\text{RSS} (\\Theta) + \\alpha \\sum_{t=1}^n \\theta_t^2 \\\\&= \\sum_{i=1}^m \\begin{pmatrix} \\Theta^T \\mathbf x^{(i)} - y^{(i)}\\end{pmatrix}^2  + {\\alpha} \\sum_{t=1}^n \\theta_t^2\\end{align}$$"
   ]
  },
  {
   "cell_type": "markdown",
   "metadata": {},
   "source": [
    "The hyperparameter $\\alpha$ controls how much to regularise the model. The penalty term $\\alpha \\sum_{t=1}^n \\theta_t^2$ is called the shrinkage penalty. This shrinkage penalty has an effect of shrinking the estimates $\\theta_1, \\cdots, \\theta_n$ to $0$. \n",
    "\n",
    "When $\\alpha=0$, this penalty term is $0$. There is no expected shrinkage effect the $\\Theta$ estimates for for Ridge Regression is the same as Linear Regression. The coefficients are optimised at the lowest RSS.\n",
    "\n",
    "As $\\alpha$ grows, the shrinkage penalty kicks in and the effect of the $\\theta_i$ starts to shrink to zero. When $\\alpha \\rightarrow \\infty$, the impact of the shrinkage penalty becomes very large, causing the ridge regression coefficient estimates approach zero. Consequently, different values of $\\alpha$ will produce different $\\Theta$ estimates. Note that the bias term $\\theta_0$ is not regularized. \n",
    "\n",
    "If we define $\\mathbf w$ as the feature weights then the regularisation term is simply $\\frac12(||\\mathbf w||_2)^2$ where $||\\mathbf w||$ is the $l_2$ norm of the weight vector."
   ]
  },
  {
   "cell_type": "code",
   "execution_count": 2,
   "metadata": {
    "ExecuteTime": {
     "end_time": "2020-04-16T02:42:17.399683Z",
     "start_time": "2020-04-16T02:42:17.390119Z"
    },
    "scrolled": true
   },
   "outputs": [],
   "source": [
    "# Generate y = 4X with noise\n",
    "m = 100\n",
    "X = np.random.normal(30,10,m).flatten()\n",
    "X_b = np.c_[np.ones((m,1)), X]\n",
    "y = 4*X + np.random.normal(0,25,m).flatten()\n",
    "df_Xy = pd.DataFrame({'X' : X, 'y' : y})"
   ]
  },
  {
   "cell_type": "code",
   "execution_count": 3,
   "metadata": {
    "ExecuteTime": {
     "end_time": "2020-04-16T02:42:17.625763Z",
     "start_time": "2020-04-16T02:42:17.405189Z"
    }
   },
   "outputs": [
    {
     "data": {
      "image/png": "[encoded data removed]",
      "text/plain": [
       "<Figure size 720x288 with 1 Axes>"
      ]
     },
     "metadata": {
      "needs_background": "light"
     },
     "output_type": "display_data"
    }
   ],
   "source": [
    "fig, ax = plt.subplots(figsize=(10,4))\n",
    "df_Xy.plot(kind='scatter', x='X', y='y', ax=ax)\n",
    "ax.set_xlim(0,60)\n",
    "ax.set_ylim(0,300)\n",
    "plt.show()"
   ]
  },
  {
   "cell_type": "code",
   "execution_count": 4,
   "metadata": {
    "ExecuteTime": {
     "end_time": "2020-04-16T02:42:17.634544Z",
     "start_time": "2020-04-16T02:42:17.629264Z"
    }
   },
   "outputs": [
    {
     "name": "stdout",
     "output_type": "stream",
     "text": [
      "123.68312030453377\n"
     ]
    }
   ],
   "source": [
    "# Test the model using new X_test\n",
    "lin_X = np.linspace(X.min(), X.max(),m)\n",
    "print(y.mean())"
   ]
  },
  {
   "cell_type": "code",
   "execution_count": 5,
   "metadata": {
    "ExecuteTime": {
     "end_time": "2020-04-16T02:42:17.647470Z",
     "start_time": "2020-04-16T02:42:17.638270Z"
    }
   },
   "outputs": [
    {
     "name": "stdout",
     "output_type": "stream",
     "text": [
      "2.8138804574402343 [0.         4.01665443]\n"
     ]
    }
   ],
   "source": [
    "# Linear Regression\n",
    "reg1 = LinearRegression()\n",
    "reg1.fit(X_b, y) # Train\n",
    "print(reg1.intercept_, reg1.coef_)"
   ]
  },
  {
   "cell_type": "code",
   "execution_count": 6,
   "metadata": {
    "ExecuteTime": {
     "end_time": "2020-04-16T02:42:17.657264Z",
     "start_time": "2020-04-16T02:42:17.650056Z"
    }
   },
   "outputs": [
    {
     "name": "stdout",
     "output_type": "stream",
     "text": [
      "65.10129244116945 [0.         1.94675633]\n"
     ]
    }
   ],
   "source": [
    "# Ridge with different alpha values\n",
    "reg2 = Ridge(alpha=10000, solver='cholesky')\n",
    "reg2.fit(X_b, y)\n",
    "print(reg2.intercept_, reg2.coef_)"
   ]
  },
  {
   "cell_type": "code",
   "execution_count": 7,
   "metadata": {
    "ExecuteTime": {
     "end_time": "2020-04-16T02:42:17.668830Z",
     "start_time": "2020-04-16T02:42:17.660483Z"
    }
   },
   "outputs": [
    {
     "name": "stdout",
     "output_type": "stream",
     "text": [
      "113.2925132130707 [0.         0.34529445]\n"
     ]
    }
   ],
   "source": [
    "# Ridge with different alpha values\n",
    "reg3 = Ridge(alpha=100000, solver='cholesky')\n",
    "reg3.fit(X_b, y)\n",
    "print(reg3.intercept_, reg3.coef_)"
   ]
  },
  {
   "cell_type": "code",
   "execution_count": 12,
   "metadata": {
    "ExecuteTime": {
     "end_time": "2020-04-16T03:00:09.423935Z",
     "start_time": "2020-04-16T03:00:09.418362Z"
    }
   },
   "outputs": [],
   "source": [
    "lin_X_1 = np.c_[np.ones((m,1)), lin_X]\n",
    "pred1 = reg1.predict(lin_X_1)\n",
    "df_results1 = pd.DataFrame({'X' : lin_X, 'y' : pred1})\n",
    "# print(df_results1.head()) # Test"
   ]
  },
  {
   "cell_type": "code",
   "execution_count": 13,
   "metadata": {
    "ExecuteTime": {
     "end_time": "2020-04-16T03:00:11.023941Z",
     "start_time": "2020-04-16T03:00:11.018293Z"
    }
   },
   "outputs": [],
   "source": [
    "lin_X_2 = np.c_[np.ones((m,1)), lin_X]\n",
    "pred2 = reg2.predict(lin_X_2)\n",
    "df_results2 = pd.DataFrame({'X' : lin_X, 'y' : pred2})\n",
    "# print(df_results2.head()) # Test"
   ]
  },
  {
   "cell_type": "code",
   "execution_count": 14,
   "metadata": {
    "ExecuteTime": {
     "end_time": "2020-04-16T03:00:13.365512Z",
     "start_time": "2020-04-16T03:00:13.360036Z"
    }
   },
   "outputs": [],
   "source": [
    "lin_X_3 = np.c_[np.ones((m,1)), lin_X]\n",
    "pred3 = reg3.predict(lin_X_3)\n",
    "df_results3 = pd.DataFrame({'X' : lin_X, 'y' : pred3})\n",
    "# print(df_results3.head()) # Test"
   ]
  },
  {
   "cell_type": "code",
   "execution_count": 15,
   "metadata": {
    "ExecuteTime": {
     "end_time": "2020-04-16T03:00:30.381362Z",
     "start_time": "2020-04-16T03:00:30.080575Z"
    }
   },
   "outputs": [
    {
     "data": {
      "image/png": "[encoded data removed]",
      "text/plain": [
       "<Figure size 864x432 with 1 Axes>"
      ]
     },
     "metadata": {
      "needs_background": "light"
     },
     "output_type": "display_data"
    }
   ],
   "source": [
    "# Plotting for different alpha values. Observe how as alpha increases, the coefficient shrinks.\n",
    "fig, ax = plt.subplots(figsize=(12,6))\n",
    "df_Xy.plot(kind='scatter', x='X', y='y', ax=ax, color='SKYBLUE')\n",
    "\n",
    "df_results1.plot(kind='line', x='X', y='y', ax=ax, color='DARKKHAKI')\n",
    "df_results2.plot(kind='line', x='X', y='y', ax=ax, color='DARKORANGE', style='--')\n",
    "df_results3.plot(kind='line', x='X', y='y', ax=ax, color='ORCHID', style='--')\n",
    "ax.legend(['linreg, alpha=0','alpha=10000', 'alpha=100000', 'sample'])\n",
    "ax.set_xlim(0,60)\n",
    "ax.set_ylim(0,300)\n",
    "plt.show()"
   ]
  },
  {
   "cell_type": "markdown",
   "metadata": {},
   "source": [
    "#### Lasso Regression\n",
    "\n",
    "Least Absolute Shrinkage and Selection Operator Regression (Lasso Regression) is another regularized form of Linear Regression. Like Ridge regression, it adds a regularization term to the cost function, but uses the $l_1$ norm of the weight vector instaed of  of the $l_2$ norm. \n",
    "\n",
    "(ISTL 6.2.2) Again from RSS use the RSS where $\\text{RSS} (\\Theta) = \\sum_{i=1}^m \\begin{pmatrix} \\Theta^T \\mathbf x^{(i)} - y^{(i)}\\end{pmatrix}^2$\n",
    "\n",
    "The cost function , $J(\\Theta)$ with the regularisation term, in terms of RSS is:\n",
    "\n",
    "$$\\begin{align}J(\\Theta) &= \\text{RSS} (\\Theta) + \\alpha \\sum_{t=1}^n |\\theta_t| \\\\&= \\sum_{i=1}^m \\begin{pmatrix} \\Theta^T \\mathbf x^{(i)} - y^{(i)}\\end{pmatrix}^2  + \\alpha \\sum_{t=1}^n |\\theta_t|\\end{align}$$\n",
    "\n",
    "Similar to ridge regression, lasso shrinks the coefficient estimates towards zero. However, the $l_1$ penalty forces some of the coefficient estimates to be exactly equal to zero when $alpha$ is sufficiently large. So the lasso also performs variable selection. Hence, models from the lasso are generally much easier to interpret than those produced by ridge regression. The lasso yields sparse models, which are models that involve only a subset of the variables."
   ]
  },
  {
   "cell_type": "code",
   "execution_count": 20,
   "metadata": {
    "ExecuteTime": {
     "end_time": "2020-04-16T03:33:09.529063Z",
     "start_time": "2020-04-16T03:33:09.512445Z"
    }
   },
   "outputs": [
    {
     "data": {
      "text/plain": [
       "Lasso(alpha=0.1, copy_X=True, fit_intercept=True, max_iter=1000,\n",
       "      normalize=False, positive=False, precompute=False, random_state=None,\n",
       "      selection='cyclic', tol=0.0001, warm_start=False)"
      ]
     },
     "execution_count": 20,
     "metadata": {},
     "output_type": "execute_result"
    }
   ],
   "source": [
    "regb1 = Lasso(alpha=0.1)\n",
    "regb1.fit(X_b, y)"
   ]
  },
  {
   "cell_type": "code",
   "execution_count": 21,
   "metadata": {
    "ExecuteTime": {
     "end_time": "2020-04-16T03:33:18.799058Z",
     "start_time": "2020-04-16T03:33:18.791734Z"
    }
   },
   "outputs": [
    {
     "data": {
      "text/plain": [
       "Lasso(alpha=100, copy_X=True, fit_intercept=True, max_iter=1000,\n",
       "      normalize=False, positive=False, precompute=False, random_state=None,\n",
       "      selection='cyclic', tol=0.0001, warm_start=False)"
      ]
     },
     "execution_count": 21,
     "metadata": {},
     "output_type": "execute_result"
    }
   ],
   "source": [
    "regb2 = Lasso(alpha=100)\n",
    "regb2.fit(X_b, y)"
   ]
  },
  {
   "cell_type": "code",
   "execution_count": 30,
   "metadata": {
    "ExecuteTime": {
     "end_time": "2020-04-16T03:35:09.772809Z",
     "start_time": "2020-04-16T03:35:09.765697Z"
    }
   },
   "outputs": [],
   "source": [
    "lin_X_b1 = np.c_[np.ones((m,1)), lin_X]\n",
    "predb1 = regb1.predict(lin_X_b1)\n",
    "df_resultsb1 = pd.DataFrame({'X' : lin_X, 'y' : predb1})\n",
    "\n",
    "predb2 = regb2.predict(lin_X_b1)\n",
    "df_resultsb2 = pd.DataFrame({'X' : lin_X, 'y' : predb2})"
   ]
  },
  {
   "cell_type": "code",
   "execution_count": 35,
   "metadata": {
    "ExecuteTime": {
     "end_time": "2020-04-16T03:36:03.492303Z",
     "start_time": "2020-04-16T03:36:03.204279Z"
    },
    "scrolled": false
   },
   "outputs": [
    {
     "data": {
      "image/png": "[encoded data removed]",
      "text/plain": [
       "<Figure size 864x432 with 1 Axes>"
      ]
     },
     "metadata": {
      "needs_background": "light"
     },
     "output_type": "display_data"
    }
   ],
   "source": [
    "# Plotting for different alpha values. Observe how as alpha increases, the coefficient shrinks.\n",
    "fig, ax = plt.subplots(figsize=(12,6))\n",
    "df_Xy.plot(kind='scatter', x='X', y='y', ax=ax, color='SKYBLUE')\n",
    "\n",
    "df_results1.plot(kind='line', x='X', y='y', ax=ax, color='DARKKHAKI')\n",
    "df_resultsb2.plot(kind='line', x='X', y='y', ax=ax, color='DARKORANGE', style='--')\n",
    "ax.legend(['linreg, alpha=0','alpha=100', 'sample'])\n",
    "ax.set_xlim(0,60)\n",
    "ax.set_ylim(0,300)\n",
    "plt.show()"
   ]
  },
  {
   "cell_type": "markdown",
   "metadata": {},
   "source": [
    "#### Elastic Net\n",
    "\n",
    "Elastic Net is a middle ground between Ridge Regression and Lasso Regression. The regularisation term is a mix of the both ridge and lasso regularisation term and you can control the mix ratio $r$. When $r=0$ Elastic net is equivalent to Ridge regression while when $r=1$ then Elastic net is equivalent to Lasso regression:\n",
    "\n",
    "\n",
    "The cost function , $J(\\Theta)$ in terms of RSS is:\n",
    "\n",
    "$$\\begin{align}J(\\Theta) &= \\text{RSS} (\\Theta) + \\alpha \\sum_{t=1}^n |\\theta_t| \\\\&= \\sum_{i=1}^m \\begin{pmatrix} \\Theta^T \\mathbf x^{(i)} - y^{(i)}\\end{pmatrix}^2  + r{\\alpha} \\sum_{t=1}^n \\theta_t^2 + (1-r)\\alpha \\sum_{t=1}^n |\\theta_t|\\end{align}$$"
   ]
  },
  {
   "cell_type": "code",
   "execution_count": 38,
   "metadata": {
    "ExecuteTime": {
     "end_time": "2020-04-16T03:41:02.959228Z",
     "start_time": "2020-04-16T03:41:02.952427Z"
    }
   },
   "outputs": [
    {
     "data": {
      "text/plain": [
       "ElasticNet(alpha=0.1, copy_X=True, fit_intercept=True, l1_ratio=0.5,\n",
       "           max_iter=1000, normalize=False, positive=False, precompute=False,\n",
       "           random_state=None, selection='cyclic', tol=0.0001, warm_start=False)"
      ]
     },
     "execution_count": 38,
     "metadata": {},
     "output_type": "execute_result"
    }
   ],
   "source": [
    "regc1 = ElasticNet(alpha=0.1, l1_ratio=0.5)\n",
    "regc1.fit(X_b, y)"
   ]
  }
 ],
 "metadata": {
  "kernelspec": {
   "display_name": "Python 3",
   "language": "python",
   "name": "python3"
  },
  "language_info": {
   "codemirror_mode": {
    "name": "ipython",
    "version": 3
   },
   "file_extension": ".py",
   "mimetype": "text/x-python",
   "name": "python",
   "nbconvert_exporter": "python",
   "pygments_lexer": "ipython3",
   "version": "3.7.2"
  }
 },
 "nbformat": 4,
 "nbformat_minor": 4
}
