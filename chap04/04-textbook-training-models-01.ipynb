{
 "cells": [
  {
   "cell_type": "markdown",
   "metadata": {},
   "source": [
    "## Chapter 4 -  Training Models\n",
    "\n",
    "### Linear Regression"
   ]
  },
  {
   "cell_type": "markdown",
   "metadata": {},
   "source": [
    "The general form of the linear model is\n",
    "\n",
    "$$\n",
    "\\hat{y_i} = \\theta_0 + \\theta_1x_{1i} + \\theta_2x_{2i}+ \\cdots + \\theta_nx_{ni}\n",
    "$$\n",
    "\n",
    "where $\\hat{y}$ is the predicted value, $n$ is the number of features, $x_{ti}$ is the value of the $t$th feature for the $i$th sample. $\\theta_t$ is the model parameter for the $t$th feature. More concisely, \n",
    "\n",
    "$$\n",
    "\\hat{y_i} = \\Theta^T \\mathbf x_i\n",
    "$$\n",
    "Where $\\Theta$ is the parameter column vector containing $\\theta_0$ and the feature weights $\\theta_1$ to $\\theta_n$. and \\mathbf x_i is the feature fector containing $x_{ti}$ for the $i$th sample."
   ]
  },
  {
   "cell_type": "markdown",
   "metadata": {},
   "source": [
    "To obtain $\\Theta$, we find values to minimise the mean squared error or MSE. It can be modified from the RMSE formula learnt in Chapter 2.\n",
    "\n",
    "$$\\text{MSE} (\\mathbf X , h) = \\frac 1 m \\sum_{i=1}^m \\begin{bmatrix} \\Theta^T \\mathbf x^{(i)} - y^{(i)})\\end{bmatrix}^2$$\n",
    "\n",
    "To find the value of $\\Theta$ that minimises the cost function, we use the closed-form solution - the normal equation:\n",
    "\n",
    "$$\\hat{\\Theta} = (\\mathbf X ^T \\mathbf X)^{-1} X^Ty$$"
   ]
  },
  {
   "cell_type": "code",
   "execution_count": null,
   "metadata": {},
   "outputs": [],
   "source": []
  }
 ],
 "metadata": {
  "kernelspec": {
   "display_name": "Python 3",
   "language": "python",
   "name": "python3"
  },
  "language_info": {
   "codemirror_mode": {
    "name": "ipython",
    "version": 3
   },
   "file_extension": ".py",
   "mimetype": "text/x-python",
   "name": "python",
   "nbconvert_exporter": "python",
   "pygments_lexer": "ipython3",
   "version": "3.7.2"
  }
 },
 "nbformat": 4,
 "nbformat_minor": 4
}
