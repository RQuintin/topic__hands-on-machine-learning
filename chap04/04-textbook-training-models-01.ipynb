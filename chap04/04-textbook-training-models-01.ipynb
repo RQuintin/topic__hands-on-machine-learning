{
 "cells": [
  {
   "cell_type": "markdown",
   "metadata": {},
   "source": [
    "## Chapter 4 -  Training Models\n",
    "\n",
    "### Linear Regression"
   ]
  },
  {
   "cell_type": "markdown",
   "metadata": {},
   "source": [
    "Given $m$ samples, each with $n$ parameters, \n",
    "\n",
    "The general form of the linear model is\n",
    "\n",
    "$$\n",
    "\\hat{y_i} = \\theta_0 + \\theta_1x_{1i} + \\theta_2x_{2i}+ \\cdots + \\theta_nx_{ni}\n",
    "$$\n",
    "\n",
    "$i \\in m$ and $t \\in n$\n",
    "\n",
    "where $\\hat{y_i}$ is the predicted value of the $i$th sample, $n$ is the number of features, $x_{ti}$ is the value of the $t$th feature for the $i$th sample. $\\theta_t$ is the model parameter for the $t$th feature. More concisely, \n",
    "\n",
    "$$\n",
    "\\hat{y_i} = \\Theta^T \\mathbf x_i\n",
    "$$\n",
    "Where $\\Theta$ is the parameter column vector containing $\\theta_0$ and the feature weights $\\theta_1$ to $\\theta_n$. and $\\mathbf x_i$ is the feature column vector containing $x_{ti}$ for the $i$th sample."
   ]
  },
  {
   "cell_type": "markdown",
   "metadata": {},
   "source": [
    "To obtain $\\Theta$, we find values to minimise the mean squared error or MSE. It can be modified from the RMSE formula learnt in Chapter 2.\n",
    "\n",
    "$$\\text{MSE} (\\mathbf X , h) = \\frac 1 m \\sum_{i=1}^m \\begin{bmatrix} \\Theta^T \\mathbf x^{(i)} - y^{(i)})\\end{bmatrix}^2$$\n",
    "\n",
    "To find the value of $\\Theta$ that minimises the cost function, we use the closed-form solution - the normal equation:\n",
    "\n",
    "$$\\hat{\\Theta} = (\\mathbf X ^T \\mathbf X)^{-1} X^Ty$$"
   ]
  },
  {
   "cell_type": "code",
   "execution_count": 1,
   "metadata": {
    "ExecuteTime": {
     "end_time": "2020-04-15T03:44:16.896613Z",
     "start_time": "2020-04-15T03:44:15.538427Z"
    }
   },
   "outputs": [],
   "source": [
    "import pandas as pd\n",
    "import numpy as np\n",
    "import matplotlib.pyplot as plt\n",
    "\n",
    "from sklearn.linear_model import LinearRegression, SGDRegressor"
   ]
  },
  {
   "cell_type": "code",
   "execution_count": 2,
   "metadata": {
    "ExecuteTime": {
     "end_time": "2020-04-15T03:44:17.107668Z",
     "start_time": "2020-04-15T03:44:16.899402Z"
    }
   },
   "outputs": [
    {
     "data": {
      "image/png": "[encoded data removed]",
      "text/plain": [
       "<Figure size 576x288 with 1 Axes>"
      ]
     },
     "metadata": {
      "needs_background": "light"
     },
     "output_type": "display_data"
    }
   ],
   "source": [
    "# Generate X as 2 + N(0,1), Generate y as 4 + 3X + N(0,1)\n",
    "X = 2 * np.random.normal(0,1,100).flatten()\n",
    "y = 4+3 * X + np.random.normal(0,1,100).flatten()\n",
    "# Generate y = 4 + 3X\n",
    "df_Xy = pd.DataFrame({'X' : X, 'y' : y})\n",
    "df_Xy.plot(kind='scatter', x='X', y='y', figsize=(8,4))\n",
    "plt.show()"
   ]
  },
  {
   "cell_type": "markdown",
   "metadata": {},
   "source": [
    "To obtain the estimate of $\\Theta$ using the normal equation"
   ]
  },
  {
   "cell_type": "code",
   "execution_count": 3,
   "metadata": {
    "ExecuteTime": {
     "end_time": "2020-04-15T03:44:17.119597Z",
     "start_time": "2020-04-15T03:44:17.110966Z"
    }
   },
   "outputs": [
    {
     "name": "stdout",
     "output_type": "stream",
     "text": [
      "[4.07958943 3.00392812]\n"
     ]
    }
   ],
   "source": [
    "X_b = np.c_[np.ones((100,1)), X] # Add x0=1\n",
    "# Use the normal equations to solve for Theta\n",
    "Theta_hat = np.dot(np.dot(np.linalg.inv(np.dot(X_b.T, X_b)), X_b.T),y)\n",
    "print(Theta_hat)"
   ]
  },
  {
   "cell_type": "code",
   "execution_count": 4,
   "metadata": {
    "ExecuteTime": {
     "end_time": "2020-04-15T03:44:17.139105Z",
     "start_time": "2020-04-15T03:44:17.124263Z"
    }
   },
   "outputs": [],
   "source": [
    "# Test the model using new X_test\n",
    "lin_X = np.linspace(-8,8)\n",
    "lin_X_b = np.c_[np.ones((lin_X.shape[0], 1)), lin_X]\n",
    "lin_y = np.dot(lin_X_b, Theta_hat)\n",
    "y_test = np.c_[lin_X, lin_y]\n",
    "df_y_test = pd.DataFrame(y_test, columns=['X', 'y'])"
   ]
  },
  {
   "cell_type": "code",
   "execution_count": 5,
   "metadata": {
    "ExecuteTime": {
     "end_time": "2020-04-15T03:44:17.422487Z",
     "start_time": "2020-04-15T03:44:17.143287Z"
    },
    "scrolled": true
   },
   "outputs": [
    {
     "data": {
      "image/png": "[encoded data removed]",
      "text/plain": [
       "<Figure size 360x360 with 1 Axes>"
      ]
     },
     "metadata": {
      "needs_background": "light"
     },
     "output_type": "display_data"
    }
   ],
   "source": [
    "fig, ax = plt.subplots(figsize=(5,5))\n",
    "df_Xy.plot(kind='scatter', x='X', y='y', ax=ax)\n",
    "df_y_test.plot(kind='line', x='X', y='y', ax=ax, color='red')\n",
    "ax.legend(['prediction', 'samples',])\n",
    "plt.show()"
   ]
  },
  {
   "cell_type": "code",
   "execution_count": 6,
   "metadata": {
    "ExecuteTime": {
     "end_time": "2020-04-15T03:44:17.434501Z",
     "start_time": "2020-04-15T03:44:17.424957Z"
    }
   },
   "outputs": [
    {
     "name": "stdout",
     "output_type": "stream",
     "text": [
      "4.079589427108363 [0.         3.00392812]\n",
      "[-19.95183552 -18.97096103 -17.99008655 -17.00921206]\n"
     ]
    }
   ],
   "source": [
    "# The equivalent in sklearn is:\n",
    "\n",
    "# Train\n",
    "reg = LinearRegression()\n",
    "reg.fit(X_b, df_Xy['y'])\n",
    "print(reg.intercept_, reg.coef_)\n",
    "# Predict\n",
    "print(reg.predict(lin_X_b[:4]))"
   ]
  },
  {
   "cell_type": "markdown",
   "metadata": {},
   "source": [
    "### Gradient Descent - Batch Gradient Descent"
   ]
  },
  {
   "cell_type": "markdown",
   "metadata": {},
   "source": [
    "Gradient descent is a generic optimization problem capable of finding optimal solutions to many problems. The idea is to tweak parameters iteratively to minimize a cost function. \n",
    "\n",
    "- Note that when using gradient descent, the features must have a similar scale or it will take longer to converge.\n",
    "\n",
    "Hence, to use gradient descent on a linear regression problem, we revisit the cost function, the MSE: $\\text{MSE} (\\Theta) = \\frac 1 m \\sum_{i=1}^m \\begin{bmatrix} \\Theta^T \\mathbf x^{(i)} - y^{(i)})\\end{bmatrix}^2$ and now compute the gradient w.r.t. the parameters $\\theta_t$. Each expression is the partial derivative for every parameter $\\theta_t$.\n",
    "$$\\frac{\\partial}{\\partial \\theta_j}\\text{MSE}(\\theta_t) = \\frac 2m \\sum_{i=1}^m \\begin{bmatrix} \\Theta^T \\mathbf x^{(i)} - y^{(i)})\\end{bmatrix} x_j^{(i)}$$\n",
    "\n",
    "Combining them all, we obtain the gradient vector of the cost function:\n",
    "\n",
    "$$\\nabla_\\theta \\text{MSE}(\\Theta) = \\begin{bmatrix}\\frac{\\partial}{\\partial \\theta_0}\\text{MSE}(\\Theta)\\\\\\frac{\\partial}{\\partial \\theta_j}\\text{MSE}(\\Theta)\\\\\\ \\vdots\\\\\\frac{\\partial}{\\partial \\Theta}\\text{MSE}(\\theta_j)\\end{bmatrix}= \\begin{bmatrix}\\frac 2m \\sum_{i=1}^m \\begin{bmatrix} \\Theta^T \\mathbf x^{(i)} - y^{(i)})\\end{bmatrix} x_0^{(i)}\\\\\\frac 2m \\sum_{i=1}^m \\begin{bmatrix} \\Theta^T \\mathbf x^{(i)} - y^{(i)})\\end{bmatrix} x_1^{(i)}\\\\\\ \\vdots\\\\\\frac 2m \\sum_{i=1}^m \\begin{bmatrix} \\Theta^T \\mathbf x^{(i)} - y^{(i)})\\end{bmatrix} x_n^{(i)}\\end{bmatrix} = \\frac 2m \\mathbf X^T (X\\Theta - y)$$"
   ]
  },
  {
   "cell_type": "markdown",
   "metadata": {
    "ExecuteTime": {
     "end_time": "2020-04-15T02:47:29.459784Z",
     "start_time": "2020-04-15T02:47:29.454656Z"
    }
   },
   "source": [
    "Hence, after going through the batch once, calculate the gradient vector $\\nabla_\\theta \\text{MSE}(\\Theta)$ and multiply by the learning rate $\\eta$, and update the parameter vector:\n",
    "\n",
    "$$\\Theta^{\\text{new}} = \\Theta - \\eta \\nabla_\\theta \\text{MSE}(\\Theta)$$"
   ]
  },
  {
   "cell_type": "code",
   "execution_count": 7,
   "metadata": {
    "ExecuteTime": {
     "end_time": "2020-04-15T03:44:17.445505Z",
     "start_time": "2020-04-15T03:44:17.438424Z"
    }
   },
   "outputs": [
    {
     "name": "stdout",
     "output_type": "stream",
     "text": [
      "[-0.1135281 -0.3331942]\n"
     ]
    }
   ],
   "source": [
    "eta = 0.1 # learning rate\n",
    "n_iterations = 1000\n",
    "m = 100\n",
    "theta_hat2 = np.random.normal(0,1,2)\n",
    "print(theta_hat2)"
   ]
  },
  {
   "cell_type": "code",
   "execution_count": 8,
   "metadata": {
    "ExecuteTime": {
     "end_time": "2020-04-15T03:44:17.474962Z",
     "start_time": "2020-04-15T03:44:17.449525Z"
    }
   },
   "outputs": [
    {
     "name": "stdout",
     "output_type": "stream",
     "text": [
      "[4.07958943 3.00392812]\n",
      "[4.07958943 3.00392812]\n"
     ]
    }
   ],
   "source": [
    "for itn in range(n_iterations):\n",
    "    gradients = 2/m * np.dot(X_b.T, np.dot(X_b, theta_hat2) - y)\n",
    "    theta_hat2 = theta_hat2 - eta * gradients\n",
    "print(theta_hat2)\n",
    "# Verify with normal equations\n",
    "print(Theta_hat)"
   ]
  },
  {
   "cell_type": "markdown",
   "metadata": {},
   "source": [
    "And it can be verified that the values obtained via gradient descent is the same as that of the normal equations."
   ]
  },
  {
   "cell_type": "markdown",
   "metadata": {},
   "source": [
    "### Gradient Descent - Stochastic Gradient Descent\n",
    "\n",
    "Batch gradient descent uses the whole training set when running every epoch. In contrast, Stochastic gradient descent picks a random sample from the training set at every epoch and computes the gradients based only on that single instance."
   ]
  },
  {
   "cell_type": "code",
   "execution_count": 9,
   "metadata": {
    "ExecuteTime": {
     "end_time": "2020-04-15T03:44:17.495832Z",
     "start_time": "2020-04-15T03:44:17.477938Z"
    },
    "scrolled": true
   },
   "outputs": [
    {
     "name": "stdout",
     "output_type": "stream",
     "text": [
      "[0.5644426  0.31508237]\n"
     ]
    }
   ],
   "source": [
    "eta = 0.1 # learning rate\n",
    "n_epochs = 50\n",
    "m = 100\n",
    "theta_hat3 = np.random.normal(0,1,2)\n",
    "print(theta_hat3)"
   ]
  },
  {
   "cell_type": "markdown",
   "metadata": {},
   "source": [
    "By convention, we iterate by rounds of $m$ iterations, and each round is called an epoch. "
   ]
  },
  {
   "cell_type": "code",
   "execution_count": 10,
   "metadata": {
    "ExecuteTime": {
     "end_time": "2020-04-15T03:44:17.723242Z",
     "start_time": "2020-04-15T03:44:17.500069Z"
    }
   },
   "outputs": [
    {
     "name": "stdout",
     "output_type": "stream",
     "text": [
      "[4.07061024 3.01864998]\n",
      "[4.07958943 3.00392812]\n"
     ]
    }
   ],
   "source": [
    "def learning_schedule(t):\n",
    "    t0, t1 = 5,50\n",
    "    return t0/(t+t1)\n",
    "\n",
    "for eph in range(n_epochs):\n",
    "    for i in range(m):\n",
    "        ri = np.random.randint(m)\n",
    "        X_i, y_i = X_b[ri:ri+1], y[ri:ri+1]\n",
    "        np.dot(X_b.T, np.dot(X_b, theta_hat2) - y)\n",
    "        gradients = 2* np.dot(X_i.T, np.dot(X_i, theta_hat3) - y_i) \n",
    "        eta = learning_schedule(eph * m + i)\n",
    "        theta_hat3 = theta_hat3 - eta * gradients\n",
    "print(theta_hat3)\n",
    "# Verify with normal equations\n",
    "print(Theta_hat)"
   ]
  },
  {
   "cell_type": "code",
   "execution_count": 11,
   "metadata": {
    "ExecuteTime": {
     "end_time": "2020-04-15T03:44:17.737485Z",
     "start_time": "2020-04-15T03:44:17.725974Z"
    }
   },
   "outputs": [
    {
     "name": "stdout",
     "output_type": "stream",
     "text": [
      "[4.13498316 3.21909169]\n",
      "[-21.61775034 -20.56661836 -19.51548638 -18.4643544 ]\n"
     ]
    }
   ],
   "source": [
    "# The equivalent in sklearn is:\n",
    "\n",
    "# Train\n",
    "reg2 = SGDRegressor(max_iter=1000, penalty=None, eta0=0.1)\n",
    "reg2.fit(X_b, df_Xy['y'])\n",
    "print(np.c_[reg2.intercept_, [0]][0] + reg2.coef_)\n",
    "# Predict\n",
    "print(reg2.predict(lin_X_b[:4]))"
   ]
  },
  {
   "cell_type": "code",
   "execution_count": 12,
   "metadata": {
    "ExecuteTime": {
     "end_time": "2020-04-15T03:44:17.750175Z",
     "start_time": "2020-04-15T03:44:17.739811Z"
    }
   },
   "outputs": [
    {
     "name": "stdout",
     "output_type": "stream",
     "text": [
      "[4.07958943 3.00392812]\n",
      "4.079589427108363 [0.         3.00392812]\n",
      "[4.07958943 3.00392812]\n",
      "[4.13498316 3.21909169]\n"
     ]
    }
   ],
   "source": [
    "# Comparisons of all covered:\n",
    "print(Theta_hat) # Normal Equations\n",
    "print(reg.intercept_, reg.coef_) # sklearn.LinearRegression\n",
    "print(theta_hat2) # Batch Gradient Descent\n",
    "print(np.c_[reg2.intercept_, [0]][0] + reg2.coef_) # SGD Regressor"
   ]
  }
 ],
 "metadata": {
  "kernelspec": {
   "display_name": "Python 3",
   "language": "python",
   "name": "python3"
  },
  "language_info": {
   "codemirror_mode": {
    "name": "ipython",
    "version": 3
   },
   "file_extension": ".py",
   "mimetype": "text/x-python",
   "name": "python",
   "nbconvert_exporter": "python",
   "pygments_lexer": "ipython3",
   "version": "3.7.2"
  }
 },
 "nbformat": 4,
 "nbformat_minor": 4
}
