{
 "cells": [
  {
   "cell_type": "markdown",
   "metadata": {},
   "source": [
    "## Chapter 7 - Ensemble Learning and Random Forests\n",
    "\n",
    "## Boosting"
   ]
  },
  {
   "cell_type": "markdown",
   "metadata": {},
   "source": [
    "Recall that bagging creates multiple copies of the original training set by performing bootstrap sampling. Each tree is built on a bootstrap dataset, independent of the other trees. <u>Boosting</u> is similar but each tree is grown sequentially: each tree is grown using information from previously grown trees. \n",
    "\n",
    "The most popular methods for boosting are Adaboost and Gradient Boost"
   ]
  },
  {
   "cell_type": "code",
   "execution_count": 1,
   "metadata": {
    "ExecuteTime": {
     "end_time": "2020-04-27T09:16:19.986014Z",
     "start_time": "2020-04-27T09:16:18.973871Z"
    },
    "scrolled": true
   },
   "outputs": [],
   "source": [
    "import pandas as pd\n",
    "import numpy as np\n",
    "import matplotlib.pyplot as plt\n",
    "\n",
    "from sklearn.model_selection import train_test_split\n",
    "from sklearn.metrics import accuracy_score, mean_squared_error\n",
    "\n",
    "from sklearn.tree import DecisionTreeClassifier\n",
    "from sklearn.ensemble import (BaggingClassifier, RandomForestClassifier, \n",
    "                              ExtraTreesClassifier, AdaBoostClassifier, GradientBoostingClassifier)\n",
    "\n",
    "from sklearn.datasets import make_moons"
   ]
  },
  {
   "cell_type": "code",
   "execution_count": 2,
   "metadata": {
    "ExecuteTime": {
     "end_time": "2020-04-27T09:16:19.997118Z",
     "start_time": "2020-04-27T09:16:19.988363Z"
    }
   },
   "outputs": [],
   "source": [
    "X, y = make_moons(n_samples=500, noise=0.30, random_state=42)\n",
    "X_train, X_test, y_train, y_test = train_test_split(X, y, random_state=42)"
   ]
  },
  {
   "cell_type": "markdown",
   "metadata": {},
   "source": [
    "### Adaboost\n",
    "\n",
    "To build an Adaptive Boosting (Adaboost) classifier, first determine the number of predictors, $B$. A base classifier $\\hat{f^1}(x)$, say a Decision Tree model is trained using the training set. Then, $\\hat{f^1}(x)$ is used to make predictions on the training set. Naturally, there will be correctly predicted instances and wrongly predicted instances. The relative weight of misclassified training instances is then increased. \n",
    "\n",
    "A second classifier, $\\hat{f^2}(x)$, another decision tree model is trained using the training set <u> but with the updated weights</u>. We can see that $\\hat{f^2}(x)$ will perform better at the misclassified training instances due to $\\hat{f^1}(x)$. It now is used to make predictions on the training set, the relative weights of misclassified training instances is increased again, and a third classifier $\\hat{f^3}(x)$ is trained, and so on and so forth until $\\hat{f^B}(x)$, the last classifier.\n",
    "\n",
    "In building these $B$ classifiers, we can see that each new predictor corrects its predecessor by increasing the weights, and hence paying more attention to the training instances that its predecessor underfitted. This results in predictors focusong more and more of the wrongly classified cases.\n",
    "\n",
    "The boosting approach learns slowly. We fit a tree using the current residuals, rather than the outcome $y$ as the response. We then add this new treed into the fitted function in order to update the residuals. By fitting small trees to the residuals, we slowly improve $\\hat f$ in ares where it does not perform well. \n",
    "\n",
    "Generally, boosting has three parameters:\n",
    "\n",
    "- The number of trees $B$. Note that boosting can overfit if $B$ is too large. Generally, $B$ is selected using cross-validation\n",
    "\n",
    "- The learning rate $\\lambda$. This controls the rate at which boosting learns. Typical values are small like 0.01 or 0.001.\n",
    "\n",
    "- The number of splits of each tree, $d$. \n",
    "\n",
    "Once all predictors are trained, the ensemble makes predictions very much like bagging or pasting, but predictors that have different weights depending on their overall accuracy on the weighted training set."
   ]
  },
  {
   "cell_type": "code",
   "execution_count": 3,
   "metadata": {
    "ExecuteTime": {
     "end_time": "2020-04-27T09:16:20.355998Z",
     "start_time": "2020-04-27T09:16:20.003390Z"
    }
   },
   "outputs": [],
   "source": [
    "# Train for Adaboost classifier\n",
    "# B is n_estimators, \n",
    "# lambda is learning_rate\n",
    "# d is number of layers, indicating number of splits\n",
    "ada_clf = AdaBoostClassifier(DecisionTreeClassifier(max_depth=1), n_estimators=200, \n",
    "                            learning_rate=0.5, algorithm='SAMME.R')\n",
    "ada_clf.fit(X_train, y_train)\n",
    "y_pred = ada_clf.predict(X_test)"
   ]
  },
  {
   "cell_type": "markdown",
   "metadata": {},
   "source": [
    "A weight is applied to every example in the training data. Initially, they are all equal so $w^{(i)}=\\frac 1m$. A first predictor is trained. The errors are calculated using the error rate $r$.\n",
    "\n",
    "$$r = \\frac{\\sum_{i=1,\\hat{y}^{(i)} \\neq {y}^{(i)}}^M w^{(i)}}{\\sum_{i=1}^M w^{(i)}}$$\n",
    "The numerator is sum of weights of all incorrectly classified instances while the denominator is sum of weights of all instances.\n",
    "\n",
    "The predictor's weight $\\alpha$ is computed using $\\eta \\log \\frac{1-r}{r}$ where $\\eta$ is the learning rate.\n",
    "\n",
    "Now, a second predictor is trained on the training set again. But the weights of the training set are adjusted so the examples correctly classified have a smaller weight and those that were wrongly classified have a larger weight. To do so, \n",
    "\n",
    "$$w_\\text{new} = \\begin{cases}\\frac{w_\\text{old} \\exp(\\alpha)}{\\sum_i w^{(i)}} \\text{ if classified correctly or }\\hat{y}^{(i)} = {y}^{(i)}\\\\\\frac{w_\\text{old} \\exp(-\\alpha)}{\\sum_i w^{(i)}} \\text{ if classified incorrectly or }\\hat{y}^{(i)} \\neq {y}^{(i)}\\end{cases}$$\n",
    "\n",
    "\n",
    "With multiple predictors and weights, the predicted class is the one that receives the maximum score of the weighted votes. "
   ]
  },
  {
   "cell_type": "markdown",
   "metadata": {
    "ExecuteTime": {
     "end_time": "2020-04-17T06:56:39.092897Z",
     "start_time": "2020-04-17T06:56:38.336307Z"
    }
   },
   "source": [
    "### Gradient Boosting\n",
    "\n",
    "Gradient boosting, like Adaboost, works by adding predictors sequentially to the ensemble. However, instead of tweaking the weights of the instance, the method fits the new predcitor to the residual errors made by the previous predictor. Generally the algorithm is as follows:\n",
    "\n",
    "Given the training data $X$ and the target values $y$, \n",
    "1. Determine the number of trees to build, $B$. Set residuals $r_i = y_i$ for the training set.\n",
    "2. Repeatedly fit a tree $\\hat{f^b}$ to the training data $(X, r)$. Add the new tree to the boosted model: $f(x) \\leftarrow f(x) + \\lambda \\hat{f^b}(x)$. Update the residuals $r_i \\leftarrow r_i - \\lambda \\hat{f^b}(x_i)$\n",
    "3. Add this tree in step 2 to the overall boosted model."
   ]
  },
  {
   "cell_type": "code",
   "execution_count": 4,
   "metadata": {
    "ExecuteTime": {
     "end_time": "2020-04-27T09:16:20.372537Z",
     "start_time": "2020-04-27T09:16:20.358318Z"
    },
    "scrolled": true
   },
   "outputs": [
    {
     "data": {
      "text/plain": [
       "DecisionTreeClassifier(ccp_alpha=0.0, class_weight=None, criterion='gini',\n",
       "                       max_depth=2, max_features=None, max_leaf_nodes=None,\n",
       "                       min_impurity_decrease=0.0, min_impurity_split=None,\n",
       "                       min_samples_leaf=1, min_samples_split=2,\n",
       "                       min_weight_fraction_leaf=0.0, presort='deprecated',\n",
       "                       random_state=None, splitter='best')"
      ]
     },
     "execution_count": 4,
     "metadata": {},
     "output_type": "execute_result"
    }
   ],
   "source": [
    "# B = 3\n",
    "# Fit f1\n",
    "tree1 = DecisionTreeClassifier(max_depth=2)\n",
    "tree1.fit(X_train, y_train)\n",
    "yres1 = y_train - tree1.predict(X_train)\n",
    "\n",
    "# Fit f2\n",
    "tree2 = DecisionTreeClassifier(max_depth=2)\n",
    "tree2.fit(X_train, yres1)\n",
    "yres2 = yres1 - tree2.predict(X_train)\n",
    "\n",
    "# Fit f2\n",
    "tree3 = DecisionTreeClassifier(max_depth=2)\n",
    "tree3.fit(X_train, yres2)"
   ]
  },
  {
   "cell_type": "code",
   "execution_count": 5,
   "metadata": {
    "ExecuteTime": {
     "end_time": "2020-04-27T09:16:20.381033Z",
     "start_time": "2020-04-27T09:16:20.377220Z"
    }
   },
   "outputs": [],
   "source": [
    "# For testing\n",
    "# print(tree1.predict(X_test[:1]))\n",
    "# print(tree2.predict(X_test[:1]))\n",
    "# print(tree3.predict(X_test[:1]))"
   ]
  },
  {
   "cell_type": "code",
   "execution_count": 6,
   "metadata": {
    "ExecuteTime": {
     "end_time": "2020-04-27T09:16:20.392777Z",
     "start_time": "2020-04-27T09:16:20.385833Z"
    }
   },
   "outputs": [
    {
     "name": "stdout",
     "output_type": "stream",
     "text": [
      "[0]\n"
     ]
    }
   ],
   "source": [
    "# Predict using the boosted model\n",
    "y_pred = sum([tree.predict(X_test[:1]) for tree in [tree1, tree2, tree3]])/len([tree1, tree2, tree3])\n",
    "print([1 if y_pred>0.5 else 0])"
   ]
  },
  {
   "cell_type": "markdown",
   "metadata": {},
   "source": [
    "Boosting learns slowly. In each step, the tree fits on the residuals rather than the outcome. This new decison tree is added to the fitted function to update the residuals. By fitting small trees, we slowly improve the ensemble model in areas that does not perform well. The shrinkage parameter / learning rate slows the process down event further, allowing other trees to shave off from the residuals. \n",
    "\n",
    "The following is SKLearn's implementation of the gradient boosting algorithm."
   ]
  },
  {
   "cell_type": "code",
   "execution_count": 7,
   "metadata": {
    "ExecuteTime": {
     "end_time": "2020-04-27T09:16:20.407095Z",
     "start_time": "2020-04-27T09:16:20.395362Z"
    }
   },
   "outputs": [],
   "source": [
    "# Train for GradientBoosting classifier\n",
    "gbt_clf = GradientBoostingClassifier(max_depth=2, n_estimators=3, learning_rate=1.0)\n",
    "gbt_clf.fit(X_train, y_train)\n",
    "# Predict\n",
    "y_pred = gbt_clf.predict(X_test)"
   ]
  },
  {
   "cell_type": "code",
   "execution_count": 8,
   "metadata": {
    "ExecuteTime": {
     "end_time": "2020-04-27T09:16:20.528717Z",
     "start_time": "2020-04-27T09:16:20.410299Z"
    }
   },
   "outputs": [],
   "source": [
    "# Train for GradientBoosting classifier\n",
    "gbrt = GradientBoostingClassifier(max_depth=2, n_estimators=120, learning_rate=0.01)\n",
    "gbrt.fit(X_train, y_train)\n",
    "# Predict\n",
    "y_pred = gbrt.predict(X_test)"
   ]
  },
  {
   "cell_type": "markdown",
   "metadata": {},
   "source": [
    "To find the optimal number of trees, you can use early stopping. A simple way to see this is to use `staged_predict()`. It returns an iterator over the predictions made by the ensemble at each stage of the training."
   ]
  },
  {
   "cell_type": "code",
   "execution_count": 9,
   "metadata": {
    "ExecuteTime": {
     "end_time": "2020-04-27T09:16:20.578665Z",
     "start_time": "2020-04-27T09:16:20.530869Z"
    }
   },
   "outputs": [
    {
     "name": "stdout",
     "output_type": "stream",
     "text": [
      "[0.472, 0.104, 0.104, 0.104, 0.104, 0.104, 0.104, 0.104, 0.104, 0.104, 0.104, 0.104, 0.104, 0.104, 0.104, 0.104, 0.104, 0.104, 0.104, 0.104, 0.104, 0.104, 0.104, 0.104, 0.104, 0.104, 0.104, 0.104, 0.104, 0.104]\n",
      "1\n"
     ]
    },
    {
     "data": {
      "text/plain": [
       "GradientBoostingClassifier(ccp_alpha=0.0, criterion='friedman_mse', init=None,\n",
       "                           learning_rate=0.1, loss='deviance', max_depth=2,\n",
       "                           max_features=None, max_leaf_nodes=None,\n",
       "                           min_impurity_decrease=0.0, min_impurity_split=None,\n",
       "                           min_samples_leaf=1, min_samples_split=2,\n",
       "                           min_weight_fraction_leaf=0.0, n_estimators=1,\n",
       "                           n_iter_no_change=None, presort='deprecated',\n",
       "                           random_state=None, subsample=1.0, tol=0.0001,\n",
       "                           validation_fraction=0.1, verbose=0,\n",
       "                           warm_start=False)"
      ]
     },
     "execution_count": 9,
     "metadata": {},
     "output_type": "execute_result"
    }
   ],
   "source": [
    "# After every tree is built, find the MSE of the predictions of that particular ensemble.\n",
    "errors = [mean_squared_error(y_test, y_pred_i) for y_pred_i in gbrt.staged_predict(X_test)]\n",
    "print(errors[:30])\n",
    "\n",
    "# Of the errors, find the trees that have made the minimum MSE.\n",
    "best_n_estimators = np.argmin(errors)\n",
    "\n",
    "# This means that best_n_estimators is 22. The best ensemble contains 22 trees.\n",
    "print(best_n_estimators)\n",
    "\n",
    "# Then use this number of trees as the best classifier.\n",
    "gbrt_best = GradientBoostingClassifier(max_depth=2, n_estimators=best_n_estimators)\n",
    "gbrt_best.fit(X_train, y_train)"
   ]
  },
  {
   "cell_type": "code",
   "execution_count": 10,
   "metadata": {
    "ExecuteTime": {
     "end_time": "2020-04-27T09:16:20.588417Z",
     "start_time": "2020-04-27T09:16:20.582206Z"
    }
   },
   "outputs": [],
   "source": [
    "errors_df = pd.DataFrame({'i' : range(len(errors)), 'e' : errors})"
   ]
  },
  {
   "cell_type": "code",
   "execution_count": 11,
   "metadata": {
    "ExecuteTime": {
     "end_time": "2020-04-27T09:16:20.850885Z",
     "start_time": "2020-04-27T09:16:20.591491Z"
    }
   },
   "outputs": [
    {
     "data": {
      "image/png": "[encoded data removed]",
      "text/plain": [
       "<Figure size 720x288 with 1 Axes>"
      ]
     },
     "metadata": {
      "needs_background": "light"
     },
     "output_type": "display_data"
    }
   ],
   "source": [
    "# Plotting for different alpha values\n",
    "fig, ax = plt.subplots(figsize=(10,4))\n",
    "errors_df.plot(kind='line', x='i', y='e', ax=ax, color='maroon')\n",
    "plt.show()"
   ]
  },
  {
   "cell_type": "markdown",
   "metadata": {},
   "source": [
    "Another way is to actually stop early:"
   ]
  },
  {
   "cell_type": "code",
   "execution_count": 12,
   "metadata": {
    "ExecuteTime": {
     "end_time": "2020-04-27T09:16:20.894036Z",
     "start_time": "2020-04-27T09:16:20.853828Z"
    }
   },
   "outputs": [
    {
     "name": "stdout",
     "output_type": "stream",
     "text": [
      "0.168\n",
      "if\n",
      "0.168\n",
      "else\n",
      "0.12\n",
      "if\n",
      "0.136\n",
      "else\n",
      "0.128\n",
      "else\n",
      "0.12\n",
      "else\n",
      "0.128\n",
      "else\n",
      "0.12\n",
      "else\n",
      "8\n"
     ]
    }
   ],
   "source": [
    "# warm_start=True keeps existing trained trees after fit() is called\n",
    "# subsample=0.25 means use only 25% of the training instances, sampled randomly\n",
    "gbrt_growing = GradientBoostingClassifier(max_depth=2, warm_start=True, subsample=0.25) \n",
    "min_val_error = float('inf')\n",
    "\n",
    "error_going_up = 0\n",
    "\n",
    "# Stop training when the validation error does not improve for 5 consecutive iterations\n",
    "for n_estimators in range(1, 120):\n",
    "    gbrt_growing.n_estimators = n_estimators\n",
    "    gbrt_growing.fit(X_train, y_train)\n",
    "    y_pred = gbrt_growing.predict(X_test)\n",
    "    validation_error = mean_squared_error(y_test, y_pred)\n",
    "    print(validation_error)\n",
    "    if validation_error < min_val_error:\n",
    "        print('if')\n",
    "        min_val_error = validation_error\n",
    "        error_going_up = 0\n",
    "    else:\n",
    "        print('else')\n",
    "        error_going_up +=1\n",
    "        if error_going_up == 5:\n",
    "            break\n",
    "            \n",
    "print(n_estimators)"
   ]
  }
 ],
 "metadata": {
  "kernelspec": {
   "display_name": "Python 3",
   "language": "python",
   "name": "python3"
  },
  "language_info": {
   "codemirror_mode": {
    "name": "ipython",
    "version": 3
   },
   "file_extension": ".py",
   "mimetype": "text/x-python",
   "name": "python",
   "nbconvert_exporter": "python",
   "pygments_lexer": "ipython3",
   "version": "3.7.2"
  }
 },
 "nbformat": 4,
 "nbformat_minor": 4
}
