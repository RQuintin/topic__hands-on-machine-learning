{
 "cells": [
  {
   "cell_type": "markdown",
   "metadata": {},
   "source": [
    "## Chapter 7 - Ensemble Learning and Random Forests\n",
    "\n",
    "### Boosting"
   ]
  },
  {
   "cell_type": "markdown",
   "metadata": {},
   "source": [
    "Boosting is an Ensemble method that combines several weak learners to create a strong learner. The general idea is to train predictors sequentially, each trying to correct its predecessor. \n",
    "\n",
    "The most popular boosting methods are Adaboost and Gradient Boosting."
   ]
  },
  {
   "cell_type": "code",
   "execution_count": 1,
   "metadata": {
    "ExecuteTime": {
     "end_time": "2020-04-17T10:06:42.188965Z",
     "start_time": "2020-04-17T10:06:41.122687Z"
    },
    "scrolled": true
   },
   "outputs": [],
   "source": [
    "import pandas as pd\n",
    "import numpy as np\n",
    "import matplotlib.pyplot as plt\n",
    "\n",
    "from sklearn.model_selection import train_test_split\n",
    "from sklearn.metrics import accuracy_score, mean_squared_error\n",
    "\n",
    "from sklearn.tree import DecisionTreeClassifier\n",
    "from sklearn.ensemble import BaggingClassifier, RandomForestClassifier, ExtraTreesClassifier, AdaBoostClassifier, GradientBoostingClassifier\n",
    "\n",
    "from sklearn.datasets import make_moons"
   ]
  },
  {
   "cell_type": "markdown",
   "metadata": {},
   "source": [
    "One way for a new predictor to correct its predecessor is to pay more attention to the training instances that the predecessor underfitted. This results in predictors focusong more and more of the wrongly classified cases. This is the technique used by Adaboost.\n",
    "\n",
    "To build an Adaptive Boosting (Adaboost) classifier, a base classifier is trained and used to make predictions on the training set. The relative weight of misclassified training instances is then increased. A second classifier is trained using the updated weights and makes predictions on the training set, and so on.\n",
    "\n",
    "Once all predictors are trained, the ensemble makes predictions very much like bagging or pasting, but predictors that have different weights depending on their overall accuracy on the weighted training set."
   ]
  },
  {
   "cell_type": "code",
   "execution_count": 2,
   "metadata": {
    "ExecuteTime": {
     "end_time": "2020-04-17T10:06:42.200172Z",
     "start_time": "2020-04-17T10:06:42.191931Z"
    }
   },
   "outputs": [],
   "source": [
    "X, y = make_moons(n_samples=500, noise=0.30, random_state=42)\n",
    "X_train, X_test, y_train, y_test = train_test_split(X, y, random_state=42)"
   ]
  },
  {
   "cell_type": "code",
   "execution_count": 3,
   "metadata": {
    "ExecuteTime": {
     "end_time": "2020-04-17T10:06:42.655594Z",
     "start_time": "2020-04-17T10:06:42.203346Z"
    }
   },
   "outputs": [],
   "source": [
    "# Train for Adaboost classifier\n",
    "ada_clf = AdaBoostClassifier(DecisionTreeClassifier(max_depth=1), n_estimators=200, \n",
    "                            learning_rate=0.5, algorithm='SAMME.R')\n",
    "ada_clf.fit(X_train, y_train)\n",
    "y_pred = ada_clf.predict(X_test)"
   ]
  },
  {
   "cell_type": "markdown",
   "metadata": {},
   "source": [
    "A weight is applied to every example in the training data. Initially, they are all equal so $w^{(i)}=\\frac 1m$. A first predictor is trained. The errors are calculated using the error rate $r$.\n",
    "\n",
    "$$r = \\frac{\\sum_{i=1,\\hat{y}^{(i)} \\neq {y}^{(i)}}^M w^{(i)}}{\\sum_{i=1}^M w^{(i)}}$$\n",
    "The numerator is sum of weights of all incorrectly classified instances while the denominator is sum of weights of all instances.\n",
    "\n",
    "The predictor's weight $\\alpha$ is computed using $\\eta \\log \\frac{1-r}{r}$ where $\\eta$ is the learning rate.\n",
    "\n",
    "Now, a second predictor is trained on the training set again. But the weights of the training set are adjusted so the examples correctly classified have a smaller weight and those that were wrongly classified have a larger weight. To do so, \n",
    "\n",
    "$$w_\\text{new} = \\begin{cases}\\frac{w_\\text{old} \\exp(\\alpha)}{\\sum_i w^{(i)}} \\text{ if classified correctly or }\\hat{y}^{(i)} = {y}^{(i)}\\\\\\frac{w_\\text{old} \\exp(-\\alpha)}{\\sum_i w^{(i)}} \\text{ if classified incorrectly or }\\hat{y}^{(i)} \\neq {y}^{(i)}\\end{cases}$$\n",
    "\n",
    "\n",
    "With multiple predictors and weights, the predicted class is the one that receives the maximum score of the weighted votes. "
   ]
  },
  {
   "cell_type": "markdown",
   "metadata": {
    "ExecuteTime": {
     "end_time": "2020-04-17T06:56:39.092897Z",
     "start_time": "2020-04-17T06:56:38.336307Z"
    }
   },
   "source": [
    "For gradient boosted trees, it also addes predictors sequentially to the ensemble. However, instead of tweaking the weights of the instance, the method fits the new predcitor to the residual errors made by the previous predictor."
   ]
  },
  {
   "cell_type": "code",
   "execution_count": 4,
   "metadata": {
    "ExecuteTime": {
     "end_time": "2020-04-17T10:06:42.670738Z",
     "start_time": "2020-04-17T10:06:42.657977Z"
    }
   },
   "outputs": [],
   "source": [
    "# Train for Adaboost classifier\n",
    "gbt_clf = GradientBoostingClassifier(max_depth=2, n_estimators=3, learning_rate=1.0)\n",
    "gbt_clf.fit(X_train, y_train)\n",
    "y_pred = gbt_clf.predict(X_test)"
   ]
  },
  {
   "cell_type": "markdown",
   "metadata": {},
   "source": [
    "To find the optimal number of trees, you can use early stopping. A simple way to see this is to use `staged_predict()`. It returns an iterator over the predictions made by the ensemble at each stage of the training."
   ]
  },
  {
   "cell_type": "code",
   "execution_count": 5,
   "metadata": {
    "ExecuteTime": {
     "end_time": "2020-04-17T10:06:42.777169Z",
     "start_time": "2020-04-17T10:06:42.672610Z"
    }
   },
   "outputs": [
    {
     "data": {
      "text/plain": [
       "GradientBoostingClassifier(ccp_alpha=0.0, criterion='friedman_mse', init=None,\n",
       "                           learning_rate=0.1, loss='deviance', max_depth=2,\n",
       "                           max_features=None, max_leaf_nodes=None,\n",
       "                           min_impurity_decrease=0.0, min_impurity_split=None,\n",
       "                           min_samples_leaf=1, min_samples_split=2,\n",
       "                           min_weight_fraction_leaf=0.0, n_estimators=120,\n",
       "                           n_iter_no_change=None, presort='deprecated',\n",
       "                           random_state=None, subsample=1.0, tol=0.0001,\n",
       "                           validation_fraction=0.1, verbose=0,\n",
       "                           warm_start=False)"
      ]
     },
     "execution_count": 5,
     "metadata": {},
     "output_type": "execute_result"
    }
   ],
   "source": [
    "gbrt = GradientBoostingClassifier(max_depth=2, n_estimators=120)\n",
    "gbrt.fit(X_train, y_train)"
   ]
  },
  {
   "cell_type": "code",
   "execution_count": 6,
   "metadata": {
    "ExecuteTime": {
     "end_time": "2020-04-17T10:06:42.859198Z",
     "start_time": "2020-04-17T10:06:42.781795Z"
    }
   },
   "outputs": [
    {
     "name": "stdout",
     "output_type": "stream",
     "text": [
      "[0.104, 0.112, 0.104, 0.112, 0.104, 0.112, 0.104, 0.112, 0.112, 0.112, 0.112, 0.112, 0.112, 0.112, 0.112, 0.112, 0.112, 0.112, 0.112, 0.112, 0.112, 0.112, 0.088, 0.088, 0.112, 0.112, 0.088, 0.088, 0.088, 0.088]\n",
      "22\n"
     ]
    },
    {
     "data": {
      "text/plain": [
       "GradientBoostingClassifier(ccp_alpha=0.0, criterion='friedman_mse', init=None,\n",
       "                           learning_rate=0.1, loss='deviance', max_depth=2,\n",
       "                           max_features=None, max_leaf_nodes=None,\n",
       "                           min_impurity_decrease=0.0, min_impurity_split=None,\n",
       "                           min_samples_leaf=1, min_samples_split=2,\n",
       "                           min_weight_fraction_leaf=0.0, n_estimators=22,\n",
       "                           n_iter_no_change=None, presort='deprecated',\n",
       "                           random_state=None, subsample=1.0, tol=0.0001,\n",
       "                           validation_fraction=0.1, verbose=0,\n",
       "                           warm_start=False)"
      ]
     },
     "execution_count": 6,
     "metadata": {},
     "output_type": "execute_result"
    }
   ],
   "source": [
    "# After every tree is built, find the MSE of the predictions of that particular ensemble.\n",
    "errors = [mean_squared_error(y_test, y_pred_i) for y_pred_i in gbrt.staged_predict(X_test)]\n",
    "print(errors[:30])\n",
    "\n",
    "# Of the errors, find the trees that have made the minimum MSE.\n",
    "best_n_estimators = np.argmin(errors)\n",
    "\n",
    "# This means that best_n_estimators is 22. The best ensemble contains 22 trees.\n",
    "print(best_n_estimators)\n",
    "\n",
    "# Then use this number of trees as the best classifier.\n",
    "gbrt_best = GradientBoostingClassifier(max_depth=2, n_estimators=best_n_estimators)\n",
    "gbrt_best.fit(X_train, y_train)"
   ]
  },
  {
   "cell_type": "code",
   "execution_count": 7,
   "metadata": {
    "ExecuteTime": {
     "end_time": "2020-04-17T10:06:42.869532Z",
     "start_time": "2020-04-17T10:06:42.863520Z"
    }
   },
   "outputs": [],
   "source": [
    "errors_df = pd.DataFrame({'i' : range(len(errors)), 'e' : errors})"
   ]
  },
  {
   "cell_type": "code",
   "execution_count": 8,
   "metadata": {
    "ExecuteTime": {
     "end_time": "2020-04-17T10:06:43.208942Z",
     "start_time": "2020-04-17T10:06:42.873377Z"
    }
   },
   "outputs": [
    {
     "data": {
      "image/png": "[encoded data removed]",
      "text/plain": [
       "<Figure size 720x288 with 1 Axes>"
      ]
     },
     "metadata": {
      "needs_background": "light"
     },
     "output_type": "display_data"
    }
   ],
   "source": [
    "# Plotting for different alpha values\n",
    "fig, ax = plt.subplots(figsize=(10,4))\n",
    "errors_df.plot(kind='line', x='i', y='e', ax=ax, color='maroon')\n",
    "plt.show()"
   ]
  },
  {
   "cell_type": "markdown",
   "metadata": {},
   "source": [
    "Another way is to actually stop early:"
   ]
  },
  {
   "cell_type": "code",
   "execution_count": 9,
   "metadata": {
    "ExecuteTime": {
     "end_time": "2020-04-17T10:06:43.262861Z",
     "start_time": "2020-04-17T10:06:43.212152Z"
    }
   },
   "outputs": [
    {
     "name": "stdout",
     "output_type": "stream",
     "text": [
      "0.136\n",
      "if\n",
      "0.136\n",
      "else\n",
      "0.136\n",
      "else\n",
      "0.128\n",
      "if\n",
      "0.112\n",
      "if\n",
      "0.12\n",
      "else\n",
      "0.112\n",
      "else\n",
      "0.128\n",
      "else\n",
      "0.12\n",
      "else\n",
      "0.128\n",
      "else\n",
      "10\n"
     ]
    }
   ],
   "source": [
    "# warm_start=True keeps existing trained trees after fit() is called\n",
    "# subsample=0.25 means use only 25% of the training instances, sampled randomly\n",
    "gbrt_growing = GradientBoostingClassifier(max_depth=2, warm_start=True, subsample=0.25) \n",
    "min_val_error = float('inf')\n",
    "\n",
    "error_going_up = 0\n",
    "\n",
    "for n_estimators in range(1, 120):\n",
    "    gbrt_growing.n_estimators = n_estimators\n",
    "    gbrt_growing.fit(X_train, y_train)\n",
    "    y_pred = gbrt_growing.predict(X_test)\n",
    "    validation_error = mean_squared_error(y_test, y_pred)\n",
    "    print(validation_error)\n",
    "    if validation_error < min_val_error:\n",
    "        print('if')\n",
    "        min_val_error = validation_error\n",
    "        error_going_up = 0\n",
    "    else:\n",
    "        print('else')\n",
    "        error_going_up +=1\n",
    "        if error_going_up == 5:\n",
    "            break\n",
    "            \n",
    "print(n_estimators)"
   ]
  }
 ],
 "metadata": {
  "kernelspec": {
   "display_name": "Python 3",
   "language": "python",
   "name": "python3"
  },
  "language_info": {
   "codemirror_mode": {
    "name": "ipython",
    "version": 3
   },
   "file_extension": ".py",
   "mimetype": "text/x-python",
   "name": "python",
   "nbconvert_exporter": "python",
   "pygments_lexer": "ipython3",
   "version": "3.7.2"
  }
 },
 "nbformat": 4,
 "nbformat_minor": 4
}
