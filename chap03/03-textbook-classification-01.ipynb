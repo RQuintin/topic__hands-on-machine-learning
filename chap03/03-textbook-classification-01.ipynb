{
 "cells": [
  {
   "cell_type": "markdown",
   "metadata": {},
   "source": [
    "## Chapter 3 -  Classification"
   ]
  },
  {
   "cell_type": "markdown",
   "metadata": {},
   "source": [
    "### Classification Overview\n",
    "\n",
    "Classification problems arise when the response variable / prediction is qualitative. In the loans problem, default/no default is qualitative. These are also considered to be categorical variables. \n",
    "\n",
    "Predicting a response for an observation is known as classifying that observation. Sometimes, a model first predicts the probability of the observation being in the class. In this sense they do behave like regression methods.\n",
    "\n",
    "Linear regression usually are not favoured for classification problems because the classes are not considered to be ordinal. There is no natural ordering of classes most of the time. For example, if a diagnosis is to predict the classes: `seizure`, `stroke` and `overdose`, there is no natural reason to argue that one diagnosis is more mild / severe / pronounced than the others.\n",
    "\n",
    "In the following example, we use the MNIST dataset to predict the number that is written, based on the handwriting of the image."
   ]
  },
  {
   "cell_type": "code",
   "execution_count": 1,
   "metadata": {
    "ExecuteTime": {
     "end_time": "2020-05-06T04:38:02.170955Z",
     "start_time": "2020-05-06T04:38:00.763074Z"
    }
   },
   "outputs": [],
   "source": [
    "import pickle\n",
    "\n",
    "import pandas as pd\n",
    "import numpy as np\n",
    "import matplotlib\n",
    "import matplotlib.pyplot as plt\n",
    "\n",
    "from sklearn.base import BaseEstimator\n",
    "from sklearn.linear_model import SGDClassifier\n",
    "from sklearn.ensemble import RandomForestClassifier\n",
    "from sklearn.model_selection import (train_test_split, cross_val_score, \n",
    "                                     cross_val_predict)\n",
    "from sklearn.metrics import (accuracy_score, confusion_matrix, \n",
    "                             precision_score, recall_score, f1_score,\n",
    "                             classification_report,                              \n",
    "                             precision_recall_curve, roc_curve, roc_auc_score)\n",
    "\n",
    "def load(fname):\n",
    "    mnist = None\n",
    "    try:\n",
    "        with open(fname, 'rb') as f:\n",
    "            mnist = pickle.load(f)\n",
    "            return mnist\n",
    "    except FileNotFoundError:\n",
    "        from sklearn.datasets import fetch_openml\n",
    "        mnist = fetch_openml('mnist_784', version=1, cache=True)\n",
    "        with open(fname, 'wb') as f:\n",
    "            mnist = pickle.dump(mnist, f)\n",
    "        return mnist"
   ]
  },
  {
   "cell_type": "markdown",
   "metadata": {},
   "source": [
    "### Training a Binary Classifier\n",
    "\n",
    "Consider a classifier to predict if an image has the numeric value \"5\" or not. Call it a \"5-detector\". "
   ]
  },
  {
   "cell_type": "code",
   "execution_count": 2,
   "metadata": {
    "ExecuteTime": {
     "end_time": "2020-05-06T04:38:04.890194Z",
     "start_time": "2020-05-06T04:38:02.173547Z"
    }
   },
   "outputs": [],
   "source": [
    "# Ingest\n",
    "mnist_data = load('mnist.data.pkl')\n",
    "X, y = mnist_data['data'], mnist_data['target']\n",
    "X_train, X_test, y_train, y_test = train_test_split(X, y, test_size=0.15, random_state=0)\n",
    "\n",
    "# Labelling\n",
    "y_train_5 = (y_train == '5')\n",
    "y_test_5 = (y_test == '5')"
   ]
  },
  {
   "cell_type": "code",
   "execution_count": 3,
   "metadata": {
    "ExecuteTime": {
     "end_time": "2020-05-06T04:38:04.905788Z",
     "start_time": "2020-05-06T04:38:04.899329Z"
    }
   },
   "outputs": [],
   "source": [
    "# # For testing. Note that 28*28 = 784\n",
    "# print(X.shape)\n",
    "# print(y.shape)"
   ]
  },
  {
   "cell_type": "code",
   "execution_count": 4,
   "metadata": {
    "ExecuteTime": {
     "end_time": "2020-05-06T04:38:04.916902Z",
     "start_time": "2020-05-06T04:38:04.913235Z"
    }
   },
   "outputs": [],
   "source": [
    "# # For testing. Plot the image\n",
    "# sample_idk = 4\n",
    "# d_single_sample = X[sample_idk]\n",
    "# print(d_single_sample)\n",
    "# d_single_sample_img = d_single_sample.reshape(28, 28)\n",
    "# print(d_single_sample)\n",
    "# plt.imshow(d_single_sample_img, cmap=matplotlib.cm.binary, interpolation='nearest')\n",
    "# plt.axis('off')\n",
    "# plt.show()\n",
    "# print(y[sample_idk])"
   ]
  },
  {
   "cell_type": "code",
   "execution_count": 5,
   "metadata": {
    "ExecuteTime": {
     "end_time": "2020-05-06T04:38:04.924210Z",
     "start_time": "2020-05-06T04:38:04.920326Z"
    }
   },
   "outputs": [],
   "source": [
    "# Settings\n",
    "kfold = 3"
   ]
  },
  {
   "cell_type": "code",
   "execution_count": 6,
   "metadata": {
    "ExecuteTime": {
     "end_time": "2020-05-06T04:38:15.537317Z",
     "start_time": "2020-05-06T04:38:04.928036Z"
    },
    "scrolled": true
   },
   "outputs": [
    {
     "data": {
      "text/plain": [
       "SGDClassifier(alpha=0.0001, average=False, class_weight=None,\n",
       "              early_stopping=False, epsilon=0.1, eta0=0.0, fit_intercept=True,\n",
       "              l1_ratio=0.15, learning_rate='optimal', loss='hinge',\n",
       "              max_iter=1000, n_iter_no_change=5, n_jobs=None, penalty='l2',\n",
       "              power_t=0.5, random_state=0, shuffle=True, tol=0.001,\n",
       "              validation_fraction=0.1, verbose=0, warm_start=False)"
      ]
     },
     "execution_count": 6,
     "metadata": {},
     "output_type": "execute_result"
    }
   ],
   "source": [
    "# Train binary classifier\n",
    "sgd_clf = SGDClassifier(random_state=0)\n",
    "sgd_clf.fit(X_train, y_train_5)"
   ]
  },
  {
   "cell_type": "markdown",
   "metadata": {},
   "source": [
    "After training, we perform the prediction on the test set and can compare it with the original labels."
   ]
  },
  {
   "cell_type": "code",
   "execution_count": 7,
   "metadata": {
    "ExecuteTime": {
     "end_time": "2020-05-06T04:38:15.544378Z",
     "start_time": "2020-05-06T04:38:15.539420Z"
    },
    "scrolled": true
   },
   "outputs": [
    {
     "name": "stdout",
     "output_type": "stream",
     "text": [
      "[False False False  True  True False  True False False False]\n",
      "[False False False  True False False  True False False False]\n"
     ]
    }
   ],
   "source": [
    "# Predict for the 5-dectector\n",
    "print(y_test_5[50:60])\n",
    "print(sgd_clf.predict(X_test[50:60]))"
   ]
  },
  {
   "cell_type": "markdown",
   "metadata": {},
   "source": [
    "### Performance Measures\n",
    "<b> Accuracy</b> - Consider the accuracy of the SGD classifier."
   ]
  },
  {
   "cell_type": "code",
   "execution_count": 8,
   "metadata": {
    "ExecuteTime": {
     "end_time": "2020-05-06T04:38:15.565601Z",
     "start_time": "2020-05-06T04:38:15.548119Z"
    }
   },
   "outputs": [
    {
     "name": "stdout",
     "output_type": "stream",
     "text": [
      "0.9625714285714285\n"
     ]
    }
   ],
   "source": [
    "y_predict_5 = sgd_clf.predict(X_test)\n",
    "print(accuracy_score(y_test_5, y_predict_5))"
   ]
  },
  {
   "cell_type": "markdown",
   "metadata": {},
   "source": [
    "However, let's also look at the nature of this dataset and performace of the Dummy classifer that always predicts `False`."
   ]
  },
  {
   "cell_type": "code",
   "execution_count": 9,
   "metadata": {
    "ExecuteTime": {
     "end_time": "2020-05-06T04:38:15.584828Z",
     "start_time": "2020-05-06T04:38:15.569756Z"
    }
   },
   "outputs": [
    {
     "name": "stdout",
     "output_type": "stream",
     "text": [
      "False    0.912\n",
      "True     0.088\n",
      "dtype: float64\n"
     ]
    }
   ],
   "source": [
    "print(pd.Series(y_test_5).value_counts()/len(y_test_5))"
   ]
  },
  {
   "cell_type": "code",
   "execution_count": 10,
   "metadata": {
    "ExecuteTime": {
     "end_time": "2020-05-06T04:38:15.595229Z",
     "start_time": "2020-05-06T04:38:15.587341Z"
    }
   },
   "outputs": [
    {
     "name": "stdout",
     "output_type": "stream",
     "text": [
      "0.912\n"
     ]
    }
   ],
   "source": [
    "class Dummy5Classifier(BaseEstimator):\n",
    "    \n",
    "    def fit(self, X, y=None):\n",
    "        pass\n",
    "    \n",
    "    def predict(self, X):\n",
    "        return np.zeros((len(X), 1), dtype=bool)\n",
    "    \n",
    "dummy_clf = Dummy5Classifier()\n",
    "dummy_clf.fit(X_train, y_train_5)\n",
    "\n",
    "y_predict_5_2 = dummy_clf.predict(X_test)\n",
    "print(accuracy_score(y_test_5, y_predict_5_2))"
   ]
  },
  {
   "cell_type": "markdown",
   "metadata": {},
   "source": [
    "The dataset is mostly dominated by non-\"5\" values. This shows that it is dominated by `False` and can be considered a skewed dataset. \n",
    "\n",
    "Since only 8.8% of the observations are \"5\", a dummy classifier results in an error rate of 8.8% The `SGDClassifier` has an error rate of 3.7% which is only a bit lower than the dummy classifier's error rate. Hence, accuracy is generally not preferred as a performance measure for this behaviour of datasets.\n",
    "\n",
    "<b>Confusion Matrix</b> - A binary classifier can make two types of errors: If it assigns a \"5\" result to a non-\"5\" prediction, we say that it predicted a false negative. Conversely, if it assigns a non-\"5\" result to a \"5\" result, it predicted a false positive. For completeness, a true positive is when it correctly assigns a \"5\" result and a true negative is when it correctly assigns a non-\"5\" result. \n",
    "\n",
    "A confusion matrix can help to see these values more obviously."
   ]
  },
  {
   "cell_type": "code",
   "execution_count": 11,
   "metadata": {
    "ExecuteTime": {
     "end_time": "2020-05-06T04:38:15.611591Z",
     "start_time": "2020-05-06T04:38:15.597764Z"
    }
   },
   "outputs": [
    {
     "data": {
      "text/plain": [
       "array([[9522,   54],\n",
       "       [ 339,  585]])"
      ]
     },
     "execution_count": 11,
     "metadata": {},
     "output_type": "execute_result"
    }
   ],
   "source": [
    "confusion_matrix(y_test_5, y_predict_5)"
   ]
  },
  {
   "cell_type": "markdown",
   "metadata": {},
   "source": [
    "<b>Sensitivity / Recall, Specificity / True Negative Rate</b>\n",
    "\n",
    "From here, we can see the error rate amongst the `True` is about 8.4%. In medicine and biology, we use <u>sensitivity</u> and <u>specificity</u> to measure the performance of a classifier. In the loans problem, sensitivity is the percentage of defaulters identified, while specificity (true negative rate) is the percentage of non defaulters correctly identified. Sensitivity (true positive rate) is also known as recall. \n",
    "\n",
    "- $1-\\text{specificity}$ is the false positive rate, also known as Type I error\n",
    "- $1 -\\text{ recall}$ is also known as type II error"
   ]
  },
  {
   "cell_type": "code",
   "execution_count": 12,
   "metadata": {
    "ExecuteTime": {
     "end_time": "2020-05-06T04:38:15.625146Z",
     "start_time": "2020-05-06T04:38:15.614285Z"
    }
   },
   "outputs": [
    {
     "data": {
      "text/plain": [
       "0.6331168831168831"
      ]
     },
     "execution_count": 12,
     "metadata": {},
     "output_type": "execute_result"
    }
   ],
   "source": [
    "recall_score(y_test_5, y_predict_5)"
   ]
  },
  {
   "cell_type": "markdown",
   "metadata": {},
   "source": [
    "<b>Precision, Recall, F1 Score</b>\n",
    "\n",
    "Beyond that, other performance measures can be used.\n",
    "\n",
    "Precision is $\\frac{TP}{TP+FP}$, of all you predicted class 1, how many were predicted wrongly?\n",
    "\n",
    "Recall is $\\frac{TP}{TP+FN}$, of all samples that are class 1, how many were predicted wrongly?\n",
    "\n",
    "F1 score is harmonic mean of Precision & Recall. $$F_1 = \\frac{2}{\\frac{1}{precision} + \\frac{1}{recall}}$$\n",
    "\n",
    "A harmonic mean gives more weight to low values. Hence, the classifier will only get a high F1 score if both precision & recall are high."
   ]
  },
  {
   "cell_type": "code",
   "execution_count": 13,
   "metadata": {
    "ExecuteTime": {
     "end_time": "2020-05-06T04:38:15.644649Z",
     "start_time": "2020-05-06T04:38:15.628062Z"
    }
   },
   "outputs": [
    {
     "name": "stdout",
     "output_type": "stream",
     "text": [
      "0.9154929577464789\n",
      "0.6331168831168831\n",
      "0.7485604606525911\n"
     ]
    }
   ],
   "source": [
    "print(precision_score(y_test_5, y_predict_5))\n",
    "print(recall_score(y_test_5, y_predict_5))\n",
    "print(f1_score(y_test_5, y_predict_5))"
   ]
  },
  {
   "cell_type": "markdown",
   "metadata": {},
   "source": [
    "Most classifiers computes a score / probability score based on a decision function. If this score is smaller than a threshold, the observation is assigned the negative class. Else it is assigned the positive class. We can see that as the recall improves (less false negatives), the precision will fall (more false positives)\n",
    "\n",
    "One way to observe this is the plot the precision and recall across all the thresholds and see how the values interact."
   ]
  },
  {
   "cell_type": "code",
   "execution_count": 14,
   "metadata": {
    "ExecuteTime": {
     "end_time": "2020-05-06T04:38:15.710632Z",
     "start_time": "2020-05-06T04:38:15.647101Z"
    }
   },
   "outputs": [],
   "source": [
    "# Get precisions and recalls on different thresholds\n",
    "y_scores = sgd_clf.decision_function(X_train)\n",
    "precisions, recalls, thresholds = precision_recall_curve(y_train_5, y_scores)\n",
    "prt_df = pd.DataFrame({'precision' : precisions[:-1], 'recall' : recalls[:-1], 'threshold' : thresholds})"
   ]
  },
  {
   "cell_type": "code",
   "execution_count": 15,
   "metadata": {
    "ExecuteTime": {
     "end_time": "2020-05-06T04:38:16.080126Z",
     "start_time": "2020-05-06T04:38:15.712518Z"
    }
   },
   "outputs": [
    {
     "data": {
      "text/plain": [
       "(0.0, 1.0)"
      ]
     },
     "execution_count": 15,
     "metadata": {},
     "output_type": "execute_result"
    },
    {
     "data": {
      "image/png": "[encoded data removed]",
      "text/plain": [
       "<Figure size 720x576 with 1 Axes>"
      ]
     },
     "metadata": {
      "needs_background": "light"
     },
     "output_type": "display_data"
    }
   ],
   "source": [
    "# Plot precision & recall against threshold\n",
    "fig = plt.figure(figsize=(10,8))\n",
    "ax = fig.add_subplot(111)\n",
    "prt_df.plot(x='threshold', y='precision', ax=ax, color='green', style='--')\n",
    "prt_df.plot(x='threshold', y='recall', ax=ax, color='blue', style='-')\n",
    "ax.grid()\n",
    "ax.set_ylim(0,1.0)"
   ]
  },
  {
   "cell_type": "markdown",
   "metadata": {},
   "source": [
    "Alternatively, directly plot precision against recall to select the best threshold."
   ]
  },
  {
   "cell_type": "code",
   "execution_count": 16,
   "metadata": {
    "ExecuteTime": {
     "end_time": "2020-05-06T04:38:16.310907Z",
     "start_time": "2020-05-06T04:38:16.082445Z"
    }
   },
   "outputs": [
    {
     "data": {
      "image/png": "[encoded data removed]",
      "text/plain": [
       "<Figure size 504x504 with 1 Axes>"
      ]
     },
     "metadata": {
      "needs_background": "light"
     },
     "output_type": "display_data"
    }
   ],
   "source": [
    "# Plot precision-recall curve\n",
    "fig = plt.figure(figsize=(7,7))\n",
    "ax = fig.add_subplot(111)\n",
    "prt_df.plot(x='recall', y='precision', ax=ax, color='blue', style='--')\n",
    "ax.set_xlim(0,1.1)\n",
    "ax.set_ylim(0,1.1)\n",
    "ax.grid()\n",
    "ax.set_ylabel('precision')\n",
    "ax.legend([])\n",
    "plt.show()"
   ]
  },
  {
   "cell_type": "markdown",
   "metadata": {},
   "source": [
    "<hr>\n",
    "\n",
    "<b>ROC Curve, AUC-ROC</b> \n",
    "\n",
    "The ROC curve is popular to simultaneously display the two types of errors for all possible thresholds. The name ROC comes from communications theory, standing for Receiver Operating Characteristics. The dotted line represents the \"random\" classifier."
   ]
  },
  {
   "cell_type": "code",
   "execution_count": 17,
   "metadata": {
    "ExecuteTime": {
     "end_time": "2020-05-06T04:38:16.330588Z",
     "start_time": "2020-05-06T04:38:16.313431Z"
    }
   },
   "outputs": [],
   "source": [
    "# Obtain the probability scores of the SGD Classifier\n",
    "y_scores_5 = sgd_clf.decision_function(X_test)\n",
    "\n",
    "# Obtain ROC values\n",
    "fpr, tpr, thresholds = roc_curve(y_test_5, y_scores_5)\n",
    "roc_df = pd.DataFrame({'fpr' : fpr, 'tpr' : tpr, 'thresholds' : thresholds})"
   ]
  },
  {
   "cell_type": "code",
   "execution_count": 18,
   "metadata": {
    "ExecuteTime": {
     "end_time": "2020-05-06T04:38:16.534454Z",
     "start_time": "2020-05-06T04:38:16.332813Z"
    }
   },
   "outputs": [
    {
     "data": {
      "image/png": "[encoded data removed]",
      "text/plain": [
       "<Figure size 432x432 with 1 Axes>"
      ]
     },
     "metadata": {
      "needs_background": "light"
     },
     "output_type": "display_data"
    }
   ],
   "source": [
    "# Plot precision-recall curve\n",
    "fig = plt.figure(figsize=(6,6))\n",
    "ax = fig.add_subplot(111)\n",
    "roc_df.plot(x='fpr', y='tpr', ax=ax, color='blue', style='-')\n",
    "pd.DataFrame({'x' : [0.0, 1.0], 'y' : [0.0, 1.0]}).plot(x='x', y='y', style='--', color='GAINSBORO', ax=ax)\n",
    "ax.set_xlim(0,1.0)\n",
    "ax.set_ylim(0,1.0)\n",
    "ax.grid()\n",
    "plt.show()"
   ]
  },
  {
   "cell_type": "code",
   "execution_count": null,
   "metadata": {
    "ExecuteTime": {
     "start_time": "2020-05-06T04:38:00.817Z"
    }
   },
   "outputs": [],
   "source": [
    "# Comparing with a random forest classifier\n",
    "forest_clf = RandomForestClassifier(random_state=0)\n",
    "forest_clf.fit(X_train, y_train_5)"
   ]
  },
  {
   "cell_type": "code",
   "execution_count": null,
   "metadata": {
    "ExecuteTime": {
     "start_time": "2020-05-06T04:38:00.819Z"
    }
   },
   "outputs": [],
   "source": [
    "# Obtain the probability scores of the RandomForest classifier\n",
    "y_scores_52 = forest_clf.predict_proba(X_test)\n",
    "\n",
    "# Obtain ROC values for RandomForest classifier\n",
    "fpr2, tpr2, thresholds2 = roc_curve(y_test_5, y_scores_52[:,1])\n",
    "roc_df2 = pd.DataFrame({'fpr' : fpr2, 'tpr' : tpr2, 'thresholds' : thresholds2})"
   ]
  },
  {
   "cell_type": "code",
   "execution_count": null,
   "metadata": {
    "ExecuteTime": {
     "start_time": "2020-05-06T04:38:00.822Z"
    }
   },
   "outputs": [],
   "source": [
    "# Plot precision-recall curve\n",
    "fig = plt.figure(figsize=(6,6))\n",
    "ax = fig.add_subplot(111)\n",
    "roc_df2.plot(x='fpr', y='tpr', ax=ax, color='red', style='-')\n",
    "roc_df.plot(x='fpr', y='tpr', ax=ax, color='blue', style='--')\n",
    "pd.DataFrame({'x' : [0.0, 1.0], 'y' : [0.0, 1.0]}).plot(x='x', y='y', style='--', color='GAINSBORO', ax=ax)\n",
    "ax.set_xlim(0,1.0)\n",
    "ax.set_ylim(0,1.0)\n",
    "ax.grid()\n",
    "ax.legend(['RandomForest', 'SGD', 'Random Guess'])\n",
    "plt.show()"
   ]
  },
  {
   "cell_type": "markdown",
   "metadata": {},
   "source": [
    "The overall performance of a classifier summed over all possible thresholds gives the area under the ROC curve. The larger the AUC-ROC, the better the classifier."
   ]
  },
  {
   "cell_type": "code",
   "execution_count": null,
   "metadata": {
    "ExecuteTime": {
     "start_time": "2020-05-06T04:38:00.824Z"
    }
   },
   "outputs": [],
   "source": [
    "# From here, we can conclude the RandomForest classifier has a better performance than the SGDClassifier\n",
    "print(roc_auc_score(y_test_5,y_predict_5))\n",
    "print(roc_auc_score(y_test_5, y_scores_52[:,1]))"
   ]
  }
 ],
 "metadata": {
  "kernelspec": {
   "display_name": "Python 3",
   "language": "python",
   "name": "python3"
  },
  "language_info": {
   "codemirror_mode": {
    "name": "ipython",
    "version": 3
   },
   "file_extension": ".py",
   "mimetype": "text/x-python",
   "name": "python",
   "nbconvert_exporter": "python",
   "pygments_lexer": "ipython3",
   "version": "3.7.2"
  }
 },
 "nbformat": 4,
 "nbformat_minor": 4
}
