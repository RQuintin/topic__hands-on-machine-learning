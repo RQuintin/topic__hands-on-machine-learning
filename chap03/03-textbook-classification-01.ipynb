{
 "cells": [
  {
   "cell_type": "markdown",
   "metadata": {},
   "source": [
    "## Chapter 3 -  End-to-End Machine Learning Project\n",
    "## Load Data"
   ]
  },
  {
   "cell_type": "code",
   "execution_count": 1,
   "metadata": {
    "ExecuteTime": {
     "end_time": "2020-04-13T03:52:26.666162Z",
     "start_time": "2020-04-13T03:52:25.359706Z"
    }
   },
   "outputs": [],
   "source": [
    "import pickle\n",
    "\n",
    "import pandas as pd\n",
    "import numpy as np\n",
    "import matplotlib\n",
    "import matplotlib.pyplot as plt\n",
    "\n",
    "from sklearn.linear_model import SGDClassifier\n",
    "from sklearn.model_selection import train_test_split, cross_val_score, cross_val_predict\n",
    "from sklearn.metrics import (precision_score, \n",
    "                             recall_score, \n",
    "                             classification_report, \n",
    "                             confusion_matrix, f1_score, \n",
    "                             precision_recall_curve)\n",
    "from sklearn.base import BaseEstimator\n",
    "\n",
    "def load(fname):\n",
    "    mnist = None\n",
    "    try:\n",
    "        with open(fname, 'rb') as f:\n",
    "            mnist = pickle.load(f)\n",
    "            return mnist\n",
    "    except FileNotFoundError:\n",
    "        from sklearn.datasets import fetch_openml\n",
    "        mnist = fetch_openml('mnist_784', version=1, cache=True)\n",
    "        with open(fname, 'wb') as f:\n",
    "            mnist = pickle.dump(mnist, f)\n",
    "        return mnist"
   ]
  },
  {
   "cell_type": "markdown",
   "metadata": {},
   "source": [
    "### Ingest"
   ]
  },
  {
   "cell_type": "code",
   "execution_count": 2,
   "metadata": {
    "ExecuteTime": {
     "end_time": "2020-04-13T03:52:27.481242Z",
     "start_time": "2020-04-13T03:52:26.669376Z"
    }
   },
   "outputs": [],
   "source": [
    "mnist_data = load('mnist.data.pkl')\n",
    "X, y = mnist_data['data'], mnist_data['target']"
   ]
  },
  {
   "cell_type": "code",
   "execution_count": 3,
   "metadata": {
    "ExecuteTime": {
     "end_time": "2020-04-13T03:52:27.487748Z",
     "start_time": "2020-04-13T03:52:27.484388Z"
    }
   },
   "outputs": [],
   "source": [
    "# # For testing. Note that 28*28 = 784\n",
    "# print(X.shape)\n",
    "# print(y.shape)"
   ]
  },
  {
   "cell_type": "code",
   "execution_count": 4,
   "metadata": {
    "ExecuteTime": {
     "end_time": "2020-04-13T03:52:27.496846Z",
     "start_time": "2020-04-13T03:52:27.491630Z"
    }
   },
   "outputs": [],
   "source": [
    "# # For testing\n",
    "# sample_idk = 4\n",
    "# d_single_sample = X[sample_idk]\n",
    "# print(d_single_sample)\n",
    "# d_single_sample_img = d_single_sample.reshape(28, 28)\n",
    "# print(d_single_sample)\n",
    "# plt.imshow(d_single_sample_img, cmap=matplotlib.cm.binary, interpolation='nearest')\n",
    "# plt.axis('off')\n",
    "# plt.show()\n",
    "# print(y[sample_idk])"
   ]
  },
  {
   "cell_type": "markdown",
   "metadata": {},
   "source": [
    "Train Test Split"
   ]
  },
  {
   "cell_type": "code",
   "execution_count": 5,
   "metadata": {
    "ExecuteTime": {
     "end_time": "2020-04-13T03:52:28.726742Z",
     "start_time": "2020-04-13T03:52:27.499844Z"
    }
   },
   "outputs": [],
   "source": [
    "X_train, X_test, y_train, y_test = train_test_split(X, y, test_size=0.15, random_state=0)"
   ]
  },
  {
   "cell_type": "code",
   "execution_count": 6,
   "metadata": {
    "ExecuteTime": {
     "end_time": "2020-04-13T03:52:28.736202Z",
     "start_time": "2020-04-13T03:52:28.729940Z"
    }
   },
   "outputs": [],
   "source": [
    "# # For testing\n",
    "# display(pd.DataFrame({'train' : pd.Series(y_train).value_counts()/len(y_train)*100,\n",
    "#                     'test' : pd.Series(y_test).value_counts()/len(y_test)*100}))"
   ]
  },
  {
   "cell_type": "markdown",
   "metadata": {},
   "source": [
    "Binary Classifier"
   ]
  },
  {
   "cell_type": "code",
   "execution_count": 7,
   "metadata": {
    "ExecuteTime": {
     "end_time": "2020-04-13T03:52:28.747559Z",
     "start_time": "2020-04-13T03:52:28.740616Z"
    }
   },
   "outputs": [],
   "source": [
    "y_train_5 = (y_train == '5')\n",
    "y_test_5 = (y_test == '5')"
   ]
  },
  {
   "cell_type": "code",
   "execution_count": 8,
   "metadata": {
    "ExecuteTime": {
     "end_time": "2020-04-13T03:52:38.951457Z",
     "start_time": "2020-04-13T03:52:28.753667Z"
    },
    "scrolled": true
   },
   "outputs": [
    {
     "data": {
      "text/plain": [
       "SGDClassifier(alpha=0.0001, average=False, class_weight=None,\n",
       "              early_stopping=False, epsilon=0.1, eta0=0.0, fit_intercept=True,\n",
       "              l1_ratio=0.15, learning_rate='optimal', loss='hinge',\n",
       "              max_iter=1000, n_iter_no_change=5, n_jobs=None, penalty='l2',\n",
       "              power_t=0.5, random_state=0, shuffle=True, tol=0.001,\n",
       "              validation_fraction=0.1, verbose=0, warm_start=False)"
      ]
     },
     "execution_count": 8,
     "metadata": {},
     "output_type": "execute_result"
    }
   ],
   "source": [
    "# Create model, train & evaluate\n",
    "sgd_clf = SGDClassifier(random_state=0)\n",
    "sgd_clf.fit(X_train, y_train_5)"
   ]
  },
  {
   "cell_type": "code",
   "execution_count": 9,
   "metadata": {
    "ExecuteTime": {
     "end_time": "2020-04-13T03:52:40.619814Z",
     "start_time": "2020-04-13T03:52:38.954572Z"
    }
   },
   "outputs": [
    {
     "name": "stdout",
     "output_type": "stream",
     "text": [
      "[0.94285714 0.92371429 0.96028571] 0.9422857142857143 0.014935689804356977\n"
     ]
    }
   ],
   "source": [
    "kfold = 3\n",
    "cvs1 = cross_val_score(estimator=sgd_clf, X=X_test, y=y_test_5, cv=kfold)\n",
    "print(cvs1, cvs1.mean(), cvs1.std())"
   ]
  },
  {
   "cell_type": "markdown",
   "metadata": {},
   "source": [
    "It shows that the estimator gives a 94% accuracy, very good! Now compare this with the dummy classifier"
   ]
  },
  {
   "cell_type": "code",
   "execution_count": 10,
   "metadata": {
    "ExecuteTime": {
     "end_time": "2020-04-13T03:52:40.627911Z",
     "start_time": "2020-04-13T03:52:40.622314Z"
    }
   },
   "outputs": [],
   "source": [
    "class Dummy5Classifier(BaseEstimator):\n",
    "    \n",
    "    def fit(self, X, y=None):\n",
    "        pass\n",
    "    \n",
    "    def predict(self, X):\n",
    "        return np.zeros((len(X), 1), dtype=bool)"
   ]
  },
  {
   "cell_type": "code",
   "execution_count": 11,
   "metadata": {
    "ExecuteTime": {
     "end_time": "2020-04-13T03:52:40.634789Z",
     "start_time": "2020-04-13T03:52:40.630944Z"
    }
   },
   "outputs": [],
   "source": [
    "dummy_clf = Dummy5Classifier()\n",
    "dummy_clf.fit(X_train, y_train)"
   ]
  },
  {
   "cell_type": "code",
   "execution_count": 12,
   "metadata": {
    "ExecuteTime": {
     "end_time": "2020-04-13T03:52:40.738137Z",
     "start_time": "2020-04-13T03:52:40.638728Z"
    }
   },
   "outputs": [
    {
     "name": "stdout",
     "output_type": "stream",
     "text": [
      "[0.91628571 0.91085714 0.90885714] 0.9119999999999999 0.0031385251530065016\n"
     ]
    }
   ],
   "source": [
    "cvs2 = cross_val_score(estimator=dummy_clf, X=X_test, y=y_test_5, cv=kfold, scoring='accuracy')\n",
    "print(cvs2, cvs2.mean(), cvs2.std())"
   ]
  },
  {
   "cell_type": "markdown",
   "metadata": {},
   "source": [
    "Dummy classifier gave a 91% accuracy, which makes sense. If 91% of the images are not 5, then, by using rules, predicting \"not 5\" alone gives already a high accuracy. Hence, accuracy is generally not preferred as a performance measures when the classifier has skewed datasets."
   ]
  },
  {
   "cell_type": "code",
   "execution_count": 13,
   "metadata": {
    "ExecuteTime": {
     "end_time": "2020-04-13T03:52:42.405575Z",
     "start_time": "2020-04-13T03:52:40.740634Z"
    }
   },
   "outputs": [],
   "source": [
    "# cross_val_predict gives the prediction result of each sample when it\n",
    "# is in the test set group\n",
    "ypred2 = cross_val_predict(sgd_clf, X_test, y_test_5, cv=3)"
   ]
  },
  {
   "cell_type": "markdown",
   "metadata": {},
   "source": [
    "Precision is $\\frac{TP}{TP+FP}$, of all you predicted class 1, how many were predicted wrongly?\n",
    "\n",
    "Recall is $\\frac{TP}{TP+FN}$, of all samples that are class 1, how many were predicted wrongly?"
   ]
  },
  {
   "cell_type": "code",
   "execution_count": 14,
   "metadata": {
    "ExecuteTime": {
     "end_time": "2020-04-13T03:52:42.431969Z",
     "start_time": "2020-04-13T03:52:42.407478Z"
    }
   },
   "outputs": [
    {
     "name": "stdout",
     "output_type": "stream",
     "text": [
      "[[9118  458]\n",
      " [ 148  776]]\n",
      "0.6288492706645057\n",
      "0.8398268398268398\n"
     ]
    }
   ],
   "source": [
    "print(confusion_matrix(y_test_5, ypred2)) # first value takes row, 2nd value takes columns\n",
    "print(precision_score(y_test_5, ypred2)) \n",
    "print(recall_score(y_test_5, ypred2))"
   ]
  },
  {
   "cell_type": "markdown",
   "metadata": {},
   "source": [
    "F1 score is harmonic mean of Precision & Recall. $$F_1 = \\frac{2}{\\frac{1}{precision} + \\frac{1}{recall}}$$A harmonic mean gives more weight to low values. Hence, the classifier will only get a high F1 score if both precision & recall are high."
   ]
  },
  {
   "cell_type": "code",
   "execution_count": 15,
   "metadata": {
    "ExecuteTime": {
     "end_time": "2020-04-13T03:52:42.445253Z",
     "start_time": "2020-04-13T03:52:42.434776Z"
    }
   },
   "outputs": [
    {
     "name": "stdout",
     "output_type": "stream",
     "text": [
      "0.7191844300278035\n"
     ]
    }
   ],
   "source": [
    "print(f1_score(y_test_5, ypred2))"
   ]
  },
  {
   "cell_type": "markdown",
   "metadata": {},
   "source": [
    "In some contexts you prefer better precision, while in others, you prefer higher recall. You cannot have it both ways. A higher precision leads to a lower recall and vice versa. This is called the precision/recall tradeoff."
   ]
  },
  {
   "cell_type": "code",
   "execution_count": 16,
   "metadata": {
    "ExecuteTime": {
     "end_time": "2020-04-13T03:52:42.471808Z",
     "start_time": "2020-04-13T03:52:42.448559Z"
    },
    "scrolled": true
   },
   "outputs": [],
   "source": [
    "ypredscores3 = sgd_clf.decision_function(X_test)"
   ]
  },
  {
   "cell_type": "code",
   "execution_count": 17,
   "metadata": {
    "ExecuteTime": {
     "end_time": "2020-04-13T03:52:42.511679Z",
     "start_time": "2020-04-13T03:52:42.476729Z"
    }
   },
   "outputs": [
    {
     "name": "stdout",
     "output_type": "stream",
     "text": [
      "[[9522   54]\n",
      " [ 339  585]]\n",
      "0.9154929577464789\n",
      "0.6331168831168831\n",
      "0.7485604606525911\n"
     ]
    }
   ],
   "source": [
    "# In SGD Classifer, you can access the decision function scores and then decide the prediction result based \n",
    "# on a preset threshold\n",
    "threshold3 = 0\n",
    "ypred3a = (ypredscores3 > threshold3)\n",
    "\n",
    "print(confusion_matrix(y_test_5, ypred3a)) \n",
    "print(precision_score(y_test_5, ypred3a)) \n",
    "print(recall_score(y_test_5, ypred3a))\n",
    "print(f1_score(y_test_5, ypred3a))"
   ]
  },
  {
   "cell_type": "code",
   "execution_count": 18,
   "metadata": {
    "ExecuteTime": {
     "end_time": "2020-04-13T03:52:42.557363Z",
     "start_time": "2020-04-13T03:52:42.514439Z"
    }
   },
   "outputs": [
    {
     "name": "stdout",
     "output_type": "stream",
     "text": [
      "[[9573    3]\n",
      " [ 750  174]]\n",
      "0.9830508474576272\n",
      "0.18831168831168832\n",
      "0.3160762942779292\n"
     ]
    }
   ],
   "source": [
    "threshold3 = 5000\n",
    "ypred3b = (ypredscores3 > threshold3)\n",
    "\n",
    "print(confusion_matrix(y_test_5, ypred3b)) \n",
    "print(precision_score(y_test_5, ypred3b)) \n",
    "print(recall_score(y_test_5, ypred3b))\n",
    "print(f1_score(y_test_5, ypred3b))"
   ]
  },
  {
   "cell_type": "code",
   "execution_count": 19,
   "metadata": {
    "ExecuteTime": {
     "end_time": "2020-04-13T03:52:44.262785Z",
     "start_time": "2020-04-13T03:52:42.559686Z"
    }
   },
   "outputs": [],
   "source": [
    "# Get decision function\n",
    "y_scores = cross_val_predict(sgd_clf, X_test, y_test_5, cv=3, method='decision_function')"
   ]
  },
  {
   "cell_type": "code",
   "execution_count": 20,
   "metadata": {
    "ExecuteTime": {
     "end_time": "2020-04-13T03:52:44.632367Z",
     "start_time": "2020-04-13T03:52:44.264513Z"
    }
   },
   "outputs": [
    {
     "data": {
      "text/plain": [
       "<matplotlib.axes._subplots.AxesSubplot at 0x13c9ecb38>"
      ]
     },
     "execution_count": 20,
     "metadata": {},
     "output_type": "execute_result"
    },
    {
     "data": {
      "image/png": "[encoded data removed]",
      "text/plain": [
       "<Figure size 720x360 with 1 Axes>"
      ]
     },
     "metadata": {
      "needs_background": "light"
     },
     "output_type": "display_data"
    }
   ],
   "source": [
    "# Plot precision-recall curve\n",
    "precisions, recalls, thresholds = precision_recall_curve(y_test_5, y_scores)\n",
    "prt_df = pd.DataFrame({'precision' : precisions[:-1], 'recall' : recalls[:-1], 't' : thresholds})\n",
    "fig = plt.figure(figsize=(10,5))\n",
    "ax = fig.add_subplot(111)\n",
    "prt_df.plot(x='t', y='precision', ax=ax, color='green', style='--')\n",
    "prt_df.plot(x='t', y='recall', ax=ax, color='blue', style='-')"
   ]
  }
 ],
 "metadata": {
  "kernelspec": {
   "display_name": "Python 3",
   "language": "python",
   "name": "python3"
  },
  "language_info": {
   "codemirror_mode": {
    "name": "ipython",
    "version": 3
   },
   "file_extension": ".py",
   "mimetype": "text/x-python",
   "name": "python",
   "nbconvert_exporter": "python",
   "pygments_lexer": "ipython3",
   "version": "3.7.2"
  }
 },
 "nbformat": 4,
 "nbformat_minor": 4
}
