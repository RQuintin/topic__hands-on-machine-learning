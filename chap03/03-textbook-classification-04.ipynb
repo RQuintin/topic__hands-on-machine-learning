{
 "cells": [
  {
   "cell_type": "markdown",
   "metadata": {},
   "source": [
    "## Chapter 3 -  Classification\n",
    "## Multilabel & Multioutput Classification"
   ]
  },
  {
   "cell_type": "code",
   "execution_count": 1,
   "metadata": {
    "ExecuteTime": {
     "end_time": "2020-04-13T09:09:08.948660Z",
     "start_time": "2020-04-13T09:09:07.381479Z"
    }
   },
   "outputs": [],
   "source": [
    "import pickle\n",
    "\n",
    "import pandas as pd\n",
    "import numpy as np\n",
    "import matplotlib\n",
    "import matplotlib.pyplot as plt\n",
    "\n",
    "from sklearn.neighbors import KNeighborsClassifier\n",
    "from sklearn.model_selection import train_test_split, cross_val_score, cross_val_predict\n",
    "from sklearn.metrics import (precision_score, \n",
    "                             recall_score, \n",
    "                             classification_report, \n",
    "                             confusion_matrix, f1_score, \n",
    "                             precision_recall_curve, roc_curve, roc_auc_score)\n",
    "\n",
    "def load(fname):\n",
    "    mnist = None\n",
    "    try:\n",
    "        with open(fname, 'rb') as f:\n",
    "            mnist = pickle.load(f)\n",
    "            return mnist\n",
    "    except FileNotFoundError:\n",
    "        from sklearn.datasets import fetch_openml\n",
    "        mnist = fetch_openml('mnist_784', version=1, cache=True)\n",
    "        with open(fname, 'wb') as f:\n",
    "            mnist = pickle.dump(mnist, f)\n",
    "        return mnist"
   ]
  },
  {
   "cell_type": "markdown",
   "metadata": {},
   "source": [
    "### Ingest"
   ]
  },
  {
   "cell_type": "code",
   "execution_count": 2,
   "metadata": {
    "ExecuteTime": {
     "end_time": "2020-04-13T09:09:11.315811Z",
     "start_time": "2020-04-13T09:09:09.116283Z"
    }
   },
   "outputs": [],
   "source": [
    "mnist_data = load('mnist.data.pkl')\n",
    "X, y = mnist_data['data'], mnist_data['target']\n",
    "X_train, X_test, y_train, y_test = train_test_split(X, y, test_size=0.15, random_state=0)\n",
    "y_train_int, y_test_int = y_train.astype(int), y_test.astype(int)\n",
    "\n",
    "# Large\n",
    "y_train_large = (y_train_int >= 7)\n",
    "y_train_odd = (y_train_int % 2 == 1)\n",
    "y_multilabel = np.c_[y_train_large, y_train_odd]"
   ]
  },
  {
   "cell_type": "code",
   "execution_count": 3,
   "metadata": {
    "ExecuteTime": {
     "end_time": "2020-04-13T09:09:53.002190Z",
     "start_time": "2020-04-13T09:09:11.318163Z"
    }
   },
   "outputs": [
    {
     "data": {
      "text/plain": [
       "KNeighborsClassifier(algorithm='auto', leaf_size=30, metric='minkowski',\n",
       "                     metric_params=None, n_jobs=None, n_neighbors=5, p=2,\n",
       "                     weights='uniform')"
      ]
     },
     "execution_count": 3,
     "metadata": {},
     "output_type": "execute_result"
    }
   ],
   "source": [
    "# Train a kNN classifier\n",
    "knn_clf = KNeighborsClassifier()\n",
    "knn_clf.fit(X_train, y_multilabel)"
   ]
  },
  {
   "cell_type": "code",
   "execution_count": 4,
   "metadata": {
    "ExecuteTime": {
     "end_time": "2020-04-13T09:10:26.395776Z",
     "start_time": "2020-04-13T09:10:26.319276Z"
    },
    "scrolled": true
   },
   "outputs": [
    {
     "name": "stdout",
     "output_type": "stream",
     "text": [
      "8\n",
      "[[ True False]]\n"
     ]
    }
   ],
   "source": [
    "i = 3\n",
    "print(y_train[i])\n",
    "print(knn_clf.predict([X_train[i]]))\n",
    "# Indeed, this is a [[large value]] and it is [[not odd]]."
   ]
  },
  {
   "cell_type": "code",
   "execution_count": 5,
   "metadata": {
    "ExecuteTime": {
     "end_time": "2020-04-13T10:09:45.344979Z",
     "start_time": "2020-04-13T09:10:33.197232Z"
    }
   },
   "outputs": [],
   "source": [
    "# Predict\n",
    "y_predict = cross_val_predict(knn_clf, X_train, y_train, cv=3)"
   ]
  },
  {
   "cell_type": "code",
   "execution_count": 6,
   "metadata": {
    "ExecuteTime": {
     "end_time": "2020-04-13T13:00:11.495317Z",
     "start_time": "2020-04-13T13:00:11.091841Z"
    }
   },
   "outputs": [
    {
     "data": {
      "text/plain": [
       "0.9670888500500547"
      ]
     },
     "execution_count": 6,
     "metadata": {},
     "output_type": "execute_result"
    }
   ],
   "source": [
    "# Calculate F1 Score\n",
    "f1_score(y_train, y_predict, average='macro')"
   ]
  },
  {
   "cell_type": "markdown",
   "metadata": {},
   "source": [
    "In some contexts you prefer better precision, while in others, you prefer higher recall. You cannot have it both ways. A higher precision leads to a lower recall and vice versa. This is called the precision/recall tradeoff."
   ]
  }
 ],
 "metadata": {
  "kernelspec": {
   "display_name": "Python 3",
   "language": "python",
   "name": "python3"
  },
  "language_info": {
   "codemirror_mode": {
    "name": "ipython",
    "version": 3
   },
   "file_extension": ".py",
   "mimetype": "text/x-python",
   "name": "python",
   "nbconvert_exporter": "python",
   "pygments_lexer": "ipython3",
   "version": "3.7.2"
  }
 },
 "nbformat": 4,
 "nbformat_minor": 4
}
