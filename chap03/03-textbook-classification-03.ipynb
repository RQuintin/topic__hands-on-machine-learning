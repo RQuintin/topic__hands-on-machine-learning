{
 "cells": [
  {
   "cell_type": "markdown",
   "metadata": {},
   "source": [
    "## Chapter 3 -  Classification\n",
    "\n",
    "### Multiclass Classification"
   ]
  },
  {
   "cell_type": "code",
   "execution_count": 1,
   "metadata": {
    "ExecuteTime": {
     "end_time": "2020-05-06T07:56:35.320429Z",
     "start_time": "2020-05-06T07:56:34.331804Z"
    }
   },
   "outputs": [],
   "source": [
    "import pickle\n",
    "\n",
    "import pandas as pd\n",
    "import numpy as np\n",
    "import matplotlib\n",
    "import matplotlib.pyplot as plt\n",
    "\n",
    "from sklearn.linear_model import SGDClassifier\n",
    "from sklearn.ensemble import RandomForestClassifier\n",
    "from sklearn.model_selection import train_test_split, cross_val_score, cross_val_predict\n",
    "from sklearn.multiclass import OneVsOneClassifier\n",
    "from sklearn.preprocessing import StandardScaler\n",
    "from sklearn.metrics import (precision_score, \n",
    "                             recall_score, \n",
    "                             classification_report, \n",
    "                             confusion_matrix, f1_score, \n",
    "                             precision_recall_curve, roc_curve, roc_auc_score)\n",
    "\n",
    "def load(fname):\n",
    "    mnist = None\n",
    "    try:\n",
    "        with open(fname, 'rb') as f:\n",
    "            mnist = pickle.load(f)\n",
    "            return mnist\n",
    "    except FileNotFoundError:\n",
    "        from sklearn.datasets import fetch_openml\n",
    "        mnist = fetch_openml('mnist_784', version=1, cache=True)\n",
    "        with open(fname, 'wb') as f:\n",
    "            mnist = pickle.dump(mnist, f)\n",
    "        return mnist"
   ]
  },
  {
   "cell_type": "markdown",
   "metadata": {},
   "source": [
    "In the multiclass classifier problem, the target number of classes extends beyond just 2. There are some classifiers that can handle more than 2 classes while some are strictly binary classifiers. However, we can still use binary classifiers for multiclass problems.\n",
    "\n",
    "In the MNIST problem where there are 10 classes, we can create a system of multiple binary classifiers (e.g. a 0-detector, a 1-detector etc.). To classify a new image, run through every binary classifier and select the best score. This is known as the <b>one-versus-all (OVA)</b> strategy. The number of classifiers is the same as the number of classes. With 10 classes, we will have 10 classifiers.\n",
    "\n",
    "Another way is to train a 0v1, 0v2, 1v2 etc. classifier and select the class that has won the most duels / the class with the most number of assignments for each of these classifiers. This is called the <b>one-versus-one (OVO)</b> strategy. The number of classifiers to train here is $\\frac{N(N-1)}{2}$ classifiers. "
   ]
  },
  {
   "cell_type": "code",
   "execution_count": 2,
   "metadata": {
    "ExecuteTime": {
     "end_time": "2020-05-06T07:56:37.396301Z",
     "start_time": "2020-05-06T07:56:35.322577Z"
    }
   },
   "outputs": [],
   "source": [
    "# Ingest\n",
    "mnist_data = load('mnist.data.pkl')\n",
    "X, y = mnist_data['data'], mnist_data['target']\n",
    "X_train, X_test, y_train, y_test = train_test_split(X, y, test_size=0.15, random_state=0)"
   ]
  },
  {
   "cell_type": "markdown",
   "metadata": {},
   "source": [
    "In `sklearn`, in a case where $k>2$, the OVA strategy is used by default."
   ]
  },
  {
   "cell_type": "code",
   "execution_count": 3,
   "metadata": {
    "ExecuteTime": {
     "end_time": "2020-05-06T08:00:30.743480Z",
     "start_time": "2020-05-06T07:58:24.026692Z"
    }
   },
   "outputs": [
    {
     "data": {
      "text/plain": [
       "SGDClassifier(alpha=0.0001, average=False, class_weight=None,\n",
       "              early_stopping=False, epsilon=0.1, eta0=0.0, fit_intercept=True,\n",
       "              l1_ratio=0.15, learning_rate='optimal', loss='hinge',\n",
       "              max_iter=1000, n_iter_no_change=5, n_jobs=None, penalty='l2',\n",
       "              power_t=0.5, random_state=0, shuffle=True, tol=0.001,\n",
       "              validation_fraction=0.1, verbose=0, warm_start=False)"
      ]
     },
     "execution_count": 3,
     "metadata": {},
     "output_type": "execute_result"
    }
   ],
   "source": [
    "# Train a SGD classifier with 10 classes\n",
    "clf = SGDClassifier(random_state=0)\n",
    "clf.fit(X_train, y_train)"
   ]
  },
  {
   "cell_type": "markdown",
   "metadata": {},
   "source": [
    "Notes: Training took about 2 minutes."
   ]
  },
  {
   "cell_type": "markdown",
   "metadata": {},
   "source": [
    "We can see the results for each of the classifiers by using `decision_function`."
   ]
  },
  {
   "cell_type": "code",
   "execution_count": 34,
   "metadata": {
    "ExecuteTime": {
     "end_time": "2020-05-06T08:06:46.941142Z",
     "start_time": "2020-05-06T08:06:46.929601Z"
    },
    "scrolled": true
   },
   "outputs": [
    {
     "name": "stdout",
     "output_type": "stream",
     "text": [
      "['9']\n",
      "\n",
      "[-9791.77, -79739.28, -10462.73, -20837.1, -7980.04, -10559.4, -21397.66, -5991.81, -6365.83, -2799.92]\n",
      "\n",
      "0 : -9791.77\n",
      "1 : -79739.28\n",
      "2 : -10462.73\n",
      "3 : -20837.10\n",
      "4 : -7980.04\n",
      "5 : -10559.40\n",
      "6 : -21397.66\n",
      "7 : -5991.81\n",
      "8 : -6365.83\n",
      "9 : -2799.92\n",
      "\n",
      "9\n"
     ]
    }
   ],
   "source": [
    "# For evaluation\n",
    "i = 5\n",
    "Xti = [X_train[i]]\n",
    "# Get the prediction result\n",
    "print(clf.predict(Xti))\n",
    "print()\n",
    "# Get the decision scores for each class\n",
    "print(list([m.round(2) for m in clf.decision_function(Xti)[0]]))\n",
    "print()\n",
    "for kpred1, kpred2 in list(zip(range(10), clf.decision_function(Xti)[0])):\n",
    "    print('{} : {:.2f}'.format(str(kpred1), kpred2))\n",
    "print()\n",
    "print(y_test[i])\n"
   ]
  },
  {
   "cell_type": "markdown",
   "metadata": {},
   "source": [
    "`sklearn` has a tool for OVO classification."
   ]
  },
  {
   "cell_type": "code",
   "execution_count": 35,
   "metadata": {
    "ExecuteTime": {
     "end_time": "2020-05-06T08:08:59.166793Z",
     "start_time": "2020-05-06T08:08:24.407272Z"
    }
   },
   "outputs": [
    {
     "data": {
      "text/plain": [
       "OneVsOneClassifier(estimator=SGDClassifier(alpha=0.0001, average=False,\n",
       "                                           class_weight=None,\n",
       "                                           early_stopping=False, epsilon=0.1,\n",
       "                                           eta0=0.0, fit_intercept=True,\n",
       "                                           l1_ratio=0.15,\n",
       "                                           learning_rate='optimal',\n",
       "                                           loss='hinge', max_iter=1000,\n",
       "                                           n_iter_no_change=5, n_jobs=None,\n",
       "                                           penalty='l2', power_t=0.5,\n",
       "                                           random_state=0, shuffle=True,\n",
       "                                           tol=0.001, validation_fraction=0.1,\n",
       "                                           verbose=0, warm_start=False),\n",
       "                   n_jobs=None)"
      ]
     },
     "execution_count": 35,
     "metadata": {},
     "output_type": "execute_result"
    }
   ],
   "source": [
    "ovo_clf = OneVsOneClassifier(SGDClassifier(random_state=0))\n",
    "ovo_clf.fit(X_train, y_train)\n"
   ]
  },
  {
   "cell_type": "markdown",
   "metadata": {},
   "source": [
    "Note: Training took about 30 seconds"
   ]
  },
  {
   "cell_type": "code",
   "execution_count": 39,
   "metadata": {
    "ExecuteTime": {
     "end_time": "2020-05-06T08:10:27.212060Z",
     "start_time": "2020-05-06T08:10:27.207679Z"
    }
   },
   "outputs": [
    {
     "name": "stdout",
     "output_type": "stream",
     "text": [
      "45\n"
     ]
    }
   ],
   "source": [
    "# Find the number of classifiers / duels\n",
    "print(len(ovo_clf.estimators_))"
   ]
  },
  {
   "cell_type": "code",
   "execution_count": 40,
   "metadata": {
    "ExecuteTime": {
     "end_time": "2020-05-06T08:10:53.644491Z",
     "start_time": "2020-05-06T08:10:53.605949Z"
    }
   },
   "outputs": [
    {
     "name": "stdout",
     "output_type": "stream",
     "text": [
      "['9']\n",
      "[ 6.33333312 -0.33333325  6.33333302  1.66666704  7.33333288  1.66666786\n",
      "  3.66666757  6.33333286  3.33333191  9.33333302]\n",
      "9\n"
     ]
    }
   ],
   "source": [
    "# For evaluation\n",
    "i = 5\n",
    "Xti = [X_train[i]]\n",
    "# Get the prediction result\n",
    "print(ovo_clf.predict(Xti))\n",
    "print(ovo_clf.decision_function(Xti)[0])\n",
    "# Get the decision scores for each class\n",
    "print(y_test[i])\n"
   ]
  },
  {
   "cell_type": "markdown",
   "metadata": {},
   "source": [
    "`RandomForestClassifier` can simply perform the classification to multiple classes without using the OVO or OVA strategy. \n",
    "\n",
    "For a new sample, we can find the probability that an observation belongs in each class. The class with the highest probability is the predicted class."
   ]
  },
  {
   "cell_type": "code",
   "execution_count": 41,
   "metadata": {
    "ExecuteTime": {
     "end_time": "2020-05-06T08:12:47.585923Z",
     "start_time": "2020-05-06T08:12:00.575047Z"
    }
   },
   "outputs": [
    {
     "data": {
      "text/plain": [
       "RandomForestClassifier(bootstrap=True, ccp_alpha=0.0, class_weight=None,\n",
       "                       criterion='gini', max_depth=None, max_features='auto',\n",
       "                       max_leaf_nodes=None, max_samples=None,\n",
       "                       min_impurity_decrease=0.0, min_impurity_split=None,\n",
       "                       min_samples_leaf=1, min_samples_split=2,\n",
       "                       min_weight_fraction_leaf=0.0, n_estimators=100,\n",
       "                       n_jobs=None, oob_score=False, random_state=0, verbose=0,\n",
       "                       warm_start=False)"
      ]
     },
     "execution_count": 41,
     "metadata": {},
     "output_type": "execute_result"
    }
   ],
   "source": [
    "forest_clf = RandomForestClassifier(random_state=0)\n",
    "forest_clf.fit(X_train, y_train)\n"
   ]
  },
  {
   "cell_type": "markdown",
   "metadata": {},
   "source": [
    "Note: Training took about 1 minute"
   ]
  },
  {
   "cell_type": "code",
   "execution_count": 46,
   "metadata": {
    "ExecuteTime": {
     "end_time": "2020-05-06T08:14:47.737901Z",
     "start_time": "2020-05-06T08:14:47.703117Z"
    },
    "scrolled": true
   },
   "outputs": [
    {
     "name": "stdout",
     "output_type": "stream",
     "text": [
      "['9']\n",
      "0 : 0.01\n",
      "1 : 0.00\n",
      "2 : 0.04\n",
      "3 : 0.01\n",
      "4 : 0.03\n",
      "5 : 0.02\n",
      "6 : 0.00\n",
      "7 : 0.03\n",
      "8 : 0.02\n",
      "9 : 0.84\n",
      "9\n"
     ]
    }
   ],
   "source": [
    "# For evaluation\n",
    "i = 5\n",
    "Xti = [X_train[i]]\n",
    "# Get the prediction result\n",
    "print(forest_clf.predict(Xti))\n",
    "# Get the probabilities for the observation existing in each class\n",
    "for kpred1, kpred2 in list(zip(range(10), forest_clf.predict_proba(Xti)[0])):\n",
    "    print('{} : {:.2f}'.format(str(kpred1), kpred2))\n",
    "print(y_test[i])\n"
   ]
  },
  {
   "cell_type": "markdown",
   "metadata": {},
   "source": [
    "Performance evaluation for each of the models:"
   ]
  },
  {
   "cell_type": "code",
   "execution_count": 50,
   "metadata": {
    "ExecuteTime": {
     "end_time": "2020-05-06T08:20:31.518930Z",
     "start_time": "2020-05-06T08:20:02.852904Z"
    }
   },
   "outputs": [
    {
     "name": "stdout",
     "output_type": "stream",
     "text": [
      "[0.85632873 0.86558656 0.85808581]\n",
      "[0.89592082 0.89978998 0.90639064]\n",
      "[0.9355129  0.94389439 0.94449445]\n"
     ]
    }
   ],
   "source": [
    "# Evaluation: SGD\n",
    "print(cross_val_score(clf, X_train[:10000], y_train[:10000], cv=3, scoring='accuracy'))\n",
    "# Note: Took about 3 minutes for all observations\n",
    "\n",
    "# Evaluation: OVO SGD\n",
    "print(cross_val_score(ovo_clf, X_train[:10000], y_train[:10000], cv=3, scoring='accuracy'))\n",
    "# Note: Took about 1 minute for all observations\n",
    "\n",
    "# Evaluation: Random Forest\n",
    "print(cross_val_score(forest_clf, X_train[:10000], y_train[:10000], cv=3, scoring='accuracy'))\n",
    "# Note: Took about 2 minutes for all observations\n"
   ]
  },
  {
   "cell_type": "markdown",
   "metadata": {
    "ExecuteTime": {
     "end_time": "2020-04-14T03:03:50.173821Z",
     "start_time": "2020-04-14T03:03:50.166082Z"
    }
   },
   "source": [
    "Conclusion: Random Forest has a lot more success than other algorithms.\n",
    "\n",
    "Other ways we can improve the algorithm is to perform scaling before doing model fitting. This does improve the SGD classifier score"
   ]
  },
  {
   "cell_type": "code",
   "execution_count": 51,
   "metadata": {
    "ExecuteTime": {
     "end_time": "2020-05-06T08:22:34.730876Z",
     "start_time": "2020-05-06T08:21:24.290612Z"
    }
   },
   "outputs": [
    {
     "name": "stderr",
     "output_type": "stream",
     "text": [
      "/Users/bryanlim/.pyenv/versions/3.7.2/envs/botanic/lib/python3.7/site-packages/sklearn/linear_model/_stochastic_gradient.py:557: ConvergenceWarning: Maximum number of iteration reached before convergence. Consider increasing max_iter to improve the fit.\n",
      "  ConvergenceWarning)\n"
     ]
    },
    {
     "name": "stdout",
     "output_type": "stream",
     "text": [
      "[0.89622076 0.89738974 0.89408941]\n"
     ]
    }
   ],
   "source": [
    "# Scale before testing\n",
    "scaler = StandardScaler()\n",
    "X_train_scaled = scaler.fit_transform(X_train.astype(np.float64))\n",
    "\n",
    "# Evaluation: SGD\n",
    "print(cross_val_score(clf, X_train_scaled[:10000], y_train[:10000], cv=3, scoring='accuracy'))\n",
    "# Note: Cross Validation took 13 minutes"
   ]
  },
  {
   "cell_type": "markdown",
   "metadata": {},
   "source": [
    "### Error Analysis\n",
    "\n",
    "One way to evalute the model is to see the errors that it is making. In the 10 digit classification problem, we can observe the confusion matrix."
   ]
  },
  {
   "cell_type": "code",
   "execution_count": 52,
   "metadata": {
    "ExecuteTime": {
     "end_time": "2020-05-06T09:13:42.182204Z",
     "start_time": "2020-05-06T09:04:28.853622Z"
    }
   },
   "outputs": [],
   "source": [
    "y_train_predict = cross_val_predict(clf, X_train_scaled, y_train, cv=3)\n",
    "# Note: Training & prediction took 10 minutes"
   ]
  },
  {
   "cell_type": "code",
   "execution_count": 53,
   "metadata": {
    "ExecuteTime": {
     "end_time": "2020-05-06T09:13:42.350978Z",
     "start_time": "2020-05-06T09:13:42.185352Z"
    }
   },
   "outputs": [
    {
     "name": "stdout",
     "output_type": "stream",
     "text": [
      "[[5529    0   13   10   10   42   31    7  208    1]\n",
      " [   0 6378   34   18    4   42    7    7  186    9]\n",
      " [  22   27 5171   82   72   25   72   40  375   12]\n",
      " [  24   19  102 5231    1  179   26   42  398   67]\n",
      " [  14   14   42   10 5209    5   31   20  320  156]\n",
      " [  31   16   23  155   52 4448   77   22  509   56]\n",
      " [  26   14   43    2   42   83 5478    8  137    0]\n",
      " [  16   12   59   22   43    8    4 5647  160  202]\n",
      " [  16   65   39   84    6  125   34   10 5392   44]\n",
      " [  25   21   25   52  131   33    1  164  338 5156]]\n"
     ]
    }
   ],
   "source": [
    "# Compute the confusion matrix\n",
    "conf_mx = confusion_matrix(y_train, y_train_predict)\n",
    "print(conf_mx)"
   ]
  },
  {
   "cell_type": "code",
   "execution_count": 54,
   "metadata": {
    "ExecuteTime": {
     "end_time": "2020-05-06T09:13:42.555927Z",
     "start_time": "2020-05-06T09:13:42.354067Z"
    }
   },
   "outputs": [
    {
     "data": {
      "image/png": "[encoded data removed]",
      "text/plain": [
       "<Figure size 288x288 with 1 Axes>"
      ]
     },
     "metadata": {
      "needs_background": "light"
     },
     "output_type": "display_data"
    }
   ],
   "source": [
    "# A way to visualise the confusion matrix is to use matshow.\n",
    "plt.matshow(conf_mx, cmap=plt.cm.gray)\n",
    "plt.show()"
   ]
  },
  {
   "cell_type": "markdown",
   "metadata": {},
   "source": [
    "Notice that the squares that are not on the main diagnonal are dark. To focus on them, divide each value in the confusion matrix by the number of images in the corresponding class."
   ]
  },
  {
   "cell_type": "code",
   "execution_count": 55,
   "metadata": {
    "ExecuteTime": {
     "end_time": "2020-05-06T09:13:42.678462Z",
     "start_time": "2020-05-06T09:13:42.558096Z"
    }
   },
   "outputs": [
    {
     "data": {
      "image/png": "[encoded data removed]",
      "text/plain": [
       "<Figure size 288x288 with 1 Axes>"
      ]
     },
     "metadata": {
      "needs_background": "light"
     },
     "output_type": "display_data"
    }
   ],
   "source": [
    "row_sums = conf_mx.sum(axis=1, keepdims=True)\n",
    "norm_conf_mx = conf_mx/row_sums\n",
    "np.fill_diagonal(norm_conf_mx, 0)\n",
    "plt.matshow(norm_conf_mx, cmap=plt.cm.gray)\n",
    "plt.show()"
   ]
  },
  {
   "cell_type": "markdown",
   "metadata": {},
   "source": [
    "Now, we can see the errors that classifier is making. Recall that rows represent actual values while columns represent predicted values. The columns for 8 are bright (many bright squares for this column) which means this class suffers from the most amount of prediction errors.\n",
    "\n",
    "The confusion matrix can give us insights on how to improve the classifier. Beyond that, we can see that class separation for 3 and 5 also suffer from high classification error.\n",
    "\n",
    "Beyond this, we can look at the raw data to see why some classes are more well separated / better predicted while some are weaker."
   ]
  }
 ],
 "metadata": {
  "kernelspec": {
   "display_name": "Python 3",
   "language": "python",
   "name": "python3"
  },
  "language_info": {
   "codemirror_mode": {
    "name": "ipython",
    "version": 3
   },
   "file_extension": ".py",
   "mimetype": "text/x-python",
   "name": "python",
   "nbconvert_exporter": "python",
   "pygments_lexer": "ipython3",
   "version": "3.7.2"
  }
 },
 "nbformat": 4,
 "nbformat_minor": 4
}
