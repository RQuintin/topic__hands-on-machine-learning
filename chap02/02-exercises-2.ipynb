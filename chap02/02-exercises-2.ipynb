{
 "cells": [
  {
   "cell_type": "markdown",
   "metadata": {},
   "source": [
    "## Chapter 2 -  End-to-End Machine Learning Project\n",
    "\n",
    "## Exercises (2)"
   ]
  },
  {
   "cell_type": "code",
   "execution_count": 1,
   "metadata": {
    "ExecuteTime": {
     "end_time": "2020-04-09T08:29:23.255394Z",
     "start_time": "2020-04-09T08:29:22.219584Z"
    }
   },
   "outputs": [],
   "source": [
    "import pickle\n",
    "\n",
    "import pandas as pd\n",
    "import numpy as np\n",
    "import matplotlib.pyplot as plt\n",
    "import seaborn as sns\n",
    "import joblib\n",
    "\n",
    "from sklearn.base import BaseEstimator, TransformerMixin\n",
    "from sklearn.tree import DecisionTreeRegressor\n",
    "from sklearn.ensemble import RandomForestRegressor\n",
    "\n",
    "from sklearn.metrics import mean_squared_error, mean_absolute_error\n",
    "from sklearn.model_selection import StratifiedShuffleSplit, cross_val_score, GridSearchCV"
   ]
  },
  {
   "cell_type": "markdown",
   "metadata": {},
   "source": [
    "### Ingestion"
   ]
  },
  {
   "cell_type": "code",
   "execution_count": 2,
   "metadata": {
    "ExecuteTime": {
     "end_time": "2020-04-09T08:29:23.340228Z",
     "start_time": "2020-04-09T08:29:23.257707Z"
    }
   },
   "outputs": [],
   "source": [
    "df_features = pd.read_csv('housing_X_feateng_complete.csv')\n",
    "df_result = pd.read_csv('housing_y_feateng_complete.csv')\n",
    "df = df_features.join(df_result)"
   ]
  },
  {
   "cell_type": "code",
   "execution_count": 3,
   "metadata": {
    "ExecuteTime": {
     "end_time": "2020-04-09T08:29:23.345857Z",
     "start_time": "2020-04-09T08:29:23.342704Z"
    }
   },
   "outputs": [],
   "source": [
    "# For testing\n",
    "# display(df.head())"
   ]
  },
  {
   "cell_type": "markdown",
   "metadata": {},
   "source": [
    "### Train-Test Split\n",
    "\n",
    "Using Stratified Sampling strategy"
   ]
  },
  {
   "cell_type": "code",
   "execution_count": 4,
   "metadata": {
    "ExecuteTime": {
     "end_time": "2020-04-09T08:29:23.401868Z",
     "start_time": "2020-04-09T08:29:23.349060Z"
    }
   },
   "outputs": [],
   "source": [
    "# Obtain the column to statify on\n",
    "df['p1_median_income_category'] = np.ceil(df['median_income']/1.5)\n",
    "df['p1_median_income_category'] = df['p1_median_income_category'].apply(lambda x: x if x<=5.0 else 5.0)\n",
    "\n",
    "# Train Test Split - Stratified strategy\n",
    "shuffle_split = StratifiedShuffleSplit(n_splits=1, test_size=0.2, random_state=0)\n",
    "df_splits = list(shuffle_split.split(df, df['p1_median_income_category']))[0]\n",
    "df_strat_train = df.iloc[df_splits[0]].copy()\n",
    "df_strat_test = df.iloc[df_splits[1]].copy()\n",
    "\n",
    "# Remove column to stratify on\n",
    "_ = df_strat_train.drop('p1_median_income_category', axis=1, inplace=True)\n",
    "_ = df_strat_test.drop('p1_median_income_category', axis=1, inplace=True)\n",
    "\n",
    "# X_train, X_test, y_train, y_test\n",
    "X_train = df_strat_train.drop('median_house_value', axis=1).copy()\n",
    "y_train = df_strat_train['median_house_value'].copy()\n",
    "X_test = df_strat_test.drop('median_house_value', axis=1).copy()\n",
    "y_test = df_strat_test['median_house_value'].copy()"
   ]
  },
  {
   "cell_type": "code",
   "execution_count": 5,
   "metadata": {
    "ExecuteTime": {
     "end_time": "2020-04-09T08:29:23.406406Z",
     "start_time": "2020-04-09T08:29:23.403774Z"
    }
   },
   "outputs": [],
   "source": [
    "# For testing\n",
    "# display(X_train.describe())\n",
    "# display(X_test.describe())"
   ]
  },
  {
   "cell_type": "markdown",
   "metadata": {},
   "source": [
    "### Modelling - Random Forest Regressor"
   ]
  },
  {
   "cell_type": "code",
   "execution_count": 6,
   "metadata": {
    "ExecuteTime": {
     "end_time": "2020-04-09T08:29:37.427737Z",
     "start_time": "2020-04-09T08:29:23.408979Z"
    }
   },
   "outputs": [
    {
     "data": {
      "text/plain": [
       "RandomForestRegressor(bootstrap=True, ccp_alpha=0.0, criterion='mse',\n",
       "                      max_depth=None, max_features='auto', max_leaf_nodes=None,\n",
       "                      max_samples=None, min_impurity_decrease=0.0,\n",
       "                      min_impurity_split=None, min_samples_leaf=1,\n",
       "                      min_samples_split=2, min_weight_fraction_leaf=0.0,\n",
       "                      n_estimators=100, n_jobs=None, oob_score=False,\n",
       "                      random_state=0, verbose=0, warm_start=False)"
      ]
     },
     "execution_count": 6,
     "metadata": {},
     "output_type": "execute_result"
    }
   ],
   "source": [
    "model3 = RandomForestRegressor(random_state=0)\n",
    "model3.fit(X_train, y_train)"
   ]
  },
  {
   "cell_type": "markdown",
   "metadata": {},
   "source": [
    "3 - Try adding a transformer in the preparation pipeline to select only the most important attributes."
   ]
  },
  {
   "cell_type": "code",
   "execution_count": 7,
   "metadata": {
    "ExecuteTime": {
     "end_time": "2020-04-09T08:29:37.514076Z",
     "start_time": "2020-04-09T08:29:37.430136Z"
    }
   },
   "outputs": [
    {
     "data": {
      "text/plain": [
       "array([5.95863878e-02, 5.75564317e-02, 4.38695839e-02, 1.26693463e-02,\n",
       "       1.21465523e-02, 1.20689712e-02, 1.10389932e-02, 4.71259499e-01,\n",
       "       2.63220579e-02, 1.22456634e-01, 2.35721940e-02, 1.19636670e-03,\n",
       "       1.42861849e-01, 1.76148429e-04, 7.15232352e-04, 2.50375204e-03])"
      ]
     },
     "execution_count": 7,
     "metadata": {},
     "output_type": "execute_result"
    }
   ],
   "source": [
    "model3.feature_importances_"
   ]
  },
  {
   "cell_type": "code",
   "execution_count": 8,
   "metadata": {
    "ExecuteTime": {
     "end_time": "2020-04-09T08:29:37.524216Z",
     "start_time": "2020-04-09T08:29:37.518045Z"
    }
   },
   "outputs": [],
   "source": [
    "class TopFeatureSelector(BaseEstimator, TransformerMixin):\n",
    "    _feature_importances, _k = [], 0\n",
    "    _feature_indices = []\n",
    "    def __init__(self, feature_importances, k):\n",
    "        self._feature_importances = feature_importances\n",
    "        self._k = k\n",
    "    \n",
    "    def fit(self, X, y=None):\n",
    "        self._feature_indices = np.sort(np.argpartition(np.array(self._feature_importances), self._k*-1)[-self._k:])\n",
    "        return self\n",
    "    \n",
    "    def transform(self, X):\n",
    "        return X[:, self._feature_indices]"
   ]
  },
  {
   "cell_type": "code",
   "execution_count": 9,
   "metadata": {
    "ExecuteTime": {
     "end_time": "2020-04-09T08:29:37.583339Z",
     "start_time": "2020-04-09T08:29:37.527094Z"
    }
   },
   "outputs": [
    {
     "name": "stdout",
     "output_type": "stream",
     "text": [
      "[5.95863878e-02 5.75564317e-02 4.38695839e-02 1.26693463e-02\n",
      " 1.21465523e-02 1.20689712e-02 1.10389932e-02 4.71259499e-01\n",
      " 2.63220579e-02 1.22456634e-01 2.35721940e-02 1.19636670e-03\n",
      " 1.42861849e-01 1.76148429e-04 7.15232352e-04 2.50375204e-03]\n"
     ]
    }
   ],
   "source": [
    "print(model3.feature_importances_)"
   ]
  },
  {
   "cell_type": "code",
   "execution_count": 10,
   "metadata": {
    "ExecuteTime": {
     "end_time": "2020-04-09T08:29:37.662371Z",
     "start_time": "2020-04-09T08:29:37.593202Z"
    }
   },
   "outputs": [
    {
     "data": {
      "text/plain": [
       "array([ 0,  1,  7,  9, 12])"
      ]
     },
     "execution_count": 10,
     "metadata": {},
     "output_type": "execute_result"
    }
   ],
   "source": [
    "top_k = 5\n",
    "np.sort(np.argpartition(np.array(model3.feature_importances_), -top_k)[-top_k:])"
   ]
  },
  {
   "cell_type": "code",
   "execution_count": 11,
   "metadata": {
    "ExecuteTime": {
     "end_time": "2020-04-09T08:29:37.748927Z",
     "start_time": "2020-04-09T08:29:37.671463Z"
    }
   },
   "outputs": [],
   "source": [
    "indices = list(np.sort(np.argpartition(np.array(model3.feature_importances_), -top_k)[-top_k:]))\n",
    "features = list(X_train)"
   ]
  },
  {
   "cell_type": "code",
   "execution_count": 14,
   "metadata": {
    "ExecuteTime": {
     "end_time": "2020-04-09T08:30:26.557544Z",
     "start_time": "2020-04-09T08:30:26.397346Z"
    }
   },
   "outputs": [
    {
     "name": "stdout",
     "output_type": "stream",
     "text": [
      "[('longitude', 0.05958638784843237), ('latitude', 0.05755643172239503), ('median_income', 0.47125949943545237), ('population_per_household', 0.12245663426509462), ('INLAND', 0.14286184852375705)]\n"
     ]
    }
   ],
   "source": [
    "feat_final = []\n",
    "for d in indices:\n",
    "    feat_final.append((features[d], model3.feature_importances_[d]))\n",
    "print(feat_final)"
   ]
  },
  {
   "cell_type": "code",
   "execution_count": 17,
   "metadata": {
    "ExecuteTime": {
     "end_time": "2020-04-09T08:30:52.167699Z",
     "start_time": "2020-04-09T08:30:52.162520Z"
    }
   },
   "outputs": [
    {
     "name": "stdout",
     "output_type": "stream",
     "text": [
      "('median_income', 0.47125949943545237)\n",
      "('INLAND', 0.14286184852375705)\n",
      "('population_per_household', 0.12245663426509462)\n",
      "('longitude', 0.05958638784843237)\n",
      "('latitude', 0.05755643172239503)\n"
     ]
    }
   ],
   "source": [
    "for i in sorted(feat_final, key=lambda x: x[1], reverse=True):\n",
    "    print(i)"
   ]
  },
  {
   "cell_type": "markdown",
   "metadata": {},
   "source": [
    "**References:**\n",
    "\n",
    "Python for Data Analysis, 2nd Edition, McKinney (2017)"
   ]
  }
 ],
 "metadata": {
  "kernelspec": {
   "display_name": "Python 3",
   "language": "python",
   "name": "python3"
  },
  "language_info": {
   "codemirror_mode": {
    "name": "ipython",
    "version": 3
   },
   "file_extension": ".py",
   "mimetype": "text/x-python",
   "name": "python",
   "nbconvert_exporter": "python",
   "pygments_lexer": "ipython3",
   "version": "3.7.2"
  }
 },
 "nbformat": 4,
 "nbformat_minor": 2
}
