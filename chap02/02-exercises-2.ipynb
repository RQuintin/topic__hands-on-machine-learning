{
 "cells": [
  {
   "cell_type": "markdown",
   "metadata": {},
   "source": [
    "## Chapter 2 -  End-to-End Machine Learning Project\n",
    "\n",
    "## Machine Learning"
   ]
  },
  {
   "cell_type": "markdown",
   "metadata": {},
   "source": [
    "In the *housing* problem, the problem is framed as a <u>supervised learning problem</u> as there is labelled data. Since a numerical value is expected from the outcome, this is a <u>regression</u> problem. Finally, since the whole dataset will be used to train the model, this is a <u>batch learning</u> problem."
   ]
  },
  {
   "cell_type": "markdown",
   "metadata": {},
   "source": [
    "For a regression problem, the performance measure is Root Mean Square Error or RMSE. Given $m$ training samples, feature matrix $\\mathbf X$, hypothesis $h$, then the RMSE is $$\\text{RMSE} (\\mathbf X , h) = \\sqrt{\\frac 1 m \\sum_{i=1}^m \\begin{bmatrix}h(\\mathbf x^{(i)} - y^{(i)})\\end{bmatrix}^2}$$\n",
    "\n",
    "Note that an alternative performance measure for regression is mean absolute error or MAE, where $$\\text{MAE} (\\mathbf X , h) = \\frac 1 m \\sum_{i=1}^m|h(\\mathbf x^{(i)} - y^{(i)})|$$"
   ]
  },
  {
   "cell_type": "code",
   "execution_count": 1,
   "metadata": {
    "ExecuteTime": {
     "end_time": "2020-04-09T03:07:22.168226Z",
     "start_time": "2020-04-09T03:07:20.564996Z"
    }
   },
   "outputs": [],
   "source": [
    "import pickle\n",
    "\n",
    "import pandas as pd\n",
    "import numpy as np\n",
    "import matplotlib.pyplot as plt\n",
    "import seaborn as sns\n",
    "import joblib\n",
    "from sklearn.linear_model import LinearRegression\n",
    "from sklearn.tree import DecisionTreeRegressor\n",
    "from sklearn.ensemble import RandomForestRegressor\n",
    "from sklearn.metrics import mean_squared_error, mean_absolute_error\n",
    "from sklearn.model_selection import train_test_split, StratifiedShuffleSplit, cross_val_score, GridSearchCV"
   ]
  },
  {
   "cell_type": "markdown",
   "metadata": {},
   "source": [
    "### Ingestion"
   ]
  },
  {
   "cell_type": "code",
   "execution_count": 2,
   "metadata": {
    "ExecuteTime": {
     "end_time": "2020-04-09T03:07:22.256052Z",
     "start_time": "2020-04-09T03:07:22.170588Z"
    }
   },
   "outputs": [],
   "source": [
    "df_features = pd.read_csv('housing_X_feateng_complete.csv')\n",
    "df_result = pd.read_csv('housing_y_feateng_complete.csv')\n",
    "df = df_features.join(df_result)"
   ]
  },
  {
   "cell_type": "code",
   "execution_count": 3,
   "metadata": {
    "ExecuteTime": {
     "end_time": "2020-04-09T03:07:22.289190Z",
     "start_time": "2020-04-09T03:07:22.258870Z"
    }
   },
   "outputs": [
    {
     "data": {
      "text/html": [
       "<div>\n",
       "<style scoped>\n",
       "    .dataframe tbody tr th:only-of-type {\n",
       "        vertical-align: middle;\n",
       "    }\n",
       "\n",
       "    .dataframe tbody tr th {\n",
       "        vertical-align: top;\n",
       "    }\n",
       "\n",
       "    .dataframe thead th {\n",
       "        text-align: right;\n",
       "    }\n",
       "</style>\n",
       "<table border=\"1\" class=\"dataframe\">\n",
       "  <thead>\n",
       "    <tr style=\"text-align: right;\">\n",
       "      <th></th>\n",
       "      <th>longitude</th>\n",
       "      <th>latitude</th>\n",
       "      <th>housing_median_age</th>\n",
       "      <th>total_rooms</th>\n",
       "      <th>total_bedrooms</th>\n",
       "      <th>population</th>\n",
       "      <th>households</th>\n",
       "      <th>median_income</th>\n",
       "      <th>rooms per_household</th>\n",
       "      <th>population_per_household</th>\n",
       "      <th>bedrooms_per_room</th>\n",
       "      <th>&lt;1H OCEAN</th>\n",
       "      <th>INLAND</th>\n",
       "      <th>ISLAND</th>\n",
       "      <th>NEAR BAY</th>\n",
       "      <th>NEAR OCEAN</th>\n",
       "      <th>median_house_value</th>\n",
       "    </tr>\n",
       "  </thead>\n",
       "  <tbody>\n",
       "    <tr>\n",
       "      <th>0</th>\n",
       "      <td>-1.327835</td>\n",
       "      <td>1.052548</td>\n",
       "      <td>0.982143</td>\n",
       "      <td>-0.804819</td>\n",
       "      <td>-0.972476</td>\n",
       "      <td>-0.974429</td>\n",
       "      <td>-0.977033</td>\n",
       "      <td>2.344766</td>\n",
       "      <td>0.628559</td>\n",
       "      <td>-0.049597</td>\n",
       "      <td>-1.029988</td>\n",
       "      <td>0.0</td>\n",
       "      <td>0.0</td>\n",
       "      <td>0.0</td>\n",
       "      <td>1.0</td>\n",
       "      <td>0.0</td>\n",
       "      <td>452600.0</td>\n",
       "    </tr>\n",
       "    <tr>\n",
       "      <th>1</th>\n",
       "      <td>-1.322844</td>\n",
       "      <td>1.043185</td>\n",
       "      <td>-0.607019</td>\n",
       "      <td>2.045890</td>\n",
       "      <td>1.357143</td>\n",
       "      <td>0.861439</td>\n",
       "      <td>1.669961</td>\n",
       "      <td>2.332238</td>\n",
       "      <td>0.327041</td>\n",
       "      <td>-0.092512</td>\n",
       "      <td>-0.888897</td>\n",
       "      <td>0.0</td>\n",
       "      <td>0.0</td>\n",
       "      <td>0.0</td>\n",
       "      <td>1.0</td>\n",
       "      <td>0.0</td>\n",
       "      <td>358500.0</td>\n",
       "    </tr>\n",
       "    <tr>\n",
       "      <th>2</th>\n",
       "      <td>-1.332827</td>\n",
       "      <td>1.038503</td>\n",
       "      <td>1.856182</td>\n",
       "      <td>-0.535746</td>\n",
       "      <td>-0.827024</td>\n",
       "      <td>-0.820777</td>\n",
       "      <td>-0.843637</td>\n",
       "      <td>1.782699</td>\n",
       "      <td>1.155620</td>\n",
       "      <td>-0.025843</td>\n",
       "      <td>-1.291686</td>\n",
       "      <td>0.0</td>\n",
       "      <td>0.0</td>\n",
       "      <td>0.0</td>\n",
       "      <td>1.0</td>\n",
       "      <td>0.0</td>\n",
       "      <td>352100.0</td>\n",
       "    </tr>\n",
       "    <tr>\n",
       "      <th>3</th>\n",
       "      <td>-1.337818</td>\n",
       "      <td>1.038503</td>\n",
       "      <td>1.856182</td>\n",
       "      <td>-0.624215</td>\n",
       "      <td>-0.719723</td>\n",
       "      <td>-0.766028</td>\n",
       "      <td>-0.733781</td>\n",
       "      <td>0.932968</td>\n",
       "      <td>0.156966</td>\n",
       "      <td>-0.050329</td>\n",
       "      <td>-0.449613</td>\n",
       "      <td>0.0</td>\n",
       "      <td>0.0</td>\n",
       "      <td>0.0</td>\n",
       "      <td>1.0</td>\n",
       "      <td>0.0</td>\n",
       "      <td>341300.0</td>\n",
       "    </tr>\n",
       "    <tr>\n",
       "      <th>4</th>\n",
       "      <td>-1.337818</td>\n",
       "      <td>1.038503</td>\n",
       "      <td>1.856182</td>\n",
       "      <td>-0.462404</td>\n",
       "      <td>-0.612423</td>\n",
       "      <td>-0.759847</td>\n",
       "      <td>-0.629157</td>\n",
       "      <td>-0.012881</td>\n",
       "      <td>0.344711</td>\n",
       "      <td>-0.085616</td>\n",
       "      <td>-0.639087</td>\n",
       "      <td>0.0</td>\n",
       "      <td>0.0</td>\n",
       "      <td>0.0</td>\n",
       "      <td>1.0</td>\n",
       "      <td>0.0</td>\n",
       "      <td>342200.0</td>\n",
       "    </tr>\n",
       "  </tbody>\n",
       "</table>\n",
       "</div>"
      ],
      "text/plain": [
       "   longitude  latitude  housing_median_age  total_rooms  total_bedrooms  \\\n",
       "0  -1.327835  1.052548            0.982143    -0.804819       -0.972476   \n",
       "1  -1.322844  1.043185           -0.607019     2.045890        1.357143   \n",
       "2  -1.332827  1.038503            1.856182    -0.535746       -0.827024   \n",
       "3  -1.337818  1.038503            1.856182    -0.624215       -0.719723   \n",
       "4  -1.337818  1.038503            1.856182    -0.462404       -0.612423   \n",
       "\n",
       "   population  households  median_income  rooms per_household  \\\n",
       "0   -0.974429   -0.977033       2.344766             0.628559   \n",
       "1    0.861439    1.669961       2.332238             0.327041   \n",
       "2   -0.820777   -0.843637       1.782699             1.155620   \n",
       "3   -0.766028   -0.733781       0.932968             0.156966   \n",
       "4   -0.759847   -0.629157      -0.012881             0.344711   \n",
       "\n",
       "   population_per_household  bedrooms_per_room  <1H OCEAN  INLAND  ISLAND  \\\n",
       "0                 -0.049597          -1.029988        0.0     0.0     0.0   \n",
       "1                 -0.092512          -0.888897        0.0     0.0     0.0   \n",
       "2                 -0.025843          -1.291686        0.0     0.0     0.0   \n",
       "3                 -0.050329          -0.449613        0.0     0.0     0.0   \n",
       "4                 -0.085616          -0.639087        0.0     0.0     0.0   \n",
       "\n",
       "   NEAR BAY  NEAR OCEAN  median_house_value  \n",
       "0       1.0         0.0            452600.0  \n",
       "1       1.0         0.0            358500.0  \n",
       "2       1.0         0.0            352100.0  \n",
       "3       1.0         0.0            341300.0  \n",
       "4       1.0         0.0            342200.0  "
      ]
     },
     "metadata": {},
     "output_type": "display_data"
    }
   ],
   "source": [
    "# For testing\n",
    "display(df.head())"
   ]
  },
  {
   "cell_type": "markdown",
   "metadata": {},
   "source": [
    "### Train-Test Split\n",
    "\n",
    "Using Stratified Sampling strategy"
   ]
  },
  {
   "cell_type": "code",
   "execution_count": 4,
   "metadata": {
    "ExecuteTime": {
     "end_time": "2020-04-09T03:07:22.350049Z",
     "start_time": "2020-04-09T03:07:22.293629Z"
    }
   },
   "outputs": [],
   "source": [
    "# Obtain the column to statify on\n",
    "df['p1_median_income_category'] = np.ceil(df['median_income']/1.5)\n",
    "df['p1_median_income_category'] = df['p1_median_income_category'].apply(lambda x: x if x<=5.0 else 5.0)\n",
    "\n",
    "# Train Test Split - Stratified strategy\n",
    "shuffle_split = StratifiedShuffleSplit(n_splits=1, test_size=0.2, random_state=0)\n",
    "df_splits = list(shuffle_split.split(df, df['p1_median_income_category']))[0]\n",
    "df_strat_train = df.iloc[df_splits[0]].copy()\n",
    "df_strat_test = df.iloc[df_splits[1]].copy()\n",
    "\n",
    "# Remove column to stratify on\n",
    "_ = df_strat_train.drop('p1_median_income_category', axis=1, inplace=True)\n",
    "_ = df_strat_test.drop('p1_median_income_category', axis=1, inplace=True)\n",
    "\n",
    "# X_train, X_test, y_train, y_test\n",
    "X_train = df_strat_train.drop('median_house_value', axis=1).copy()\n",
    "y_train = df_strat_train['median_house_value'].copy()\n",
    "X_test = df_strat_test.drop('median_house_value', axis=1).copy()\n",
    "y_test = df_strat_test['median_house_value'].copy()"
   ]
  },
  {
   "cell_type": "code",
   "execution_count": 5,
   "metadata": {
    "ExecuteTime": {
     "end_time": "2020-04-09T03:07:22.557812Z",
     "start_time": "2020-04-09T03:07:22.353011Z"
    }
   },
   "outputs": [
    {
     "data": {
      "text/html": [
       "<div>\n",
       "<style scoped>\n",
       "    .dataframe tbody tr th:only-of-type {\n",
       "        vertical-align: middle;\n",
       "    }\n",
       "\n",
       "    .dataframe tbody tr th {\n",
       "        vertical-align: top;\n",
       "    }\n",
       "\n",
       "    .dataframe thead th {\n",
       "        text-align: right;\n",
       "    }\n",
       "</style>\n",
       "<table border=\"1\" class=\"dataframe\">\n",
       "  <thead>\n",
       "    <tr style=\"text-align: right;\">\n",
       "      <th></th>\n",
       "      <th>longitude</th>\n",
       "      <th>latitude</th>\n",
       "      <th>housing_median_age</th>\n",
       "      <th>total_rooms</th>\n",
       "      <th>total_bedrooms</th>\n",
       "      <th>population</th>\n",
       "      <th>households</th>\n",
       "      <th>median_income</th>\n",
       "      <th>rooms per_household</th>\n",
       "      <th>population_per_household</th>\n",
       "      <th>bedrooms_per_room</th>\n",
       "      <th>&lt;1H OCEAN</th>\n",
       "      <th>INLAND</th>\n",
       "      <th>ISLAND</th>\n",
       "      <th>NEAR BAY</th>\n",
       "      <th>NEAR OCEAN</th>\n",
       "    </tr>\n",
       "  </thead>\n",
       "  <tbody>\n",
       "    <tr>\n",
       "      <th>count</th>\n",
       "      <td>16512.000000</td>\n",
       "      <td>16512.000000</td>\n",
       "      <td>16512.000000</td>\n",
       "      <td>16512.000000</td>\n",
       "      <td>16512.000000</td>\n",
       "      <td>16512.000000</td>\n",
       "      <td>16512.000000</td>\n",
       "      <td>16512.000000</td>\n",
       "      <td>16512.000000</td>\n",
       "      <td>16512.000000</td>\n",
       "      <td>16512.000000</td>\n",
       "      <td>16512.000000</td>\n",
       "      <td>16512.000000</td>\n",
       "      <td>16512.000000</td>\n",
       "      <td>16512.00000</td>\n",
       "      <td>16512.000000</td>\n",
       "    </tr>\n",
       "    <tr>\n",
       "      <th>mean</th>\n",
       "      <td>-0.001442</td>\n",
       "      <td>0.002230</td>\n",
       "      <td>0.002458</td>\n",
       "      <td>-0.003532</td>\n",
       "      <td>-0.004792</td>\n",
       "      <td>-0.004591</td>\n",
       "      <td>-0.004538</td>\n",
       "      <td>0.001456</td>\n",
       "      <td>-0.001727</td>\n",
       "      <td>0.002790</td>\n",
       "      <td>0.000698</td>\n",
       "      <td>0.441679</td>\n",
       "      <td>0.318556</td>\n",
       "      <td>0.000303</td>\n",
       "      <td>0.10992</td>\n",
       "      <td>0.129542</td>\n",
       "    </tr>\n",
       "    <tr>\n",
       "      <th>std</th>\n",
       "      <td>1.002354</td>\n",
       "      <td>1.003475</td>\n",
       "      <td>0.999614</td>\n",
       "      <td>0.993670</td>\n",
       "      <td>0.992945</td>\n",
       "      <td>1.002085</td>\n",
       "      <td>0.994333</td>\n",
       "      <td>0.999486</td>\n",
       "      <td>1.008119</td>\n",
       "      <td>1.116353</td>\n",
       "      <td>1.022342</td>\n",
       "      <td>0.496602</td>\n",
       "      <td>0.465931</td>\n",
       "      <td>0.017399</td>\n",
       "      <td>0.31280</td>\n",
       "      <td>0.335809</td>\n",
       "    </tr>\n",
       "    <tr>\n",
       "      <th>min</th>\n",
       "      <td>-2.385992</td>\n",
       "      <td>-1.447568</td>\n",
       "      <td>-2.196180</td>\n",
       "      <td>-1.207283</td>\n",
       "      <td>-1.277688</td>\n",
       "      <td>-1.256123</td>\n",
       "      <td>-1.303984</td>\n",
       "      <td>-1.774299</td>\n",
       "      <td>-1.852319</td>\n",
       "      <td>-0.229000</td>\n",
       "      <td>-2.707317</td>\n",
       "      <td>0.000000</td>\n",
       "      <td>0.000000</td>\n",
       "      <td>0.000000</td>\n",
       "      <td>0.00000</td>\n",
       "      <td>0.000000</td>\n",
       "    </tr>\n",
       "    <tr>\n",
       "      <th>25%</th>\n",
       "      <td>-1.113209</td>\n",
       "      <td>-0.796789</td>\n",
       "      <td>-0.845393</td>\n",
       "      <td>-0.546289</td>\n",
       "      <td>-0.571887</td>\n",
       "      <td>-0.565575</td>\n",
       "      <td>-0.576845</td>\n",
       "      <td>-0.686882</td>\n",
       "      <td>-0.397628</td>\n",
       "      <td>-0.061888</td>\n",
       "      <td>-0.591556</td>\n",
       "      <td>0.000000</td>\n",
       "      <td>0.000000</td>\n",
       "      <td>0.000000</td>\n",
       "      <td>0.00000</td>\n",
       "      <td>0.000000</td>\n",
       "    </tr>\n",
       "    <tr>\n",
       "      <th>50%</th>\n",
       "      <td>0.538914</td>\n",
       "      <td>-0.642287</td>\n",
       "      <td>0.028646</td>\n",
       "      <td>-0.235273</td>\n",
       "      <td>-0.242831</td>\n",
       "      <td>-0.230015</td>\n",
       "      <td>-0.236816</td>\n",
       "      <td>-0.175979</td>\n",
       "      <td>-0.079958</td>\n",
       "      <td>-0.024428</td>\n",
       "      <td>-0.164955</td>\n",
       "      <td>0.000000</td>\n",
       "      <td>0.000000</td>\n",
       "      <td>0.000000</td>\n",
       "      <td>0.00000</td>\n",
       "      <td>0.000000</td>\n",
       "    </tr>\n",
       "    <tr>\n",
       "      <th>75%</th>\n",
       "      <td>0.778496</td>\n",
       "      <td>0.977638</td>\n",
       "      <td>0.664310</td>\n",
       "      <td>0.230792</td>\n",
       "      <td>0.248368</td>\n",
       "      <td>0.260080</td>\n",
       "      <td>0.265380</td>\n",
       "      <td>0.460925</td>\n",
       "      <td>0.251069</td>\n",
       "      <td>0.020167</td>\n",
       "      <td>0.400664</td>\n",
       "      <td>1.000000</td>\n",
       "      <td>1.000000</td>\n",
       "      <td>0.000000</td>\n",
       "      <td>0.00000</td>\n",
       "      <td>0.000000</td>\n",
       "    </tr>\n",
       "    <tr>\n",
       "      <th>max</th>\n",
       "      <td>2.625280</td>\n",
       "      <td>2.958068</td>\n",
       "      <td>1.856182</td>\n",
       "      <td>16.815580</td>\n",
       "      <td>14.087789</td>\n",
       "      <td>30.250330</td>\n",
       "      <td>14.601520</td>\n",
       "      <td>5.858286</td>\n",
       "      <td>55.163236</td>\n",
       "      <td>119.419103</td>\n",
       "      <td>40.015599</td>\n",
       "      <td>1.000000</td>\n",
       "      <td>1.000000</td>\n",
       "      <td>1.000000</td>\n",
       "      <td>1.00000</td>\n",
       "      <td>1.000000</td>\n",
       "    </tr>\n",
       "  </tbody>\n",
       "</table>\n",
       "</div>"
      ],
      "text/plain": [
       "          longitude      latitude  housing_median_age   total_rooms  \\\n",
       "count  16512.000000  16512.000000        16512.000000  16512.000000   \n",
       "mean      -0.001442      0.002230            0.002458     -0.003532   \n",
       "std        1.002354      1.003475            0.999614      0.993670   \n",
       "min       -2.385992     -1.447568           -2.196180     -1.207283   \n",
       "25%       -1.113209     -0.796789           -0.845393     -0.546289   \n",
       "50%        0.538914     -0.642287            0.028646     -0.235273   \n",
       "75%        0.778496      0.977638            0.664310      0.230792   \n",
       "max        2.625280      2.958068            1.856182     16.815580   \n",
       "\n",
       "       total_bedrooms    population    households  median_income  \\\n",
       "count    16512.000000  16512.000000  16512.000000   16512.000000   \n",
       "mean        -0.004792     -0.004591     -0.004538       0.001456   \n",
       "std          0.992945      1.002085      0.994333       0.999486   \n",
       "min         -1.277688     -1.256123     -1.303984      -1.774299   \n",
       "25%         -0.571887     -0.565575     -0.576845      -0.686882   \n",
       "50%         -0.242831     -0.230015     -0.236816      -0.175979   \n",
       "75%          0.248368      0.260080      0.265380       0.460925   \n",
       "max         14.087789     30.250330     14.601520       5.858286   \n",
       "\n",
       "       rooms per_household  population_per_household  bedrooms_per_room  \\\n",
       "count         16512.000000              16512.000000       16512.000000   \n",
       "mean             -0.001727                  0.002790           0.000698   \n",
       "std               1.008119                  1.116353           1.022342   \n",
       "min              -1.852319                 -0.229000          -2.707317   \n",
       "25%              -0.397628                 -0.061888          -0.591556   \n",
       "50%              -0.079958                 -0.024428          -0.164955   \n",
       "75%               0.251069                  0.020167           0.400664   \n",
       "max              55.163236                119.419103          40.015599   \n",
       "\n",
       "          <1H OCEAN        INLAND        ISLAND     NEAR BAY    NEAR OCEAN  \n",
       "count  16512.000000  16512.000000  16512.000000  16512.00000  16512.000000  \n",
       "mean       0.441679      0.318556      0.000303      0.10992      0.129542  \n",
       "std        0.496602      0.465931      0.017399      0.31280      0.335809  \n",
       "min        0.000000      0.000000      0.000000      0.00000      0.000000  \n",
       "25%        0.000000      0.000000      0.000000      0.00000      0.000000  \n",
       "50%        0.000000      0.000000      0.000000      0.00000      0.000000  \n",
       "75%        1.000000      1.000000      0.000000      0.00000      0.000000  \n",
       "max        1.000000      1.000000      1.000000      1.00000      1.000000  "
      ]
     },
     "metadata": {},
     "output_type": "display_data"
    },
    {
     "data": {
      "text/html": [
       "<div>\n",
       "<style scoped>\n",
       "    .dataframe tbody tr th:only-of-type {\n",
       "        vertical-align: middle;\n",
       "    }\n",
       "\n",
       "    .dataframe tbody tr th {\n",
       "        vertical-align: top;\n",
       "    }\n",
       "\n",
       "    .dataframe thead th {\n",
       "        text-align: right;\n",
       "    }\n",
       "</style>\n",
       "<table border=\"1\" class=\"dataframe\">\n",
       "  <thead>\n",
       "    <tr style=\"text-align: right;\">\n",
       "      <th></th>\n",
       "      <th>longitude</th>\n",
       "      <th>latitude</th>\n",
       "      <th>housing_median_age</th>\n",
       "      <th>total_rooms</th>\n",
       "      <th>total_bedrooms</th>\n",
       "      <th>population</th>\n",
       "      <th>households</th>\n",
       "      <th>median_income</th>\n",
       "      <th>rooms per_household</th>\n",
       "      <th>population_per_household</th>\n",
       "      <th>bedrooms_per_room</th>\n",
       "      <th>&lt;1H OCEAN</th>\n",
       "      <th>INLAND</th>\n",
       "      <th>ISLAND</th>\n",
       "      <th>NEAR BAY</th>\n",
       "      <th>NEAR OCEAN</th>\n",
       "    </tr>\n",
       "  </thead>\n",
       "  <tbody>\n",
       "    <tr>\n",
       "      <th>count</th>\n",
       "      <td>4128.000000</td>\n",
       "      <td>4128.000000</td>\n",
       "      <td>4128.000000</td>\n",
       "      <td>4128.000000</td>\n",
       "      <td>4128.000000</td>\n",
       "      <td>4128.000000</td>\n",
       "      <td>4128.000000</td>\n",
       "      <td>4128.000000</td>\n",
       "      <td>4128.000000</td>\n",
       "      <td>4128.000000</td>\n",
       "      <td>4128.000000</td>\n",
       "      <td>4128.000000</td>\n",
       "      <td>4128.000000</td>\n",
       "      <td>4128.0</td>\n",
       "      <td>4128.000000</td>\n",
       "      <td>4128.000000</td>\n",
       "    </tr>\n",
       "    <tr>\n",
       "      <th>mean</th>\n",
       "      <td>0.005769</td>\n",
       "      <td>-0.008920</td>\n",
       "      <td>-0.009832</td>\n",
       "      <td>0.014127</td>\n",
       "      <td>0.019168</td>\n",
       "      <td>0.018364</td>\n",
       "      <td>0.018150</td>\n",
       "      <td>-0.005824</td>\n",
       "      <td>0.006909</td>\n",
       "      <td>-0.011161</td>\n",
       "      <td>-0.002794</td>\n",
       "      <td>0.446463</td>\n",
       "      <td>0.312742</td>\n",
       "      <td>0.0</td>\n",
       "      <td>0.115068</td>\n",
       "      <td>0.125727</td>\n",
       "    </tr>\n",
       "    <tr>\n",
       "      <th>std</th>\n",
       "      <td>0.990752</td>\n",
       "      <td>0.986168</td>\n",
       "      <td>1.001724</td>\n",
       "      <td>1.025047</td>\n",
       "      <td>1.027755</td>\n",
       "      <td>0.991646</td>\n",
       "      <td>1.022393</td>\n",
       "      <td>1.002275</td>\n",
       "      <td>0.967058</td>\n",
       "      <td>0.123169</td>\n",
       "      <td>0.905376</td>\n",
       "      <td>0.497186</td>\n",
       "      <td>0.463666</td>\n",
       "      <td>0.0</td>\n",
       "      <td>0.319142</td>\n",
       "      <td>0.331581</td>\n",
       "    </tr>\n",
       "    <tr>\n",
       "      <th>min</th>\n",
       "      <td>-2.361036</td>\n",
       "      <td>-1.442886</td>\n",
       "      <td>-2.196180</td>\n",
       "      <td>-1.201324</td>\n",
       "      <td>-1.272919</td>\n",
       "      <td>-1.251707</td>\n",
       "      <td>-1.298752</td>\n",
       "      <td>-1.774299</td>\n",
       "      <td>-1.566610</td>\n",
       "      <td>-0.190779</td>\n",
       "      <td>-2.213220</td>\n",
       "      <td>0.000000</td>\n",
       "      <td>0.000000</td>\n",
       "      <td>0.0</td>\n",
       "      <td>0.000000</td>\n",
       "      <td>0.000000</td>\n",
       "    </tr>\n",
       "    <tr>\n",
       "      <th>25%</th>\n",
       "      <td>-1.103226</td>\n",
       "      <td>-0.796789</td>\n",
       "      <td>-0.845393</td>\n",
       "      <td>-0.537121</td>\n",
       "      <td>-0.565329</td>\n",
       "      <td>-0.555861</td>\n",
       "      <td>-0.568998</td>\n",
       "      <td>-0.691593</td>\n",
       "      <td>-0.405664</td>\n",
       "      <td>-0.060465</td>\n",
       "      <td>-0.589007</td>\n",
       "      <td>0.000000</td>\n",
       "      <td>0.000000</td>\n",
       "      <td>0.0</td>\n",
       "      <td>0.000000</td>\n",
       "      <td>0.000000</td>\n",
       "    </tr>\n",
       "    <tr>\n",
       "      <th>50%</th>\n",
       "      <td>0.533922</td>\n",
       "      <td>-0.642287</td>\n",
       "      <td>0.028646</td>\n",
       "      <td>-0.223126</td>\n",
       "      <td>-0.242831</td>\n",
       "      <td>-0.222067</td>\n",
       "      <td>-0.234201</td>\n",
       "      <td>-0.179953</td>\n",
       "      <td>-0.085268</td>\n",
       "      <td>-0.023762</td>\n",
       "      <td>-0.154334</td>\n",
       "      <td>0.000000</td>\n",
       "      <td>0.000000</td>\n",
       "      <td>0.0</td>\n",
       "      <td>0.000000</td>\n",
       "      <td>0.000000</td>\n",
       "    </tr>\n",
       "    <tr>\n",
       "      <th>75%</th>\n",
       "      <td>0.778496</td>\n",
       "      <td>0.963593</td>\n",
       "      <td>0.664310</td>\n",
       "      <td>0.252680</td>\n",
       "      <td>0.277578</td>\n",
       "      <td>0.291207</td>\n",
       "      <td>0.299383</td>\n",
       "      <td>0.454806</td>\n",
       "      <td>0.255078</td>\n",
       "      <td>0.021198</td>\n",
       "      <td>0.415131</td>\n",
       "      <td>1.000000</td>\n",
       "      <td>1.000000</td>\n",
       "      <td>0.0</td>\n",
       "      <td>0.000000</td>\n",
       "      <td>0.000000</td>\n",
       "    </tr>\n",
       "    <tr>\n",
       "      <th>max</th>\n",
       "      <td>2.500497</td>\n",
       "      <td>2.897203</td>\n",
       "      <td>1.856182</td>\n",
       "      <td>13.484939</td>\n",
       "      <td>11.333735</td>\n",
       "      <td>12.434733</td>\n",
       "      <td>11.902214</td>\n",
       "      <td>5.858286</td>\n",
       "      <td>22.789378</td>\n",
       "      <td>4.653407</td>\n",
       "      <td>9.470930</td>\n",
       "      <td>1.000000</td>\n",
       "      <td>1.000000</td>\n",
       "      <td>0.0</td>\n",
       "      <td>1.000000</td>\n",
       "      <td>1.000000</td>\n",
       "    </tr>\n",
       "  </tbody>\n",
       "</table>\n",
       "</div>"
      ],
      "text/plain": [
       "         longitude     latitude  housing_median_age  total_rooms  \\\n",
       "count  4128.000000  4128.000000         4128.000000  4128.000000   \n",
       "mean      0.005769    -0.008920           -0.009832     0.014127   \n",
       "std       0.990752     0.986168            1.001724     1.025047   \n",
       "min      -2.361036    -1.442886           -2.196180    -1.201324   \n",
       "25%      -1.103226    -0.796789           -0.845393    -0.537121   \n",
       "50%       0.533922    -0.642287            0.028646    -0.223126   \n",
       "75%       0.778496     0.963593            0.664310     0.252680   \n",
       "max       2.500497     2.897203            1.856182    13.484939   \n",
       "\n",
       "       total_bedrooms   population   households  median_income  \\\n",
       "count     4128.000000  4128.000000  4128.000000    4128.000000   \n",
       "mean         0.019168     0.018364     0.018150      -0.005824   \n",
       "std          1.027755     0.991646     1.022393       1.002275   \n",
       "min         -1.272919    -1.251707    -1.298752      -1.774299   \n",
       "25%         -0.565329    -0.555861    -0.568998      -0.691593   \n",
       "50%         -0.242831    -0.222067    -0.234201      -0.179953   \n",
       "75%          0.277578     0.291207     0.299383       0.454806   \n",
       "max         11.333735    12.434733    11.902214       5.858286   \n",
       "\n",
       "       rooms per_household  population_per_household  bedrooms_per_room  \\\n",
       "count          4128.000000               4128.000000        4128.000000   \n",
       "mean              0.006909                 -0.011161          -0.002794   \n",
       "std               0.967058                  0.123169           0.905376   \n",
       "min              -1.566610                 -0.190779          -2.213220   \n",
       "25%              -0.405664                 -0.060465          -0.589007   \n",
       "50%              -0.085268                 -0.023762          -0.154334   \n",
       "75%               0.255078                  0.021198           0.415131   \n",
       "max              22.789378                  4.653407           9.470930   \n",
       "\n",
       "         <1H OCEAN       INLAND  ISLAND     NEAR BAY   NEAR OCEAN  \n",
       "count  4128.000000  4128.000000  4128.0  4128.000000  4128.000000  \n",
       "mean      0.446463     0.312742     0.0     0.115068     0.125727  \n",
       "std       0.497186     0.463666     0.0     0.319142     0.331581  \n",
       "min       0.000000     0.000000     0.0     0.000000     0.000000  \n",
       "25%       0.000000     0.000000     0.0     0.000000     0.000000  \n",
       "50%       0.000000     0.000000     0.0     0.000000     0.000000  \n",
       "75%       1.000000     1.000000     0.0     0.000000     0.000000  \n",
       "max       1.000000     1.000000     0.0     1.000000     1.000000  "
      ]
     },
     "metadata": {},
     "output_type": "display_data"
    }
   ],
   "source": [
    "# For testing\n",
    "display(X_train.describe())\n",
    "display(X_test.describe())"
   ]
  },
  {
   "cell_type": "markdown",
   "metadata": {},
   "source": [
    "### Modelling - Linear Regression"
   ]
  },
  {
   "cell_type": "code",
   "execution_count": 6,
   "metadata": {
    "ExecuteTime": {
     "end_time": "2020-04-09T03:07:22.586575Z",
     "start_time": "2020-04-09T03:07:22.560879Z"
    },
    "scrolled": false
   },
   "outputs": [
    {
     "data": {
      "text/plain": [
       "LinearRegression(copy_X=True, fit_intercept=True, n_jobs=None, normalize=False)"
      ]
     },
     "execution_count": 6,
     "metadata": {},
     "output_type": "execute_result"
    }
   ],
   "source": [
    "# Train\n",
    "model1 = LinearRegression()\n",
    "model1.fit(X_train, y_train)"
   ]
  },
  {
   "cell_type": "code",
   "execution_count": 7,
   "metadata": {
    "ExecuteTime": {
     "end_time": "2020-04-09T03:07:22.597955Z",
     "start_time": "2020-04-09T03:07:22.589854Z"
    }
   },
   "outputs": [
    {
     "data": {
      "text/plain": [
       "['chap02_model1.pkl']"
      ]
     },
     "execution_count": 7,
     "metadata": {},
     "output_type": "execute_result"
    }
   ],
   "source": [
    "joblib.dump(model1, 'chap02_model1.pkl')"
   ]
  },
  {
   "cell_type": "markdown",
   "metadata": {},
   "source": [
    "### Model Evaluation - Linear Regression"
   ]
  },
  {
   "cell_type": "code",
   "execution_count": 8,
   "metadata": {
    "ExecuteTime": {
     "end_time": "2020-04-09T03:07:22.618730Z",
     "start_time": "2020-04-09T03:07:22.603453Z"
    }
   },
   "outputs": [
    {
     "name": "stdout",
     "output_type": "stream",
     "text": [
      "Actual\t\tPredicted\n",
      "---------------------------\n",
      "121800.00\t111700.46\n",
      "219400.00\t176671.21\n",
      "310000.00\t362695.92\n",
      "157600.00\t159785.81\n",
      "257500.00\t219614.98\n"
     ]
    }
   ],
   "source": [
    "# Test a small sample\n",
    "X_test_sample = X_test[:5]\n",
    "y_test_sample = y_test.iloc[:5]\n",
    "y_predict_test_sample = model1.predict(X_test_sample)\n",
    "print(\"Actual\\t\\tPredicted\")\n",
    "print(\"---------------------------\")\n",
    "for ytest, ypredict in zip(y_test_sample, y_predict_test_sample):\n",
    "    print(\"{:.2f}\\t{:.2f}\".format(ytest, ypredict))"
   ]
  },
  {
   "cell_type": "code",
   "execution_count": 9,
   "metadata": {
    "ExecuteTime": {
     "end_time": "2020-04-09T03:07:22.642945Z",
     "start_time": "2020-04-09T03:07:22.623293Z"
    }
   },
   "outputs": [
    {
     "name": "stdout",
     "output_type": "stream",
     "text": [
      "68498.1054790028\n"
     ]
    }
   ],
   "source": [
    "ytrain_predict = model1.predict(X_train)\n",
    "training_mse = mean_squared_error(y_train, ytrain_predict)\n",
    "training_rmse = np.sqrt(training_mse)\n",
    "print(training_rmse)"
   ]
  },
  {
   "cell_type": "code",
   "execution_count": 10,
   "metadata": {
    "ExecuteTime": {
     "end_time": "2020-04-09T03:07:22.657553Z",
     "start_time": "2020-04-09T03:07:22.648692Z"
    }
   },
   "outputs": [
    {
     "name": "stdout",
     "output_type": "stream",
     "text": [
      "49388.02226716921\n"
     ]
    }
   ],
   "source": [
    "training_mae = mean_absolute_error(y_train, ytrain_predict)\n",
    "print(training_mae)"
   ]
  },
  {
   "cell_type": "markdown",
   "metadata": {
    "ExecuteTime": {
     "end_time": "2020-04-08T03:54:24.959832Z",
     "start_time": "2020-04-08T03:54:24.955889Z"
    }
   },
   "source": [
    "### Modelling - Decision Tree Regressor"
   ]
  },
  {
   "cell_type": "code",
   "execution_count": 11,
   "metadata": {
    "ExecuteTime": {
     "end_time": "2020-04-09T03:07:22.959924Z",
     "start_time": "2020-04-09T03:07:22.660064Z"
    }
   },
   "outputs": [
    {
     "data": {
      "text/plain": [
       "DecisionTreeRegressor(ccp_alpha=0.0, criterion='mse', max_depth=None,\n",
       "                      max_features=None, max_leaf_nodes=None,\n",
       "                      min_impurity_decrease=0.0, min_impurity_split=None,\n",
       "                      min_samples_leaf=1, min_samples_split=2,\n",
       "                      min_weight_fraction_leaf=0.0, presort='deprecated',\n",
       "                      random_state=0, splitter='best')"
      ]
     },
     "execution_count": 11,
     "metadata": {},
     "output_type": "execute_result"
    }
   ],
   "source": [
    "model2 = DecisionTreeRegressor(random_state=0)\n",
    "model2.fit(X_train, y_train)"
   ]
  },
  {
   "cell_type": "code",
   "execution_count": 12,
   "metadata": {
    "ExecuteTime": {
     "end_time": "2020-04-09T03:07:22.974782Z",
     "start_time": "2020-04-09T03:07:22.962459Z"
    }
   },
   "outputs": [
    {
     "data": {
      "text/plain": [
       "['chap02_model2.pkl']"
      ]
     },
     "execution_count": 12,
     "metadata": {},
     "output_type": "execute_result"
    }
   ],
   "source": [
    "joblib.dump(model2, 'chap02_model2.pkl')"
   ]
  },
  {
   "cell_type": "markdown",
   "metadata": {},
   "source": [
    "### Model Evaluation - Decision Tree Regressor"
   ]
  },
  {
   "cell_type": "code",
   "execution_count": 13,
   "metadata": {
    "ExecuteTime": {
     "end_time": "2020-04-09T03:07:22.992010Z",
     "start_time": "2020-04-09T03:07:22.977909Z"
    }
   },
   "outputs": [
    {
     "name": "stdout",
     "output_type": "stream",
     "text": [
      "0.0\n"
     ]
    }
   ],
   "source": [
    "ytrain_predict2 = model2.predict(X_train)\n",
    "training_mse2 = mean_squared_error(y_train, ytrain_predict2)\n",
    "training_rmse2 = np.sqrt(training_mse2)\n",
    "print(training_rmse2)"
   ]
  },
  {
   "cell_type": "markdown",
   "metadata": {},
   "source": [
    "### Modelling - Random Forest Regressor"
   ]
  },
  {
   "cell_type": "code",
   "execution_count": 14,
   "metadata": {
    "ExecuteTime": {
     "end_time": "2020-04-09T03:07:37.507197Z",
     "start_time": "2020-04-09T03:07:22.995056Z"
    }
   },
   "outputs": [
    {
     "data": {
      "text/plain": [
       "RandomForestRegressor(bootstrap=True, ccp_alpha=0.0, criterion='mse',\n",
       "                      max_depth=None, max_features='auto', max_leaf_nodes=None,\n",
       "                      max_samples=None, min_impurity_decrease=0.0,\n",
       "                      min_impurity_split=None, min_samples_leaf=1,\n",
       "                      min_samples_split=2, min_weight_fraction_leaf=0.0,\n",
       "                      n_estimators=100, n_jobs=None, oob_score=False,\n",
       "                      random_state=0, verbose=0, warm_start=False)"
      ]
     },
     "execution_count": 14,
     "metadata": {},
     "output_type": "execute_result"
    }
   ],
   "source": [
    "model3 = RandomForestRegressor(random_state=0)\n",
    "model3.fit(X_train, y_train)"
   ]
  },
  {
   "cell_type": "code",
   "execution_count": 15,
   "metadata": {
    "ExecuteTime": {
     "end_time": "2020-04-09T03:07:37.898033Z",
     "start_time": "2020-04-09T03:07:37.509830Z"
    }
   },
   "outputs": [
    {
     "data": {
      "text/plain": [
       "['chap02_model3.pkl']"
      ]
     },
     "execution_count": 15,
     "metadata": {},
     "output_type": "execute_result"
    }
   ],
   "source": [
    "joblib.dump(model3, 'chap02_model3.pkl')"
   ]
  },
  {
   "cell_type": "code",
   "execution_count": 16,
   "metadata": {
    "ExecuteTime": {
     "end_time": "2020-04-09T03:07:38.303065Z",
     "start_time": "2020-04-09T03:07:37.901259Z"
    }
   },
   "outputs": [
    {
     "name": "stdout",
     "output_type": "stream",
     "text": [
      "18531.48268225328\n"
     ]
    }
   ],
   "source": [
    "y_predict3 = model3.predict(X_train)\n",
    "training_mse3 = mean_squared_error(y_train, y_predict3)\n",
    "training_rmse3 = np.sqrt(training_mse3)\n",
    "print(training_rmse3)"
   ]
  },
  {
   "cell_type": "markdown",
   "metadata": {},
   "source": [
    "### Cross Validation"
   ]
  },
  {
   "cell_type": "code",
   "execution_count": 17,
   "metadata": {
    "ExecuteTime": {
     "end_time": "2020-04-09T03:07:38.309911Z",
     "start_time": "2020-04-09T03:07:38.305414Z"
    }
   },
   "outputs": [],
   "source": [
    "def display_scores(scores):\n",
    "    print(\"Scores: \", scores)\n",
    "    print(\"Mean  : \", scores.mean())\n",
    "    print(\"SD    : \", scores.std())    "
   ]
  },
  {
   "cell_type": "code",
   "execution_count": 18,
   "metadata": {
    "ExecuteTime": {
     "end_time": "2020-04-09T03:09:43.058764Z",
     "start_time": "2020-04-09T03:07:38.312794Z"
    }
   },
   "outputs": [
    {
     "name": "stdout",
     "output_type": "stream",
     "text": [
      "Scores:  [50128.63077714 49825.91191266 48340.97328755 49021.60276501\n",
      " 51167.551463   49693.9308058  47497.07290867 50530.47646797\n",
      " 52228.19774811 50487.86648286]\n",
      "Mean  :  49892.22146187593\n",
      "SD    :  1297.9254283659618\n"
     ]
    }
   ],
   "source": [
    "# RMSE for 10-fold cross validation on Linear Regression\n",
    "scores = cross_val_score(model3, X_train, y_train, scoring='neg_mean_squared_error', cv=10)\n",
    "rmse_scores = np.sqrt(-scores)\n",
    "display_scores(rmse_scores)"
   ]
  },
  {
   "cell_type": "code",
   "execution_count": 19,
   "metadata": {
    "ExecuteTime": {
     "end_time": "2020-04-09T03:09:45.129424Z",
     "start_time": "2020-04-09T03:09:43.061364Z"
    }
   },
   "outputs": [
    {
     "name": "stdout",
     "output_type": "stream",
     "text": [
      "Scores:  [71083.05580918 69947.3226813  70231.93474872 69114.8078499\n",
      " 72193.57936851 70884.26836269 69528.41007064 71185.59244803\n",
      " 72080.87635058 69978.17419224]\n",
      "Mean  :  70622.80218817863\n",
      "SD    :  984.2046662040034\n"
     ]
    }
   ],
   "source": [
    "# RMSE for 10-fold cross validation on Decision Tree Regressor\n",
    "scores = cross_val_score(model2, X_train, y_train, scoring='neg_mean_squared_error', cv=10)\n",
    "rmse_scores = np.sqrt(-scores)\n",
    "display_scores(rmse_scores)"
   ]
  },
  {
   "cell_type": "code",
   "execution_count": 20,
   "metadata": {
    "ExecuteTime": {
     "end_time": "2020-04-09T03:11:58.566084Z",
     "start_time": "2020-04-09T03:09:45.132104Z"
    }
   },
   "outputs": [
    {
     "name": "stdout",
     "output_type": "stream",
     "text": [
      "Scores:  [50128.63077714 49825.91191266 48340.97328755 49021.60276501\n",
      " 51167.551463   49693.9308058  47497.07290867 50530.47646797\n",
      " 52228.19774811 50487.86648286]\n",
      "Mean  :  49892.22146187593\n",
      "SD    :  1297.9254283659618\n"
     ]
    }
   ],
   "source": [
    "# RMSE for 10-fold cross validation on Random Forest Regressor\n",
    "scores = cross_val_score(model3, X_train, y_train, scoring='neg_mean_squared_error', cv=10)\n",
    "rmse_scores = np.sqrt(-scores)\n",
    "display_scores(rmse_scores)"
   ]
  },
  {
   "cell_type": "markdown",
   "metadata": {},
   "source": [
    "### Grid Search"
   ]
  },
  {
   "cell_type": "code",
   "execution_count": 21,
   "metadata": {
    "ExecuteTime": {
     "end_time": "2020-04-09T03:11:58.577129Z",
     "start_time": "2020-04-09T03:11:58.569885Z"
    }
   },
   "outputs": [],
   "source": [
    "param_grid = [{'n_estimators' : [5, 10, 50], 'max_features' : [2,4,6,8]},\n",
    "              {'bootstrap' : [False], 'n_estimators' : [5,10,50], 'max_features' : [2,3,4]}]"
   ]
  },
  {
   "cell_type": "code",
   "execution_count": 22,
   "metadata": {
    "ExecuteTime": {
     "end_time": "2020-04-09T03:14:06.399610Z",
     "start_time": "2020-04-09T03:11:58.580794Z"
    }
   },
   "outputs": [
    {
     "data": {
      "text/plain": [
       "GridSearchCV(cv=5, error_score=nan,\n",
       "             estimator=RandomForestRegressor(bootstrap=True, ccp_alpha=0.0,\n",
       "                                             criterion='mse', max_depth=None,\n",
       "                                             max_features='auto',\n",
       "                                             max_leaf_nodes=None,\n",
       "                                             max_samples=None,\n",
       "                                             min_impurity_decrease=0.0,\n",
       "                                             min_impurity_split=None,\n",
       "                                             min_samples_leaf=1,\n",
       "                                             min_samples_split=2,\n",
       "                                             min_weight_fraction_leaf=0.0,\n",
       "                                             n_estimators=100, n_jobs=None,\n",
       "                                             oob_score=False, random_state=None,\n",
       "                                             verbose=0, warm_start=False),\n",
       "             iid='deprecated', n_jobs=None,\n",
       "             param_grid=[{'max_features': [2, 4, 6, 8],\n",
       "                          'n_estimators': [5, 10, 50]},\n",
       "                         {'bootstrap': [False], 'max_features': [2, 3, 4],\n",
       "                          'n_estimators': [5, 10, 50]}],\n",
       "             pre_dispatch='2*n_jobs', refit=True, return_train_score=False,\n",
       "             scoring='neg_mean_squared_error', verbose=0)"
      ]
     },
     "execution_count": 22,
     "metadata": {},
     "output_type": "execute_result"
    }
   ],
   "source": [
    "forest_reg = RandomForestRegressor()\n",
    "grid_search = GridSearchCV(forest_reg, param_grid, cv=5, scoring='neg_mean_squared_error')\n",
    "grid_search.fit(X_train, y_train)"
   ]
  },
  {
   "cell_type": "code",
   "execution_count": 23,
   "metadata": {
    "ExecuteTime": {
     "end_time": "2020-04-09T03:14:06.410286Z",
     "start_time": "2020-04-09T03:14:06.406349Z"
    }
   },
   "outputs": [],
   "source": [
    "best_estimator = grid_search.best_estimator_"
   ]
  },
  {
   "cell_type": "code",
   "execution_count": 24,
   "metadata": {
    "ExecuteTime": {
     "end_time": "2020-04-09T03:14:06.664233Z",
     "start_time": "2020-04-09T03:14:06.413917Z"
    }
   },
   "outputs": [
    {
     "data": {
      "text/plain": [
       "['chap02_model_final.pkl']"
      ]
     },
     "execution_count": 24,
     "metadata": {},
     "output_type": "execute_result"
    }
   ],
   "source": [
    "joblib.dump(best_estimator, 'chap02_model_final.pkl')"
   ]
  },
  {
   "cell_type": "code",
   "execution_count": 25,
   "metadata": {
    "ExecuteTime": {
     "end_time": "2020-04-09T03:14:06.682815Z",
     "start_time": "2020-04-09T03:14:06.667227Z"
    },
    "scrolled": false
   },
   "outputs": [
    {
     "name": "stdout",
     "output_type": "stream",
     "text": [
      "58161.6 {'max_features': 2, 'n_estimators': 5}\n",
      "55191.9 {'max_features': 2, 'n_estimators': 10}\n",
      "51777.9 {'max_features': 2, 'n_estimators': 50}\n",
      "55806.7 {'max_features': 4, 'n_estimators': 5}\n",
      "52736.0 {'max_features': 4, 'n_estimators': 10}\n",
      "49922.6 {'max_features': 4, 'n_estimators': 50}\n",
      "55251.5 {'max_features': 6, 'n_estimators': 5}\n",
      "51840.3 {'max_features': 6, 'n_estimators': 10}\n",
      "49392.6 {'max_features': 6, 'n_estimators': 50}\n",
      "55120.2 {'max_features': 8, 'n_estimators': 5}\n",
      "51939.3 {'max_features': 8, 'n_estimators': 10}\n",
      "49625.5 {'max_features': 8, 'n_estimators': 50}\n",
      "57713.2 {'bootstrap': False, 'max_features': 2, 'n_estimators': 5}\n",
      "54378.6 {'bootstrap': False, 'max_features': 2, 'n_estimators': 10}\n",
      "50982.9 {'bootstrap': False, 'max_features': 2, 'n_estimators': 50}\n",
      "55133.0 {'bootstrap': False, 'max_features': 3, 'n_estimators': 5}\n",
      "52623.1 {'bootstrap': False, 'max_features': 3, 'n_estimators': 10}\n",
      "49609.1 {'bootstrap': False, 'max_features': 3, 'n_estimators': 50}\n",
      "54619.9 {'bootstrap': False, 'max_features': 4, 'n_estimators': 5}\n",
      "51880.3 {'bootstrap': False, 'max_features': 4, 'n_estimators': 10}\n",
      "48979.0 {'bootstrap': False, 'max_features': 4, 'n_estimators': 50}\n"
     ]
    }
   ],
   "source": [
    "cvs = grid_search.cv_results_\n",
    "for mean_score, params in zip(cvs['mean_test_score'], cvs['params']):\n",
    "    print('{:.1f}'.format(np.sqrt(-mean_score)), params)"
   ]
  },
  {
   "cell_type": "code",
   "execution_count": 26,
   "metadata": {
    "ExecuteTime": {
     "end_time": "2020-04-09T03:14:06.727516Z",
     "start_time": "2020-04-09T03:14:06.686444Z"
    }
   },
   "outputs": [
    {
     "data": {
      "text/plain": [
       "array([9.03638624e-02, 8.35511606e-02, 4.23530447e-02, 2.10085404e-02,\n",
       "       1.92031769e-02, 2.12312174e-02, 1.89749711e-02, 2.99098505e-01,\n",
       "       6.08305063e-02, 1.00398310e-01, 8.67623228e-02, 2.12547616e-02,\n",
       "       1.18707000e-01, 2.78197716e-04, 5.69627010e-03, 1.02881540e-02])"
      ]
     },
     "execution_count": 26,
     "metadata": {},
     "output_type": "execute_result"
    }
   ],
   "source": [
    "feature_importances = grid_search.best_estimator_.feature_importances_\n",
    "feature_importances"
   ]
  },
  {
   "cell_type": "code",
   "execution_count": 27,
   "metadata": {
    "ExecuteTime": {
     "end_time": "2020-04-09T03:14:06.742973Z",
     "start_time": "2020-04-09T03:14:06.730480Z"
    }
   },
   "outputs": [
    {
     "data": {
      "text/plain": [
       "[(0.2990985046814199, 'median_income'),\n",
       " (0.11870699980032202, 'INLAND'),\n",
       " (0.1003983095965346, 'population_per_household'),\n",
       " (0.09036386236856708, 'longitude'),\n",
       " (0.08676232275742518, 'bedrooms_per_room'),\n",
       " (0.08355116063341483, 'latitude'),\n",
       " (0.060830506332311914, 'rooms per_household'),\n",
       " (0.042353044703058076, 'housing_median_age'),\n",
       " (0.02125476162060122, '<1H OCEAN'),\n",
       " (0.021231217368587112, 'population'),\n",
       " (0.021008540360326337, 'total_rooms'),\n",
       " (0.019203176853532282, 'total_bedrooms'),\n",
       " (0.018974971054573436, 'households'),\n",
       " (0.010288154049394642, 'NEAR OCEAN'),\n",
       " (0.005696270103778209, 'NEAR BAY'),\n",
       " (0.0002781977161531303, 'ISLAND')]"
      ]
     },
     "execution_count": 27,
     "metadata": {},
     "output_type": "execute_result"
    }
   ],
   "source": [
    "attributes = list(df_features)\n",
    "sorted(zip(feature_importances, attributes), reverse=True)"
   ]
  },
  {
   "cell_type": "code",
   "execution_count": 28,
   "metadata": {
    "ExecuteTime": {
     "end_time": "2020-04-09T03:14:06.832384Z",
     "start_time": "2020-04-09T03:14:06.745813Z"
    }
   },
   "outputs": [
    {
     "name": "stdout",
     "output_type": "stream",
     "text": [
      "48300.38643303764\n"
     ]
    }
   ],
   "source": [
    "final_model = grid_search.best_estimator_\n",
    "y_predict_test = final_model.predict(X_test)\n",
    "final_mse = mean_squared_error(y_test, y_predict_test)\n",
    "final_rmse = np.sqrt(final_mse)\n",
    "print(final_rmse)"
   ]
  },
  {
   "cell_type": "markdown",
   "metadata": {},
   "source": [
    "**References:**\n",
    "\n",
    "Python for Data Analysis, 2nd Edition, McKinney (2017)"
   ]
  }
 ],
 "metadata": {
  "kernelspec": {
   "display_name": "Python 3",
   "language": "python",
   "name": "python3"
  },
  "language_info": {
   "codemirror_mode": {
    "name": "ipython",
    "version": 3
   },
   "file_extension": ".py",
   "mimetype": "text/x-python",
   "name": "python",
   "nbconvert_exporter": "python",
   "pygments_lexer": "ipython3",
   "version": "3.7.2"
  }
 },
 "nbformat": 4,
 "nbformat_minor": 2
}
