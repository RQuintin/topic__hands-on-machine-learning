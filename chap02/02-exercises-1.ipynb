{
 "cells": [
  {
   "cell_type": "markdown",
   "metadata": {},
   "source": [
    "## Chapter 2 -  End-to-End Machine Learning Project\n",
    "\n",
    "## Exercises"
   ]
  },
  {
   "cell_type": "code",
   "execution_count": 1,
   "metadata": {
    "ExecuteTime": {
     "end_time": "2020-04-09T03:05:20.759519Z",
     "start_time": "2020-04-09T03:05:20.027538Z"
    }
   },
   "outputs": [],
   "source": [
    "import pickle\n",
    "\n",
    "import pandas as pd\n",
    "import numpy as np\n",
    "\n",
    "import joblib\n",
    "from scipy.stats import expon, reciprocal\n",
    "from sklearn.svm import SVR\n",
    "from sklearn.metrics import mean_squared_error, mean_absolute_error\n",
    "from sklearn.model_selection import StratifiedShuffleSplit, cross_val_score, GridSearchCV, RandomizedSearchCV"
   ]
  },
  {
   "cell_type": "markdown",
   "metadata": {},
   "source": [
    "### Ingestion"
   ]
  },
  {
   "cell_type": "code",
   "execution_count": 2,
   "metadata": {
    "ExecuteTime": {
     "end_time": "2020-04-09T03:05:21.154016Z",
     "start_time": "2020-04-09T03:05:21.057065Z"
    }
   },
   "outputs": [],
   "source": [
    "df_features = pd.read_csv('housing_X_feateng_complete.csv')\n",
    "df_result = pd.read_csv('housing_y_feateng_complete.csv')\n",
    "df = df_features.join(df_result)"
   ]
  },
  {
   "cell_type": "code",
   "execution_count": 3,
   "metadata": {
    "ExecuteTime": {
     "end_time": "2020-04-09T03:05:21.800295Z",
     "start_time": "2020-04-09T03:05:21.796435Z"
    }
   },
   "outputs": [],
   "source": [
    "# For testing\n",
    "# display(df.head())"
   ]
  },
  {
   "cell_type": "markdown",
   "metadata": {},
   "source": [
    "### Train-Test Split\n",
    "\n",
    "Using Stratified Sampling strategy"
   ]
  },
  {
   "cell_type": "code",
   "execution_count": 4,
   "metadata": {
    "ExecuteTime": {
     "end_time": "2020-04-09T03:05:23.391125Z",
     "start_time": "2020-04-09T03:05:23.336193Z"
    }
   },
   "outputs": [],
   "source": [
    "# Obtain the column to statify on\n",
    "df['p1_median_income_category'] = np.ceil(df['median_income']/1.5)\n",
    "df['p1_median_income_category'] = df['p1_median_income_category'].apply(lambda x: x if x<=5.0 else 5.0)\n",
    "\n",
    "# Train Test Split - Stratified strategy\n",
    "shuffle_split = StratifiedShuffleSplit(n_splits=1, test_size=0.2, random_state=0)\n",
    "df_splits = list(shuffle_split.split(df, df['p1_median_income_category']))[0]\n",
    "df_strat_train = df.iloc[df_splits[0]].copy()\n",
    "df_strat_test = df.iloc[df_splits[1]].copy()\n",
    "\n",
    "# Remove column to stratify on\n",
    "_ = df_strat_train.drop('p1_median_income_category', axis=1, inplace=True)\n",
    "_ = df_strat_test.drop('p1_median_income_category', axis=1, inplace=True)\n",
    "\n",
    "# X_train, X_test, y_train, y_test\n",
    "X_train = df_strat_train.drop('median_house_value', axis=1).copy()\n",
    "y_train = df_strat_train['median_house_value'].copy()\n",
    "X_test = df_strat_test.drop('median_house_value', axis=1).copy()\n",
    "y_test = df_strat_test['median_house_value'].copy()"
   ]
  },
  {
   "cell_type": "code",
   "execution_count": 5,
   "metadata": {
    "ExecuteTime": {
     "end_time": "2020-04-09T03:05:24.571131Z",
     "start_time": "2020-04-09T03:05:24.568344Z"
    }
   },
   "outputs": [],
   "source": [
    "# For testing\n",
    "# display(X_train.describe())\n",
    "# display(X_test.describe())"
   ]
  },
  {
   "cell_type": "markdown",
   "metadata": {},
   "source": [
    "1 - Try a Support Vector Machine regressor (sklearn.svm.SVR), with various hyperparameters such as kernel=\"linear\" (with various values for the C hyperparameter) or kernel=\"rbf\" (with various values for the C and gamma hyperparameters). Don't worry about what these hyperparameters mean for now. How does the best SVR predictor perform?"
   ]
  },
  {
   "cell_type": "code",
   "execution_count": 6,
   "metadata": {
    "ExecuteTime": {
     "end_time": "2020-04-09T04:00:44.309573Z",
     "start_time": "2020-04-09T03:19:22.962853Z"
    },
    "scrolled": false
   },
   "outputs": [
    {
     "data": {
      "text/plain": [
       "GridSearchCV(cv=5, error_score=nan,\n",
       "             estimator=SVR(C=1.0, cache_size=200, coef0=0.0, degree=3,\n",
       "                           epsilon=0.1, gamma='scale', kernel='rbf',\n",
       "                           max_iter=-1, shrinking=True, tol=0.001,\n",
       "                           verbose=False),\n",
       "             iid='deprecated', n_jobs=None,\n",
       "             param_grid=[{'C': [10.0, 30.0, 100.0, 300.0, 1000.0, 3000.0,\n",
       "                                10000.0, 30000.0],\n",
       "                          'kernel': ['linear']},\n",
       "                         {'C': [1.0, 3.0, 10.0, 30.0, 100.0, 300.0, 1000.0],\n",
       "                          'gamma': [0.01, 0.03, 0.1, 0.3, 1.0, 3.0],\n",
       "                          'kernel': ['rbf']}],\n",
       "             pre_dispatch='2*n_jobs', refit=True, return_train_score=False,\n",
       "             scoring='neg_mean_squared_error', verbose=0)"
      ]
     },
     "execution_count": 6,
     "metadata": {},
     "output_type": "execute_result"
    }
   ],
   "source": [
    "param_grid = [\n",
    "        {'kernel': ['linear'], 'C': [10., 30., 100., 300., 1000., 3000., 10000., 30000.0]},\n",
    "        {'kernel': ['rbf'], 'C': [1.0, 3.0, 10., 30., 100., 300., 1000.0],\n",
    "         'gamma': [0.01, 0.03, 0.1, 0.3, 1.0, 3.0]},\n",
    "    ]\n",
    "\n",
    "# Train\n",
    "model1 = SVR()\n",
    "grid_search = GridSearchCV(model1, param_grid, cv=5, scoring='neg_mean_squared_error')\n",
    "grid_search.fit(X_train, y_train)"
   ]
  },
  {
   "cell_type": "markdown",
   "metadata": {},
   "source": [
    "Note: Training took about 41 minutes."
   ]
  },
  {
   "cell_type": "code",
   "execution_count": 14,
   "metadata": {
    "ExecuteTime": {
     "end_time": "2020-04-09T07:43:00.820495Z",
     "start_time": "2020-04-09T07:43:00.815284Z"
    }
   },
   "outputs": [
    {
     "name": "stdout",
     "output_type": "stream",
     "text": [
      "SVR(C=30000.0, cache_size=200, coef0=0.0, degree=3, epsilon=0.1, gamma='scale',\n",
      "    kernel='linear', max_iter=-1, shrinking=True, tol=0.001, verbose=False)\n"
     ]
    }
   ],
   "source": [
    "print(grid_search.best_estimator_)"
   ]
  },
  {
   "cell_type": "code",
   "execution_count": 15,
   "metadata": {
    "ExecuteTime": {
     "end_time": "2020-04-09T07:43:02.936043Z",
     "start_time": "2020-04-09T07:43:01.976876Z"
    }
   },
   "outputs": [
    {
     "name": "stdout",
     "output_type": "stream",
     "text": [
      "68403.56222721853\n"
     ]
    }
   ],
   "source": [
    "final_model = grid_search.best_estimator_\n",
    "y_predict_test = final_model.predict(X_test)\n",
    "final_mse = mean_squared_error(y_test, y_predict_test)\n",
    "final_rmse = np.sqrt(final_mse)\n",
    "print(final_rmse)"
   ]
  },
  {
   "cell_type": "markdown",
   "metadata": {
    "ExecuteTime": {
     "end_time": "2020-04-08T09:24:56.289256Z",
     "start_time": "2020-04-08T09:24:56.278853Z"
    }
   },
   "source": [
    "In ex. 3, the RMSE score to beat is `48300.38643303764`. The best model using SVR is `68403.56222721853` so it looks like it is performing worse than the other models.\n",
    "\n",
    "Linear kernal looks more preferred than RBF kernel. Also large value of C is preferred, which means good to try and run again to test on other large values of C."
   ]
  },
  {
   "cell_type": "markdown",
   "metadata": {},
   "source": [
    "2 - Try replacing GridSearchCV with RandomizedSearchCV."
   ]
  },
  {
   "cell_type": "code",
   "execution_count": 10,
   "metadata": {
    "ExecuteTime": {
     "end_time": "2020-04-09T07:14:51.419986Z",
     "start_time": "2020-04-09T06:17:21.830472Z"
    },
    "scrolled": true
   },
   "outputs": [
    {
     "name": "stdout",
     "output_type": "stream",
     "text": [
      "Fitting 5 folds for each of 50 candidates, totalling 250 fits\n",
      "[CV] C=3135.3354391012117, gamma=1.2559307629658378, kernel=rbf ......\n"
     ]
    },
    {
     "name": "stderr",
     "output_type": "stream",
     "text": [
      "[Parallel(n_jobs=1)]: Using backend SequentialBackend with 1 concurrent workers.\n"
     ]
    },
    {
     "name": "stdout",
     "output_type": "stream",
     "text": [
      "[CV]  C=3135.3354391012117, gamma=1.2559307629658378, kernel=rbf, total=   8.3s\n",
      "[CV] C=3135.3354391012117, gamma=1.2559307629658378, kernel=rbf ......\n"
     ]
    },
    {
     "name": "stderr",
     "output_type": "stream",
     "text": [
      "[Parallel(n_jobs=1)]: Done   1 out of   1 | elapsed:    8.3s remaining:    0.0s\n"
     ]
    },
    {
     "name": "stdout",
     "output_type": "stream",
     "text": [
      "[CV]  C=3135.3354391012117, gamma=1.2559307629658378, kernel=rbf, total=   8.1s\n",
      "[CV] C=3135.3354391012117, gamma=1.2559307629658378, kernel=rbf ......\n",
      "[CV]  C=3135.3354391012117, gamma=1.2559307629658378, kernel=rbf, total=   8.0s\n",
      "[CV] C=3135.3354391012117, gamma=1.2559307629658378, kernel=rbf ......\n",
      "[CV]  C=3135.3354391012117, gamma=1.2559307629658378, kernel=rbf, total=   8.0s\n",
      "[CV] C=3135.3354391012117, gamma=1.2559307629658378, kernel=rbf ......\n",
      "[CV]  C=3135.3354391012117, gamma=1.2559307629658378, kernel=rbf, total=   8.0s\n",
      "[CV] C=54052.08688038619, gamma=1.8789640641973517, kernel=rbf .......\n",
      "[CV]  C=54052.08688038619, gamma=1.8789640641973517, kernel=rbf, total=  31.2s\n",
      "[CV] C=54052.08688038619, gamma=1.8789640641973517, kernel=rbf .......\n",
      "[CV]  C=54052.08688038619, gamma=1.8789640641973517, kernel=rbf, total=  25.6s\n",
      "[CV] C=54052.08688038619, gamma=1.8789640641973517, kernel=rbf .......\n",
      "[CV]  C=54052.08688038619, gamma=1.8789640641973517, kernel=rbf, total=  28.1s\n",
      "[CV] C=54052.08688038619, gamma=1.8789640641973517, kernel=rbf .......\n",
      "[CV]  C=54052.08688038619, gamma=1.8789640641973517, kernel=rbf, total=  25.4s\n",
      "[CV] C=54052.08688038619, gamma=1.8789640641973517, kernel=rbf .......\n",
      "[CV]  C=54052.08688038619, gamma=1.8789640641973517, kernel=rbf, total=  25.2s\n",
      "[CV] C=7666.664312313322, gamma=0.5755191991686398, kernel=linear ....\n",
      "[CV]  C=7666.664312313322, gamma=0.5755191991686398, kernel=linear, total=   6.8s\n",
      "[CV] C=7666.664312313322, gamma=0.5755191991686398, kernel=linear ....\n",
      "[CV]  C=7666.664312313322, gamma=0.5755191991686398, kernel=linear, total=   7.3s\n",
      "[CV] C=7666.664312313322, gamma=0.5755191991686398, kernel=linear ....\n",
      "[CV]  C=7666.664312313322, gamma=0.5755191991686398, kernel=linear, total=   7.7s\n",
      "[CV] C=7666.664312313322, gamma=0.5755191991686398, kernel=linear ....\n",
      "[CV]  C=7666.664312313322, gamma=0.5755191991686398, kernel=linear, total=   7.1s\n",
      "[CV] C=7666.664312313322, gamma=0.5755191991686398, kernel=linear ....\n",
      "[CV]  C=7666.664312313322, gamma=0.5755191991686398, kernel=linear, total=   7.1s\n",
      "[CV] C=33.719560463411675, gamma=0.3183561409282678, kernel=rbf ......\n",
      "[CV]  C=33.719560463411675, gamma=0.3183561409282678, kernel=rbf, total=   8.0s\n",
      "[CV] C=33.719560463411675, gamma=0.3183561409282678, kernel=rbf ......\n",
      "[CV]  C=33.719560463411675, gamma=0.3183561409282678, kernel=rbf, total=   8.1s\n",
      "[CV] C=33.719560463411675, gamma=0.3183561409282678, kernel=rbf ......\n",
      "[CV]  C=33.719560463411675, gamma=0.3183561409282678, kernel=rbf, total=   8.0s\n",
      "[CV] C=33.719560463411675, gamma=0.3183561409282678, kernel=rbf ......\n",
      "[CV]  C=33.719560463411675, gamma=0.3183561409282678, kernel=rbf, total=   8.0s\n",
      "[CV] C=33.719560463411675, gamma=0.3183561409282678, kernel=rbf ......\n",
      "[CV]  C=33.719560463411675, gamma=0.3183561409282678, kernel=rbf, total=   8.0s\n",
      "[CV] C=29371.771978401695, gamma=0.7526741095365884, kernel=linear ...\n",
      "[CV]  C=29371.771978401695, gamma=0.7526741095365884, kernel=linear, total=  10.5s\n",
      "[CV] C=29371.771978401695, gamma=0.7526741095365884, kernel=linear ...\n",
      "[CV]  C=29371.771978401695, gamma=0.7526741095365884, kernel=linear, total=  12.1s\n",
      "[CV] C=29371.771978401695, gamma=0.7526741095365884, kernel=linear ...\n",
      "[CV]  C=29371.771978401695, gamma=0.7526741095365884, kernel=linear, total=  13.8s\n",
      "[CV] C=29371.771978401695, gamma=0.7526741095365884, kernel=linear ...\n",
      "[CV]  C=29371.771978401695, gamma=0.7526741095365884, kernel=linear, total=  11.4s\n",
      "[CV] C=29371.771978401695, gamma=0.7526741095365884, kernel=linear ...\n",
      "[CV]  C=29371.771978401695, gamma=0.7526741095365884, kernel=linear, total=  12.4s\n",
      "[CV] C=745.0221418782797, gamma=1.8083692319941531, kernel=linear ....\n",
      "[CV]  C=745.0221418782797, gamma=1.8083692319941531, kernel=linear, total=   5.5s\n",
      "[CV] C=745.0221418782797, gamma=1.8083692319941531, kernel=linear ....\n",
      "[CV]  C=745.0221418782797, gamma=1.8083692319941531, kernel=linear, total=   5.5s\n",
      "[CV] C=745.0221418782797, gamma=1.8083692319941531, kernel=linear ....\n",
      "[CV]  C=745.0221418782797, gamma=1.8083692319941531, kernel=linear, total=   5.7s\n",
      "[CV] C=745.0221418782797, gamma=1.8083692319941531, kernel=linear ....\n",
      "[CV]  C=745.0221418782797, gamma=1.8083692319941531, kernel=linear, total=   5.6s\n",
      "[CV] C=745.0221418782797, gamma=1.8083692319941531, kernel=linear ....\n",
      "[CV]  C=745.0221418782797, gamma=1.8083692319941531, kernel=linear, total=   5.7s\n",
      "[CV] C=44.621811214886065, gamma=0.02042558668422495, kernel=rbf .....\n",
      "[CV]  C=44.621811214886065, gamma=0.02042558668422495, kernel=rbf, total=   8.3s\n",
      "[CV] C=44.621811214886065, gamma=0.02042558668422495, kernel=rbf .....\n",
      "[CV]  C=44.621811214886065, gamma=0.02042558668422495, kernel=rbf, total=   8.4s\n",
      "[CV] C=44.621811214886065, gamma=0.02042558668422495, kernel=rbf .....\n",
      "[CV]  C=44.621811214886065, gamma=0.02042558668422495, kernel=rbf, total=   8.3s\n",
      "[CV] C=44.621811214886065, gamma=0.02042558668422495, kernel=rbf .....\n",
      "[CV]  C=44.621811214886065, gamma=0.02042558668422495, kernel=rbf, total=   8.4s\n",
      "[CV] C=44.621811214886065, gamma=0.02042558668422495, kernel=rbf .....\n",
      "[CV]  C=44.621811214886065, gamma=0.02042558668422495, kernel=rbf, total=   8.3s\n",
      "[CV] C=134787.81447499528, gamma=0.15123085714272116, kernel=linear ..\n",
      "[CV]  C=134787.81447499528, gamma=0.15123085714272116, kernel=linear, total=  24.7s\n",
      "[CV] C=134787.81447499528, gamma=0.15123085714272116, kernel=linear ..\n",
      "[CV]  C=134787.81447499528, gamma=0.15123085714272116, kernel=linear, total=  29.2s\n",
      "[CV] C=134787.81447499528, gamma=0.15123085714272116, kernel=linear ..\n",
      "[CV]  C=134787.81447499528, gamma=0.15123085714272116, kernel=linear, total=  29.5s\n",
      "[CV] C=134787.81447499528, gamma=0.15123085714272116, kernel=linear ..\n",
      "[CV]  C=134787.81447499528, gamma=0.15123085714272116, kernel=linear, total=  32.0s\n",
      "[CV] C=134787.81447499528, gamma=0.15123085714272116, kernel=linear ..\n",
      "[CV]  C=134787.81447499528, gamma=0.15123085714272116, kernel=linear, total=  33.3s\n",
      "[CV] C=164249.23844513722, gamma=1.6052395589501458, kernel=rbf ......\n",
      "[CV]  C=164249.23844513722, gamma=1.6052395589501458, kernel=rbf, total= 2.0min\n",
      "[CV] C=164249.23844513722, gamma=1.6052395589501458, kernel=rbf ......\n",
      "[CV]  C=164249.23844513722, gamma=1.6052395589501458, kernel=rbf, total= 2.2min\n",
      "[CV] C=164249.23844513722, gamma=1.6052395589501458, kernel=rbf ......\n",
      "[CV]  C=164249.23844513722, gamma=1.6052395589501458, kernel=rbf, total= 2.1min\n",
      "[CV] C=164249.23844513722, gamma=1.6052395589501458, kernel=rbf ......\n",
      "[CV]  C=164249.23844513722, gamma=1.6052395589501458, kernel=rbf, total= 2.1min\n",
      "[CV] C=164249.23844513722, gamma=1.6052395589501458, kernel=rbf ......\n",
      "[CV]  C=164249.23844513722, gamma=1.6052395589501458, kernel=rbf, total= 2.1min\n",
      "[CV] C=2415.1266702703874, gamma=1.1359389306783294, kernel=rbf ......\n",
      "[CV]  C=2415.1266702703874, gamma=1.1359389306783294, kernel=rbf, total=   8.0s\n",
      "[CV] C=2415.1266702703874, gamma=1.1359389306783294, kernel=rbf ......\n",
      "[CV]  C=2415.1266702703874, gamma=1.1359389306783294, kernel=rbf, total=   7.9s\n",
      "[CV] C=2415.1266702703874, gamma=1.1359389306783294, kernel=rbf ......\n",
      "[CV]  C=2415.1266702703874, gamma=1.1359389306783294, kernel=rbf, total=   7.9s\n",
      "[CV] C=2415.1266702703874, gamma=1.1359389306783294, kernel=rbf ......\n",
      "[CV]  C=2415.1266702703874, gamma=1.1359389306783294, kernel=rbf, total=   8.0s\n",
      "[CV] C=2415.1266702703874, gamma=1.1359389306783294, kernel=rbf ......\n",
      "[CV]  C=2415.1266702703874, gamma=1.1359389306783294, kernel=rbf, total=   7.8s\n",
      "[CV] C=7256.2808080487575, gamma=0.1547296827276452, kernel=rbf ......\n",
      "[CV]  C=7256.2808080487575, gamma=0.1547296827276452, kernel=rbf, total=   7.7s\n",
      "[CV] C=7256.2808080487575, gamma=0.1547296827276452, kernel=rbf ......\n",
      "[CV]  C=7256.2808080487575, gamma=0.1547296827276452, kernel=rbf, total=   7.8s\n",
      "[CV] C=7256.2808080487575, gamma=0.1547296827276452, kernel=rbf ......\n",
      "[CV]  C=7256.2808080487575, gamma=0.1547296827276452, kernel=rbf, total=   7.8s\n",
      "[CV] C=7256.2808080487575, gamma=0.1547296827276452, kernel=rbf ......\n",
      "[CV]  C=7256.2808080487575, gamma=0.1547296827276452, kernel=rbf, total=   7.7s\n",
      "[CV] C=7256.2808080487575, gamma=0.1547296827276452, kernel=rbf ......\n",
      "[CV]  C=7256.2808080487575, gamma=0.1547296827276452, kernel=rbf, total=   7.8s\n",
      "[CV] C=21651.72452650127, gamma=0.11194616148396284, kernel=rbf ......\n"
     ]
    },
    {
     "name": "stdout",
     "output_type": "stream",
     "text": [
      "[CV]  C=21651.72452650127, gamma=0.11194616148396284, kernel=rbf, total=   7.9s\n",
      "[CV] C=21651.72452650127, gamma=0.11194616148396284, kernel=rbf ......\n",
      "[CV]  C=21651.72452650127, gamma=0.11194616148396284, kernel=rbf, total=   8.0s\n",
      "[CV] C=21651.72452650127, gamma=0.11194616148396284, kernel=rbf ......\n",
      "[CV]  C=21651.72452650127, gamma=0.11194616148396284, kernel=rbf, total=   8.0s\n",
      "[CV] C=21651.72452650127, gamma=0.11194616148396284, kernel=rbf ......\n",
      "[CV]  C=21651.72452650127, gamma=0.11194616148396284, kernel=rbf, total=   8.0s\n",
      "[CV] C=21651.72452650127, gamma=0.11194616148396284, kernel=rbf ......\n",
      "[CV]  C=21651.72452650127, gamma=0.11194616148396284, kernel=rbf, total=   8.0s\n",
      "[CV] C=228.69277486944384, gamma=1.488254838726735, kernel=rbf .......\n",
      "[CV]  C=228.69277486944384, gamma=1.488254838726735, kernel=rbf, total=   8.1s\n",
      "[CV] C=228.69277486944384, gamma=1.488254838726735, kernel=rbf .......\n",
      "[CV]  C=228.69277486944384, gamma=1.488254838726735, kernel=rbf, total=   8.1s\n",
      "[CV] C=228.69277486944384, gamma=1.488254838726735, kernel=rbf .......\n",
      "[CV]  C=228.69277486944384, gamma=1.488254838726735, kernel=rbf, total=   8.1s\n",
      "[CV] C=228.69277486944384, gamma=1.488254838726735, kernel=rbf .......\n",
      "[CV]  C=228.69277486944384, gamma=1.488254838726735, kernel=rbf, total=   8.1s\n",
      "[CV] C=228.69277486944384, gamma=1.488254838726735, kernel=rbf .......\n",
      "[CV]  C=228.69277486944384, gamma=1.488254838726735, kernel=rbf, total=   8.1s\n",
      "[CV] C=146.97092020496945, gamma=0.145278027454095, kernel=linear ....\n",
      "[CV]  C=146.97092020496945, gamma=0.145278027454095, kernel=linear, total=   5.4s\n",
      "[CV] C=146.97092020496945, gamma=0.145278027454095, kernel=linear ....\n",
      "[CV]  C=146.97092020496945, gamma=0.145278027454095, kernel=linear, total=   5.5s\n",
      "[CV] C=146.97092020496945, gamma=0.145278027454095, kernel=linear ....\n",
      "[CV]  C=146.97092020496945, gamma=0.145278027454095, kernel=linear, total=   5.4s\n",
      "[CV] C=146.97092020496945, gamma=0.145278027454095, kernel=linear ....\n",
      "[CV]  C=146.97092020496945, gamma=0.145278027454095, kernel=linear, total=   5.3s\n",
      "[CV] C=146.97092020496945, gamma=0.145278027454095, kernel=linear ....\n",
      "[CV]  C=146.97092020496945, gamma=0.145278027454095, kernel=linear, total=   5.4s\n",
      "[CV] C=5909.789117453366, gamma=0.9469966778437781, kernel=linear ....\n",
      "[CV]  C=5909.789117453366, gamma=0.9469966778437781, kernel=linear, total=   6.6s\n",
      "[CV] C=5909.789117453366, gamma=0.9469966778437781, kernel=linear ....\n",
      "[CV]  C=5909.789117453366, gamma=0.9469966778437781, kernel=linear, total=   6.6s\n",
      "[CV] C=5909.789117453366, gamma=0.9469966778437781, kernel=linear ....\n",
      "[CV]  C=5909.789117453366, gamma=0.9469966778437781, kernel=linear, total=   6.9s\n",
      "[CV] C=5909.789117453366, gamma=0.9469966778437781, kernel=linear ....\n",
      "[CV]  C=5909.789117453366, gamma=0.9469966778437781, kernel=linear, total=   6.5s\n",
      "[CV] C=5909.789117453366, gamma=0.9469966778437781, kernel=linear ....\n",
      "[CV]  C=5909.789117453366, gamma=0.9469966778437781, kernel=linear, total=   7.1s\n",
      "[CV] C=703.0495266398518, gamma=2.3289134168073105, kernel=linear ....\n",
      "[CV]  C=703.0495266398518, gamma=2.3289134168073105, kernel=linear, total=   5.9s\n",
      "[CV] C=703.0495266398518, gamma=2.3289134168073105, kernel=linear ....\n",
      "[CV]  C=703.0495266398518, gamma=2.3289134168073105, kernel=linear, total=   6.1s\n",
      "[CV] C=703.0495266398518, gamma=2.3289134168073105, kernel=linear ....\n",
      "[CV]  C=703.0495266398518, gamma=2.3289134168073105, kernel=linear, total=   7.1s\n",
      "[CV] C=703.0495266398518, gamma=2.3289134168073105, kernel=linear ....\n",
      "[CV]  C=703.0495266398518, gamma=2.3289134168073105, kernel=linear, total=   7.2s\n",
      "[CV] C=703.0495266398518, gamma=2.3289134168073105, kernel=linear ....\n",
      "[CV]  C=703.0495266398518, gamma=2.3289134168073105, kernel=linear, total=   7.6s\n",
      "[CV] C=548.3547350484189, gamma=0.5745324087574831, kernel=rbf .......\n",
      "[CV]  C=548.3547350484189, gamma=0.5745324087574831, kernel=rbf, total=  12.1s\n",
      "[CV] C=548.3547350484189, gamma=0.5745324087574831, kernel=rbf .......\n",
      "[CV]  C=548.3547350484189, gamma=0.5745324087574831, kernel=rbf, total=  13.1s\n",
      "[CV] C=548.3547350484189, gamma=0.5745324087574831, kernel=rbf .......\n",
      "[CV]  C=548.3547350484189, gamma=0.5745324087574831, kernel=rbf, total=  14.1s\n",
      "[CV] C=548.3547350484189, gamma=0.5745324087574831, kernel=rbf .......\n",
      "[CV]  C=548.3547350484189, gamma=0.5745324087574831, kernel=rbf, total=  13.5s\n",
      "[CV] C=548.3547350484189, gamma=0.5745324087574831, kernel=rbf .......\n",
      "[CV]  C=548.3547350484189, gamma=0.5745324087574831, kernel=rbf, total=  11.8s\n",
      "[CV] C=49.90584312567927, gamma=3.5002136562021864, kernel=linear ....\n",
      "[CV]  C=49.90584312567927, gamma=3.5002136562021864, kernel=linear, total=   7.2s\n",
      "[CV] C=49.90584312567927, gamma=3.5002136562021864, kernel=linear ....\n",
      "[CV]  C=49.90584312567927, gamma=3.5002136562021864, kernel=linear, total=   6.8s\n",
      "[CV] C=49.90584312567927, gamma=3.5002136562021864, kernel=linear ....\n",
      "[CV]  C=49.90584312567927, gamma=3.5002136562021864, kernel=linear, total=   6.5s\n",
      "[CV] C=49.90584312567927, gamma=3.5002136562021864, kernel=linear ....\n",
      "[CV]  C=49.90584312567927, gamma=3.5002136562021864, kernel=linear, total=   6.1s\n",
      "[CV] C=49.90584312567927, gamma=3.5002136562021864, kernel=linear ....\n",
      "[CV]  C=49.90584312567927, gamma=3.5002136562021864, kernel=linear, total=   6.0s\n",
      "[CV] C=9629.00637280112, gamma=0.23620670533400775, kernel=rbf .......\n",
      "[CV]  C=9629.00637280112, gamma=0.23620670533400775, kernel=rbf, total=   8.6s\n",
      "[CV] C=9629.00637280112, gamma=0.23620670533400775, kernel=rbf .......\n",
      "[CV]  C=9629.00637280112, gamma=0.23620670533400775, kernel=rbf, total=   8.3s\n",
      "[CV] C=9629.00637280112, gamma=0.23620670533400775, kernel=rbf .......\n",
      "[CV]  C=9629.00637280112, gamma=0.23620670533400775, kernel=rbf, total=   8.0s\n",
      "[CV] C=9629.00637280112, gamma=0.23620670533400775, kernel=rbf .......\n",
      "[CV]  C=9629.00637280112, gamma=0.23620670533400775, kernel=rbf, total=   7.9s\n",
      "[CV] C=9629.00637280112, gamma=0.23620670533400775, kernel=rbf .......\n",
      "[CV]  C=9629.00637280112, gamma=0.23620670533400775, kernel=rbf, total=   7.8s\n",
      "[CV] C=20126.79209863059, gamma=0.9360615649002207, kernel=linear ....\n",
      "[CV]  C=20126.79209863059, gamma=0.9360615649002207, kernel=linear, total=   8.7s\n",
      "[CV] C=20126.79209863059, gamma=0.9360615649002207, kernel=linear ....\n",
      "[CV]  C=20126.79209863059, gamma=0.9360615649002207, kernel=linear, total=  11.2s\n",
      "[CV] C=20126.79209863059, gamma=0.9360615649002207, kernel=linear ....\n",
      "[CV]  C=20126.79209863059, gamma=0.9360615649002207, kernel=linear, total=  10.0s\n",
      "[CV] C=20126.79209863059, gamma=0.9360615649002207, kernel=linear ....\n",
      "[CV]  C=20126.79209863059, gamma=0.9360615649002207, kernel=linear, total=   9.4s\n",
      "[CV] C=20126.79209863059, gamma=0.9360615649002207, kernel=linear ....\n",
      "[CV]  C=20126.79209863059, gamma=0.9360615649002207, kernel=linear, total=  10.0s\n",
      "[CV] C=3817.8343169741775, gamma=0.5773243109295961, kernel=linear ...\n",
      "[CV]  C=3817.8343169741775, gamma=0.5773243109295961, kernel=linear, total=   6.2s\n",
      "[CV] C=3817.8343169741775, gamma=0.5773243109295961, kernel=linear ...\n",
      "[CV]  C=3817.8343169741775, gamma=0.5773243109295961, kernel=linear, total=   6.3s\n",
      "[CV] C=3817.8343169741775, gamma=0.5773243109295961, kernel=linear ...\n",
      "[CV]  C=3817.8343169741775, gamma=0.5773243109295961, kernel=linear, total=   6.4s\n",
      "[CV] C=3817.8343169741775, gamma=0.5773243109295961, kernel=linear ...\n",
      "[CV]  C=3817.8343169741775, gamma=0.5773243109295961, kernel=linear, total=   6.3s\n",
      "[CV] C=3817.8343169741775, gamma=0.5773243109295961, kernel=linear ...\n",
      "[CV]  C=3817.8343169741775, gamma=0.5773243109295961, kernel=linear, total=   6.5s\n",
      "[CV] C=137033.60093579383, gamma=1.0578264077757573, kernel=linear ...\n",
      "[CV]  C=137033.60093579383, gamma=1.0578264077757573, kernel=linear, total=  29.9s\n",
      "[CV] C=137033.60093579383, gamma=1.0578264077757573, kernel=linear ...\n",
      "[CV]  C=137033.60093579383, gamma=1.0578264077757573, kernel=linear, total=  37.6s\n",
      "[CV] C=137033.60093579383, gamma=1.0578264077757573, kernel=linear ...\n",
      "[CV]  C=137033.60093579383, gamma=1.0578264077757573, kernel=linear, total=  39.5s\n",
      "[CV] C=137033.60093579383, gamma=1.0578264077757573, kernel=linear ...\n",
      "[CV]  C=137033.60093579383, gamma=1.0578264077757573, kernel=linear, total=  39.5s\n",
      "[CV] C=137033.60093579383, gamma=1.0578264077757573, kernel=linear ...\n"
     ]
    },
    {
     "name": "stdout",
     "output_type": "stream",
     "text": [
      "[CV]  C=137033.60093579383, gamma=1.0578264077757573, kernel=linear, total=  34.0s\n",
      "[CV] C=88.36251475805093, gamma=1.0587427249064156, kernel=linear ....\n",
      "[CV]  C=88.36251475805093, gamma=1.0587427249064156, kernel=linear, total=   5.6s\n",
      "[CV] C=88.36251475805093, gamma=1.0587427249064156, kernel=linear ....\n",
      "[CV]  C=88.36251475805093, gamma=1.0587427249064156, kernel=linear, total=   5.8s\n",
      "[CV] C=88.36251475805093, gamma=1.0587427249064156, kernel=linear ....\n",
      "[CV]  C=88.36251475805093, gamma=1.0587427249064156, kernel=linear, total=   5.7s\n",
      "[CV] C=88.36251475805093, gamma=1.0587427249064156, kernel=linear ....\n",
      "[CV]  C=88.36251475805093, gamma=1.0587427249064156, kernel=linear, total=   5.8s\n",
      "[CV] C=88.36251475805093, gamma=1.0587427249064156, kernel=linear ....\n",
      "[CV]  C=88.36251475805093, gamma=1.0587427249064156, kernel=linear, total=   6.4s\n",
      "[CV] C=908.8753995450545, gamma=0.6437809962046902, kernel=linear ....\n",
      "[CV]  C=908.8753995450545, gamma=0.6437809962046902, kernel=linear, total=   6.2s\n",
      "[CV] C=908.8753995450545, gamma=0.6437809962046902, kernel=linear ....\n",
      "[CV]  C=908.8753995450545, gamma=0.6437809962046902, kernel=linear, total=   6.1s\n",
      "[CV] C=908.8753995450545, gamma=0.6437809962046902, kernel=linear ....\n",
      "[CV]  C=908.8753995450545, gamma=0.6437809962046902, kernel=linear, total=   6.2s\n",
      "[CV] C=908.8753995450545, gamma=0.6437809962046902, kernel=linear ....\n",
      "[CV]  C=908.8753995450545, gamma=0.6437809962046902, kernel=linear, total=   6.3s\n",
      "[CV] C=908.8753995450545, gamma=0.6437809962046902, kernel=linear ....\n",
      "[CV]  C=908.8753995450545, gamma=0.6437809962046902, kernel=linear, total=   6.1s\n",
      "[CV] C=86.47853628560091, gamma=0.11695541204115216, kernel=rbf ......\n",
      "[CV]  C=86.47853628560091, gamma=0.11695541204115216, kernel=rbf, total=   9.2s\n",
      "[CV] C=86.47853628560091, gamma=0.11695541204115216, kernel=rbf ......\n",
      "[CV]  C=86.47853628560091, gamma=0.11695541204115216, kernel=rbf, total=   8.9s\n",
      "[CV] C=86.47853628560091, gamma=0.11695541204115216, kernel=rbf ......\n",
      "[CV]  C=86.47853628560091, gamma=0.11695541204115216, kernel=rbf, total=   9.2s\n",
      "[CV] C=86.47853628560091, gamma=0.11695541204115216, kernel=rbf ......\n",
      "[CV]  C=86.47853628560091, gamma=0.11695541204115216, kernel=rbf, total=   9.2s\n",
      "[CV] C=86.47853628560091, gamma=0.11695541204115216, kernel=rbf ......\n",
      "[CV]  C=86.47853628560091, gamma=0.11695541204115216, kernel=rbf, total=   9.2s\n",
      "[CV] C=371.3957793145687, gamma=1.506635334628224, kernel=rbf ........\n",
      "[CV]  C=371.3957793145687, gamma=1.506635334628224, kernel=rbf, total=   9.2s\n",
      "[CV] C=371.3957793145687, gamma=1.506635334628224, kernel=rbf ........\n",
      "[CV]  C=371.3957793145687, gamma=1.506635334628224, kernel=rbf, total=   9.2s\n",
      "[CV] C=371.3957793145687, gamma=1.506635334628224, kernel=rbf ........\n",
      "[CV]  C=371.3957793145687, gamma=1.506635334628224, kernel=rbf, total=   9.3s\n",
      "[CV] C=371.3957793145687, gamma=1.506635334628224, kernel=rbf ........\n",
      "[CV]  C=371.3957793145687, gamma=1.506635334628224, kernel=rbf, total=   9.2s\n",
      "[CV] C=371.3957793145687, gamma=1.506635334628224, kernel=rbf ........\n",
      "[CV]  C=371.3957793145687, gamma=1.506635334628224, kernel=rbf, total=   9.2s\n",
      "[CV] C=596.9399959570169, gamma=1.720331651778044, kernel=linear .....\n",
      "[CV]  C=596.9399959570169, gamma=1.720331651778044, kernel=linear, total=   6.3s\n",
      "[CV] C=596.9399959570169, gamma=1.720331651778044, kernel=linear .....\n",
      "[CV]  C=596.9399959570169, gamma=1.720331651778044, kernel=linear, total=   6.1s\n",
      "[CV] C=596.9399959570169, gamma=1.720331651778044, kernel=linear .....\n",
      "[CV]  C=596.9399959570169, gamma=1.720331651778044, kernel=linear, total=   6.2s\n",
      "[CV] C=596.9399959570169, gamma=1.720331651778044, kernel=linear .....\n",
      "[CV]  C=596.9399959570169, gamma=1.720331651778044, kernel=linear, total=   6.5s\n",
      "[CV] C=596.9399959570169, gamma=1.720331651778044, kernel=linear .....\n",
      "[CV]  C=596.9399959570169, gamma=1.720331651778044, kernel=linear, total=  10.4s\n",
      "[CV] C=6200.323908005308, gamma=1.1198143650941046, kernel=linear ....\n",
      "[CV]  C=6200.323908005308, gamma=1.1198143650941046, kernel=linear, total=  11.4s\n",
      "[CV] C=6200.323908005308, gamma=1.1198143650941046, kernel=linear ....\n",
      "[CV]  C=6200.323908005308, gamma=1.1198143650941046, kernel=linear, total=  12.3s\n",
      "[CV] C=6200.323908005308, gamma=1.1198143650941046, kernel=linear ....\n",
      "[CV]  C=6200.323908005308, gamma=1.1198143650941046, kernel=linear, total=  10.4s\n",
      "[CV] C=6200.323908005308, gamma=1.1198143650941046, kernel=linear ....\n",
      "[CV]  C=6200.323908005308, gamma=1.1198143650941046, kernel=linear, total=   8.6s\n",
      "[CV] C=6200.323908005308, gamma=1.1198143650941046, kernel=linear ....\n",
      "[CV]  C=6200.323908005308, gamma=1.1198143650941046, kernel=linear, total=  13.3s\n",
      "[CV] C=161015.56330174036, gamma=0.6323366026653814, kernel=rbf ......\n",
      "[CV]  C=161015.56330174036, gamma=0.6323366026653814, kernel=rbf, total=  58.7s\n",
      "[CV] C=161015.56330174036, gamma=0.6323366026653814, kernel=rbf ......\n",
      "[CV]  C=161015.56330174036, gamma=0.6323366026653814, kernel=rbf, total= 1.1min\n",
      "[CV] C=161015.56330174036, gamma=0.6323366026653814, kernel=rbf ......\n",
      "[CV]  C=161015.56330174036, gamma=0.6323366026653814, kernel=rbf, total= 1.2min\n",
      "[CV] C=161015.56330174036, gamma=0.6323366026653814, kernel=rbf ......\n",
      "[CV]  C=161015.56330174036, gamma=0.6323366026653814, kernel=rbf, total= 1.2min\n",
      "[CV] C=161015.56330174036, gamma=0.6323366026653814, kernel=rbf ......\n",
      "[CV]  C=161015.56330174036, gamma=0.6323366026653814, kernel=rbf, total=  47.3s\n",
      "[CV] C=33.41094584706441, gamma=0.5999468877679685, kernel=rbf .......\n",
      "[CV]  C=33.41094584706441, gamma=0.5999468877679685, kernel=rbf, total=   8.8s\n",
      "[CV] C=33.41094584706441, gamma=0.5999468877679685, kernel=rbf .......\n",
      "[CV]  C=33.41094584706441, gamma=0.5999468877679685, kernel=rbf, total=   8.8s\n",
      "[CV] C=33.41094584706441, gamma=0.5999468877679685, kernel=rbf .......\n",
      "[CV]  C=33.41094584706441, gamma=0.5999468877679685, kernel=rbf, total=   8.7s\n",
      "[CV] C=33.41094584706441, gamma=0.5999468877679685, kernel=rbf .......\n",
      "[CV]  C=33.41094584706441, gamma=0.5999468877679685, kernel=rbf, total=   8.7s\n",
      "[CV] C=33.41094584706441, gamma=0.5999468877679685, kernel=rbf .......\n",
      "[CV]  C=33.41094584706441, gamma=0.5999468877679685, kernel=rbf, total=   8.5s\n",
      "[CV] C=28.693343975612635, gamma=0.33241024529662233, kernel=linear ..\n",
      "[CV]  C=28.693343975612635, gamma=0.33241024529662233, kernel=linear, total=   5.8s\n",
      "[CV] C=28.693343975612635, gamma=0.33241024529662233, kernel=linear ..\n",
      "[CV]  C=28.693343975612635, gamma=0.33241024529662233, kernel=linear, total=   5.9s\n",
      "[CV] C=28.693343975612635, gamma=0.33241024529662233, kernel=linear ..\n",
      "[CV]  C=28.693343975612635, gamma=0.33241024529662233, kernel=linear, total=   6.0s\n",
      "[CV] C=28.693343975612635, gamma=0.33241024529662233, kernel=linear ..\n",
      "[CV]  C=28.693343975612635, gamma=0.33241024529662233, kernel=linear, total=   6.1s\n",
      "[CV] C=28.693343975612635, gamma=0.33241024529662233, kernel=linear ..\n",
      "[CV]  C=28.693343975612635, gamma=0.33241024529662233, kernel=linear, total=   6.0s\n",
      "[CV] C=548.0344399152735, gamma=0.6556462739576085, kernel=rbf .......\n",
      "[CV]  C=548.0344399152735, gamma=0.6556462739576085, kernel=rbf, total=   8.8s\n",
      "[CV] C=548.0344399152735, gamma=0.6556462739576085, kernel=rbf .......\n",
      "[CV]  C=548.0344399152735, gamma=0.6556462739576085, kernel=rbf, total=   8.6s\n",
      "[CV] C=548.0344399152735, gamma=0.6556462739576085, kernel=rbf .......\n",
      "[CV]  C=548.0344399152735, gamma=0.6556462739576085, kernel=rbf, total=   8.9s\n",
      "[CV] C=548.0344399152735, gamma=0.6556462739576085, kernel=rbf .......\n",
      "[CV]  C=548.0344399152735, gamma=0.6556462739576085, kernel=rbf, total=   8.9s\n",
      "[CV] C=548.0344399152735, gamma=0.6556462739576085, kernel=rbf .......\n",
      "[CV]  C=548.0344399152735, gamma=0.6556462739576085, kernel=rbf, total=   8.8s\n",
      "[CV] C=374.0784700353696, gamma=0.5348843862443556, kernel=rbf .......\n",
      "[CV]  C=374.0784700353696, gamma=0.5348843862443556, kernel=rbf, total=   9.2s\n",
      "[CV] C=374.0784700353696, gamma=0.5348843862443556, kernel=rbf .......\n",
      "[CV]  C=374.0784700353696, gamma=0.5348843862443556, kernel=rbf, total=   9.1s\n",
      "[CV] C=374.0784700353696, gamma=0.5348843862443556, kernel=rbf .......\n",
      "[CV]  C=374.0784700353696, gamma=0.5348843862443556, kernel=rbf, total=   9.0s\n",
      "[CV] C=374.0784700353696, gamma=0.5348843862443556, kernel=rbf .......\n",
      "[CV]  C=374.0784700353696, gamma=0.5348843862443556, kernel=rbf, total=   9.2s\n",
      "[CV] C=374.0784700353696, gamma=0.5348843862443556, kernel=rbf .......\n"
     ]
    },
    {
     "name": "stdout",
     "output_type": "stream",
     "text": [
      "[CV]  C=374.0784700353696, gamma=0.5348843862443556, kernel=rbf, total=   9.1s\n",
      "[CV] C=147.33928098674735, gamma=0.8328435182783498, kernel=linear ...\n",
      "[CV]  C=147.33928098674735, gamma=0.8328435182783498, kernel=linear, total=   6.3s\n",
      "[CV] C=147.33928098674735, gamma=0.8328435182783498, kernel=linear ...\n",
      "[CV]  C=147.33928098674735, gamma=0.8328435182783498, kernel=linear, total=   6.3s\n",
      "[CV] C=147.33928098674735, gamma=0.8328435182783498, kernel=linear ...\n",
      "[CV]  C=147.33928098674735, gamma=0.8328435182783498, kernel=linear, total=   6.6s\n",
      "[CV] C=147.33928098674735, gamma=0.8328435182783498, kernel=linear ...\n",
      "[CV]  C=147.33928098674735, gamma=0.8328435182783498, kernel=linear, total=   6.4s\n",
      "[CV] C=147.33928098674735, gamma=0.8328435182783498, kernel=linear ...\n",
      "[CV]  C=147.33928098674735, gamma=0.8328435182783498, kernel=linear, total=   6.3s\n",
      "[CV] C=230.45596806057443, gamma=0.740758951587447, kernel=rbf .......\n",
      "[CV]  C=230.45596806057443, gamma=0.740758951587447, kernel=rbf, total=   9.1s\n",
      "[CV] C=230.45596806057443, gamma=0.740758951587447, kernel=rbf .......\n",
      "[CV]  C=230.45596806057443, gamma=0.740758951587447, kernel=rbf, total=   9.0s\n",
      "[CV] C=230.45596806057443, gamma=0.740758951587447, kernel=rbf .......\n",
      "[CV]  C=230.45596806057443, gamma=0.740758951587447, kernel=rbf, total=   9.0s\n",
      "[CV] C=230.45596806057443, gamma=0.740758951587447, kernel=rbf .......\n",
      "[CV]  C=230.45596806057443, gamma=0.740758951587447, kernel=rbf, total=   9.1s\n",
      "[CV] C=230.45596806057443, gamma=0.740758951587447, kernel=rbf .......\n",
      "[CV]  C=230.45596806057443, gamma=0.740758951587447, kernel=rbf, total=   8.8s\n",
      "[CV] C=96752.10812639765, gamma=0.08677048887524946, kernel=linear ...\n",
      "[CV]  C=96752.10812639765, gamma=0.08677048887524946, kernel=linear, total=  22.5s\n",
      "[CV] C=96752.10812639765, gamma=0.08677048887524946, kernel=linear ...\n",
      "[CV]  C=96752.10812639765, gamma=0.08677048887524946, kernel=linear, total=  44.5s\n",
      "[CV] C=96752.10812639765, gamma=0.08677048887524946, kernel=linear ...\n",
      "[CV]  C=96752.10812639765, gamma=0.08677048887524946, kernel=linear, total=  27.8s\n",
      "[CV] C=96752.10812639765, gamma=0.08677048887524946, kernel=linear ...\n",
      "[CV]  C=96752.10812639765, gamma=0.08677048887524946, kernel=linear, total=  26.5s\n",
      "[CV] C=96752.10812639765, gamma=0.08677048887524946, kernel=linear ...\n",
      "[CV]  C=96752.10812639765, gamma=0.08677048887524946, kernel=linear, total=  28.7s\n",
      "[CV] C=376.10214080425874, gamma=1.1008459212601613, kernel=rbf ......\n",
      "[CV]  C=376.10214080425874, gamma=1.1008459212601613, kernel=rbf, total=   9.2s\n",
      "[CV] C=376.10214080425874, gamma=1.1008459212601613, kernel=rbf ......\n",
      "[CV]  C=376.10214080425874, gamma=1.1008459212601613, kernel=rbf, total=   9.0s\n",
      "[CV] C=376.10214080425874, gamma=1.1008459212601613, kernel=rbf ......\n",
      "[CV]  C=376.10214080425874, gamma=1.1008459212601613, kernel=rbf, total=   9.3s\n",
      "[CV] C=376.10214080425874, gamma=1.1008459212601613, kernel=rbf ......\n",
      "[CV]  C=376.10214080425874, gamma=1.1008459212601613, kernel=rbf, total=   9.0s\n",
      "[CV] C=376.10214080425874, gamma=1.1008459212601613, kernel=rbf ......\n",
      "[CV]  C=376.10214080425874, gamma=1.1008459212601613, kernel=rbf, total=   9.2s\n",
      "[CV] C=7757.585242204587, gamma=1.8412824527873706, kernel=linear ....\n",
      "[CV]  C=7757.585242204587, gamma=1.8412824527873706, kernel=linear, total=   7.9s\n",
      "[CV] C=7757.585242204587, gamma=1.8412824527873706, kernel=linear ....\n",
      "[CV]  C=7757.585242204587, gamma=1.8412824527873706, kernel=linear, total=   8.3s\n",
      "[CV] C=7757.585242204587, gamma=1.8412824527873706, kernel=linear ....\n",
      "[CV]  C=7757.585242204587, gamma=1.8412824527873706, kernel=linear, total=   8.5s\n",
      "[CV] C=7757.585242204587, gamma=1.8412824527873706, kernel=linear ....\n",
      "[CV]  C=7757.585242204587, gamma=1.8412824527873706, kernel=linear, total=   8.0s\n",
      "[CV] C=7757.585242204587, gamma=1.8412824527873706, kernel=linear ....\n",
      "[CV]  C=7757.585242204587, gamma=1.8412824527873706, kernel=linear, total=   8.3s\n",
      "[CV] C=108.092470686476, gamma=0.8831290462896029, kernel=linear .....\n",
      "[CV]  C=108.092470686476, gamma=0.8831290462896029, kernel=linear, total=   6.0s\n",
      "[CV] C=108.092470686476, gamma=0.8831290462896029, kernel=linear .....\n",
      "[CV]  C=108.092470686476, gamma=0.8831290462896029, kernel=linear, total=   6.1s\n",
      "[CV] C=108.092470686476, gamma=0.8831290462896029, kernel=linear .....\n",
      "[CV]  C=108.092470686476, gamma=0.8831290462896029, kernel=linear, total=   6.3s\n",
      "[CV] C=108.092470686476, gamma=0.8831290462896029, kernel=linear .....\n",
      "[CV]  C=108.092470686476, gamma=0.8831290462896029, kernel=linear, total=   6.1s\n",
      "[CV] C=108.092470686476, gamma=0.8831290462896029, kernel=linear .....\n",
      "[CV]  C=108.092470686476, gamma=0.8831290462896029, kernel=linear, total=   6.1s\n",
      "[CV] C=91.36751993038465, gamma=0.4617308912970178, kernel=linear ....\n",
      "[CV]  C=91.36751993038465, gamma=0.4617308912970178, kernel=linear, total=   6.0s\n",
      "[CV] C=91.36751993038465, gamma=0.4617308912970178, kernel=linear ....\n",
      "[CV]  C=91.36751993038465, gamma=0.4617308912970178, kernel=linear, total=   6.4s\n",
      "[CV] C=91.36751993038465, gamma=0.4617308912970178, kernel=linear ....\n",
      "[CV]  C=91.36751993038465, gamma=0.4617308912970178, kernel=linear, total=   6.0s\n",
      "[CV] C=91.36751993038465, gamma=0.4617308912970178, kernel=linear ....\n",
      "[CV]  C=91.36751993038465, gamma=0.4617308912970178, kernel=linear, total=   6.0s\n",
      "[CV] C=91.36751993038465, gamma=0.4617308912970178, kernel=linear ....\n",
      "[CV]  C=91.36751993038465, gamma=0.4617308912970178, kernel=linear, total=   6.2s\n",
      "[CV] C=10287.175354420331, gamma=0.31472166708039545, kernel=linear ..\n",
      "[CV]  C=10287.175354420331, gamma=0.31472166708039545, kernel=linear, total=   8.2s\n",
      "[CV] C=10287.175354420331, gamma=0.31472166708039545, kernel=linear ..\n",
      "[CV]  C=10287.175354420331, gamma=0.31472166708039545, kernel=linear, total=   8.8s\n",
      "[CV] C=10287.175354420331, gamma=0.31472166708039545, kernel=linear ..\n",
      "[CV]  C=10287.175354420331, gamma=0.31472166708039545, kernel=linear, total=   9.4s\n",
      "[CV] C=10287.175354420331, gamma=0.31472166708039545, kernel=linear ..\n",
      "[CV]  C=10287.175354420331, gamma=0.31472166708039545, kernel=linear, total=   8.5s\n",
      "[CV] C=10287.175354420331, gamma=0.31472166708039545, kernel=linear ..\n",
      "[CV]  C=10287.175354420331, gamma=0.31472166708039545, kernel=linear, total=   9.0s\n",
      "[CV] C=285.0596475631556, gamma=0.5679041501771027, kernel=linear ....\n",
      "[CV]  C=285.0596475631556, gamma=0.5679041501771027, kernel=linear, total=   6.1s\n",
      "[CV] C=285.0596475631556, gamma=0.5679041501771027, kernel=linear ....\n",
      "[CV]  C=285.0596475631556, gamma=0.5679041501771027, kernel=linear, total=   6.4s\n",
      "[CV] C=285.0596475631556, gamma=0.5679041501771027, kernel=linear ....\n",
      "[CV]  C=285.0596475631556, gamma=0.5679041501771027, kernel=linear, total=   6.2s\n",
      "[CV] C=285.0596475631556, gamma=0.5679041501771027, kernel=linear ....\n",
      "[CV]  C=285.0596475631556, gamma=0.5679041501771027, kernel=linear, total=   6.3s\n",
      "[CV] C=285.0596475631556, gamma=0.5679041501771027, kernel=linear ....\n",
      "[CV]  C=285.0596475631556, gamma=0.5679041501771027, kernel=linear, total=   6.4s\n",
      "[CV] C=4033.288920269947, gamma=0.8965908825845493, kernel=linear ....\n",
      "[CV]  C=4033.288920269947, gamma=0.8965908825845493, kernel=linear, total=   7.2s\n",
      "[CV] C=4033.288920269947, gamma=0.8965908825845493, kernel=linear ....\n",
      "[CV]  C=4033.288920269947, gamma=0.8965908825845493, kernel=linear, total=   7.3s\n",
      "[CV] C=4033.288920269947, gamma=0.8965908825845493, kernel=linear ....\n",
      "[CV]  C=4033.288920269947, gamma=0.8965908825845493, kernel=linear, total=   7.8s\n",
      "[CV] C=4033.288920269947, gamma=0.8965908825845493, kernel=linear ....\n",
      "[CV]  C=4033.288920269947, gamma=0.8965908825845493, kernel=linear, total=   7.3s\n",
      "[CV] C=4033.288920269947, gamma=0.8965908825845493, kernel=linear ....\n",
      "[CV]  C=4033.288920269947, gamma=0.8965908825845493, kernel=linear, total=   7.8s\n",
      "[CV] C=7189.758461461739, gamma=2.2215069574902953, kernel=rbf .......\n",
      "[CV]  C=7189.758461461739, gamma=2.2215069574902953, kernel=rbf, total=  10.4s\n",
      "[CV] C=7189.758461461739, gamma=2.2215069574902953, kernel=rbf .......\n",
      "[CV]  C=7189.758461461739, gamma=2.2215069574902953, kernel=rbf, total=  10.2s\n",
      "[CV] C=7189.758461461739, gamma=2.2215069574902953, kernel=rbf .......\n",
      "[CV]  C=7189.758461461739, gamma=2.2215069574902953, kernel=rbf, total=  10.1s\n",
      "[CV] C=7189.758461461739, gamma=2.2215069574902953, kernel=rbf .......\n"
     ]
    },
    {
     "name": "stdout",
     "output_type": "stream",
     "text": [
      "[CV]  C=7189.758461461739, gamma=2.2215069574902953, kernel=rbf, total=  10.1s\n",
      "[CV] C=7189.758461461739, gamma=2.2215069574902953, kernel=rbf .......\n",
      "[CV]  C=7189.758461461739, gamma=2.2215069574902953, kernel=rbf, total=  10.1s\n",
      "[CV] C=1228.942348968392, gamma=1.873459921263142, kernel=rbf ........\n",
      "[CV]  C=1228.942348968392, gamma=1.873459921263142, kernel=rbf, total=   9.4s\n",
      "[CV] C=1228.942348968392, gamma=1.873459921263142, kernel=rbf ........\n",
      "[CV]  C=1228.942348968392, gamma=1.873459921263142, kernel=rbf, total=   9.4s\n",
      "[CV] C=1228.942348968392, gamma=1.873459921263142, kernel=rbf ........\n",
      "[CV]  C=1228.942348968392, gamma=1.873459921263142, kernel=rbf, total=   9.3s\n",
      "[CV] C=1228.942348968392, gamma=1.873459921263142, kernel=rbf ........\n",
      "[CV]  C=1228.942348968392, gamma=1.873459921263142, kernel=rbf, total=   9.6s\n",
      "[CV] C=1228.942348968392, gamma=1.873459921263142, kernel=rbf ........\n",
      "[CV]  C=1228.942348968392, gamma=1.873459921263142, kernel=rbf, total=   9.4s\n",
      "[CV] C=58.322701751587935, gamma=1.4568185626031913, kernel=rbf ......\n",
      "[CV]  C=58.322701751587935, gamma=1.4568185626031913, kernel=rbf, total=   9.2s\n",
      "[CV] C=58.322701751587935, gamma=1.4568185626031913, kernel=rbf ......\n",
      "[CV]  C=58.322701751587935, gamma=1.4568185626031913, kernel=rbf, total=   9.2s\n",
      "[CV] C=58.322701751587935, gamma=1.4568185626031913, kernel=rbf ......\n",
      "[CV]  C=58.322701751587935, gamma=1.4568185626031913, kernel=rbf, total=   9.2s\n",
      "[CV] C=58.322701751587935, gamma=1.4568185626031913, kernel=rbf ......\n",
      "[CV]  C=58.322701751587935, gamma=1.4568185626031913, kernel=rbf, total=   9.2s\n",
      "[CV] C=58.322701751587935, gamma=1.4568185626031913, kernel=rbf ......\n",
      "[CV]  C=58.322701751587935, gamma=1.4568185626031913, kernel=rbf, total=   9.4s\n",
      "[CV] C=770.9974808649064, gamma=2.1294993647231304, kernel=linear ....\n",
      "[CV]  C=770.9974808649064, gamma=2.1294993647231304, kernel=linear, total=   6.4s\n",
      "[CV] C=770.9974808649064, gamma=2.1294993647231304, kernel=linear ....\n",
      "[CV]  C=770.9974808649064, gamma=2.1294993647231304, kernel=linear, total=   6.5s\n",
      "[CV] C=770.9974808649064, gamma=2.1294993647231304, kernel=linear ....\n",
      "[CV]  C=770.9974808649064, gamma=2.1294993647231304, kernel=linear, total=   6.5s\n",
      "[CV] C=770.9974808649064, gamma=2.1294993647231304, kernel=linear ....\n",
      "[CV]  C=770.9974808649064, gamma=2.1294993647231304, kernel=linear, total=   6.4s\n",
      "[CV] C=770.9974808649064, gamma=2.1294993647231304, kernel=linear ....\n",
      "[CV]  C=770.9974808649064, gamma=2.1294993647231304, kernel=linear, total=   6.6s\n",
      "[CV] C=358.01673156325967, gamma=3.364370507994036, kernel=linear ....\n",
      "[CV]  C=358.01673156325967, gamma=3.364370507994036, kernel=linear, total=   6.4s\n",
      "[CV] C=358.01673156325967, gamma=3.364370507994036, kernel=linear ....\n",
      "[CV]  C=358.01673156325967, gamma=3.364370507994036, kernel=linear, total=   6.5s\n",
      "[CV] C=358.01673156325967, gamma=3.364370507994036, kernel=linear ....\n",
      "[CV]  C=358.01673156325967, gamma=3.364370507994036, kernel=linear, total=   6.5s\n",
      "[CV] C=358.01673156325967, gamma=3.364370507994036, kernel=linear ....\n",
      "[CV]  C=358.01673156325967, gamma=3.364370507994036, kernel=linear, total=   6.1s\n",
      "[CV] C=358.01673156325967, gamma=3.364370507994036, kernel=linear ....\n",
      "[CV]  C=358.01673156325967, gamma=3.364370507994036, kernel=linear, total=   6.8s\n",
      "[CV] C=15923.814690387127, gamma=0.695799458595189, kernel=rbf .......\n",
      "[CV]  C=15923.814690387127, gamma=0.695799458595189, kernel=rbf, total=  10.3s\n",
      "[CV] C=15923.814690387127, gamma=0.695799458595189, kernel=rbf .......\n",
      "[CV]  C=15923.814690387127, gamma=0.695799458595189, kernel=rbf, total=  10.1s\n",
      "[CV] C=15923.814690387127, gamma=0.695799458595189, kernel=rbf .......\n",
      "[CV]  C=15923.814690387127, gamma=0.695799458595189, kernel=rbf, total=  10.1s\n",
      "[CV] C=15923.814690387127, gamma=0.695799458595189, kernel=rbf .......\n",
      "[CV]  C=15923.814690387127, gamma=0.695799458595189, kernel=rbf, total=   9.9s\n",
      "[CV] C=15923.814690387127, gamma=0.695799458595189, kernel=rbf .......\n",
      "[CV]  C=15923.814690387127, gamma=0.695799458595189, kernel=rbf, total=   9.8s\n",
      "[CV] C=167.17144240139652, gamma=0.502310800401496, kernel=linear ....\n",
      "[CV]  C=167.17144240139652, gamma=0.502310800401496, kernel=linear, total=   6.1s\n",
      "[CV] C=167.17144240139652, gamma=0.502310800401496, kernel=linear ....\n",
      "[CV]  C=167.17144240139652, gamma=0.502310800401496, kernel=linear, total=   6.1s\n",
      "[CV] C=167.17144240139652, gamma=0.502310800401496, kernel=linear ....\n",
      "[CV]  C=167.17144240139652, gamma=0.502310800401496, kernel=linear, total=   6.3s\n",
      "[CV] C=167.17144240139652, gamma=0.502310800401496, kernel=linear ....\n",
      "[CV]  C=167.17144240139652, gamma=0.502310800401496, kernel=linear, total=   6.4s\n",
      "[CV] C=167.17144240139652, gamma=0.502310800401496, kernel=linear ....\n",
      "[CV]  C=167.17144240139652, gamma=0.502310800401496, kernel=linear, total=   6.2s\n"
     ]
    },
    {
     "name": "stderr",
     "output_type": "stream",
     "text": [
      "[Parallel(n_jobs=1)]: Done 250 out of 250 | elapsed: 55.2min finished\n"
     ]
    },
    {
     "data": {
      "text/plain": [
       "RandomizedSearchCV(cv=5, error_score=nan,\n",
       "                   estimator=SVR(C=1.0, cache_size=200, coef0=0.0, degree=3,\n",
       "                                 epsilon=0.1, gamma='scale', kernel='linear',\n",
       "                                 max_iter=-1, shrinking=True, tol=0.001,\n",
       "                                 verbose=False),\n",
       "                   iid='deprecated', n_iter=50, n_jobs=None,\n",
       "                   param_distributions={'C': <scipy.stats._distn_infrastructure.rv_frozen object at 0x11ea76f28>,\n",
       "                                        'gamma': <scipy.stats._distn_infrastructure.rv_frozen object at 0x11ea762b0>,\n",
       "                                        'kernel': ['linear', 'rbf']},\n",
       "                   pre_dispatch='2*n_jobs', random_state=0, refit=True,\n",
       "                   return_train_score=False, scoring='neg_mean_squared_error',\n",
       "                   verbose=2)"
      ]
     },
     "execution_count": 10,
     "metadata": {},
     "output_type": "execute_result"
    }
   ],
   "source": [
    "svr_reg = SVR()\n",
    "param_distribs = {\n",
    "        'kernel': ['linear', 'rbf'],\n",
    "        'C': reciprocal(20, 200000),\n",
    "        'gamma': expon(scale=1.0),\n",
    "    }\n",
    "rdm_search = RandomizedSearchCV(svr_reg, param_distributions=param_distribs, \n",
    "                                cv=5, n_iter=50, scoring='neg_mean_squared_error', \n",
    "                                verbose=2, random_state=0)\n",
    "rdm_search.fit(X_train, y_train)"
   ]
  },
  {
   "cell_type": "markdown",
   "metadata": {},
   "source": [
    "Note: training took 57 minutes"
   ]
  },
  {
   "cell_type": "code",
   "execution_count": 16,
   "metadata": {
    "ExecuteTime": {
     "end_time": "2020-04-09T07:43:23.369707Z",
     "start_time": "2020-04-09T07:43:23.363777Z"
    }
   },
   "outputs": [
    {
     "name": "stdout",
     "output_type": "stream",
     "text": [
      "SVR(C=161015.56330174036, cache_size=200, coef0=0.0, degree=3, epsilon=0.1,\n",
      "    gamma=0.6323366026653814, kernel='rbf', max_iter=-1, shrinking=True,\n",
      "    tol=0.001, verbose=False)\n",
      "\n",
      "{'C': 161015.56330174036, 'gamma': 0.6323366026653814, 'kernel': 'rbf'}\n"
     ]
    }
   ],
   "source": [
    "print(rdm_search.best_estimator_)\n",
    "print()\n",
    "print(rdm_search.best_params_)\n",
    "# print()\n",
    "# cvs = rdm_search.cv_results_\n",
    "# for mean_score, params in zip(cvs['mean_test_score'], cvs['params']):\n",
    "#     print('{:.1f}'.format(np.sqrt(-mean_score)), params)"
   ]
  },
  {
   "cell_type": "code",
   "execution_count": 21,
   "metadata": {
    "ExecuteTime": {
     "end_time": "2020-04-09T08:00:39.175245Z",
     "start_time": "2020-04-09T08:00:37.404401Z"
    }
   },
   "outputs": [
    {
     "name": "stdout",
     "output_type": "stream",
     "text": [
      "55732.58742879294\n"
     ]
    }
   ],
   "source": [
    "final_model = rdm_search.best_estimator_\n",
    "y_predict_test = final_model.predict(X_test)\n",
    "final_mse = mean_squared_error(y_test, y_predict_test)\n",
    "final_rmse = np.sqrt(final_mse)\n",
    "print(final_rmse)"
   ]
  },
  {
   "cell_type": "markdown",
   "metadata": {},
   "source": [
    "The best model earlier using grid search is `68403.56222721853`. This model has an RMSE of `55732.58742879294` which is better than the model obtained through grid search. Looks like for the RBF kernel to be preferred, the value of C is large"
   ]
  },
  {
   "cell_type": "markdown",
   "metadata": {},
   "source": [
    "**References:**\n",
    "\n",
    "Python for Data Analysis, 2nd Edition, McKinney (2017)"
   ]
  }
 ],
 "metadata": {
  "kernelspec": {
   "display_name": "Python 3",
   "language": "python",
   "name": "python3"
  },
  "language_info": {
   "codemirror_mode": {
    "name": "ipython",
    "version": 3
   },
   "file_extension": ".py",
   "mimetype": "text/x-python",
   "name": "python",
   "nbconvert_exporter": "python",
   "pygments_lexer": "ipython3",
   "version": "3.7.2"
  }
 },
 "nbformat": 4,
 "nbformat_minor": 2
}
