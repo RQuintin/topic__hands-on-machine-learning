{
 "cells": [
  {
   "cell_type": "markdown",
   "metadata": {},
   "source": [
    "## Chapter 9 - Clustering Methods"
   ]
  },
  {
   "cell_type": "markdown",
   "metadata": {},
   "source": [
    "In $k$-means clustering, we need to specify the number of clusters $k$ before running the algorithm ($k$ is thought to be the hyperparameter of this algorithm). <u>Hierarchical clustering</u> is an alternative approach which does not require us to commit to a particular choice of $k$. Also, hierarchical clustering results in an easy-to-interpret tree-based representation of the observations called a <u>dendrogram</u>."
   ]
  },
  {
   "cell_type": "markdown",
   "metadata": {},
   "source": [
    "### Interpreting a Dendrogram\n",
    "\n",
    "Consider a dataset with 45 observations in a 2-dimensional space. We aim to perform hierarchical clustering of the data. The following is the scatterplot of the observations.\n",
    "\n",
    "<img src=\"0901.png\" width=\"300\" />\n",
    "\n",
    "The following is how the dataset is visualised in a dendrogram. Each observation is represented as a leaf at the bottom of the tree. As we traverse up the tree, leaves fuse to form a branch. As we continue to traverse up, branches & leaves fuse further. Observations that fuse at the lower levels of the tree are quite similar while observations that fuse at the higher levels of the tree are quite different. Specifically, the height where the observation fuses, measure by the position on the $y$-axis, indicates how different the two observations are. \n",
    "\n",
    "<img src=\"0903.png\" width=\"150\" />"
   ]
  },
  {
   "cell_type": "markdown",
   "metadata": {},
   "source": [
    "To identify clusters using the dendrogram, we make a horizontal cut across the dendrogram The observations that belong to each branch is interpreted as one cluster. \n",
    "\n",
    "<img src=\"0902.png\" width=\"300\" />\n",
    "\n",
    "Observe that when we cut at position 9, we obtain two clusters, while if we cut at position 5, we get three clusters. As we cut at a lower position, we obtain more clusters. In other words, the height to cut the dendrogram serves the same role as determining $k$ in $k$-means clustering.\n",
    "\n",
    "Hierarchical clustering is named as the clusters obtained by cutting the dendrogram at a given height are nested within the clusters obtained by cutting the dendrogram at a greater height. (Using this example, the clusters obtained at height 5 will fuse to a smaller number of clusters obtained at height 9). However, the assumption of a hierarchical structher might be unrealistic. Clusters could be created by slicing and dicing the data across features (e.g. gender, followed by race). Hence, sometimes hierarchical clustering might yield worse results than $k$-means clustering."
   ]
  },
  {
   "cell_type": "markdown",
   "metadata": {},
   "source": [
    "### The Hierarchical Clustering Algorithm\n",
    "\n",
    "Before we run the algorithm, we define a dissimilarity measure between each pair of observations. Usually Euclidean measure is used. Then, from the bottom of the dendrogram, each of the $n$ observations is treated as its own cluster. The two clusters most similar to each other are then fused to form $n-1$ clusters. Then, the next two clusters most similar to each other are fused to form $n-2$ clusters. This proceeds until all observations are fused to form one cluster. Then the dendrogram is complete. The following is an example of the first few steps of the clustering.\n",
    "\n",
    "<img src=\"0904.png\" width=\"900\" />\n",
    "\n",
    "Dissimilarity needs to be extended to beyond a pair of observations to a pair of groups (of observations). This extends dissimilarity to the idea of linkage, which defines the dissimilarity between two groups of observations. The four common types of linkage are complete, average, single and centroid, and also Ward from SKLearn.\n",
    "\n",
    "- Complete: Compute the pairwise dissimilarity for each observation in cluster $A$ and cluster $B$. Record the largest of the dissimilarities.\n",
    "- Single: Compute the pairwise dissimilarity for each observation in cluster $A$ and cluster $B$. Record the smallest of the dissimilarities.\n",
    "- Average: Compute the pairwise dissimilarity for all observations in cluster $A$ and cluster $B$. Record the average of the dissimilarities.\n",
    "- Centroid: Compute and record the dissimilarity for the centroid of cluster $A$ and the centroid of cluster $B$.\n",
    "- Ward: The distance between cluster $A$ and $B$ is measured as the amount the RSS will increase after they are merged. Find the centroids of clusters $A$ and $B$ respectively and sum the distance between each observation to their respective clusters to find $\\sum_{A} + \\sum_{B}$. Then, find the centroid of $A \\cup B$. Sum the distance between all observations to this centroid to get $\\sum_{A\\cup B}$. Record the increase in distance i.e. $\\sum_{A\\cup B} - (\\sum_{A} + \\sum_{B})$"
   ]
  },
  {
   "cell_type": "markdown",
   "metadata": {},
   "source": [
    "The algorithm to use for hierarchical clustering is:\n",
    "```comments\n",
    "\n",
    "1. Begin with n observations and a measure (e.g. Euclidean distance)> Calculate the pairwise distance \n",
    "between all n(n-1) pairs of observation. Treat each observation as 1 cluster\n",
    "\n",
    "2. iterate until there is 1 cluster:\n",
    "    1. Find all pairwise intercluster dissimilarities and find the pair of clusters that is least similar\n",
    "    2. Fuse these clusters together\n",
    "```"
   ]
  },
  {
   "cell_type": "code",
   "execution_count": 1,
   "metadata": {
    "ExecuteTime": {
     "end_time": "2020-05-04T03:15:28.058147Z",
     "start_time": "2020-05-04T03:15:26.696052Z"
    }
   },
   "outputs": [],
   "source": [
    "import pickle\n",
    "\n",
    "import pandas as pd\n",
    "import numpy as np\n",
    "import matplotlib\n",
    "import matplotlib.pyplot as plt\n",
    "\n",
    "from sklearn.cluster import AgglomerativeClustering\n",
    "\n",
    "def load(fname):\n",
    "    mnist = None\n",
    "    try:\n",
    "        with open(fname, 'rb') as f:\n",
    "            mnist = pickle.load(f)\n",
    "            return mnist\n",
    "    except FileNotFoundError:\n",
    "        from sklearn.datasets import fetch_openml\n",
    "        mnist = fetch_openml('mnist_784', version=1, cache=True)\n",
    "        with open(fname, 'wb') as f:\n",
    "            mnist = pickle.dump(mnist, f)\n",
    "        return mnist"
   ]
  },
  {
   "cell_type": "code",
   "execution_count": 2,
   "metadata": {
    "ExecuteTime": {
     "end_time": "2020-05-04T03:15:29.045973Z",
     "start_time": "2020-05-04T03:15:28.060441Z"
    }
   },
   "outputs": [],
   "source": [
    "# Ingest\n",
    "mnist_data = load('mnist.data.pkl')\n",
    "X, y = mnist_data['data'], mnist_data['target']\n",
    "y_int = y.astype(int)\n",
    "\n",
    "# Filter for only 2 and 7\n",
    "y_2_idx = (y_int == 2)\n",
    "y_7_idx = (y_int == 7)\n",
    "X_2 = X[np.where(y_2_idx)]\n",
    "X_7 = X[np.where(y_7_idx)]\n",
    "lbl_2 = np.ones(X_2.shape[0])*2\n",
    "lbl_7 = np.ones(X_7.shape[0])*7\n",
    "\n",
    "Xsmall = np.concatenate([X_2, X_7])\n",
    "ysmall = np.concatenate([lbl_2, lbl_7])"
   ]
  },
  {
   "cell_type": "code",
   "execution_count": 3,
   "metadata": {
    "ExecuteTime": {
     "end_time": "2020-05-04T03:17:05.678593Z",
     "start_time": "2020-05-04T03:15:29.048236Z"
    }
   },
   "outputs": [
    {
     "data": {
      "text/plain": [
       "AgglomerativeClustering(affinity='euclidean', compute_full_tree='auto',\n",
       "                        connectivity=None, distance_threshold=None,\n",
       "                        linkage='ward', memory=None, n_clusters=2)"
      ]
     },
     "execution_count": 3,
     "metadata": {},
     "output_type": "execute_result"
    }
   ],
   "source": [
    "# Hierarchical clustering algorithm\n",
    "clf = AgglomerativeClustering(n_clusters=2)\n",
    "clf.fit(Xsmall)\n",
    "# Note: Clustering took 1min 30s"
   ]
  },
  {
   "cell_type": "code",
   "execution_count": 5,
   "metadata": {
    "ExecuteTime": {
     "end_time": "2020-05-04T03:20:06.892852Z",
     "start_time": "2020-05-04T03:20:06.889470Z"
    }
   },
   "outputs": [],
   "source": [
    "y_predict = clf.labels_"
   ]
  },
  {
   "cell_type": "code",
   "execution_count": 6,
   "metadata": {
    "ExecuteTime": {
     "end_time": "2020-05-04T03:20:11.744113Z",
     "start_time": "2020-05-04T03:20:07.501538Z"
    },
    "scrolled": false
   },
   "outputs": [
    {
     "name": "stdout",
     "output_type": "stream",
     "text": [
      "{'y_test': 7, 'y_predict': 2}\n"
     ]
    },
    {
     "data": {
      "image/png": "[encoded data removed]",
      "text/plain": [
       "<Figure size 432x288 with 1 Axes>"
      ]
     },
     "metadata": {
      "needs_background": "light"
     },
     "output_type": "display_data"
    },
    {
     "name": "stdout",
     "output_type": "stream",
     "text": [
      "{'y_test': 7, 'y_predict': 2}\n"
     ]
    },
    {
     "data": {
      "image/png": "[encoded data removed]",
      "text/plain": [
       "<Figure size 432x288 with 1 Axes>"
      ]
     },
     "metadata": {
      "needs_background": "light"
     },
     "output_type": "display_data"
    },
    {
     "name": "stdout",
     "output_type": "stream",
     "text": [
      "{'y_test': 2, 'y_predict': 7}\n"
     ]
    },
    {
     "data": {
      "image/png": "[encoded data removed]",
      "text/plain": [
       "<Figure size 432x288 with 1 Axes>"
      ]
     },
     "metadata": {
      "needs_background": "light"
     },
     "output_type": "display_data"
    },
    {
     "name": "stdout",
     "output_type": "stream",
     "text": [
      "{'y_test': 7, 'y_predict': 2}\n"
     ]
    },
    {
     "data": {
      "image/png": "[encoded data removed]",
      "text/plain": [
       "<Figure size 432x288 with 1 Axes>"
      ]
     },
     "metadata": {
      "needs_background": "light"
     },
     "output_type": "display_data"
    },
    {
     "name": "stdout",
     "output_type": "stream",
     "text": [
      "{'y_test': 2, 'y_predict': 7}\n"
     ]
    },
    {
     "data": {
      "image/png": "[encoded data removed]",
      "text/plain": [
       "<Figure size 432x288 with 1 Axes>"
      ]
     },
     "metadata": {
      "needs_background": "light"
     },
     "output_type": "display_data"
    },
    {
     "name": "stdout",
     "output_type": "stream",
     "text": [
      "{'y_test': 7, 'y_predict': 2}\n"
     ]
    },
    {
     "data": {
      "image/png": "[encoded data removed]",
      "text/plain": [
       "<Figure size 432x288 with 1 Axes>"
      ]
     },
     "metadata": {
      "needs_background": "light"
     },
     "output_type": "display_data"
    },
    {
     "name": "stdout",
     "output_type": "stream",
     "text": [
      "{'y_test': 7, 'y_predict': 2}\n"
     ]
    },
    {
     "data": {
      "image/png": "[encoded data removed]",
      "text/plain": [
       "<Figure size 432x288 with 1 Axes>"
      ]
     },
     "metadata": {
      "needs_background": "light"
     },
     "output_type": "display_data"
    },
    {
     "name": "stdout",
     "output_type": "stream",
     "text": [
      "{'y_test': 7, 'y_predict': 2}\n"
     ]
    },
    {
     "data": {
      "image/png": "[encoded data removed]",
      "text/plain": [
       "<Figure size 432x288 with 1 Axes>"
      ]
     },
     "metadata": {
      "needs_background": "light"
     },
     "output_type": "display_data"
    },
    {
     "name": "stdout",
     "output_type": "stream",
     "text": [
      "{'y_test': 2, 'y_predict': 7}\n"
     ]
    },
    {
     "data": {
      "image/png": "[encoded data removed]",
      "text/plain": [
       "<Figure size 432x288 with 1 Axes>"
      ]
     },
     "metadata": {
      "needs_background": "light"
     },
     "output_type": "display_data"
    },
    {
     "name": "stdout",
     "output_type": "stream",
     "text": [
      "{'y_test': 7, 'y_predict': 2}\n"
     ]
    },
    {
     "data": {
      "image/png": "[encoded data removed]",
      "text/plain": [
       "<Figure size 432x288 with 1 Axes>"
      ]
     },
     "metadata": {
      "needs_background": "light"
     },
     "output_type": "display_data"
    },
    {
     "name": "stdout",
     "output_type": "stream",
     "text": [
      "{'y_test': 7, 'y_predict': 2}\n"
     ]
    },
    {
     "data": {
      "image/png": "[encoded data removed]",
      "text/plain": [
       "<Figure size 432x288 with 1 Axes>"
      ]
     },
     "metadata": {
      "needs_background": "light"
     },
     "output_type": "display_data"
    },
    {
     "name": "stdout",
     "output_type": "stream",
     "text": [
      "{'y_test': 7, 'y_predict': 2}\n"
     ]
    },
    {
     "data": {
      "image/png": "[encoded data removed]",
      "text/plain": [
       "<Figure size 432x288 with 1 Axes>"
      ]
     },
     "metadata": {
      "needs_background": "light"
     },
     "output_type": "display_data"
    },
    {
     "name": "stdout",
     "output_type": "stream",
     "text": [
      "{'y_test': 7, 'y_predict': 2}\n"
     ]
    },
    {
     "data": {
      "image/png": "[encoded data removed]",
      "text/plain": [
       "<Figure size 432x288 with 1 Axes>"
      ]
     },
     "metadata": {
      "needs_background": "light"
     },
     "output_type": "display_data"
    },
    {
     "name": "stdout",
     "output_type": "stream",
     "text": [
      "{'y_test': 7, 'y_predict': 2}\n"
     ]
    },
    {
     "data": {
      "image/png": "[encoded data removed]",
      "text/plain": [
       "<Figure size 432x288 with 1 Axes>"
      ]
     },
     "metadata": {
      "needs_background": "light"
     },
     "output_type": "display_data"
    },
    {
     "name": "stdout",
     "output_type": "stream",
     "text": [
      "{'y_test': 7, 'y_predict': 2}\n"
     ]
    },
    {
     "data": {
      "image/png": "[encoded data removed]",
      "text/plain": [
       "<Figure size 432x288 with 1 Axes>"
      ]
     },
     "metadata": {
      "needs_background": "light"
     },
     "output_type": "display_data"
    },
    {
     "name": "stdout",
     "output_type": "stream",
     "text": [
      "{'y_test': 7, 'y_predict': 2}\n"
     ]
    },
    {
     "data": {
      "image/png": "[encoded data removed]",
      "text/plain": [
       "<Figure size 432x288 with 1 Axes>"
      ]
     },
     "metadata": {
      "needs_background": "light"
     },
     "output_type": "display_data"
    },
    {
     "name": "stdout",
     "output_type": "stream",
     "text": [
      "{'y_test': 2, 'y_predict': 7}\n"
     ]
    },
    {
     "data": {
      "image/png": "[encoded data removed]",
      "text/plain": [
       "<Figure size 432x288 with 1 Axes>"
      ]
     },
     "metadata": {
      "needs_background": "light"
     },
     "output_type": "display_data"
    },
    {
     "name": "stdout",
     "output_type": "stream",
     "text": [
      "{'y_test': 7, 'y_predict': 2}\n"
     ]
    },
    {
     "data": {
      "image/png": "[encoded data removed]",
      "text/plain": [
       "<Figure size 432x288 with 1 Axes>"
      ]
     },
     "metadata": {
      "needs_background": "light"
     },
     "output_type": "display_data"
    },
    {
     "name": "stdout",
     "output_type": "stream",
     "text": [
      "{'y_test': 7, 'y_predict': 2}\n"
     ]
    },
    {
     "data": {
      "image/png": "[encoded data removed]",
      "text/plain": [
       "<Figure size 432x288 with 1 Axes>"
      ]
     },
     "metadata": {
      "needs_background": "light"
     },
     "output_type": "display_data"
    },
    {
     "name": "stdout",
     "output_type": "stream",
     "text": [
      "{'y_test': 7, 'y_predict': 2}\n"
     ]
    },
    {
     "data": {
      "image/png": "[encoded data removed]",
      "text/plain": [
       "<Figure size 432x288 with 1 Axes>"
      ]
     },
     "metadata": {
      "needs_background": "light"
     },
     "output_type": "display_data"
    }
   ],
   "source": [
    "# Check validity of clustering\n",
    "y_df = pd.DataFrame({'y_test' : ysmall, 'y_predict' : y_predict})\n",
    "y_df['y_predict'] = y_df['y_predict'].map({1:2,0:7})\n",
    "y_df['y_test'] = y_df['y_test'].astype(int)\n",
    "\n",
    "idx = y_df[~(y_df.y_test==y_df.y_predict)].sample(20).index\n",
    "for i in idx:\n",
    "    print(y_df.loc[i].to_dict())\n",
    "    digit = Xsmall[i].reshape(28,28)\n",
    "    plt.imshow(digit, cmap=plt.cm.binary)\n",
    "    plt.show()"
   ]
  }
 ],
 "metadata": {
  "kernelspec": {
   "display_name": "Python 3",
   "language": "python",
   "name": "python3"
  },
  "language_info": {
   "codemirror_mode": {
    "name": "ipython",
    "version": 3
   },
   "file_extension": ".py",
   "mimetype": "text/x-python",
   "name": "python",
   "nbconvert_exporter": "python",
   "pygments_lexer": "ipython3",
   "version": "3.7.2"
  }
 },
 "nbformat": 4,
 "nbformat_minor": 4
}
