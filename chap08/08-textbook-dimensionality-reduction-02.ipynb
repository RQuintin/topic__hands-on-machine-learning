{
 "cells": [
  {
   "cell_type": "markdown",
   "metadata": {},
   "source": [
    "## Chapter 8 - Dimensionality Reduction"
   ]
  },
  {
   "cell_type": "markdown",
   "metadata": {},
   "source": [
    "### Explained Variance Ratio / Proportion of Variance Explained\n",
    "\n",
    "After a projection is complete, we ask how much of the information in a given dataset is lost by projection the observations to the first few principal components? In other words, how much of the variance in the data is not contained in the first few principal components? \n",
    "\n",
    "Generally, we want to find the proportion of variance explained (PVE) by each principal component. The total variance in a dataset is defined as:\n",
    "\n",
    "$$\\sum_{j=1}^p \\text{Var}(X_j) = \\sum_{j=1}^p\\frac 1n \\sum_{i=1}^n x^2_{ij}$$\n",
    "\n",
    "and the variance explained by the $m$th principal component is:\n",
    "\n",
    "$$\\frac 1n \\sum_{i=1}^n z^2_{im} = \\frac 1n \\sum_{i=1}^n\\begin{pmatrix}\\sum_{j=1}^p \\phi_{jm}x_{ij}\\end{pmatrix}^2$$\n",
    "\n",
    "and hence the PVE of the $m$th principal component is:\n",
    "\n",
    "$$\\frac{\\sum_{i=1}^n\\begin{pmatrix}\\sum_{j=1}^p \\phi_{jm}x_{ij}\\end{pmatrix}^2}{\\sum_{j=1}^p \\sum_{i=1}^n x^2_{ij}}$$"
   ]
  },
  {
   "cell_type": "code",
   "execution_count": 1,
   "metadata": {
    "ExecuteTime": {
     "end_time": "2020-05-05T10:36:32.369914Z",
     "start_time": "2020-05-05T10:36:31.144918Z"
    }
   },
   "outputs": [],
   "source": [
    "import pandas as pd\n",
    "import numpy as np\n",
    "\n",
    "from sklearn.model_selection import KFold\n",
    "from sklearn.decomposition import PCA, IncrementalPCA\n",
    "\n",
    "import matplotlib.pyplot as plt\n",
    "\n",
    "def load(fname):\n",
    "    import pickle\n",
    "    mnist = None\n",
    "    try:\n",
    "        with open(fname, 'rb') as f:\n",
    "            mnist = pickle.load(f)\n",
    "            return mnist\n",
    "    except FileNotFoundError:\n",
    "        from sklearn.datasets import fetch_openml\n",
    "        mnist = fetch_openml('mnist_784', version=1, cache=True)\n",
    "        with open(fname, 'wb') as f:\n",
    "            mnist = pickle.dump(mnist, f)\n",
    "        return mnist"
   ]
  },
  {
   "cell_type": "code",
   "execution_count": 2,
   "metadata": {
    "ExecuteTime": {
     "end_time": "2020-05-05T10:36:33.088743Z",
     "start_time": "2020-05-05T10:36:32.372308Z"
    }
   },
   "outputs": [],
   "source": [
    "# Ingest\n",
    "mnsit = load('mnist.data.pkl')\n",
    "mnsit_X, mnsit_y = mnsit['data'], mnsit['target']\n",
    "\n",
    "kf = KFold(n_splits=10, shuffle=True, random_state=0)\n",
    "kf.get_n_splits()\n",
    "t1 = []\n",
    "for train_index, test_index in kf.split(mnsit_X, mnsit_y):\n",
    "    t1 = test_index\n",
    "    break\n",
    "X = mnsit_X[t1]\n",
    "y_test = mnsit_y[t1]"
   ]
  },
  {
   "cell_type": "code",
   "execution_count": 3,
   "metadata": {
    "ExecuteTime": {
     "end_time": "2020-05-05T10:36:36.015323Z",
     "start_time": "2020-05-05T10:36:33.091299Z"
    },
    "scrolled": true
   },
   "outputs": [
    {
     "data": {
      "text/plain": [
       "PCA(copy=True, iterated_power='auto', n_components=625, random_state=None,\n",
       "    svd_solver='auto', tol=0.0, whiten=False)"
      ]
     },
     "execution_count": 3,
     "metadata": {},
     "output_type": "execute_result"
    }
   ],
   "source": [
    "# Train the PCA model\n",
    "pca = PCA(n_components=25**2)\n",
    "pca.fit(X)"
   ]
  },
  {
   "cell_type": "markdown",
   "metadata": {},
   "source": [
    "The PVE of each principal component is a positive quantity. In order to compute the cumulative PVE of the first $M$ principal components, we simply sum the PVE of the expression above.\n",
    "\n",
    "The PVE of each principal component as well as the cumulative PVE can be shown in a scree plot.\n",
    "\n",
    "<img src=\"0804.png\" width=\"600\" />"
   ]
  },
  {
   "cell_type": "code",
   "execution_count": 4,
   "metadata": {
    "ExecuteTime": {
     "end_time": "2020-05-05T10:36:36.026894Z",
     "start_time": "2020-05-05T10:36:36.018708Z"
    }
   },
   "outputs": [],
   "source": [
    "# Obtain the proportion of variance explained\n",
    "var_df = pd.DataFrame({'evr' : pca.explained_variance_ratio_})\n",
    "var_df['cum_vr'] = var_df['evr'].cumsum()\n",
    "var_df['PC'] = var_df.index+1"
   ]
  },
  {
   "cell_type": "code",
   "execution_count": 5,
   "metadata": {
    "ExecuteTime": {
     "end_time": "2020-05-05T10:36:36.033768Z",
     "start_time": "2020-05-05T10:36:36.029933Z"
    }
   },
   "outputs": [],
   "source": [
    "# For testing\n",
    "# print(var_df[:5])"
   ]
  },
  {
   "cell_type": "code",
   "execution_count": 6,
   "metadata": {
    "ExecuteTime": {
     "end_time": "2020-05-05T10:36:36.544996Z",
     "start_time": "2020-05-05T10:36:36.045585Z"
    }
   },
   "outputs": [
    {
     "data": {
      "image/png": "[encoded data removed]",
      "text/plain": [
       "<Figure size 1296x360 with 2 Axes>"
      ]
     },
     "metadata": {
      "needs_background": "light"
     },
     "output_type": "display_data"
    }
   ],
   "source": [
    "# Scree plot & Cumulative Variance explained plot \n",
    "fig= plt.figure(figsize=(18,5))\n",
    "ax1, ax2 = fig.add_subplot(121),fig.add_subplot(122)\n",
    "var_df.plot(kind='line', x='PC', y='evr', ax=ax1)\n",
    "var_df.plot(kind='line', x='PC', y='cum_vr', ax=ax2)\n",
    "ax1.set_ylim(0,0.12)\n",
    "ax1.set_yticks([i/100 for i in range(0,12)])\n",
    "ax2.set_ylim(0,1.2)\n",
    "ax2.set_yticks([i/10 for i in range(0,12)])\n",
    "ax1.grid()\n",
    "ax2.grid()\n",
    "plt.show()"
   ]
  },
  {
   "cell_type": "code",
   "execution_count": 7,
   "metadata": {
    "ExecuteTime": {
     "end_time": "2020-05-05T10:36:37.380867Z",
     "start_time": "2020-05-05T10:36:36.547650Z"
    }
   },
   "outputs": [
    {
     "name": "stdout",
     "output_type": "stream",
     "text": [
      "150\n"
     ]
    },
    {
     "data": {
      "text/plain": [
       "PCA(copy=True, iterated_power='auto', n_components=150, random_state=None,\n",
       "    svd_solver='auto', tol=0.0, whiten=False)"
      ]
     },
     "execution_count": 7,
     "metadata": {},
     "output_type": "execute_result"
    }
   ],
   "source": [
    "# Choosing the right number of dimensions using 95% explanation,\n",
    "num_features = np.argmax(var_df['cum_vr']>0.95)+1\n",
    "print(num_features)\n",
    "# Train with this selection\n",
    "pca2 = PCA(n_components=num_features)\n",
    "pca2.fit(X)"
   ]
  },
  {
   "cell_type": "code",
   "execution_count": 8,
   "metadata": {
    "ExecuteTime": {
     "end_time": "2020-05-05T10:36:38.473593Z",
     "start_time": "2020-05-05T10:36:37.386338Z"
    }
   },
   "outputs": [
    {
     "data": {
      "text/plain": [
       "PCA(copy=True, iterated_power='auto', n_components=0.95, random_state=None,\n",
       "    svd_solver='auto', tol=0.0, whiten=False)"
      ]
     },
     "execution_count": 8,
     "metadata": {},
     "output_type": "execute_result"
    }
   ],
   "source": [
    "# Fit using 95% explained variance directly using parameters\n",
    "pca3 = PCA(n_components=0.95)\n",
    "pca3.fit(X)"
   ]
  },
  {
   "cell_type": "code",
   "execution_count": 9,
   "metadata": {
    "ExecuteTime": {
     "end_time": "2020-05-05T10:36:38.480312Z",
     "start_time": "2020-05-05T10:36:38.477097Z"
    }
   },
   "outputs": [],
   "source": [
    "# For testing\n",
    "# Validate that the n_components for both pca2 and pca3 are the same\n",
    "# print(pca2.n_components_)\n",
    "# print(pca3.n_components_)"
   ]
  },
  {
   "cell_type": "markdown",
   "metadata": {},
   "source": [
    "Of course, we aim to use the smallest number of principal components to describe the data aptly. However, there is no good solution to this.\n",
    "\n",
    "Generally, we use a scree plot to help us. Specifically, we look for a point where the proportion of variance explained by each subsequentn principal component drops off. It is referred to as the elbow in the scree plot. In the above example, the elbow after the second principal component. The third principal component captures 10% of the variance and the fourth principal component explains less that 5% and is essentially worthless.\n",
    "\n",
    "Another thing to consider is to choose the number of dimensions that add up to a sufficiently large portion of the variance e.g. 95%."
   ]
  },
  {
   "cell_type": "markdown",
   "metadata": {},
   "source": [
    "### Incremental PCA\n",
    "\n",
    "Instead of fitting the whole training set for the SVD algorithm to run, we can split the training set to mini-batches and run incremental PCA (IPCA), one batch at a time."
   ]
  },
  {
   "cell_type": "code",
   "execution_count": 10,
   "metadata": {
    "ExecuteTime": {
     "end_time": "2020-05-05T10:36:39.626076Z",
     "start_time": "2020-05-05T10:36:38.483635Z"
    }
   },
   "outputs": [],
   "source": [
    "# Incremental PCA\n",
    "n_batches = 100\n",
    "incpca = IncrementalPCA(n_components=10)\n",
    "for X_batch in np.array_split(X, n_batches):\n",
    "    incpca.partial_fit(X_batch)"
   ]
  },
  {
   "cell_type": "code",
   "execution_count": 11,
   "metadata": {
    "ExecuteTime": {
     "end_time": "2020-05-05T10:36:39.672052Z",
     "start_time": "2020-05-05T10:36:39.627762Z"
    }
   },
   "outputs": [],
   "source": [
    "# Transform using the projection learnt after the incremental PCA\n",
    "X_proj3 = incpca.transform(X)"
   ]
  },
  {
   "cell_type": "markdown",
   "metadata": {},
   "source": [
    "### Randomised PCA\n",
    "\n",
    "Another option for PCA is randomised PCA. This is a stochastic algorithm that quickly finds an approximation of the first $m$ principal components. It is faster when the number of principal components $m$ is much smaller than the number of observations $n$."
   ]
  },
  {
   "cell_type": "code",
   "execution_count": 12,
   "metadata": {
    "ExecuteTime": {
     "end_time": "2020-05-05T10:36:39.678428Z",
     "start_time": "2020-05-05T10:36:39.674550Z"
    }
   },
   "outputs": [],
   "source": [
    "# Randomised PCA\n",
    "rnd_pca = PCA(n_components=10, svd_solver='randomized')"
   ]
  },
  {
   "cell_type": "code",
   "execution_count": 13,
   "metadata": {
    "ExecuteTime": {
     "end_time": "2020-05-05T10:36:40.122480Z",
     "start_time": "2020-05-05T10:36:39.682979Z"
    }
   },
   "outputs": [],
   "source": [
    "# Transformation after using the projection learnt\n",
    "X_proj4 = rnd_pca.fit_transform(X)"
   ]
  }
 ],
 "metadata": {
  "kernelspec": {
   "display_name": "Python 3",
   "language": "python",
   "name": "python3"
  },
  "language_info": {
   "codemirror_mode": {
    "name": "ipython",
    "version": 3
   },
   "file_extension": ".py",
   "mimetype": "text/x-python",
   "name": "python",
   "nbconvert_exporter": "python",
   "pygments_lexer": "ipython3",
   "version": "3.7.2"
  }
 },
 "nbformat": 4,
 "nbformat_minor": 4
}
