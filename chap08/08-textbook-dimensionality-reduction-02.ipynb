{
 "cells": [
  {
   "cell_type": "markdown",
   "metadata": {},
   "source": [
    "## Chapter 8 - Dimensionality Reduction\n",
    "\n",
    "Many ML problems involve training on many features for each training instance. This process is slow and makes it harder to find a good solution. This is called the curse of dimensionality. Two ways are discussed - projection & manifold learning.\n",
    "\n",
    "#### Projection\n",
    "In most problems, training instances are not spread out uniformly across all dimensions. Some are almost constant while some are highely correlated with each other. Hence, all training instances actually lie within a much lower dimensional subspace of the high dimensional space.\n",
    "\n",
    "#### Manifold Learning\n",
    "Manifold learning relies on the manifold assumption, that most real-world high dimensional datasets lie close to a much lower-dimensional manifold. E.g. a Swiss Roll is a 2D manifold. It resembles a 2D space but it is bent and we see a 3D space. Also, we assume that the ML task (regression/classification) will be simpler if expressed in the lower dimensional space of the menifold."
   ]
  },
  {
   "cell_type": "code",
   "execution_count": 35,
   "metadata": {
    "ExecuteTime": {
     "end_time": "2020-04-21T13:23:55.902779Z",
     "start_time": "2020-04-21T13:23:55.895709Z"
    }
   },
   "outputs": [],
   "source": [
    "import pandas as pd\n",
    "import numpy as np\n",
    "\n",
    "from sklearn.decomposition import PCA\n",
    "from sklearn.decomposition import IncrementalPCA\n",
    "\n",
    "def load(fname):\n",
    "    import pickle\n",
    "    mnist = None\n",
    "    try:\n",
    "        with open(fname, 'rb') as f:\n",
    "            mnist = pickle.load(f)\n",
    "            return mnist\n",
    "    except FileNotFoundError:\n",
    "        from sklearn.datasets import fetch_openml\n",
    "        mnist = fetch_openml('mnist_784', version=1, cache=True)\n",
    "        with open(fname, 'wb') as f:\n",
    "            mnist = pickle.dump(mnist, f)\n",
    "        return mnist"
   ]
  },
  {
   "cell_type": "code",
   "execution_count": 17,
   "metadata": {
    "ExecuteTime": {
     "end_time": "2020-04-21T13:14:37.067699Z",
     "start_time": "2020-04-21T13:14:36.193843Z"
    }
   },
   "outputs": [
    {
     "name": "stdout",
     "output_type": "stream",
     "text": [
      "(70000, 784)\n"
     ]
    }
   ],
   "source": [
    "unn = load('mnist.data.pkl')\n",
    "X = np.array(unn['data'])\n",
    "print(X.shape)"
   ]
  },
  {
   "cell_type": "code",
   "execution_count": 18,
   "metadata": {
    "ExecuteTime": {
     "end_time": "2020-04-21T13:15:26.257534Z",
     "start_time": "2020-04-21T13:15:14.329036Z"
    }
   },
   "outputs": [],
   "source": [
    "# Data is 28x28 squares. Attempt to shrink to 14x14 squares\n",
    "pca = PCA(n_components=14**2)\n",
    "X_proj1 = pca.fit_transform(X)"
   ]
  },
  {
   "cell_type": "code",
   "execution_count": 21,
   "metadata": {
    "ExecuteTime": {
     "end_time": "2020-04-21T13:19:21.360689Z",
     "start_time": "2020-04-21T13:19:21.354917Z"
    }
   },
   "outputs": [
    {
     "name": "stdout",
     "output_type": "stream",
     "text": [
      "[0.09746116 0.07155445 0.06149531 0.05403385 0.04888934 0.04305227\n",
      " 0.03278262 0.02889642 0.02758364 0.0234214  0.02106689 0.02037553\n",
      " 0.01707064 0.0169402  0.01583382 0.01486345 0.01319358 0.01279014\n",
      " 0.01187272 0.01152937 0.0106604  0.01009794 0.00959151 0.00909635\n",
      " 0.00883287 0.00838818 0.00809832 0.00785718 0.00740262 0.00690014\n",
      " 0.00656144 0.0064547  0.00600819 0.00585612 0.00566754 0.00543471\n",
      " 0.00504717 0.00487079 0.00478955 0.00467594 0.00454369 0.00444918\n",
      " 0.00418217 0.00396164 0.00383708 0.00375785 0.00361426 0.00349025\n",
      " 0.00338732 0.00319696]\n",
      "0.8254188388272202\n"
     ]
    }
   ],
   "source": [
    "# Check the variance ratios of top 20 components\n",
    "print(pca.explained_variance_ratio_[:50])\n",
    "print(sum(pca.explained_variance_ratio_[:50]))"
   ]
  },
  {
   "cell_type": "code",
   "execution_count": 23,
   "metadata": {
    "ExecuteTime": {
     "end_time": "2020-04-21T13:20:13.257729Z",
     "start_time": "2020-04-21T13:20:13.250764Z"
    }
   },
   "outputs": [
    {
     "name": "stdout",
     "output_type": "stream",
     "text": [
      "[0.09746116 0.16901561 0.23051091 0.28454476 0.3334341  0.37648637\n",
      " 0.40926898 0.4381654  0.46574904 0.48917044 0.51023733 0.53061286\n",
      " 0.5476835  0.5646237  0.58045752 0.59532097 0.60851456 0.6213047\n",
      " 0.63317742 0.64470679 0.65536719 0.66546513 0.67505665 0.684153\n",
      " 0.69298586 0.70137405 0.70947236 0.71732954 0.72473217 0.73163231\n",
      " 0.73819375 0.74464845 0.75065664 0.75651276 0.7621803  0.767615\n",
      " 0.77266217 0.77753297 0.78232252 0.78699846 0.79154214 0.79599132\n",
      " 0.80017349 0.80413513 0.8079722  0.81173005 0.81534432 0.81883456\n",
      " 0.82222188 0.82541884]\n",
      "154\n"
     ]
    }
   ],
   "source": [
    "# Choosing the right number of dimensions using 95% explanation\n",
    "cumsum = np.cumsum(pca.explained_variance_ratio_)\n",
    "print(cumsum[:50])\n",
    "d = np.argmax(cumsum>0.95)+1\n",
    "print(d)"
   ]
  },
  {
   "cell_type": "code",
   "execution_count": 26,
   "metadata": {
    "ExecuteTime": {
     "end_time": "2020-04-21T13:21:33.176789Z",
     "start_time": "2020-04-21T13:21:21.907584Z"
    }
   },
   "outputs": [
    {
     "data": {
      "text/plain": [
       "PCA(copy=True, iterated_power='auto', n_components=0.95, random_state=None,\n",
       "    svd_solver='auto', tol=0.0, whiten=False)"
      ]
     },
     "execution_count": 26,
     "metadata": {},
     "output_type": "execute_result"
    }
   ],
   "source": [
    "# Fitting now with 95% explained variance from earlier.\n",
    "pca2 = PCA(n_components=0.95)\n",
    "pca2.fit(X)"
   ]
  },
  {
   "cell_type": "code",
   "execution_count": 28,
   "metadata": {
    "ExecuteTime": {
     "end_time": "2020-04-21T13:21:46.735327Z",
     "start_time": "2020-04-21T13:21:46.730939Z"
    }
   },
   "outputs": [
    {
     "name": "stdout",
     "output_type": "stream",
     "text": [
      "154\n"
     ]
    }
   ],
   "source": [
    "# Gets the same result\n",
    "print(len(pca2.components_))"
   ]
  },
  {
   "cell_type": "code",
   "execution_count": 34,
   "metadata": {
    "ExecuteTime": {
     "end_time": "2020-04-21T13:22:55.957245Z",
     "start_time": "2020-04-21T13:22:55.727630Z"
    }
   },
   "outputs": [
    {
     "data": {
      "text/plain": [
       "<matplotlib.axes._subplots.AxesSubplot at 0x13fda4da0>"
      ]
     },
     "execution_count": 34,
     "metadata": {},
     "output_type": "execute_result"
    },
    {
     "data": {
      "image/png": "[encoded data removed]",
      "text/plain": [
       "<Figure size 720x288 with 1 Axes>"
      ]
     },
     "metadata": {
      "needs_background": "light"
     },
     "output_type": "display_data"
    }
   ],
   "source": [
    "# Or use the elbow curve to help determine the no. of dimensions to use.\n",
    "pd.DataFrame({'c' : cumsum}).plot(kind='line', y='c', figsize=(10,4))"
   ]
  },
  {
   "cell_type": "code",
   "execution_count": 37,
   "metadata": {
    "ExecuteTime": {
     "end_time": "2020-04-21T13:25:15.625454Z",
     "start_time": "2020-04-21T13:24:42.370099Z"
    }
   },
   "outputs": [],
   "source": [
    "# Incremental PCA\n",
    "n_batches = 100\n",
    "incpca = IncrementalPCA(n_components=154)\n",
    "for X_batch in np.array_split(X, n_batches):\n",
    "    incpca.partial_fit(X_batch)\n"
   ]
  },
  {
   "cell_type": "code",
   "execution_count": 39,
   "metadata": {
    "ExecuteTime": {
     "end_time": "2020-04-21T13:25:23.060671Z",
     "start_time": "2020-04-21T13:25:22.331789Z"
    }
   },
   "outputs": [],
   "source": [
    "# Transform using the projection learnt after the incremental PCA\n",
    "X_proj3 = incpca.transform(X)"
   ]
  },
  {
   "cell_type": "code",
   "execution_count": 42,
   "metadata": {
    "ExecuteTime": {
     "end_time": "2020-04-21T13:26:19.420123Z",
     "start_time": "2020-04-21T13:26:11.368281Z"
    }
   },
   "outputs": [],
   "source": [
    "# Randomised PCA\n",
    "rnd_pca = PCA(n_components=154, svd_solver='randomized')\n",
    "X_proj4 = rnd_pca.fit_transform(X)"
   ]
  }
 ],
 "metadata": {
  "kernelspec": {
   "display_name": "Python 3",
   "language": "python",
   "name": "python3"
  },
  "language_info": {
   "codemirror_mode": {
    "name": "ipython",
    "version": 3
   },
   "file_extension": ".py",
   "mimetype": "text/x-python",
   "name": "python",
   "nbconvert_exporter": "python",
   "pygments_lexer": "ipython3",
   "version": "3.7.2"
  }
 },
 "nbformat": 4,
 "nbformat_minor": 4
}
