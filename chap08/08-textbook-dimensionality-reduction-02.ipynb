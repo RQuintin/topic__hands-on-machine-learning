{
 "cells": [
  {
   "cell_type": "markdown",
   "metadata": {},
   "source": [
    "## Chapter 8 - Dimensionality Reduction"
   ]
  },
  {
   "cell_type": "markdown",
   "metadata": {},
   "source": [
    "### Explained Variance Ratio"
   ]
  },
  {
   "cell_type": "code",
   "execution_count": 1,
   "metadata": {
    "ExecuteTime": {
     "end_time": "2020-05-05T07:19:20.018695Z",
     "start_time": "2020-05-05T07:19:18.664041Z"
    }
   },
   "outputs": [],
   "source": [
    "import pandas as pd\n",
    "import numpy as np\n",
    "\n",
    "from sklearn.model_selection import train_test_split\n",
    "from sklearn.decomposition import PCA\n",
    "from sklearn.decomposition import IncrementalPCA\n",
    "\n",
    "import matplotlib.pyplot as plt\n",
    "\n",
    "def load(fname):\n",
    "    import pickle\n",
    "    mnist = None\n",
    "    try:\n",
    "        with open(fname, 'rb') as f:\n",
    "            mnist = pickle.load(f)\n",
    "            return mnist\n",
    "    except FileNotFoundError:\n",
    "        from sklearn.datasets import fetch_openml\n",
    "        mnist = fetch_openml('mnist_784', version=1, cache=True)\n",
    "        with open(fname, 'wb') as f:\n",
    "            mnist = pickle.dump(mnist, f)\n",
    "        return mnist"
   ]
  },
  {
   "cell_type": "code",
   "execution_count": 2,
   "metadata": {
    "ExecuteTime": {
     "end_time": "2020-05-05T07:19:21.945402Z",
     "start_time": "2020-05-05T07:19:20.020845Z"
    }
   },
   "outputs": [],
   "source": [
    "# Ingest\n",
    "mnsit = load('mnist.data.pkl')\n",
    "X, y = mnsit['data'], mnsit['target']\n",
    "X_train, X_test, y_train, y_test = train_test_split(X, y, test_size=0.05, random_state=0)"
   ]
  },
  {
   "cell_type": "code",
   "execution_count": 3,
   "metadata": {
    "ExecuteTime": {
     "end_time": "2020-05-05T07:19:22.736789Z",
     "start_time": "2020-05-05T07:19:21.948842Z"
    }
   },
   "outputs": [
    {
     "data": {
      "text/plain": [
       "PCA(copy=True, iterated_power='auto', n_components=196, random_state=None,\n",
       "    svd_solver='auto', tol=0.0, whiten=False)"
      ]
     },
     "execution_count": 3,
     "metadata": {},
     "output_type": "execute_result"
    }
   ],
   "source": [
    "pca = PCA(n_components=14**2)\n",
    "pca.fit(X_test)"
   ]
  },
  {
   "cell_type": "code",
   "execution_count": 4,
   "metadata": {
    "ExecuteTime": {
     "end_time": "2020-05-05T07:19:22.753112Z",
     "start_time": "2020-05-05T07:19:22.740355Z"
    }
   },
   "outputs": [
    {
     "name": "stdout",
     "output_type": "stream",
     "text": [
      "[0.09709966 0.07158512 0.06055769 0.05291999 0.05074701 0.04301469\n",
      " 0.0324475  0.02917122 0.02801288 0.02465777 0.02090299 0.02077658\n",
      " 0.01746874 0.0172588  0.01572802 0.0152113  0.01325329 0.0127535\n",
      " 0.01179923 0.01136469 0.01065885 0.01045287 0.00980941 0.00923684\n",
      " 0.00869312 0.00831781 0.0082039  0.00770345 0.00709531 0.00688854\n",
      " 0.00660792 0.00638328 0.00605638 0.00585229 0.00556135 0.00538028\n",
      " 0.00520016 0.00497553 0.00482549 0.00467956 0.00457524 0.0044043\n",
      " 0.0041529  0.00390554 0.00378024 0.00368948 0.00356422 0.00353742\n",
      " 0.0033839  0.00331331]\n",
      "0.8276195443583743\n"
     ]
    }
   ],
   "source": [
    "# Check the variance ratios of top 20 components\n",
    "print(pca.explained_variance_ratio_[:50])\n",
    "print(sum(pca.explained_variance_ratio_[:50]))"
   ]
  },
  {
   "cell_type": "code",
   "execution_count": 5,
   "metadata": {
    "ExecuteTime": {
     "end_time": "2020-05-05T07:19:22.774804Z",
     "start_time": "2020-05-05T07:19:22.760356Z"
    }
   },
   "outputs": [
    {
     "name": "stdout",
     "output_type": "stream",
     "text": [
      "[0.09709966 0.16868478 0.22924247 0.28216246 0.33290948 0.37592416\n",
      " 0.40837166 0.43754289 0.46555577 0.49021354 0.51111653 0.53189311\n",
      " 0.54936185 0.56662065 0.58234867 0.59755997 0.61081325 0.62356675\n",
      " 0.63536598 0.64673067 0.65738952 0.66784239 0.6776518  0.68688864\n",
      " 0.69558176 0.70389957 0.71210346 0.71980691 0.72690222 0.73379076\n",
      " 0.74039867 0.74678195 0.75283834 0.75869063 0.76425198 0.76963226\n",
      " 0.77483242 0.77980795 0.78463344 0.789313   0.79388824 0.79829254\n",
      " 0.80244544 0.80635098 0.81013122 0.8138207  0.81738492 0.82092234\n",
      " 0.82430624 0.82761954]\n",
      "147\n"
     ]
    }
   ],
   "source": [
    "# Choosing the right number of dimensions using 95% explanation\n",
    "cumsum = np.cumsum(pca.explained_variance_ratio_)\n",
    "print(cumsum[:50])\n",
    "d = np.argmax(cumsum>0.95)+1\n",
    "print(d)"
   ]
  },
  {
   "cell_type": "code",
   "execution_count": 6,
   "metadata": {
    "ExecuteTime": {
     "end_time": "2020-05-05T07:19:23.922609Z",
     "start_time": "2020-05-05T07:19:22.785005Z"
    }
   },
   "outputs": [
    {
     "data": {
      "text/plain": [
       "PCA(copy=True, iterated_power='auto', n_components=0.95, random_state=None,\n",
       "    svd_solver='auto', tol=0.0, whiten=False)"
      ]
     },
     "execution_count": 6,
     "metadata": {},
     "output_type": "execute_result"
    }
   ],
   "source": [
    "# Fitting now with 95% explained variance from earlier.\n",
    "pca2 = PCA(n_components=0.95)\n",
    "pca2.fit(X_test)"
   ]
  },
  {
   "cell_type": "code",
   "execution_count": 7,
   "metadata": {
    "ExecuteTime": {
     "end_time": "2020-05-05T07:19:23.930009Z",
     "start_time": "2020-05-05T07:19:23.925544Z"
    }
   },
   "outputs": [
    {
     "name": "stdout",
     "output_type": "stream",
     "text": [
      "147\n"
     ]
    }
   ],
   "source": [
    "# Gets the same result\n",
    "print(len(pca2.components_))"
   ]
  },
  {
   "cell_type": "code",
   "execution_count": 8,
   "metadata": {
    "ExecuteTime": {
     "end_time": "2020-05-05T07:19:24.212289Z",
     "start_time": "2020-05-05T07:19:23.934137Z"
    },
    "scrolled": true
   },
   "outputs": [
    {
     "data": {
      "image/png": "[encoded data removed]",
      "text/plain": [
       "<Figure size 720x288 with 1 Axes>"
      ]
     },
     "metadata": {
      "needs_background": "light"
     },
     "output_type": "display_data"
    }
   ],
   "source": [
    "# Or use the elbow curve to help determine the no. of dimensions to use.\n",
    "fig, ax = plt.subplots(figsize=(18,10))\n",
    "pd.DataFrame({'num_features' : cumsum}).plot(kind='line', y='num_features', figsize=(10,4), ax=ax)\n",
    "ax.set_ylim(0,1.2)\n",
    "ax.set_yticks([i/10 for i in range(0,12)])\n",
    "ax.grid()\n",
    "plt.show()"
   ]
  },
  {
   "cell_type": "markdown",
   "metadata": {},
   "source": [
    "### Incremental PCA\n",
    "\n",
    "Instead of fitting the whole training set for the SVD algorithm to run, we can split the training set to mini-batches and run incremental PCA (IPCA), one batch at a time."
   ]
  },
  {
   "cell_type": "code",
   "execution_count": 9,
   "metadata": {
    "ExecuteTime": {
     "end_time": "2020-05-05T07:19:24.754334Z",
     "start_time": "2020-05-05T07:19:24.215379Z"
    }
   },
   "outputs": [],
   "source": [
    "# Incremental PCA\n",
    "n_batches = 100\n",
    "incpca = IncrementalPCA(n_components=10)\n",
    "for X_batch in np.array_split(X_test, n_batches):\n",
    "    incpca.partial_fit(X_batch)"
   ]
  },
  {
   "cell_type": "code",
   "execution_count": 10,
   "metadata": {
    "ExecuteTime": {
     "end_time": "2020-05-05T07:19:24.784095Z",
     "start_time": "2020-05-05T07:19:24.756454Z"
    }
   },
   "outputs": [],
   "source": [
    "# Transform using the projection learnt after the incremental PCA\n",
    "X_proj3 = incpca.transform(X_test)"
   ]
  },
  {
   "cell_type": "markdown",
   "metadata": {},
   "source": [
    "### Randomised PCA\n",
    "\n",
    "Another option for PCA is randomised PCA. This is a stochastic algorithm that quickly finds an approximation of the first $m$ principal components. It is faster when the number of principal components $m$ is much smaller than the number of observations $n$."
   ]
  },
  {
   "cell_type": "code",
   "execution_count": 11,
   "metadata": {
    "ExecuteTime": {
     "end_time": "2020-05-05T07:19:24.793128Z",
     "start_time": "2020-05-05T07:19:24.787609Z"
    }
   },
   "outputs": [],
   "source": [
    "# Randomised PCA\n",
    "rnd_pca = PCA(n_components=10, svd_solver='randomized')"
   ]
  },
  {
   "cell_type": "code",
   "execution_count": 12,
   "metadata": {
    "ExecuteTime": {
     "end_time": "2020-05-05T07:19:25.043316Z",
     "start_time": "2020-05-05T07:19:24.795794Z"
    }
   },
   "outputs": [],
   "source": [
    "# Transformation after using the projection learnt\n",
    "X_proj4 = rnd_pca.fit_transform(X_test)"
   ]
  }
 ],
 "metadata": {
  "kernelspec": {
   "display_name": "Python 3",
   "language": "python",
   "name": "python3"
  },
  "language_info": {
   "codemirror_mode": {
    "name": "ipython",
    "version": 3
   },
   "file_extension": ".py",
   "mimetype": "text/x-python",
   "name": "python",
   "nbconvert_exporter": "python",
   "pygments_lexer": "ipython3",
   "version": "3.7.2"
  }
 },
 "nbformat": 4,
 "nbformat_minor": 4
}
