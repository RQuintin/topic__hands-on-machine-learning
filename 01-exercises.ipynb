{
 "cells": [
  {
   "cell_type": "markdown",
   "metadata": {},
   "source": [
    "## Chapter 1 - The Machine Learning Landscape\n",
    "\n",
    "## Exercises"
   ]
  },
  {
   "cell_type": "markdown",
   "metadata": {},
   "source": [
    "### Q1 - Q5"
   ]
  },
  {
   "cell_type": "markdown",
   "metadata": {},
   "source": [
    "1 - How would you define Machine Learning?\n",
    "\n",
    "Machine learning is the ability for computers to run/execute tasks without being explicitly programmed. It is the art of computers making decisions from data. Learning gets better at some task, measured by some performace measure.\n",
    "<hr>\n",
    "2 - Can you name four types of problems where it shines?\n",
    "\n",
    "- Spam filtering (a machine can automatically detect if a new e-mail is spam or non-spam)\n",
    "- Ride hailing (an algorithm can automatically match riders to drivers)\n",
    "- Recommendation of products in e-commerce / recommendation of ads in search engines (an algorithm can predict what a customer needs based on his/her browsing / buying activity and serve recommendations to them)\n",
    "- Machine translation (an ML algorithm can automatically take excerpts of text in 1 language and translate to another)\n",
    "\n",
    "Generally it will shane when the problem has a solution which needs many rules, very complex porblems where there is no good solution using a traditional approach, or problems where the environments fluctuate over time.\n",
    "<hr>\n",
    "\n",
    "3 - What is a labeled training set?\n",
    "\n",
    "A labelled training set is used in supervised learning problems. It is a dataset that already has their assigned classes / values, and is given to the model to learn parameters so it can predict with better accuracy / precision. \n",
    "\n",
    "<hr>\n",
    "4 - What are the two most common supervised tasks?\n",
    "\n",
    "- Regression\n",
    "- Classification\n",
    "\n",
    "<hr>\n",
    "5 - Can you name four common unsupervised tasks?\n",
    "\n",
    "- Clustering (e.g. k-means)\n",
    "- Dimensionality reduction e.g. Principal Component Analysis\n",
    "- Association rule learning\n",
    "- Anomaly detection\n",
    "- Nearest Neighbours (k-NN)\n",
    "\n",
    "NMF / Topic modelling are other answers"
   ]
  },
  {
   "cell_type": "markdown",
   "metadata": {},
   "source": [
    "### Q6 - Q10"
   ]
  },
  {
   "cell_type": "markdown",
   "metadata": {},
   "source": [
    "6 - What type of ML algorithm would you use to allow a robot to walk in various unknown terrains?\n",
    "\n",
    "Reinforcement Learning\n",
    "\n",
    "<hr>\n",
    "7 - What type of algorithm would you use to segment your customers into multiple groups?\n",
    "\n",
    "An unsupervised learning algorithm e.g. clustering if there are no labels for the training set, or supervised learning algorithms e.g. SVM if the training set already has labels.\n",
    "\n",
    "<hr>\n",
    "8 - Would you frame the problem of spam detection as a supervised learning problem or an unsupervised learning problem?\n",
    "\n",
    "Supervised learning problem. The model will be given its labels of spam and non-spam before training\n",
    "\n",
    "<hr>\n",
    "9 - What is an online learning system?\n",
    "\n",
    "A model is trained incrementally using data instances sequentially either individually or with small groups called mini-batches. The model can learn on the fly. Online learning is good when the system receives data in a stream or the computing resources are limited (and hence cannot perform batch learning).\n",
    "\n",
    "<hr>\n",
    "10 - What is out-of-core-learning?\n",
    "\n",
    "Out of core learning occurs when a system trains the model on small blocks of data because the dataset is too large to be loaded onto main memory. The system loads the block, trains the model and then repeats until the full dataset is used for training. This applies to online learning systems."
   ]
  },
  {
   "cell_type": "markdown",
   "metadata": {
    "ExecuteTime": {
     "end_time": "2019-08-13T15:47:53.317553Z",
     "start_time": "2019-08-13T15:47:52.901148Z"
    }
   },
   "source": [
    "### Q11 - Q15"
   ]
  },
  {
   "cell_type": "markdown",
   "metadata": {},
   "source": [
    "11 - What type of learning algorithm relies on a similarity measure to make predictions?\n",
    "\n",
    "An instance-based learning algorithm learns the dataset by heart and makes predictions by finding similar samples from the training set. It uses a similarity measure to find samples in the training set close to itself and predicts based on the labels of the most similar samples.\n",
    "\n",
    "<hr>\n",
    "12 - What is the dfference between a model parameter and a learning algorithm's hyperparameter?\n",
    "\n",
    "A model parameter is a parameter of the model that will be learnt from the data the model receives. A hyperparameter is a parameter of the learning algorithm and is not affected by the model. It is set before the training step. Tuning hyperparameters is important to building a Machine Learning system.\n",
    "\n",
    "<hr>\n",
    "13 - What do model-based learning algorithms search for? What is the most common strategy they use to succeed? How do they make predictions?\n",
    "\n",
    "Model-based learning algorithms involves building a model to explain the underlying pattern, and make predictions using the trained model. The model learns by searching for optimal values of paremeters so the model will generalize well to new instance. Given a new sample, the model inputs the features from the sample and the learned parameters from the model to make its prediction.\n",
    "\n",
    "<hr>\n",
    "14 - Can you name four of the main challenges in Machine Learning?\n",
    "\n",
    "- Poor dataset, model will not be able to detect underlying patterns from the training set. Or non-representative dataset, model will be biased as it learns the patterns only unique to that sample and not the population. Insufficient data, model is not able to detect the underlying pattern to make good quality predictions\n",
    "- Irrelevant features, model will identify features that do not actually affect the output of the model\n",
    "- Overfitting, model will perform very well on the training data, but does not generalise well to unseen data.\n",
    "- Underfitting, model is too simple to learn patterns from the training data.\n",
    "\n",
    "<hr>\n",
    "15 - If your model performs great on the training data but generalizes poorly to new instances, what is happening? Can you name three possible solutions?\n",
    "\n",
    "Model is overfitting on the training data. If this happens, either perform hyperparameter tuning to allow it to generalise better on the new instances / select a different model for training, obtaining more data for training or to perform better feature engineering (feature selection / extraction) for training."
   ]
  },
  {
   "cell_type": "markdown",
   "metadata": {},
   "source": [
    "### Q16 - Q19"
   ]
  },
  {
   "cell_type": "markdown",
   "metadata": {},
   "source": [
    "16 - What is a test set and why would you want to use it?\n",
    "\n",
    "A test set is used to evaluate the trained model. It is used to determine if the trained model is able to accurately predict on samples that the model has not seen / are outside the training set.\n",
    "<hr>\n",
    "17 - What is the purpose of a validation set?\n",
    "\n",
    "The validation set is used to select models, with the best hyperparemeters.\n",
    "\n",
    "<hr>\n",
    "18 - What can go wrong if you tune hyperparameters using the test set?\n",
    "\n",
    "The model will overfit on the test set and will not generalise well to new, unseen data.\n",
    "\n",
    "<hr>\n",
    "19 - What is cross-validation and why would you prefer it to a validation set?\n",
    "\n",
    "Cross-validation is a method to split the training set to complementary subsets and the model is used to train against a different combination of these subsets and are validated against the remaining parts. This is better as it does minimises waste on the training data.\n",
    "<hr>"
   ]
  },
  {
   "cell_type": "markdown",
   "metadata": {},
   "source": [
    "**References:**\n",
    "\n",
    "Géron (2017). Hands-On Machine Learning with Scikit-Learn & TensorFlow"
   ]
  }
 ],
 "metadata": {
  "kernelspec": {
   "display_name": "Python 3",
   "language": "python",
   "name": "python3"
  },
  "language_info": {
   "codemirror_mode": {
    "name": "ipython",
    "version": 3
   },
   "file_extension": ".py",
   "mimetype": "text/x-python",
   "name": "python",
   "nbconvert_exporter": "python",
   "pygments_lexer": "ipython3",
   "version": "3.7.2"
  }
 },
 "nbformat": 4,
 "nbformat_minor": 2
}
