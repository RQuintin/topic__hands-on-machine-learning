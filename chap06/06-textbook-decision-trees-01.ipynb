{
 "cells": [
  {
   "cell_type": "markdown",
   "metadata": {},
   "source": [
    "## Chapter 6 -  Decision Trees"
   ]
  },
  {
   "cell_type": "markdown",
   "metadata": {},
   "source": [
    "### Visualising a Tree\n",
    "To understand decision trees, we use the following tree trained using the iris dataset. \n",
    "\n",
    "<img src=\"tree1.png\" width=\"300\" />\n",
    "\n",
    "It consists of a series of splitting rules starting from the top of the tree. To predict the class for a new iris sample, we start traversing from the top of the tree. In the top split, if the `petal length <= 2.45` it goes to the left branch. The prediction for this example is the `Setosa` class. If the `petal length > 2.45` then it goes to the right branch. Then we check if the `petal width <= 1.75`. If it is, go to the left branch where the predicted class is the `versicolor` class. Otherwise, to go the right branch where the predicted class is the `virginica` branch. Overall, the tree segments the iris flowers into 3 regions of prediction space. \n",
    "\n",
    "<b>Parts of a tree</b> - Some terms for the tree. The top node is the <u>root node</u>. In a traversal, we move from a <u>parent node</u> to a <u>child node</u>. The nodes with no more child nodes are <u>terminal nodes</u> or <u>leaf nodes</u> of the tree. The points along the tree are considered <u>internal nodes</u>. The segments of the tree that connects the nodes are <u>branches</u>.\n",
    "\n",
    "<b>Feature Importance</b> - Observing the tree, we can say that `petal length` is the most important factor determining type of iris as it is present in the root node."
   ]
  },
  {
   "cell_type": "code",
   "execution_count": 1,
   "metadata": {
    "ExecuteTime": {
     "end_time": "2020-04-27T03:12:13.855760Z",
     "start_time": "2020-04-27T03:12:12.733533Z"
    }
   },
   "outputs": [],
   "source": [
    "import warnings\n",
    "warnings.filterwarnings(\"ignore\")\n",
    "\n",
    "import pandas as pd\n",
    "import numpy as np\n",
    "import matplotlib.pyplot as plt\n",
    "\n",
    "from sklearn import datasets\n",
    "from sklearn.tree import DecisionTreeClassifier\n",
    "from sklearn.tree import export_graphviz\n",
    "\n",
    "from graphviz import Source # For creating the visualisation of the decision tree"
   ]
  },
  {
   "cell_type": "markdown",
   "metadata": {},
   "source": [
    "### Training a Tree\n",
    "Given $n$ training examples, each with $p$ features $x_1, \\cdots,x_i,\\cdots, x_n \\in \\mathbb R^p$ and their associated class labels $y_1, \\cdots, y_j, \\cdots, y_n$ where each label is one of $K$ classes i.e. $y_i \\in \\{1,\\cdots, K\\}$. To train a decision tree, the following steps are taken in general:\n",
    "\n",
    "1. Split the prediction space into $J$ distinct and non-overlapping regions, $R_1, \\cdots, R_m, \\cdots, R_J$. \n",
    "2. For a new observation that falls into $R_m \\in \\{1,\\cdots, J\\}$, the predicted class is the most commonly occuring class in the region (or the proportion of each class in the region).\n",
    "\n",
    "For the Iris example, we have obtained 3 regions, from left $R_1, R_2, R_3$. The response in each of the nodes is $R_1=\\text{setosa}$, $R_2=\\text{versicolor}$, $R_3=\\text{virginica}$ respectively. So for a new observation $x^*$, if $x^* \\in R_1$ then its class prediction is `Setosa`.\n",
    "\n",
    "To construct the regions $R_m$, we find regions that maximise class purity. Two ways to measure class purity are Gini impurity or Entropy. "
   ]
  },
  {
   "cell_type": "markdown",
   "metadata": {},
   "source": [
    "Given a region $R_m$ with $n_{R_m}$observations from each class $k \\in \\{1,\\cdots,K\\}$, Gini impurity / Gini Index is calculated as:\n",
    "$$G_{R_m,\\text{Gini}} = 1-\\sum_{k=1}^{K}p_{R_m,k}^2$$\n",
    "where $p_{R_m,k}$ is the ratio of class $k$ instances among all the training instances in the region $R_m$. It can be also shown that the expression is the same as $\\sum_{k=1}^{K}p_{R_m,k}(1 - p_{R_m,k})$. \n",
    "\n",
    "<b>Interpretation</b> - If the node consists of observations from predominantly one class, all the $p_{R_m,k}$ are close to zero or one. Consequently, the Gini index takes on a small value. That means a small Gini index indicates that a node consists predominantly observations from a single class, or high class purity.\n",
    "\n",
    "<b>Numerical Example</b>\n",
    "\n",
    "Consider the tree built for the iris dataset. For a pure node with $50$ observations consisting of a class split of $[50,0,0]$ the Gini score is $1-\\begin{pmatrix}\\frac{0}{50}\\end{pmatrix}^2-\\begin{pmatrix}\\frac{0}{50}\\end{pmatrix}^2-\\begin{pmatrix}\\frac{50}{50}\\end{pmatrix}^2= 0.0$ \n",
    "\n",
    "For a node with $54$ observations with a class split of $[0,49,5]$ the Gini score is $1-\\begin{pmatrix}\\frac{0}\n",
    "{54}\\end{pmatrix}^2-\\begin{pmatrix}\\frac{49}{54}\\end{pmatrix}^2-\\begin{pmatrix}\\frac{5}{54}\\end{pmatrix}^2= 0.168$ \n",
    "\n"
   ]
  },
  {
   "cell_type": "code",
   "execution_count": 2,
   "metadata": {
    "ExecuteTime": {
     "end_time": "2020-04-27T03:12:13.870057Z",
     "start_time": "2020-04-27T03:12:13.858773Z"
    }
   },
   "outputs": [
    {
     "name": "stdout",
     "output_type": "stream",
     "text": [
      "0.0\n",
      "0.1680384087791495\n",
      "0.5\n"
     ]
    }
   ],
   "source": [
    "# Gini Calculations\n",
    "print(1-(0/50)**2-(0/50)**2-(50/50)**2)\n",
    "print(1-(0/54)**2-(49/54)**2-(5/54)**2)\n",
    "print(1-(0/100)**2-(50/100)**2-(50/100)**2)"
   ]
  },
  {
   "cell_type": "markdown",
   "metadata": {},
   "source": [
    "Alternatively, Entropy or cross-entropy is calculated as:\n",
    "$$G_{R_m,\\text{Entropy}} = -\\sum_{k=1, p_{R_m,k}\\neq 0}^K p_{R_m,k}\\log p_{R_m,k}$$\n",
    "Note: The bottom term of the summation $p_{R_m,k}\\neq 0$ means to omit all classes $k$ in the node $R_m$ with no observations. This is to remove all terms that result in the expression $\\log 0$. \n",
    "\n",
    "<b>Interpretation</b> - The cross entropy is near zero if all the $p_{R_m,k}$ are close to zero or one - hence, similar to the Gini index, the cross entropy score will take a small value if the node is pure.\n",
    "\n",
    "<b>Numerical Example</b>\n",
    "\n",
    "For a pure node with $50$ observations consisting of a class split of $[50,0,0]$, the Entropy calculation is $-\\frac{50}{50} \\log\\begin{pmatrix}\\frac{50}{50}\\end{pmatrix}^2= 0$ \n",
    "\n",
    "For a node with $54$ observations with a class split of $[0,49,5]$, the Gini score is $-\\begin{pmatrix}\\frac{49}{54}\\end{pmatrix}\\log\\begin{pmatrix}\\frac{49}{54}\\end{pmatrix}-\\begin{pmatrix}\\frac{5}{54}\\end{pmatrix}\\log\\begin{pmatrix}\\frac{5}{54}\\end{pmatrix}= 0.308$ \n"
   ]
  },
  {
   "cell_type": "code",
   "execution_count": 3,
   "metadata": {
    "ExecuteTime": {
     "end_time": "2020-04-27T03:12:13.884999Z",
     "start_time": "2020-04-27T03:12:13.875749Z"
    }
   },
   "outputs": [
    {
     "name": "stdout",
     "output_type": "stream",
     "text": [
      "-0.0\n",
      "0.30849545083110386\n",
      "0.34657359027997264\n"
     ]
    }
   ],
   "source": [
    "#Entropy Calculations\n",
    "print(-(50/50)*np.log(50/50))\n",
    "print(-(49/54)*np.log(49/54)-(5/54)*np.log(5/54))\n",
    "print(-(50/100)*np.log(50/100))"
   ]
  },
  {
   "cell_type": "markdown",
   "metadata": {
    "ExecuteTime": {
     "end_time": "2020-04-24T09:43:38.562680Z",
     "start_time": "2020-04-24T09:43:38.553570Z"
    }
   },
   "source": [
    "SKLearn uses the Classification and Regression Tree (CART) algorithm to train Decision Trees. To perform the split, the model first splits the training set using a feature $g$ from $p$ and a threshold within this feature $t_g$. For this feature-threshold pair $(g,t_g)$, calculate the purity of the subsets produced using its cost function:\n",
    "\n",
    "$$J(g,t_g) = \\frac{m_{\\text{left}}}{m}G_\\text{left} + \\frac{m_{\\text{right}}}{m}G_\\text{right}$$\n",
    "\n",
    "where $G_{\\text{left or right}}$ is the impurity of the left or right subset and $m_{\\text{left or right}}$ is the number of instances in the left or right subset. $m$ is the number of observations before the split. The cost function now has the term $G$ that uses the Gini index or Entropy index. The split with the pureset subsets also results in the smallest values of $G$, and collectively minimises the cost function $J$.\n",
    "\n",
    "Once it has successfully split the training set in two, it continues to do so recursively until it reaches the max depth or it cannot find a split to further reduce impurity."
   ]
  },
  {
   "cell_type": "code",
   "execution_count": 4,
   "metadata": {
    "ExecuteTime": {
     "end_time": "2020-04-27T03:12:13.904338Z",
     "start_time": "2020-04-27T03:12:13.887771Z"
    }
   },
   "outputs": [],
   "source": [
    "# Ingest\n",
    "iris_dataset = datasets.load_iris()\n",
    "X = pd.DataFrame(iris_dataset['data'], columns=iris_dataset['feature_names'])\n",
    "y = pd.Series(iris_dataset['target'])\n",
    "df = X.copy().join(pd.DataFrame({'target' : y}))"
   ]
  },
  {
   "cell_type": "code",
   "execution_count": 5,
   "metadata": {
    "ExecuteTime": {
     "end_time": "2020-04-27T03:12:13.909954Z",
     "start_time": "2020-04-27T03:12:13.906993Z"
    },
    "scrolled": true
   },
   "outputs": [],
   "source": [
    "# For testing\n",
    "# display(df.head())\n",
    "# display(X.head())\n",
    "# display(y.head())"
   ]
  },
  {
   "cell_type": "code",
   "execution_count": 6,
   "metadata": {
    "ExecuteTime": {
     "end_time": "2020-04-27T03:12:14.348865Z",
     "start_time": "2020-04-27T03:12:13.914067Z"
    }
   },
   "outputs": [
    {
     "data": {
      "image/png": "[encoded data removed]",
      "text/plain": [
       "<Figure size 720x576 with 2 Axes>"
      ]
     },
     "metadata": {
      "needs_background": "light"
     },
     "output_type": "display_data"
    }
   ],
   "source": [
    "# Plot petal width, petal length and class values\n",
    "fig = plt.figure(figsize=(10,8))\n",
    "ax = fig.add_subplot(111)\n",
    "df.plot(kind='scatter', x='petal width (cm)', y='petal length (cm)', c='target', colormap='tab20', ax=ax)\n",
    "ax.grid()\n",
    "plt.show()"
   ]
  },
  {
   "cell_type": "code",
   "execution_count": 7,
   "metadata": {
    "ExecuteTime": {
     "end_time": "2020-04-27T03:12:14.366193Z",
     "start_time": "2020-04-27T03:12:14.351948Z"
    }
   },
   "outputs": [
    {
     "data": {
      "text/plain": [
       "DecisionTreeClassifier(ccp_alpha=0.0, class_weight=None, criterion='gini',\n",
       "                       max_depth=2, max_features=None, max_leaf_nodes=None,\n",
       "                       min_impurity_decrease=0.0, min_impurity_split=None,\n",
       "                       min_samples_leaf=1, min_samples_split=2,\n",
       "                       min_weight_fraction_leaf=0.0, presort='deprecated',\n",
       "                       random_state=None, splitter='best')"
      ]
     },
     "execution_count": 7,
     "metadata": {},
     "output_type": "execute_result"
    }
   ],
   "source": [
    "# Train\n",
    "tree_clf = DecisionTreeClassifier(max_depth=2)\n",
    "tree_clf.fit(X[['petal length (cm)','petal width (cm)']], y)"
   ]
  },
  {
   "cell_type": "code",
   "execution_count": 8,
   "metadata": {
    "ExecuteTime": {
     "end_time": "2020-04-27T03:12:14.373937Z",
     "start_time": "2020-04-27T03:12:14.370657Z"
    }
   },
   "outputs": [],
   "source": [
    "# Visualise tree\n",
    "# graph = Source(export_graphviz(tree_clf, out_file=None, \n",
    "#                                feature_names=iris_dataset['feature_names'][2:], class_names=iris_dataset['target_names']))\n",
    "# graph.view()"
   ]
  },
  {
   "cell_type": "markdown",
   "metadata": {},
   "source": [
    "### Discussions"
   ]
  },
  {
   "cell_type": "markdown",
   "metadata": {},
   "source": [
    "To determine whether to use Gini or Entropy, most of the time it does not matter but Gini tends to isolate the most frequent class in its own branch of the tree while entropy leads to more balanced trees.\n",
    "\n",
    "Decision trees can be constructed even if the predictor variables are qualitative. In such a split, one branch usually has one value and the other branch contains the remaining values for this variable.\n",
    "\n",
    "Note that decision trees can split and yield two nodes that have the same predicted value. However, this split is still performed to preserve node purity. In other words, the parent node might have 75% from one class, but the prediction class is still not pure. These splits improve the Gini index or cross-entropy, which are more sensitive to node purity.\n",
    "\n",
    "Decision trees have orgotonal decision boundaries (splits are perpendicular to an axis), which makes the training set sensitive to rotation. One way to help with this is to use PCA. Decision trees are also sensitive to small variations in the data. Random forests can be a way to limit these sensitivities.\n",
    "\n",
    "Decision trees can be useful if the response cannot be approximated by a linear model, or there is no linear relationship between the features and the response. Also, \n",
    "\n",
    "- trees are easier to explain / interpret for the layman\n",
    "- they can easily handle qualitative predictors without the need to create dummy variables\n",
    "- decision trees are said to closely mirror human decision making, more appropriate than regression approaches\n",
    "- however, they are prone to overfit and might not have the same predictive strength as compared to other approaches"
   ]
  },
  {
   "cell_type": "markdown",
   "metadata": {},
   "source": [
    "### Making Predictions"
   ]
  },
  {
   "cell_type": "code",
   "execution_count": 9,
   "metadata": {
    "ExecuteTime": {
     "end_time": "2020-04-27T03:12:14.384899Z",
     "start_time": "2020-04-27T03:12:14.377414Z"
    }
   },
   "outputs": [
    {
     "name": "stdout",
     "output_type": "stream",
     "text": [
      "prediction :  [1]\n"
     ]
    }
   ],
   "source": [
    "new_s = [[5,1.5]]\n",
    "print('prediction : ', tree_clf.predict(new_s))"
   ]
  },
  {
   "cell_type": "markdown",
   "metadata": {},
   "source": [
    "### Estimating Class Probabilities\n",
    "\n",
    "A decision tree can also estimate the probability that the instance belongs to a particular class $k$. First it traverses the tree to find the leaf node. Then it returns the ratio of training instances of class $k$ for this node. \n",
    "\n",
    "In this case, the number of class 1 for this leaf node is 49 out of 54 so the predicted probability is $\\frac{49}{54}=0.907$"
   ]
  },
  {
   "cell_type": "code",
   "execution_count": 10,
   "metadata": {
    "ExecuteTime": {
     "end_time": "2020-04-27T03:12:14.393409Z",
     "start_time": "2020-04-27T03:12:14.387853Z"
    }
   },
   "outputs": [
    {
     "name": "stdout",
     "output_type": "stream",
     "text": [
      "proba :  [[0.         0.90740741 0.09259259]]\n"
     ]
    }
   ],
   "source": [
    "new_s = [[5,1.5]]\n",
    "print('proba : ' , tree_clf.predict_proba(new_s))"
   ]
  }
 ],
 "metadata": {
  "kernelspec": {
   "display_name": "Python 3",
   "language": "python",
   "name": "python3"
  },
  "language_info": {
   "codemirror_mode": {
    "name": "ipython",
    "version": 3
   },
   "file_extension": ".py",
   "mimetype": "text/x-python",
   "name": "python",
   "nbconvert_exporter": "python",
   "pygments_lexer": "ipython3",
   "version": "3.7.2"
  }
 },
 "nbformat": 4,
 "nbformat_minor": 4
}
