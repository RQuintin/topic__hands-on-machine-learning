{
 "cells": [
  {
   "cell_type": "markdown",
   "metadata": {},
   "source": [
    "## Chapter 1 - The Machine Learning Landscape"
   ]
  },
  {
   "cell_type": "markdown",
   "metadata": {
    "ExecuteTime": {
     "end_time": "2019-08-13T15:47:53.317553Z",
     "start_time": "2019-08-13T15:47:52.901148Z"
    }
   },
   "source": [
    "In this example, you want to find out if a higher GDP indeed equates to a better life satisfaction. "
   ]
  },
  {
   "cell_type": "code",
   "execution_count": 1,
   "metadata": {
    "ExecuteTime": {
     "end_time": "2020-05-22T11:17:57.547819Z",
     "start_time": "2020-05-22T11:17:55.918754Z"
    }
   },
   "outputs": [],
   "source": [
    "import pandas as pd\n",
    "import numpy as np\n",
    "import matplotlib.pyplot as plt\n",
    "from sklearn.linear_model import LinearRegression\n",
    "from sklearn.neighbors import KNeighborsRegressor"
   ]
  },
  {
   "cell_type": "code",
   "execution_count": 2,
   "metadata": {
    "ExecuteTime": {
     "end_time": "2020-05-22T11:17:57.646366Z",
     "start_time": "2020-05-22T11:17:57.552158Z"
    }
   },
   "outputs": [
    {
     "data": {
      "text/html": [
       "<div>\n",
       "<style scoped>\n",
       "    .dataframe tbody tr th:only-of-type {\n",
       "        vertical-align: middle;\n",
       "    }\n",
       "\n",
       "    .dataframe tbody tr th {\n",
       "        vertical-align: top;\n",
       "    }\n",
       "\n",
       "    .dataframe thead th {\n",
       "        text-align: right;\n",
       "    }\n",
       "</style>\n",
       "<table border=\"1\" class=\"dataframe\">\n",
       "  <thead>\n",
       "    <tr style=\"text-align: right;\">\n",
       "      <th></th>\n",
       "      <th>GDP per capita</th>\n",
       "      <th>Life satisfaction</th>\n",
       "    </tr>\n",
       "    <tr>\n",
       "      <th>Country</th>\n",
       "      <th></th>\n",
       "      <th></th>\n",
       "    </tr>\n",
       "  </thead>\n",
       "  <tbody>\n",
       "    <tr>\n",
       "      <th>Poland</th>\n",
       "      <td>12495.334</td>\n",
       "      <td>5.8</td>\n",
       "    </tr>\n",
       "    <tr>\n",
       "      <th>Chile</th>\n",
       "      <td>13340.905</td>\n",
       "      <td>6.7</td>\n",
       "    </tr>\n",
       "    <tr>\n",
       "      <th>Slovak Republic</th>\n",
       "      <td>15991.736</td>\n",
       "      <td>6.1</td>\n",
       "    </tr>\n",
       "    <tr>\n",
       "      <th>Czech Republic</th>\n",
       "      <td>17256.918</td>\n",
       "      <td>6.5</td>\n",
       "    </tr>\n",
       "    <tr>\n",
       "      <th>Greece</th>\n",
       "      <td>18064.288</td>\n",
       "      <td>4.8</td>\n",
       "    </tr>\n",
       "  </tbody>\n",
       "</table>\n",
       "</div>"
      ],
      "text/plain": [
       "                 GDP per capita  Life satisfaction\n",
       "Country                                           \n",
       "Poland                12495.334                5.8\n",
       "Chile                 13340.905                6.7\n",
       "Slovak Republic       15991.736                6.1\n",
       "Czech Republic        17256.918                6.5\n",
       "Greece                18064.288                4.8"
      ]
     },
     "metadata": {},
     "output_type": "display_data"
    }
   ],
   "source": [
    "# Ingestion\n",
    "def prepare_country_stats(oecd_bli, gdp_per_capita):\n",
    "    oecd_bli = oecd_bli[oecd_bli[\"INEQUALITY\"]==\"TOT\"]\n",
    "    oecd_bli = oecd_bli.pivot(index=\"Country\", columns=\"Indicator\", values=\"Value\")\n",
    "    gdp_per_capita.rename(columns={\"2015\": \"GDP per capita\"}, inplace=True)\n",
    "    gdp_per_capita.set_index(\"Country\", inplace=True)\n",
    "    full_country_stats = pd.merge(left=oecd_bli, right=gdp_per_capita,\n",
    "                                  left_index=True, right_index=True)\n",
    "    full_country_stats.sort_values(by=\"GDP per capita\", inplace=True)\n",
    "    remove_indices = [0, 1, 6, 8, 33, 34, 35]\n",
    "    keep_indices = list(set(range(36)) - set(remove_indices))\n",
    "    # Added 1 line to convert string values to float values\n",
    "    full_country_stats['GDP per capita'] = full_country_stats['GDP per capita'].apply(lambda x : float(x.replace(',','')))\n",
    "    return full_country_stats[[\"GDP per capita\", 'Life satisfaction']].iloc[keep_indices]\n",
    "\n",
    "df1 = pd.read_csv('oecd_bli_2015.csv')\n",
    "df2 = pd.read_csv('gdp_per_capita.csv', sep='\\t')\n",
    "df = prepare_country_stats(df1.copy(), df2.copy())\n",
    "display(df.head())"
   ]
  },
  {
   "cell_type": "code",
   "execution_count": 15,
   "metadata": {
    "ExecuteTime": {
     "end_time": "2020-05-22T11:20:46.845720Z",
     "start_time": "2020-05-22T11:20:46.636918Z"
    }
   },
   "outputs": [
    {
     "data": {
      "image/png": "[encoded data removed]",
      "text/plain": [
       "<Figure size 576x288 with 1 Axes>"
      ]
     },
     "metadata": {
      "needs_background": "light"
     },
     "output_type": "display_data"
    }
   ],
   "source": [
    "# Plot scatterplot for GDP per capita & Life satisfaction\n",
    "fig, ax = plt.subplots(figsize=(8,4))\n",
    "df.plot(kind='scatter', x='GDP per capita', \n",
    "        y='Life satisfaction', ax=ax)\n",
    "plt.show()"
   ]
  },
  {
   "cell_type": "code",
   "execution_count": 4,
   "metadata": {
    "ExecuteTime": {
     "end_time": "2020-05-22T11:17:58.013798Z",
     "start_time": "2020-05-22T11:17:58.006821Z"
    }
   },
   "outputs": [],
   "source": [
    "# Define input variable & target variable\n",
    "X = df[['GDP per capita']]\n",
    "y = df['Life satisfaction']"
   ]
  },
  {
   "cell_type": "markdown",
   "metadata": {},
   "source": [
    "The proposed model is:\n",
    "\n",
    "$$\\text{life satisfaction} = \\beta_0 + \\beta_1\\text{GDP_per_capita}$$"
   ]
  },
  {
   "cell_type": "code",
   "execution_count": 17,
   "metadata": {
    "ExecuteTime": {
     "end_time": "2020-05-22T11:23:49.160869Z",
     "start_time": "2020-05-22T11:23:49.153119Z"
    }
   },
   "outputs": [
    {
     "name": "stdout",
     "output_type": "stream",
     "text": [
      "5.765743289901007\n",
      "[2.64542565e-05]\n"
     ]
    }
   ],
   "source": [
    "# Initialise model\n",
    "reg = LinearRegression()\n",
    "\n",
    "# Train\n",
    "reg.fit(X, y)\n",
    "\n",
    "print(reg.intercept_)\n",
    "print(reg.coef_)"
   ]
  },
  {
   "cell_type": "markdown",
   "metadata": {},
   "source": [
    "As you can see, the fitted model has $\\hat{\\beta_0} = 5.766$ and $\\hat{\\beta_1} = 2.64 \\times 10^{-5}$"
   ]
  },
  {
   "cell_type": "code",
   "execution_count": 18,
   "metadata": {
    "ExecuteTime": {
     "end_time": "2020-05-22T11:23:52.410479Z",
     "start_time": "2020-05-22T11:23:52.405142Z"
    }
   },
   "outputs": [
    {
     "name": "stdout",
     "output_type": "stream",
     "text": [
      "[6.36326558]\n"
     ]
    }
   ],
   "source": [
    "# Predict\n",
    "print(reg.predict([[22587]]))"
   ]
  },
  {
   "cell_type": "code",
   "execution_count": 19,
   "metadata": {
    "ExecuteTime": {
     "end_time": "2020-05-22T11:24:22.460941Z",
     "start_time": "2020-05-22T11:24:22.090841Z"
    },
    "scrolled": true
   },
   "outputs": [
    {
     "data": {
      "text/html": [
       "<div>\n",
       "<style scoped>\n",
       "    .dataframe tbody tr th:only-of-type {\n",
       "        vertical-align: middle;\n",
       "    }\n",
       "\n",
       "    .dataframe tbody tr th {\n",
       "        vertical-align: top;\n",
       "    }\n",
       "\n",
       "    .dataframe thead th {\n",
       "        text-align: right;\n",
       "    }\n",
       "</style>\n",
       "<table border=\"1\" class=\"dataframe\">\n",
       "  <thead>\n",
       "    <tr style=\"text-align: right;\">\n",
       "      <th></th>\n",
       "      <th>X_test</th>\n",
       "      <th>y_test</th>\n",
       "    </tr>\n",
       "  </thead>\n",
       "  <tbody>\n",
       "    <tr>\n",
       "      <th>0</th>\n",
       "      <td>0.000000</td>\n",
       "      <td>5.765743</td>\n",
       "    </tr>\n",
       "    <tr>\n",
       "      <th>1</th>\n",
       "      <td>1632.653061</td>\n",
       "      <td>5.808934</td>\n",
       "    </tr>\n",
       "    <tr>\n",
       "      <th>2</th>\n",
       "      <td>3265.306122</td>\n",
       "      <td>5.852125</td>\n",
       "    </tr>\n",
       "    <tr>\n",
       "      <th>3</th>\n",
       "      <td>4897.959184</td>\n",
       "      <td>5.895315</td>\n",
       "    </tr>\n",
       "    <tr>\n",
       "      <th>4</th>\n",
       "      <td>6530.612245</td>\n",
       "      <td>5.938506</td>\n",
       "    </tr>\n",
       "  </tbody>\n",
       "</table>\n",
       "</div>"
      ],
      "text/plain": [
       "        X_test    y_test\n",
       "0     0.000000  5.765743\n",
       "1  1632.653061  5.808934\n",
       "2  3265.306122  5.852125\n",
       "3  4897.959184  5.895315\n",
       "4  6530.612245  5.938506"
      ]
     },
     "metadata": {},
     "output_type": "display_data"
    },
    {
     "data": {
      "text/html": [
       "<div>\n",
       "<style scoped>\n",
       "    .dataframe tbody tr th:only-of-type {\n",
       "        vertical-align: middle;\n",
       "    }\n",
       "\n",
       "    .dataframe tbody tr th {\n",
       "        vertical-align: top;\n",
       "    }\n",
       "\n",
       "    .dataframe thead th {\n",
       "        text-align: right;\n",
       "    }\n",
       "</style>\n",
       "<table border=\"1\" class=\"dataframe\">\n",
       "  <thead>\n",
       "    <tr style=\"text-align: right;\">\n",
       "      <th></th>\n",
       "      <th>c</th>\n",
       "      <th>t</th>\n",
       "    </tr>\n",
       "  </thead>\n",
       "  <tbody>\n",
       "    <tr>\n",
       "      <th>0</th>\n",
       "      <td>22587</td>\n",
       "      <td>6.363266</td>\n",
       "    </tr>\n",
       "  </tbody>\n",
       "</table>\n",
       "</div>"
      ],
      "text/plain": [
       "       c         t\n",
       "0  22587  6.363266"
      ]
     },
     "metadata": {},
     "output_type": "display_data"
    },
    {
     "data": {
      "text/plain": [
       "<matplotlib.axes._subplots.AxesSubplot at 0x11b6385f8>"
      ]
     },
     "execution_count": 19,
     "metadata": {},
     "output_type": "execute_result"
    },
    {
     "data": {
      "image/png": "[encoded data removed]",
      "text/plain": [
       "<Figure size 864x432 with 1 Axes>"
      ]
     },
     "metadata": {
      "needs_background": "light"
     },
     "output_type": "display_data"
    }
   ],
   "source": [
    "# Get the predicted line\n",
    "test_df = pd.DataFrame({'X_test' : np.linspace(0, 80000)})\n",
    "y_test = reg.predict(test_df[['X_test']])\n",
    "test_df['y_test'] = y_test\n",
    "display(test_df.head())\n",
    "\n",
    "# Predict for Cyprus\n",
    "cyprus_df = pd.DataFrame({'c' : [22587]})\n",
    "cyprus_df['t'] = reg.predict(cyprus_df)\n",
    "display(cyprus_df)\n",
    "\n",
    "# Plot scatterplot for predicted model\n",
    "fig, ax = plt.subplots(figsize=(12, 6))\n",
    "df.plot(kind='scatter', x='GDP per capita', y='Life satisfaction', ax=ax, color='steelblue')\n",
    "test_df.plot(kind='line', x='X_test', y='y_test', ax=ax, color='salmon')\n",
    "cyprus_df.plot(kind='scatter', x='c', y='t', ax=ax, color='black',s=120, marker='X')"
   ]
  },
  {
   "cell_type": "markdown",
   "metadata": {},
   "source": [
    "Other ways to predict include using other models, in this case the k-nearest neighbours model or kNN model."
   ]
  },
  {
   "cell_type": "code",
   "execution_count": 9,
   "metadata": {
    "ExecuteTime": {
     "end_time": "2020-05-22T11:17:58.502467Z",
     "start_time": "2020-05-22T11:17:58.472714Z"
    }
   },
   "outputs": [
    {
     "data": {
      "text/html": [
       "<div>\n",
       "<style scoped>\n",
       "    .dataframe tbody tr th:only-of-type {\n",
       "        vertical-align: middle;\n",
       "    }\n",
       "\n",
       "    .dataframe tbody tr th {\n",
       "        vertical-align: top;\n",
       "    }\n",
       "\n",
       "    .dataframe thead th {\n",
       "        text-align: right;\n",
       "    }\n",
       "</style>\n",
       "<table border=\"1\" class=\"dataframe\">\n",
       "  <thead>\n",
       "    <tr style=\"text-align: right;\">\n",
       "      <th></th>\n",
       "      <th>c</th>\n",
       "      <th>t</th>\n",
       "      <th>k</th>\n",
       "    </tr>\n",
       "  </thead>\n",
       "  <tbody>\n",
       "    <tr>\n",
       "      <th>0</th>\n",
       "      <td>22587</td>\n",
       "      <td>6.363266</td>\n",
       "      <td>5.666667</td>\n",
       "    </tr>\n",
       "  </tbody>\n",
       "</table>\n",
       "</div>"
      ],
      "text/plain": [
       "       c         t         k\n",
       "0  22587  6.363266  5.666667"
      ]
     },
     "metadata": {},
     "output_type": "display_data"
    }
   ],
   "source": [
    "# Initialise model\n",
    "reg2 = KNeighborsRegressor(n_neighbors=3)\n",
    "\n",
    "# Train\n",
    "reg2.fit(X, y)\n",
    "\n",
    "# Predict\n",
    "cyprus_df['k'] = reg2.predict(cyprus_df[['c']])\n",
    "display(cyprus_df)"
   ]
  },
  {
   "cell_type": "code",
   "execution_count": 10,
   "metadata": {
    "ExecuteTime": {
     "end_time": "2020-05-22T11:17:58.876001Z",
     "start_time": "2020-05-22T11:17:58.504907Z"
    }
   },
   "outputs": [
    {
     "data": {
      "text/plain": [
       "Text(24087, 5.636666666666667, 'KNN Regression')"
      ]
     },
     "execution_count": 10,
     "metadata": {},
     "output_type": "execute_result"
    },
    {
     "data": {
      "image/png": "[encoded data removed]",
      "text/plain": [
       "<Figure size 864x432 with 1 Axes>"
      ]
     },
     "metadata": {
      "needs_background": "light"
     },
     "output_type": "display_data"
    }
   ],
   "source": [
    "# Contrast LinearRegression vs. KNNRegression\n",
    "fig, ax = plt.subplots(figsize=(12, 6))\n",
    "df.plot(kind='scatter', x='GDP per capita', y='Life satisfaction', ax=ax, color='steelblue')\n",
    "cyprus_df.plot(kind='scatter', x='c', y='t', ax=ax, color='darkolivegreen',s=120, marker='X')\n",
    "cyprus_df.plot(kind='scatter', x='c', y='k', ax=ax, color='saddlebrown',s=120, marker='X')\n",
    "ax.set_xlabel('GDP per capita')\n",
    "ax.set_ylabel('Life satisfaction')\n",
    "ax.annotate('Linear Regression', xy=(cyprus_df.loc[0,'c']+1500,cyprus_df.loc[0,'t']-0.03))\n",
    "ax.annotate('KNN Regression', xy=(cyprus_df.loc[0,'c']+1500,cyprus_df.loc[0,'k']-0.03))"
   ]
  }
 ],
 "metadata": {
  "kernelspec": {
   "display_name": "Python 3",
   "language": "python",
   "name": "python3"
  },
  "language_info": {
   "codemirror_mode": {
    "name": "ipython",
    "version": 3
   },
   "file_extension": ".py",
   "mimetype": "text/x-python",
   "name": "python",
   "nbconvert_exporter": "python",
   "pygments_lexer": "ipython3",
   "version": "3.7.2"
  }
 },
 "nbformat": 4,
 "nbformat_minor": 2
}
